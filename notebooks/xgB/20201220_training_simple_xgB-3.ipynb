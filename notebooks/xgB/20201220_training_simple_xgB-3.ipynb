{
 "cells": [
  {
   "cell_type": "markdown",
   "metadata": {
    "id": "g5_fZUzo02xP"
   },
   "source": [
    "# Friends Classification Text (xgB) - 3\n",
    "\n",
    "This is classification of dialogue in FRIENDS TV Series.\n",
    "\n",
    "<!-- https://stackoverflow.com/questions/61000500/tensorflow-keras-bert-multiclass-text-classification-accuracy -->"
   ]
  },
  {
   "cell_type": "code",
   "execution_count": 1,
   "metadata": {
    "colab": {
     "base_uri": "https://localhost:8080/"
    },
    "id": "03Lpsmju02xR",
    "outputId": "729cb2e1-2326-4654-da9e-3facd4921f7c"
   },
   "outputs": [],
   "source": [
    "import pandas as pd\n",
    "import re\n",
    "import numpy as np\n",
    "import time\n",
    "\n",
    "import os\n",
    "import pprint\n",
    "import tensorflow as tf\n",
    "\n",
    "import sys\n",
    "sys.path.insert(1, '../../src/all_functions/')\n",
    "\n",
    "from text_tools import *\n",
    "\n",
    "from sklearn.model_selection import train_test_split\n",
    "from sklearn.feature_extraction.text import TfidfVectorizer\n",
    "\n",
    "import matplotlib.pyplot as plt\n",
    "\n",
    "from sklearn.preprocessing import OneHotEncoder\n",
    "\n",
    "from sklearn.metrics import (classification_report,\n",
    "                             confusion_matrix,\n",
    "                             roc_auc_score)\n",
    "import seaborn as sns\n",
    "\n",
    "from xgboost import XGBClassifier\n",
    "from sklearn.inspection import permutation_importance\n",
    "from sklearn.model_selection import train_test_split\n",
    "from bayes_opt import BayesianOptimization\n",
    "import joblib\n",
    "from sklearn.model_selection import cross_validate\n",
    "from sklearn import metrics"
   ]
  },
  {
   "cell_type": "code",
   "execution_count": null,
   "metadata": {},
   "outputs": [],
   "source": []
  },
  {
   "cell_type": "code",
   "execution_count": 2,
   "metadata": {
    "id": "Nplks9aMi_aH"
   },
   "outputs": [],
   "source": [
    "# help(drive.mount)"
   ]
  },
  {
   "cell_type": "code",
   "execution_count": 3,
   "metadata": {
    "id": "Z6n6vof_02xV"
   },
   "outputs": [],
   "source": [
    "# PATH_DATA = 'gdrive/'\n",
    "PATH_DATA = '../../data/'"
   ]
  },
  {
   "cell_type": "code",
   "execution_count": null,
   "metadata": {
    "id": "uQwZJZB61Nwm"
   },
   "outputs": [],
   "source": []
  },
  {
   "cell_type": "markdown",
   "metadata": {
    "id": "0lMeZ84P02xb"
   },
   "source": [
    "## Importing Data"
   ]
  },
  {
   "cell_type": "code",
   "execution_count": 4,
   "metadata": {
    "id": "dHeMuViP02xb"
   },
   "outputs": [
    {
     "name": "stderr",
     "output_type": "stream",
     "text": [
      "/Users/alamhanz/anaconda/envs/p37/lib/python3.7/site-packages/IPython/core/interactiveshell.py:3146: DtypeWarning: Columns (0) have mixed types.Specify dtype option on import or set low_memory=False.\n",
      "  interactivity=interactivity, compiler=compiler, result=result)\n"
     ]
    }
   ],
   "source": [
    "df_dlg_seen = pd.read_csv(PATH_DATA+'friends_seen_season2_2.csv')\n",
    "df_dlg_unseen = pd.read_csv(PATH_DATA+'friends_unseen_season2_2.csv')"
   ]
  },
  {
   "cell_type": "code",
   "execution_count": 6,
   "metadata": {},
   "outputs": [
    {
     "data": {
      "text/html": [
       "<div>\n",
       "<style scoped>\n",
       "    .dataframe tbody tr th:only-of-type {\n",
       "        vertical-align: middle;\n",
       "    }\n",
       "\n",
       "    .dataframe tbody tr th {\n",
       "        vertical-align: top;\n",
       "    }\n",
       "\n",
       "    .dataframe thead th {\n",
       "        text-align: right;\n",
       "    }\n",
       "</style>\n",
       "<table border=\"1\" class=\"dataframe\">\n",
       "  <thead>\n",
       "    <tr style=\"text-align: right;\">\n",
       "      <th></th>\n",
       "      <th>eps</th>\n",
       "      <th>dialogue_ids</th>\n",
       "      <th>scenes_places</th>\n",
       "      <th>label_place</th>\n",
       "      <th>label_str</th>\n",
       "      <th>label</th>\n",
       "      <th>season</th>\n",
       "      <th>dialogue</th>\n",
       "      <th>text2</th>\n",
       "      <th>len_dialogue5</th>\n",
       "      <th>is_null2</th>\n",
       "      <th>ids</th>\n",
       "      <th>is_train</th>\n",
       "      <th>text1</th>\n",
       "      <th>label_prev</th>\n",
       "      <th>label_str_prev</th>\n",
       "      <th>is_null2_prev</th>\n",
       "    </tr>\n",
       "  </thead>\n",
       "  <tbody>\n",
       "    <tr>\n",
       "      <th>0</th>\n",
       "      <td>0101</td>\n",
       "      <td>1</td>\n",
       "      <td>[central perk]</td>\n",
       "      <td>1</td>\n",
       "      <td>joey</td>\n",
       "      <td>5</td>\n",
       "      <td>1</td>\n",
       "      <td>c'mon, you're going out with the guy! there'...</td>\n",
       "      <td>c'mon you're going out with the guy there's go...</td>\n",
       "      <td>14</td>\n",
       "      <td>False</td>\n",
       "      <td>1</td>\n",
       "      <td>False</td>\n",
       "      <td>there's nothing to tell he's just some guy i w...</td>\n",
       "      <td>3.0</td>\n",
       "      <td>monica</td>\n",
       "      <td>False</td>\n",
       "    </tr>\n",
       "    <tr>\n",
       "      <th>1</th>\n",
       "      <td>0101</td>\n",
       "      <td>2</td>\n",
       "      <td>[central perk]</td>\n",
       "      <td>1</td>\n",
       "      <td>chandler</td>\n",
       "      <td>4</td>\n",
       "      <td>1</td>\n",
       "      <td>all right joey, be nice.  so does he have a...</td>\n",
       "      <td>all right joey be nice so does he have a hump ...</td>\n",
       "      <td>16</td>\n",
       "      <td>False</td>\n",
       "      <td>2</td>\n",
       "      <td>True</td>\n",
       "      <td>c'mon you're going out with the guy there's go...</td>\n",
       "      <td>5.0</td>\n",
       "      <td>joey</td>\n",
       "      <td>False</td>\n",
       "    </tr>\n",
       "    <tr>\n",
       "      <th>2</th>\n",
       "      <td>0101</td>\n",
       "      <td>3</td>\n",
       "      <td>[central perk]</td>\n",
       "      <td>1</td>\n",
       "      <td>phoebe</td>\n",
       "      <td>6</td>\n",
       "      <td>1</td>\n",
       "      <td>wait, does he eat chalk? (they all stare, be...</td>\n",
       "      <td>wait does he eat chalk</td>\n",
       "      <td>5</td>\n",
       "      <td>False</td>\n",
       "      <td>3</td>\n",
       "      <td>False</td>\n",
       "      <td>all right joey be nice so does he have a hump ...</td>\n",
       "      <td>4.0</td>\n",
       "      <td>chandler</td>\n",
       "      <td>False</td>\n",
       "    </tr>\n",
       "    <tr>\n",
       "      <th>3</th>\n",
       "      <td>0101</td>\n",
       "      <td>5</td>\n",
       "      <td>[central perk]</td>\n",
       "      <td>1</td>\n",
       "      <td>monica</td>\n",
       "      <td>3</td>\n",
       "      <td>1</td>\n",
       "      <td>okay, everybody relax. this is not even a da...</td>\n",
       "      <td>okay everybody relax this is not even a date i...</td>\n",
       "      <td>21</td>\n",
       "      <td>False</td>\n",
       "      <td>5</td>\n",
       "      <td>True</td>\n",
       "      <td>just because i don't want her to go through wh...</td>\n",
       "      <td>6.0</td>\n",
       "      <td>phoebe</td>\n",
       "      <td>False</td>\n",
       "    </tr>\n",
       "    <tr>\n",
       "      <th>4</th>\n",
       "      <td>0101</td>\n",
       "      <td>6</td>\n",
       "      <td>[central perk]</td>\n",
       "      <td>1</td>\n",
       "      <td>chandler</td>\n",
       "      <td>4</td>\n",
       "      <td>1</td>\n",
       "      <td>sounds like a date to me. [time lapse]</td>\n",
       "      <td>sounds like a date to me</td>\n",
       "      <td>6</td>\n",
       "      <td>False</td>\n",
       "      <td>6</td>\n",
       "      <td>True</td>\n",
       "      <td>okay everybody relax this is not even a date i...</td>\n",
       "      <td>3.0</td>\n",
       "      <td>monica</td>\n",
       "      <td>False</td>\n",
       "    </tr>\n",
       "  </tbody>\n",
       "</table>\n",
       "</div>"
      ],
      "text/plain": [
       "    eps  dialogue_ids   scenes_places  label_place label_str  label  season  \\\n",
       "0  0101             1  [central perk]            1      joey      5       1   \n",
       "1  0101             2  [central perk]            1  chandler      4       1   \n",
       "2  0101             3  [central perk]            1    phoebe      6       1   \n",
       "3  0101             5  [central perk]            1    monica      3       1   \n",
       "4  0101             6  [central perk]            1  chandler      4       1   \n",
       "\n",
       "                                            dialogue  \\\n",
       "0    c'mon, you're going out with the guy! there'...   \n",
       "1     all right joey, be nice.  so does he have a...   \n",
       "2    wait, does he eat chalk? (they all stare, be...   \n",
       "3    okay, everybody relax. this is not even a da...   \n",
       "4             sounds like a date to me. [time lapse]   \n",
       "\n",
       "                                               text2  len_dialogue5  is_null2  \\\n",
       "0  c'mon you're going out with the guy there's go...             14     False   \n",
       "1  all right joey be nice so does he have a hump ...             16     False   \n",
       "2                             wait does he eat chalk              5     False   \n",
       "3  okay everybody relax this is not even a date i...             21     False   \n",
       "4                           sounds like a date to me              6     False   \n",
       "\n",
       "   ids  is_train                                              text1  \\\n",
       "0    1     False  there's nothing to tell he's just some guy i w...   \n",
       "1    2      True  c'mon you're going out with the guy there's go...   \n",
       "2    3     False  all right joey be nice so does he have a hump ...   \n",
       "3    5      True  just because i don't want her to go through wh...   \n",
       "4    6      True  okay everybody relax this is not even a date i...   \n",
       "\n",
       "   label_prev label_str_prev  is_null2_prev  \n",
       "0         3.0         monica          False  \n",
       "1         5.0           joey          False  \n",
       "2         4.0       chandler          False  \n",
       "3         6.0         phoebe          False  \n",
       "4         3.0         monica          False  "
      ]
     },
     "execution_count": 6,
     "metadata": {},
     "output_type": "execute_result"
    }
   ],
   "source": [
    "df_dlg_seen.head()"
   ]
  },
  {
   "cell_type": "code",
   "execution_count": 9,
   "metadata": {
    "id": "y_VRmC1602xe"
   },
   "outputs": [],
   "source": [
    "data_train = df_dlg_seen[(df_dlg_seen.is_train == True)&(df_dlg_seen.label!=0)][['text1','text2','label_prev','label_place','season','label']]\n",
    "data_train['label'] = data_train['label']-1\n",
    "data_train = data_train[~(data_train.text1.isnull())]\n",
    "\n",
    "data_test = df_dlg_seen[(df_dlg_seen.is_train == False)&(df_dlg_seen.label!=0)][['text1','text2','label_prev','label_place','season','label']]\n",
    "data_test['label'] = data_test['label']-1\n",
    "data_test = data_test[~(data_test.text1.isnull())]\n",
    "\n",
    "data_unseen = df_dlg_unseen[(df_dlg_unseen.label!=0)][['text1','text2','label_prev','label_place','season','label']]\n",
    "data_unseen['label'] = data_unseen['label']-1\n",
    "data_unseen = data_unseen[~(data_unseen.text1.isnull())]"
   ]
  },
  {
   "cell_type": "code",
   "execution_count": 10,
   "metadata": {
    "colab": {
     "base_uri": "https://localhost:8080/"
    },
    "id": "Tt421RVa02xh",
    "outputId": "03de5b03-ec4f-4f0f-8656-399e7cb20cf9"
   },
   "outputs": [
    {
     "data": {
      "text/plain": [
       "(25981, 6)"
      ]
     },
     "execution_count": 10,
     "metadata": {},
     "output_type": "execute_result"
    }
   ],
   "source": [
    "data_train.shape"
   ]
  },
  {
   "cell_type": "code",
   "execution_count": 11,
   "metadata": {
    "colab": {
     "base_uri": "https://localhost:8080/"
    },
    "id": "LnHpAS_J02xk",
    "outputId": "4ab46916-557f-4c8a-c7d8-e19ff5f1478c"
   },
   "outputs": [
    {
     "data": {
      "text/plain": [
       "(8593, 6)"
      ]
     },
     "execution_count": 11,
     "metadata": {},
     "output_type": "execute_result"
    }
   ],
   "source": [
    "data_test.shape"
   ]
  },
  {
   "cell_type": "code",
   "execution_count": 12,
   "metadata": {
    "colab": {
     "base_uri": "https://localhost:8080/"
    },
    "id": "u1kNu3H602xo",
    "outputId": "3233fad8-8882-47d7-ed3b-4d0807ed4c05"
   },
   "outputs": [
    {
     "data": {
      "text/plain": [
       "(8305, 6)"
      ]
     },
     "execution_count": 12,
     "metadata": {},
     "output_type": "execute_result"
    }
   ],
   "source": [
    "data_unseen.shape"
   ]
  },
  {
   "cell_type": "code",
   "execution_count": 13,
   "metadata": {
    "colab": {
     "base_uri": "https://localhost:8080/"
    },
    "id": "IWx_PNZHay70",
    "outputId": "b877f337-b9ed-4c6e-e07c-8c4d0e0d7428"
   },
   "outputs": [
    {
     "data": {
      "text/plain": [
       "1    0.178867\n",
       "0    0.177470\n",
       "3    0.167811\n",
       "2    0.167229\n",
       "4    0.160014\n",
       "5    0.148609\n",
       "Name: label, dtype: float64"
      ]
     },
     "execution_count": 13,
     "metadata": {},
     "output_type": "execute_result"
    }
   ],
   "source": [
    "XX = data_test.label.value_counts()\n",
    "XX/XX.sum()"
   ]
  },
  {
   "cell_type": "code",
   "execution_count": null,
   "metadata": {
    "id": "L1J6bjri02xr"
   },
   "outputs": [],
   "source": []
  },
  {
   "cell_type": "markdown",
   "metadata": {
    "id": "5KQGGRST02xu"
   },
   "source": [
    "## Tokenizer - TFIDF"
   ]
  },
  {
   "cell_type": "code",
   "execution_count": 14,
   "metadata": {},
   "outputs": [],
   "source": [
    "MAX_LEN = 50\n",
    "EMBED_SIZE = 128"
   ]
  },
  {
   "cell_type": "code",
   "execution_count": 15,
   "metadata": {},
   "outputs": [],
   "source": [
    "OH = OneHotEncoder()"
   ]
  },
  {
   "cell_type": "code",
   "execution_count": 16,
   "metadata": {},
   "outputs": [
    {
     "data": {
      "text/html": [
       "<div>\n",
       "<style scoped>\n",
       "    .dataframe tbody tr th:only-of-type {\n",
       "        vertical-align: middle;\n",
       "    }\n",
       "\n",
       "    .dataframe tbody tr th {\n",
       "        vertical-align: top;\n",
       "    }\n",
       "\n",
       "    .dataframe thead th {\n",
       "        text-align: right;\n",
       "    }\n",
       "</style>\n",
       "<table border=\"1\" class=\"dataframe\">\n",
       "  <thead>\n",
       "    <tr style=\"text-align: right;\">\n",
       "      <th></th>\n",
       "      <th>text1</th>\n",
       "      <th>text2</th>\n",
       "      <th>label_prev</th>\n",
       "      <th>label_place</th>\n",
       "      <th>season</th>\n",
       "      <th>label</th>\n",
       "    </tr>\n",
       "  </thead>\n",
       "  <tbody>\n",
       "    <tr>\n",
       "      <th>1</th>\n",
       "      <td>c'mon you're going out with the guy there's go...</td>\n",
       "      <td>all right joey be nice so does he have a hump ...</td>\n",
       "      <td>5.0</td>\n",
       "      <td>1</td>\n",
       "      <td>1</td>\n",
       "      <td>3</td>\n",
       "    </tr>\n",
       "    <tr>\n",
       "      <th>3</th>\n",
       "      <td>just because i don't want her to go through wh...</td>\n",
       "      <td>okay everybody relax this is not even a date i...</td>\n",
       "      <td>6.0</td>\n",
       "      <td>1</td>\n",
       "      <td>1</td>\n",
       "      <td>2</td>\n",
       "    </tr>\n",
       "    <tr>\n",
       "      <th>4</th>\n",
       "      <td>okay everybody relax this is not even a date i...</td>\n",
       "      <td>sounds like a date to me</td>\n",
       "      <td>3.0</td>\n",
       "      <td>1</td>\n",
       "      <td>1</td>\n",
       "      <td>3</td>\n",
       "    </tr>\n",
       "    <tr>\n",
       "      <th>7</th>\n",
       "      <td>then i look down and i realize there's a phone...</td>\n",
       "      <td>instead of</td>\n",
       "      <td>4.0</td>\n",
       "      <td>1</td>\n",
       "      <td>1</td>\n",
       "      <td>4</td>\n",
       "    </tr>\n",
       "    <tr>\n",
       "      <th>9</th>\n",
       "      <td>that's</td>\n",
       "      <td>never had that dream</td>\n",
       "      <td>4.0</td>\n",
       "      <td>1</td>\n",
       "      <td>1</td>\n",
       "      <td>4</td>\n",
       "    </tr>\n",
       "  </tbody>\n",
       "</table>\n",
       "</div>"
      ],
      "text/plain": [
       "                                               text1  \\\n",
       "1  c'mon you're going out with the guy there's go...   \n",
       "3  just because i don't want her to go through wh...   \n",
       "4  okay everybody relax this is not even a date i...   \n",
       "7  then i look down and i realize there's a phone...   \n",
       "9                                             that's   \n",
       "\n",
       "                                               text2  label_prev  label_place  \\\n",
       "1  all right joey be nice so does he have a hump ...         5.0            1   \n",
       "3  okay everybody relax this is not even a date i...         6.0            1   \n",
       "4                           sounds like a date to me         3.0            1   \n",
       "7                                         instead of         4.0            1   \n",
       "9                               never had that dream         4.0            1   \n",
       "\n",
       "   season  label  \n",
       "1       1      3  \n",
       "3       1      2  \n",
       "4       1      3  \n",
       "7       1      4  \n",
       "9       1      4  "
      ]
     },
     "execution_count": 16,
     "metadata": {},
     "output_type": "execute_result"
    }
   ],
   "source": [
    "data_train.head()"
   ]
  },
  {
   "cell_type": "code",
   "execution_count": 17,
   "metadata": {},
   "outputs": [
    {
     "data": {
      "text/html": [
       "<div>\n",
       "<style scoped>\n",
       "    .dataframe tbody tr th:only-of-type {\n",
       "        vertical-align: middle;\n",
       "    }\n",
       "\n",
       "    .dataframe tbody tr th {\n",
       "        vertical-align: top;\n",
       "    }\n",
       "\n",
       "    .dataframe thead th {\n",
       "        text-align: right;\n",
       "    }\n",
       "</style>\n",
       "<table border=\"1\" class=\"dataframe\">\n",
       "  <thead>\n",
       "    <tr style=\"text-align: right;\">\n",
       "      <th></th>\n",
       "      <th>text1</th>\n",
       "      <th>text2</th>\n",
       "      <th>label_prev</th>\n",
       "      <th>label_place</th>\n",
       "      <th>season</th>\n",
       "      <th>label</th>\n",
       "    </tr>\n",
       "  </thead>\n",
       "  <tbody>\n",
       "    <tr>\n",
       "      <th>0</th>\n",
       "      <td>there's nothing to tell he's just some guy i w...</td>\n",
       "      <td>c'mon you're going out with the guy there's go...</td>\n",
       "      <td>3.0</td>\n",
       "      <td>1</td>\n",
       "      <td>1</td>\n",
       "      <td>4</td>\n",
       "    </tr>\n",
       "    <tr>\n",
       "      <th>2</th>\n",
       "      <td>all right joey be nice so does he have a hump ...</td>\n",
       "      <td>wait does he eat chalk</td>\n",
       "      <td>4.0</td>\n",
       "      <td>1</td>\n",
       "      <td>1</td>\n",
       "      <td>5</td>\n",
       "    </tr>\n",
       "    <tr>\n",
       "      <th>6</th>\n",
       "      <td>oh yeah had that dream</td>\n",
       "      <td>then i look down and i realize there's a phone...</td>\n",
       "      <td>0.0</td>\n",
       "      <td>1</td>\n",
       "      <td>1</td>\n",
       "      <td>3</td>\n",
       "    </tr>\n",
       "    <tr>\n",
       "      <th>8</th>\n",
       "      <td>instead of</td>\n",
       "      <td>that's</td>\n",
       "      <td>5.0</td>\n",
       "      <td>1</td>\n",
       "      <td>1</td>\n",
       "      <td>3</td>\n",
       "    </tr>\n",
       "    <tr>\n",
       "      <th>11</th>\n",
       "      <td>no</td>\n",
       "      <td>all of a sudden the phone starts to ring now i...</td>\n",
       "      <td>6.0</td>\n",
       "      <td>1</td>\n",
       "      <td>1</td>\n",
       "      <td>3</td>\n",
       "    </tr>\n",
       "  </tbody>\n",
       "</table>\n",
       "</div>"
      ],
      "text/plain": [
       "                                                text1  \\\n",
       "0   there's nothing to tell he's just some guy i w...   \n",
       "2   all right joey be nice so does he have a hump ...   \n",
       "6                              oh yeah had that dream   \n",
       "8                                          instead of   \n",
       "11                                                 no   \n",
       "\n",
       "                                                text2  label_prev  \\\n",
       "0   c'mon you're going out with the guy there's go...         3.0   \n",
       "2                              wait does he eat chalk         4.0   \n",
       "6   then i look down and i realize there's a phone...         0.0   \n",
       "8                                              that's         5.0   \n",
       "11  all of a sudden the phone starts to ring now i...         6.0   \n",
       "\n",
       "    label_place  season  label  \n",
       "0             1       1      4  \n",
       "2             1       1      5  \n",
       "6             1       1      3  \n",
       "8             1       1      3  \n",
       "11            1       1      3  "
      ]
     },
     "execution_count": 17,
     "metadata": {},
     "output_type": "execute_result"
    }
   ],
   "source": [
    "data_test.head()"
   ]
  },
  {
   "cell_type": "code",
   "execution_count": 18,
   "metadata": {},
   "outputs": [
    {
     "data": {
      "text/html": [
       "<div>\n",
       "<style scoped>\n",
       "    .dataframe tbody tr th:only-of-type {\n",
       "        vertical-align: middle;\n",
       "    }\n",
       "\n",
       "    .dataframe tbody tr th {\n",
       "        vertical-align: top;\n",
       "    }\n",
       "\n",
       "    .dataframe thead th {\n",
       "        text-align: right;\n",
       "    }\n",
       "</style>\n",
       "<table border=\"1\" class=\"dataframe\">\n",
       "  <thead>\n",
       "    <tr style=\"text-align: right;\">\n",
       "      <th></th>\n",
       "      <th>eps</th>\n",
       "      <th>dialogue_ids</th>\n",
       "      <th>scenes_places</th>\n",
       "      <th>label_place</th>\n",
       "      <th>label_str</th>\n",
       "      <th>label</th>\n",
       "      <th>season</th>\n",
       "      <th>dialogue</th>\n",
       "      <th>text2</th>\n",
       "      <th>len_dialogue5</th>\n",
       "      <th>is_null2</th>\n",
       "      <th>ids</th>\n",
       "      <th>text1</th>\n",
       "      <th>label_prev</th>\n",
       "      <th>label_str_prev</th>\n",
       "      <th>is_null2_prev</th>\n",
       "    </tr>\n",
       "  </thead>\n",
       "  <tbody>\n",
       "    <tr>\n",
       "      <th>0</th>\n",
       "      <td>0901</td>\n",
       "      <td>3</td>\n",
       "      <td>[rachel's room]</td>\n",
       "      <td>2</td>\n",
       "      <td>joey</td>\n",
       "      <td>5</td>\n",
       "      <td>9</td>\n",
       "      <td>uh... look rach...(ross enters.) hey ross is...</td>\n",
       "      <td>uh look rach hey ross is here hey look it's my...</td>\n",
       "      <td>16</td>\n",
       "      <td>False</td>\n",
       "      <td>49646</td>\n",
       "      <td>so uh i guess we should make it official huh</td>\n",
       "      <td>1.0</td>\n",
       "      <td>rachel</td>\n",
       "      <td>False</td>\n",
       "    </tr>\n",
       "    <tr>\n",
       "      <th>1</th>\n",
       "      <td>0901</td>\n",
       "      <td>4</td>\n",
       "      <td>[rachel's room]</td>\n",
       "      <td>2</td>\n",
       "      <td>ross</td>\n",
       "      <td>2</td>\n",
       "      <td>9</td>\n",
       "      <td>hey joey. (to rachel) hey you.</td>\n",
       "      <td>joey you</td>\n",
       "      <td>2</td>\n",
       "      <td>False</td>\n",
       "      <td>49647</td>\n",
       "      <td>uh look rach hey ross is here hey look it's my...</td>\n",
       "      <td>5.0</td>\n",
       "      <td>joey</td>\n",
       "      <td>False</td>\n",
       "    </tr>\n",
       "    <tr>\n",
       "      <th>2</th>\n",
       "      <td>0901</td>\n",
       "      <td>5</td>\n",
       "      <td>[rachel's room]</td>\n",
       "      <td>2</td>\n",
       "      <td>rachel</td>\n",
       "      <td>1</td>\n",
       "      <td>9</td>\n",
       "      <td>hey you.</td>\n",
       "      <td>you</td>\n",
       "      <td>1</td>\n",
       "      <td>False</td>\n",
       "      <td>49648</td>\n",
       "      <td>joey you</td>\n",
       "      <td>2.0</td>\n",
       "      <td>ross</td>\n",
       "      <td>False</td>\n",
       "    </tr>\n",
       "    <tr>\n",
       "      <th>3</th>\n",
       "      <td>0901</td>\n",
       "      <td>6</td>\n",
       "      <td>[rachel's room]</td>\n",
       "      <td>2</td>\n",
       "      <td>joey</td>\n",
       "      <td>5</td>\n",
       "      <td>9</td>\n",
       "      <td>hey and look he brought flowers. thanks ross...</td>\n",
       "      <td>hey and look he brought flowers thanks ross bu...</td>\n",
       "      <td>16</td>\n",
       "      <td>False</td>\n",
       "      <td>49649</td>\n",
       "      <td>you</td>\n",
       "      <td>1.0</td>\n",
       "      <td>rachel</td>\n",
       "      <td>False</td>\n",
       "    </tr>\n",
       "    <tr>\n",
       "      <th>4</th>\n",
       "      <td>0901</td>\n",
       "      <td>7</td>\n",
       "      <td>[rachel's room]</td>\n",
       "      <td>2</td>\n",
       "      <td>ross</td>\n",
       "      <td>2</td>\n",
       "      <td>9</td>\n",
       "      <td>you're weird today. (he turns to rachel and ...</td>\n",
       "      <td>you're weird today listen i uh wanted to talk ...</td>\n",
       "      <td>13</td>\n",
       "      <td>False</td>\n",
       "      <td>49650</td>\n",
       "      <td>hey and look he brought flowers thanks ross bu...</td>\n",
       "      <td>5.0</td>\n",
       "      <td>joey</td>\n",
       "      <td>False</td>\n",
       "    </tr>\n",
       "  </tbody>\n",
       "</table>\n",
       "</div>"
      ],
      "text/plain": [
       "    eps  dialogue_ids    scenes_places  label_place label_str  label  season  \\\n",
       "0  0901             3  [rachel's room]            2      joey      5       9   \n",
       "1  0901             4  [rachel's room]            2      ross      2       9   \n",
       "2  0901             5  [rachel's room]            2    rachel      1       9   \n",
       "3  0901             6  [rachel's room]            2      joey      5       9   \n",
       "4  0901             7  [rachel's room]            2      ross      2       9   \n",
       "\n",
       "                                            dialogue  \\\n",
       "0    uh... look rach...(ross enters.) hey ross is...   \n",
       "1                     hey joey. (to rachel) hey you.   \n",
       "2                                           hey you.   \n",
       "3    hey and look he brought flowers. thanks ross...   \n",
       "4    you're weird today. (he turns to rachel and ...   \n",
       "\n",
       "                                               text2  len_dialogue5  is_null2  \\\n",
       "0  uh look rach hey ross is here hey look it's my...             16     False   \n",
       "1                                           joey you              2     False   \n",
       "2                                                you              1     False   \n",
       "3  hey and look he brought flowers thanks ross bu...             16     False   \n",
       "4  you're weird today listen i uh wanted to talk ...             13     False   \n",
       "\n",
       "     ids                                              text1  label_prev  \\\n",
       "0  49646       so uh i guess we should make it official huh         1.0   \n",
       "1  49647  uh look rach hey ross is here hey look it's my...         5.0   \n",
       "2  49648                                           joey you         2.0   \n",
       "3  49649                                                you         1.0   \n",
       "4  49650  hey and look he brought flowers thanks ross bu...         5.0   \n",
       "\n",
       "  label_str_prev  is_null2_prev  \n",
       "0         rachel          False  \n",
       "1           joey          False  \n",
       "2           ross          False  \n",
       "3         rachel          False  \n",
       "4           joey          False  "
      ]
     },
     "execution_count": 18,
     "metadata": {},
     "output_type": "execute_result"
    }
   ],
   "source": [
    "df_dlg_unseen.head()"
   ]
  },
  {
   "cell_type": "code",
   "execution_count": 19,
   "metadata": {},
   "outputs": [
    {
     "data": {
      "text/plain": [
       "TfidfVectorizer(max_features=50, min_df=0.05)"
      ]
     },
     "execution_count": 19,
     "metadata": {},
     "output_type": "execute_result"
    }
   ],
   "source": [
    "corpus = data_train['text1'].tolist()+data_test['text1'].tolist()+data_train['text2'].tolist()+data_test['text2'].tolist()\n",
    "vectorizer = TfidfVectorizer(min_df = 0.05, max_features = MAX_LEN)\n",
    "vectorizer.fit(corpus)"
   ]
  },
  {
   "cell_type": "code",
   "execution_count": null,
   "metadata": {},
   "outputs": [],
   "source": []
  },
  {
   "cell_type": "code",
   "execution_count": 20,
   "metadata": {},
   "outputs": [],
   "source": [
    "OH = OneHotEncoder()\n",
    "OH_people = OneHotEncoder()\n",
    "OH_place = OneHotEncoder()"
   ]
  },
  {
   "cell_type": "code",
   "execution_count": 23,
   "metadata": {},
   "outputs": [
    {
     "data": {
      "text/plain": [
       "OneHotEncoder()"
      ]
     },
     "execution_count": 23,
     "metadata": {},
     "output_type": "execute_result"
    }
   ],
   "source": [
    "get_ids = pd.concat([data_train,data_test])\n",
    "OH.fit(get_ids['label'].values.reshape(len(get_ids),-1))\n",
    "OH_people.fit(get_ids['label_prev'].values.reshape(len(get_ids),-1))\n",
    "OH_place.fit(get_ids['label_place'].values.reshape(len(get_ids),-1))"
   ]
  },
  {
   "cell_type": "code",
   "execution_count": 27,
   "metadata": {},
   "outputs": [],
   "source": [
    "def get_input(df):\n",
    "    txt = df['text1']\n",
    "    X1 = vectorizer.transform(txt).toarray()\n",
    "    txt = df['text2']\n",
    "    X2 = vectorizer.transform(txt).toarray()\n",
    "    label = df['label']\n",
    "    \n",
    "    \n",
    "    f1 = df['label_prev'].values\n",
    "    f2 = df['label_place'].values\n",
    "    \n",
    "    Xf1 = OH_people.transform(np.array(f1).reshape(len(f1),-1)).toarray()\n",
    "    Xf2 = OH_place.transform(np.array(f2).reshape(len(f1),-1)).toarray()\n",
    "    \n",
    "    X = np.concatenate([X1,X2,Xf1,Xf2],axis = 1)\n",
    "    print(X1.shape)\n",
    "    print(X2.shape)\n",
    "    print(Xf1.shape)\n",
    "    print(Xf2.shape)\n",
    "    \n",
    "    return X,label.values"
   ]
  },
  {
   "cell_type": "code",
   "execution_count": 28,
   "metadata": {},
   "outputs": [
    {
     "name": "stdout",
     "output_type": "stream",
     "text": [
      "(34574, 38)\n",
      "(34574, 38)\n",
      "(34574, 7)\n",
      "(34574, 13)\n",
      "(8305, 38)\n",
      "(8305, 38)\n",
      "(8305, 7)\n",
      "(8305, 13)\n"
     ]
    }
   ],
   "source": [
    "X_train,label_train = get_input(pd.concat([data_train,data_test]))\n",
    "X_unseen,label_unseen = get_input(data_unseen)"
   ]
  },
  {
   "cell_type": "code",
   "execution_count": 29,
   "metadata": {},
   "outputs": [],
   "source": [
    "y_train = OH.transform(label_train.reshape(len(label_train),-1)).toarray()\n",
    "# y_test = OH.transform(label_test.reshape(len(label_test),-1)).toarray()\n",
    "y_unseen = OH.transform(label_unseen.reshape(len(label_unseen),-1)).toarray()"
   ]
  },
  {
   "cell_type": "code",
   "execution_count": 30,
   "metadata": {
    "id": "5wougnTMpWxj"
   },
   "outputs": [
    {
     "data": {
      "text/plain": [
       "array([3, 2, 3, ..., 4, 0, 0])"
      ]
     },
     "execution_count": 30,
     "metadata": {},
     "output_type": "execute_result"
    }
   ],
   "source": [
    "label_train"
   ]
  },
  {
   "cell_type": "code",
   "execution_count": 31,
   "metadata": {},
   "outputs": [
    {
     "data": {
      "text/plain": [
       "(34574, 96)"
      ]
     },
     "execution_count": 31,
     "metadata": {},
     "output_type": "execute_result"
    }
   ],
   "source": [
    "X_train.shape"
   ]
  },
  {
   "cell_type": "code",
   "execution_count": null,
   "metadata": {},
   "outputs": [],
   "source": []
  },
  {
   "cell_type": "markdown",
   "metadata": {
    "id": "cYqyu2RK02x6"
   },
   "source": [
    "## Training Model"
   ]
  },
  {
   "cell_type": "code",
   "execution_count": 32,
   "metadata": {},
   "outputs": [],
   "source": [
    "def xgb_evaluate(max_depth,learning_rate,n_estimators,\n",
    "                 gamma, reg_alpha,reg_lambda,X=X_train,y=label_train):\n",
    "\n",
    "    md= int(max_depth)\n",
    "    lr= max(learning_rate,0)\n",
    "    ne= int(n_estimators)\n",
    "    gamma= max(gamma, 0) # 0\n",
    "    ra= max(reg_alpha, 0) # 0\n",
    "    rl= max(reg_lambda, 0) # 1\n",
    "    see= 123\n",
    "    \n",
    "    xgB=XGBClassifier(max_depth=md,learning_rate=lr,\n",
    "                 n_estimators=ne,gamma=gamma,reg_alpha=ra,\n",
    "                 reg_lambda=rl,seed=see, \n",
    "                 nthread=2,num_classes=6)\n",
    "    cv_results = cross_validate(xgB, X, y, cv=5, scoring='f1_macro', n_jobs= 2)\n",
    "    return cv_results['test_score'].mean()"
   ]
  },
  {
   "cell_type": "code",
   "execution_count": 35,
   "metadata": {},
   "outputs": [],
   "source": [
    "xgbBO = BayesianOptimization(xgb_evaluate, \n",
    "                {'max_depth': (10,20),'learning_rate': (0.2, 0.5),\n",
    "                    'n_estimators': (8,16),'gamma': (0.1, 2),'reg_alpha': (1, 5),\n",
    "                    'reg_lambda': (1.5, 4.5)})"
   ]
  },
  {
   "cell_type": "code",
   "execution_count": 36,
   "metadata": {},
   "outputs": [
    {
     "name": "stdout",
     "output_type": "stream",
     "text": [
      "|   iter    |  target   |   gamma   | learni... | max_depth | n_esti... | reg_alpha | reg_la... |\n",
      "-------------------------------------------------------------------------------------------------\n",
      "| \u001b[0m 1       \u001b[0m | \u001b[0m 0.3315  \u001b[0m | \u001b[0m 1.392   \u001b[0m | \u001b[0m 0.3749  \u001b[0m | \u001b[0m 10.85   \u001b[0m | \u001b[0m 12.09   \u001b[0m | \u001b[0m 1.142   \u001b[0m | \u001b[0m 2.501   \u001b[0m |\n",
      "| \u001b[95m 2       \u001b[0m | \u001b[95m 0.3338  \u001b[0m | \u001b[95m 0.4915  \u001b[0m | \u001b[95m 0.4262  \u001b[0m | \u001b[95m 11.79   \u001b[0m | \u001b[95m 8.742   \u001b[0m | \u001b[95m 2.21    \u001b[0m | \u001b[95m 4.054   \u001b[0m |\n",
      "| \u001b[0m 3       \u001b[0m | \u001b[0m 0.322   \u001b[0m | \u001b[0m 0.8426  \u001b[0m | \u001b[0m 0.451   \u001b[0m | \u001b[0m 16.41   \u001b[0m | \u001b[0m 14.04   \u001b[0m | \u001b[0m 2.113   \u001b[0m | \u001b[0m 2.954   \u001b[0m |\n",
      "| \u001b[0m 4       \u001b[0m | \u001b[0m 0.3323  \u001b[0m | \u001b[0m 0.9307  \u001b[0m | \u001b[0m 0.2094  \u001b[0m | \u001b[0m 16.3    \u001b[0m | \u001b[0m 11.44   \u001b[0m | \u001b[0m 4.848   \u001b[0m | \u001b[0m 2.396   \u001b[0m |\n",
      "| \u001b[0m 5       \u001b[0m | \u001b[0m 0.3316  \u001b[0m | \u001b[0m 1.266   \u001b[0m | \u001b[0m 0.2678  \u001b[0m | \u001b[0m 14.1    \u001b[0m | \u001b[0m 14.54   \u001b[0m | \u001b[0m 1.571   \u001b[0m | \u001b[0m 3.652   \u001b[0m |\n",
      "| \u001b[95m 6       \u001b[0m | \u001b[95m 0.3354  \u001b[0m | \u001b[95m 1.337   \u001b[0m | \u001b[95m 0.2407  \u001b[0m | \u001b[95m 12.18   \u001b[0m | \u001b[95m 9.45    \u001b[0m | \u001b[95m 4.178   \u001b[0m | \u001b[95m 2.045   \u001b[0m |\n",
      "| \u001b[0m 7       \u001b[0m | \u001b[0m 0.3307  \u001b[0m | \u001b[0m 1.666   \u001b[0m | \u001b[0m 0.4728  \u001b[0m | \u001b[0m 19.88   \u001b[0m | \u001b[0m 15.37   \u001b[0m | \u001b[0m 4.213   \u001b[0m | \u001b[0m 4.297   \u001b[0m |\n",
      "| \u001b[0m 8       \u001b[0m | \u001b[0m 0.3352  \u001b[0m | \u001b[0m 1.622   \u001b[0m | \u001b[0m 0.2491  \u001b[0m | \u001b[0m 12.0    \u001b[0m | \u001b[0m 14.93   \u001b[0m | \u001b[0m 4.168   \u001b[0m | \u001b[0m 1.73    \u001b[0m |\n",
      "| \u001b[0m 9       \u001b[0m | \u001b[0m 0.3258  \u001b[0m | \u001b[0m 0.8533  \u001b[0m | \u001b[0m 0.414   \u001b[0m | \u001b[0m 17.06   \u001b[0m | \u001b[0m 8.944   \u001b[0m | \u001b[0m 1.993   \u001b[0m | \u001b[0m 4.145   \u001b[0m |\n",
      "| \u001b[0m 10      \u001b[0m | \u001b[0m 0.3246  \u001b[0m | \u001b[0m 1.596   \u001b[0m | \u001b[0m 0.4663  \u001b[0m | \u001b[0m 19.26   \u001b[0m | \u001b[0m 9.729   \u001b[0m | \u001b[0m 2.465   \u001b[0m | \u001b[0m 1.706   \u001b[0m |\n",
      "| \u001b[0m 11      \u001b[0m | \u001b[0m 0.333   \u001b[0m | \u001b[0m 1.501   \u001b[0m | \u001b[0m 0.3873  \u001b[0m | \u001b[0m 12.67   \u001b[0m | \u001b[0m 8.012   \u001b[0m | \u001b[0m 1.91    \u001b[0m | \u001b[0m 4.319   \u001b[0m |\n",
      "| \u001b[0m 12      \u001b[0m | \u001b[0m 0.328   \u001b[0m | \u001b[0m 1.693   \u001b[0m | \u001b[0m 0.4535  \u001b[0m | \u001b[0m 17.22   \u001b[0m | \u001b[0m 15.7    \u001b[0m | \u001b[0m 3.207   \u001b[0m | \u001b[0m 2.668   \u001b[0m |\n",
      "| \u001b[0m 13      \u001b[0m | \u001b[0m 0.327   \u001b[0m | \u001b[0m 0.6936  \u001b[0m | \u001b[0m 0.4148  \u001b[0m | \u001b[0m 18.06   \u001b[0m | \u001b[0m 8.78    \u001b[0m | \u001b[0m 4.184   \u001b[0m | \u001b[0m 1.901   \u001b[0m |\n",
      "| \u001b[0m 14      \u001b[0m | \u001b[0m 0.3232  \u001b[0m | \u001b[0m 1.014   \u001b[0m | \u001b[0m 0.4187  \u001b[0m | \u001b[0m 19.06   \u001b[0m | \u001b[0m 8.08    \u001b[0m | \u001b[0m 2.135   \u001b[0m | \u001b[0m 2.029   \u001b[0m |\n",
      "| \u001b[95m 15      \u001b[0m | \u001b[95m 0.3378  \u001b[0m | \u001b[95m 1.798   \u001b[0m | \u001b[95m 0.3706  \u001b[0m | \u001b[95m 10.68   \u001b[0m | \u001b[95m 10.12   \u001b[0m | \u001b[95m 4.202   \u001b[0m | \u001b[95m 2.227   \u001b[0m |\n",
      "| \u001b[0m 16      \u001b[0m | \u001b[0m 0.3357  \u001b[0m | \u001b[0m 2.0     \u001b[0m | \u001b[0m 0.2     \u001b[0m | \u001b[0m 11.39   \u001b[0m | \u001b[0m 11.95   \u001b[0m | \u001b[0m 5.0     \u001b[0m | \u001b[0m 4.275   \u001b[0m |\n",
      "| \u001b[0m 17      \u001b[0m | \u001b[0m 0.3349  \u001b[0m | \u001b[0m 0.1     \u001b[0m | \u001b[0m 0.2     \u001b[0m | \u001b[0m 10.0    \u001b[0m | \u001b[0m 11.83   \u001b[0m | \u001b[0m 5.0     \u001b[0m | \u001b[0m 1.5     \u001b[0m |\n",
      "| \u001b[0m 18      \u001b[0m | \u001b[0m 0.336   \u001b[0m | \u001b[0m 2.0     \u001b[0m | \u001b[0m 0.5     \u001b[0m | \u001b[0m 10.0    \u001b[0m | \u001b[0m 8.0     \u001b[0m | \u001b[0m 5.0     \u001b[0m | \u001b[0m 4.147   \u001b[0m |\n",
      "| \u001b[0m 19      \u001b[0m | \u001b[0m 0.3376  \u001b[0m | \u001b[0m 2.0     \u001b[0m | \u001b[0m 0.2     \u001b[0m | \u001b[0m 10.24   \u001b[0m | \u001b[0m 16.0    \u001b[0m | \u001b[0m 2.969   \u001b[0m | \u001b[0m 4.5     \u001b[0m |\n",
      "| \u001b[0m 20      \u001b[0m | \u001b[0m 0.3315  \u001b[0m | \u001b[0m 0.1     \u001b[0m | \u001b[0m 0.5     \u001b[0m | \u001b[0m 11.66   \u001b[0m | \u001b[0m 16.0    \u001b[0m | \u001b[0m 5.0     \u001b[0m | \u001b[0m 4.5     \u001b[0m |\n",
      "=================================================================================================\n"
     ]
    }
   ],
   "source": [
    "xgbBO.maximize(init_points=15, n_iter=5)"
   ]
  },
  {
   "cell_type": "code",
   "execution_count": 37,
   "metadata": {},
   "outputs": [],
   "source": [
    "# |  17       |  0.2066   |  1.0      |  0.2      |  13.0     |  11.51    |  4.0      |  2.0      |\n",
    "# |  16       |  0.3314   |  1.666    |  0.3337   |  12.31    |  13.48    |  2.894    |  28.96    |"
   ]
  },
  {
   "cell_type": "code",
   "execution_count": 43,
   "metadata": {},
   "outputs": [
    {
     "data": {
      "text/plain": [
       "{'gamma': 1.7976923087058216,\n",
       " 'learning_rate': 0.3705634616547179,\n",
       " 'max_depth': 10.679222789031332,\n",
       " 'n_estimators': 10.11651261065533,\n",
       " 'reg_alpha': 4.202273761181159,\n",
       " 'reg_lambda': 2.227392466030002}"
      ]
     },
     "execution_count": 43,
     "metadata": {},
     "output_type": "execute_result"
    }
   ],
   "source": [
    "par = xgbBO.max['params']\n",
    "par"
   ]
  },
  {
   "cell_type": "code",
   "execution_count": 44,
   "metadata": {},
   "outputs": [],
   "source": [
    "\n",
    "par['max_depth'] = int(par['max_depth'])\n",
    "par['n_estimators'] = int(par['n_estimators'])"
   ]
  },
  {
   "cell_type": "code",
   "execution_count": 45,
   "metadata": {},
   "outputs": [
    {
     "name": "stderr",
     "output_type": "stream",
     "text": [
      "/Users/alamhanz/anaconda/envs/p37/lib/python3.7/site-packages/xgboost/sklearn.py:888: UserWarning: The use of label encoder in XGBClassifier is deprecated and will be removed in a future release. To remove this warning, do the following: 1) Pass option use_label_encoder=False when constructing XGBClassifier object; and 2) Encode your labels (y) as integers starting with 0, i.e. 0, 1, 2, ..., [num_class - 1].\n",
      "  warnings.warn(label_encoder_deprecation_msg, UserWarning)\n"
     ]
    },
    {
     "name": "stdout",
     "output_type": "stream",
     "text": [
      "[21:42:07] WARNING: /Users/travis/build/dmlc/xgboost/src/learner.cc:1061: Starting in XGBoost 1.3.0, the default evaluation metric used with the objective 'multi:softprob' was changed from 'merror' to 'mlogloss'. Explicitly set eval_metric if you'd like to restore the old behavior.\n"
     ]
    },
    {
     "data": {
      "text/plain": [
       "XGBClassifier(base_score=0.5, booster='gbtree', colsample_bylevel=1,\n",
       "              colsample_bynode=1, colsample_bytree=1, gamma=1.7976923087058216,\n",
       "              gpu_id=-1, importance_type='gain', interaction_constraints='',\n",
       "              learning_rate=0.3705634616547179, max_delta_step=0, max_depth=10,\n",
       "              min_child_weight=1, missing=nan, monotone_constraints='()',\n",
       "              n_estimators=10, n_jobs=4, num_parallel_tree=1,\n",
       "              objective='multi:softprob', random_state=0,\n",
       "              reg_alpha=4.202273761181159, reg_lambda=2.227392466030002,\n",
       "              scale_pos_weight=None, subsample=1, tree_method='exact',\n",
       "              validate_parameters=1, verbosity=None)"
      ]
     },
     "execution_count": 45,
     "metadata": {},
     "output_type": "execute_result"
    }
   ],
   "source": [
    "xgB0=XGBClassifier(**par)\n",
    "xgB0.fit(X_train,label_train)"
   ]
  },
  {
   "cell_type": "code",
   "execution_count": null,
   "metadata": {},
   "outputs": [],
   "source": []
  },
  {
   "cell_type": "markdown",
   "metadata": {
    "id": "1J-Okj2NVbJT"
   },
   "source": [
    "## Testing"
   ]
  },
  {
   "cell_type": "code",
   "execution_count": 46,
   "metadata": {},
   "outputs": [
    {
     "data": {
      "text/html": [
       "<div>\n",
       "<style scoped>\n",
       "    .dataframe tbody tr th:only-of-type {\n",
       "        vertical-align: middle;\n",
       "    }\n",
       "\n",
       "    .dataframe tbody tr th {\n",
       "        vertical-align: top;\n",
       "    }\n",
       "\n",
       "    .dataframe thead th {\n",
       "        text-align: right;\n",
       "    }\n",
       "</style>\n",
       "<table border=\"1\" class=\"dataframe\">\n",
       "  <thead>\n",
       "    <tr style=\"text-align: right;\">\n",
       "      <th></th>\n",
       "      <th>text1</th>\n",
       "      <th>text2</th>\n",
       "      <th>label_prev</th>\n",
       "      <th>label_place</th>\n",
       "      <th>season</th>\n",
       "      <th>label</th>\n",
       "    </tr>\n",
       "  </thead>\n",
       "  <tbody>\n",
       "    <tr>\n",
       "      <th>0</th>\n",
       "      <td>so uh i guess we should make it official huh</td>\n",
       "      <td>uh look rach hey ross is here hey look it's my...</td>\n",
       "      <td>1.0</td>\n",
       "      <td>2</td>\n",
       "      <td>9</td>\n",
       "      <td>4</td>\n",
       "    </tr>\n",
       "    <tr>\n",
       "      <th>1</th>\n",
       "      <td>uh look rach hey ross is here hey look it's my...</td>\n",
       "      <td>joey you</td>\n",
       "      <td>5.0</td>\n",
       "      <td>2</td>\n",
       "      <td>9</td>\n",
       "      <td>1</td>\n",
       "    </tr>\n",
       "    <tr>\n",
       "      <th>2</th>\n",
       "      <td>joey you</td>\n",
       "      <td>you</td>\n",
       "      <td>2.0</td>\n",
       "      <td>2</td>\n",
       "      <td>9</td>\n",
       "      <td>0</td>\n",
       "    </tr>\n",
       "    <tr>\n",
       "      <th>3</th>\n",
       "      <td>you</td>\n",
       "      <td>hey and look he brought flowers thanks ross bu...</td>\n",
       "      <td>1.0</td>\n",
       "      <td>2</td>\n",
       "      <td>9</td>\n",
       "      <td>4</td>\n",
       "    </tr>\n",
       "    <tr>\n",
       "      <th>4</th>\n",
       "      <td>hey and look he brought flowers thanks ross bu...</td>\n",
       "      <td>you're weird today listen i uh wanted to talk ...</td>\n",
       "      <td>5.0</td>\n",
       "      <td>2</td>\n",
       "      <td>9</td>\n",
       "      <td>1</td>\n",
       "    </tr>\n",
       "    <tr>\n",
       "      <th>...</th>\n",
       "      <td>...</td>\n",
       "      <td>...</td>\n",
       "      <td>...</td>\n",
       "      <td>...</td>\n",
       "      <td>...</td>\n",
       "      <td>...</td>\n",
       "    </tr>\n",
       "    <tr>\n",
       "      <th>9827</th>\n",
       "      <td>this is harder than i thought it would be</td>\n",
       "      <td>oh it's gonna be okay</td>\n",
       "      <td>3.0</td>\n",
       "      <td>2</td>\n",
       "      <td>10</td>\n",
       "      <td>3</td>\n",
       "    </tr>\n",
       "    <tr>\n",
       "      <th>9828</th>\n",
       "      <td>oh it's gonna be okay</td>\n",
       "      <td>do you guys have to go to the new house right ...</td>\n",
       "      <td>4.0</td>\n",
       "      <td>2</td>\n",
       "      <td>10</td>\n",
       "      <td>0</td>\n",
       "    </tr>\n",
       "    <tr>\n",
       "      <th>9829</th>\n",
       "      <td>do you guys have to go to the new house right ...</td>\n",
       "      <td>we got some time</td>\n",
       "      <td>1.0</td>\n",
       "      <td>2</td>\n",
       "      <td>10</td>\n",
       "      <td>2</td>\n",
       "    </tr>\n",
       "    <tr>\n",
       "      <th>9830</th>\n",
       "      <td>we got some time</td>\n",
       "      <td>okay should we get some coffee</td>\n",
       "      <td>3.0</td>\n",
       "      <td>2</td>\n",
       "      <td>10</td>\n",
       "      <td>0</td>\n",
       "    </tr>\n",
       "    <tr>\n",
       "      <th>9831</th>\n",
       "      <td>okay should we get some coffee</td>\n",
       "      <td>where the end</td>\n",
       "      <td>1.0</td>\n",
       "      <td>2</td>\n",
       "      <td>10</td>\n",
       "      <td>3</td>\n",
       "    </tr>\n",
       "  </tbody>\n",
       "</table>\n",
       "<p>8305 rows × 6 columns</p>\n",
       "</div>"
      ],
      "text/plain": [
       "                                                  text1  \\\n",
       "0          so uh i guess we should make it official huh   \n",
       "1     uh look rach hey ross is here hey look it's my...   \n",
       "2                                              joey you   \n",
       "3                                                   you   \n",
       "4     hey and look he brought flowers thanks ross bu...   \n",
       "...                                                 ...   \n",
       "9827          this is harder than i thought it would be   \n",
       "9828                              oh it's gonna be okay   \n",
       "9829  do you guys have to go to the new house right ...   \n",
       "9830                                   we got some time   \n",
       "9831                     okay should we get some coffee   \n",
       "\n",
       "                                                  text2  label_prev  \\\n",
       "0     uh look rach hey ross is here hey look it's my...         1.0   \n",
       "1                                              joey you         5.0   \n",
       "2                                                   you         2.0   \n",
       "3     hey and look he brought flowers thanks ross bu...         1.0   \n",
       "4     you're weird today listen i uh wanted to talk ...         5.0   \n",
       "...                                                 ...         ...   \n",
       "9827                              oh it's gonna be okay         3.0   \n",
       "9828  do you guys have to go to the new house right ...         4.0   \n",
       "9829                                   we got some time         1.0   \n",
       "9830                     okay should we get some coffee         3.0   \n",
       "9831                                      where the end         1.0   \n",
       "\n",
       "      label_place  season  label  \n",
       "0               2       9      4  \n",
       "1               2       9      1  \n",
       "2               2       9      0  \n",
       "3               2       9      4  \n",
       "4               2       9      1  \n",
       "...           ...     ...    ...  \n",
       "9827            2      10      3  \n",
       "9828            2      10      0  \n",
       "9829            2      10      2  \n",
       "9830            2      10      0  \n",
       "9831            2      10      3  \n",
       "\n",
       "[8305 rows x 6 columns]"
      ]
     },
     "execution_count": 46,
     "metadata": {},
     "output_type": "execute_result"
    }
   ],
   "source": [
    "data_unseen"
   ]
  },
  {
   "cell_type": "code",
   "execution_count": 47,
   "metadata": {},
   "outputs": [],
   "source": [
    "y_pred_label = xgB0.predict(X_unseen)\n",
    "# y_pred_label = np.argmax(y_pred,axis = 1)\n",
    "y_true_label = data_unseen['label'].values"
   ]
  },
  {
   "cell_type": "code",
   "execution_count": null,
   "metadata": {},
   "outputs": [],
   "source": []
  },
  {
   "cell_type": "code",
   "execution_count": 48,
   "metadata": {
    "id": "r0bgWgl6cJQj"
   },
   "outputs": [
    {
     "name": "stdout",
     "output_type": "stream",
     "text": [
      "              precision    recall  f1-score   support\n",
      "\n",
      "           0       0.31      0.35      0.33      1410\n",
      "           1       0.31      0.40      0.35      1497\n",
      "           2       0.40      0.43      0.42      1369\n",
      "           3       0.39      0.49      0.43      1401\n",
      "           4       0.36      0.25      0.29      1360\n",
      "           5       0.34      0.16      0.21      1268\n",
      "\n",
      "    accuracy                           0.35      8305\n",
      "   macro avg       0.35      0.35      0.34      8305\n",
      "weighted avg       0.35      0.35      0.34      8305\n",
      "\n"
     ]
    },
    {
     "data": {
      "image/png": "[encoded data removed]",
      "text/plain": [
       "<Figure size 576x576 with 2 Axes>"
      ]
     },
     "metadata": {
      "needs_background": "light"
     },
     "output_type": "display_data"
    }
   ],
   "source": [
    "report = classification_report(y_true_label, y_pred_label)\n",
    "print(report)\n",
    "\n",
    "\n",
    "def plot_cm(labels, predictions, p=0.5):\n",
    "#     cm = confusion_matrix(labels, predictions)\n",
    "#     plt.figure(figsize=(5, 5))\n",
    "#     sns.heatmap(cm, annot=True, fmt=\"d\")\n",
    "    cm = confusion_matrix(labels, predictions)\n",
    "    cm = (cm.transpose()/cm.sum(axis = 1)).transpose()\n",
    "    plt.figure(figsize=(8, 8))\n",
    "    sns.heatmap(cm, annot=True, fmt=\".2%\")\n",
    "    plt.title(\"Confusion matrix (non-normalized))\")\n",
    "    plt.ylabel(\"Actual label\")\n",
    "    plt.xlabel(\"Predicted label\")\n",
    "\n",
    "\n",
    "plot_cm(y_true_label, y_pred_label)"
   ]
  },
  {
   "cell_type": "code",
   "execution_count": null,
   "metadata": {},
   "outputs": [],
   "source": []
  }
 ],
 "metadata": {
  "accelerator": "TPU",
  "colab": {
   "collapsed_sections": [],
   "name": "20200803_training_bert_TPU.ipynb",
   "provenance": []
  },
  "kernelspec": {
   "display_name": "p37",
   "language": "python",
   "name": "p37"
  },
  "language_info": {
   "codemirror_mode": {
    "name": "ipython",
    "version": 3
   },
   "file_extension": ".py",
   "mimetype": "text/x-python",
   "name": "python",
   "nbconvert_exporter": "python",
   "pygments_lexer": "ipython3",
   "version": "3.7.9"
  }
 },
 "nbformat": 4,
 "nbformat_minor": 4
}
