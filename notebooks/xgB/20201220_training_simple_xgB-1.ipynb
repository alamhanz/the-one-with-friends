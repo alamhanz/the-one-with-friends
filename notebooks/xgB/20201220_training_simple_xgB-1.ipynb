{
 "cells": [
  {
   "cell_type": "markdown",
   "metadata": {
    "id": "g5_fZUzo02xP"
   },
   "source": [
    "# Friends Classification Text (xgB) - 1\n",
    "\n",
    "This is classification of dialogue in FRIENDS TV Series.\n",
    "\n",
    "<!-- https://stackoverflow.com/questions/61000500/tensorflow-keras-bert-multiclass-text-classification-accuracy -->"
   ]
  },
  {
   "cell_type": "code",
   "execution_count": 1,
   "metadata": {
    "colab": {
     "base_uri": "https://localhost:8080/"
    },
    "id": "03Lpsmju02xR",
    "outputId": "729cb2e1-2326-4654-da9e-3facd4921f7c"
   },
   "outputs": [],
   "source": [
    "import pandas as pd\n",
    "import re\n",
    "import numpy as np\n",
    "import time\n",
    "\n",
    "import os\n",
    "import pprint\n",
    "import tensorflow as tf\n",
    "\n",
    "import sys\n",
    "sys.path.insert(1, '../../src/all_functions/')\n",
    "\n",
    "from text_tools import *\n",
    "\n",
    "from sklearn.model_selection import train_test_split\n",
    "from sklearn.feature_extraction.text import TfidfVectorizer\n",
    "\n",
    "import matplotlib.pyplot as plt\n",
    "\n",
    "from sklearn.preprocessing import OneHotEncoder\n",
    "\n",
    "from sklearn.metrics import (classification_report,\n",
    "                             confusion_matrix,\n",
    "                             roc_auc_score)\n",
    "import seaborn as sns\n",
    "\n",
    "from xgboost import XGBClassifier\n",
    "from sklearn.inspection import permutation_importance\n",
    "from sklearn.model_selection import train_test_split\n",
    "from bayes_opt import BayesianOptimization\n",
    "import joblib\n",
    "from sklearn.model_selection import cross_validate\n",
    "from sklearn import metrics"
   ]
  },
  {
   "cell_type": "code",
   "execution_count": null,
   "metadata": {},
   "outputs": [],
   "source": []
  },
  {
   "cell_type": "code",
   "execution_count": 2,
   "metadata": {
    "id": "Nplks9aMi_aH"
   },
   "outputs": [],
   "source": [
    "# help(drive.mount)"
   ]
  },
  {
   "cell_type": "code",
   "execution_count": 3,
   "metadata": {
    "id": "Z6n6vof_02xV"
   },
   "outputs": [],
   "source": [
    "# PATH_DATA = 'gdrive/'\n",
    "PATH_DATA = '../../data/'"
   ]
  },
  {
   "cell_type": "code",
   "execution_count": null,
   "metadata": {
    "id": "uQwZJZB61Nwm"
   },
   "outputs": [],
   "source": []
  },
  {
   "cell_type": "markdown",
   "metadata": {
    "id": "0lMeZ84P02xb"
   },
   "source": [
    "## Importing Data"
   ]
  },
  {
   "cell_type": "code",
   "execution_count": 4,
   "metadata": {
    "id": "dHeMuViP02xb"
   },
   "outputs": [],
   "source": [
    "df_dlg_seen = pd.read_csv(PATH_DATA+'friends_seen_season_1.csv')\n",
    "df_dlg_unseen = pd.read_csv(PATH_DATA+'friends_unseen_season_1.csv')"
   ]
  },
  {
   "cell_type": "code",
   "execution_count": 5,
   "metadata": {},
   "outputs": [],
   "source": [
    "df_dlg_seen['text'] = df_dlg_seen['dialogue5']\n",
    "df_dlg_unseen['text'] = df_dlg_unseen['dialogue5']"
   ]
  },
  {
   "cell_type": "code",
   "execution_count": 6,
   "metadata": {},
   "outputs": [
    {
     "data": {
      "text/html": [
       "<div>\n",
       "<style scoped>\n",
       "    .dataframe tbody tr th:only-of-type {\n",
       "        vertical-align: middle;\n",
       "    }\n",
       "\n",
       "    .dataframe tbody tr th {\n",
       "        vertical-align: top;\n",
       "    }\n",
       "\n",
       "    .dataframe thead th {\n",
       "        text-align: right;\n",
       "    }\n",
       "</style>\n",
       "<table border=\"1\" class=\"dataframe\">\n",
       "  <thead>\n",
       "    <tr style=\"text-align: right;\">\n",
       "      <th></th>\n",
       "      <th>eps</th>\n",
       "      <th>dialogue_ids</th>\n",
       "      <th>scenes_places</th>\n",
       "      <th>label_place</th>\n",
       "      <th>label_str</th>\n",
       "      <th>label</th>\n",
       "      <th>season</th>\n",
       "      <th>dialogue</th>\n",
       "      <th>dialogue5</th>\n",
       "      <th>len_dialogue5</th>\n",
       "      <th>is_null2</th>\n",
       "      <th>ids</th>\n",
       "      <th>text</th>\n",
       "    </tr>\n",
       "  </thead>\n",
       "  <tbody>\n",
       "    <tr>\n",
       "      <th>0</th>\n",
       "      <td>0901</td>\n",
       "      <td>0</td>\n",
       "      <td>[rachel's room]</td>\n",
       "      <td>2</td>\n",
       "      <td>rachel</td>\n",
       "      <td>1</td>\n",
       "      <td>9</td>\n",
       "      <td>joey. (he turns to face rachel on one knee w...</td>\n",
       "      <td>joey</td>\n",
       "      <td>1</td>\n",
       "      <td>False</td>\n",
       "      <td>49643</td>\n",
       "      <td>joey</td>\n",
       "    </tr>\n",
       "    <tr>\n",
       "      <th>1</th>\n",
       "      <td>0901</td>\n",
       "      <td>1</td>\n",
       "      <td>[rachel's room]</td>\n",
       "      <td>2</td>\n",
       "      <td>rachel</td>\n",
       "      <td>1</td>\n",
       "      <td>9</td>\n",
       "      <td>(seeing the ring) oh my god. (pause) okay. (...</td>\n",
       "      <td>my god</td>\n",
       "      <td>2</td>\n",
       "      <td>False</td>\n",
       "      <td>49644</td>\n",
       "      <td>my god</td>\n",
       "    </tr>\n",
       "    <tr>\n",
       "      <th>2</th>\n",
       "      <td>0901</td>\n",
       "      <td>2</td>\n",
       "      <td>[rachel's room]</td>\n",
       "      <td>2</td>\n",
       "      <td>rachel</td>\n",
       "      <td>1</td>\n",
       "      <td>9</td>\n",
       "      <td>so uh...i guess we should...make it official...</td>\n",
       "      <td>so uh i guess we should make it official huh</td>\n",
       "      <td>10</td>\n",
       "      <td>False</td>\n",
       "      <td>49645</td>\n",
       "      <td>so uh i guess we should make it official huh</td>\n",
       "    </tr>\n",
       "    <tr>\n",
       "      <th>3</th>\n",
       "      <td>0901</td>\n",
       "      <td>3</td>\n",
       "      <td>[rachel's room]</td>\n",
       "      <td>2</td>\n",
       "      <td>joey</td>\n",
       "      <td>5</td>\n",
       "      <td>9</td>\n",
       "      <td>uh... look rach...(ross enters.) hey ross is...</td>\n",
       "      <td>uh look rach hey ross is here hey look it's my...</td>\n",
       "      <td>16</td>\n",
       "      <td>False</td>\n",
       "      <td>49646</td>\n",
       "      <td>uh look rach hey ross is here hey look it's my...</td>\n",
       "    </tr>\n",
       "    <tr>\n",
       "      <th>4</th>\n",
       "      <td>0901</td>\n",
       "      <td>4</td>\n",
       "      <td>[rachel's room]</td>\n",
       "      <td>2</td>\n",
       "      <td>ross</td>\n",
       "      <td>2</td>\n",
       "      <td>9</td>\n",
       "      <td>hey joey. (to rachel) hey you.</td>\n",
       "      <td>joey you</td>\n",
       "      <td>2</td>\n",
       "      <td>False</td>\n",
       "      <td>49647</td>\n",
       "      <td>joey you</td>\n",
       "    </tr>\n",
       "  </tbody>\n",
       "</table>\n",
       "</div>"
      ],
      "text/plain": [
       "    eps  dialogue_ids    scenes_places  label_place label_str  label  season  \\\n",
       "0  0901             0  [rachel's room]            2    rachel      1       9   \n",
       "1  0901             1  [rachel's room]            2    rachel      1       9   \n",
       "2  0901             2  [rachel's room]            2    rachel      1       9   \n",
       "3  0901             3  [rachel's room]            2      joey      5       9   \n",
       "4  0901             4  [rachel's room]            2      ross      2       9   \n",
       "\n",
       "                                            dialogue  \\\n",
       "0    joey. (he turns to face rachel on one knee w...   \n",
       "1    (seeing the ring) oh my god. (pause) okay. (...   \n",
       "2    so uh...i guess we should...make it official...   \n",
       "3    uh... look rach...(ross enters.) hey ross is...   \n",
       "4                     hey joey. (to rachel) hey you.   \n",
       "\n",
       "                                           dialogue5  len_dialogue5  is_null2  \\\n",
       "0                                               joey              1     False   \n",
       "1                                             my god              2     False   \n",
       "2       so uh i guess we should make it official huh             10     False   \n",
       "3  uh look rach hey ross is here hey look it's my...             16     False   \n",
       "4                                           joey you              2     False   \n",
       "\n",
       "     ids                                               text  \n",
       "0  49643                                               joey  \n",
       "1  49644                                             my god  \n",
       "2  49645       so uh i guess we should make it official huh  \n",
       "3  49646  uh look rach hey ross is here hey look it's my...  \n",
       "4  49647                                           joey you  "
      ]
     },
     "execution_count": 6,
     "metadata": {},
     "output_type": "execute_result"
    }
   ],
   "source": [
    "df_dlg_unseen.head()"
   ]
  },
  {
   "cell_type": "code",
   "execution_count": 7,
   "metadata": {
    "id": "y_VRmC1602xe"
   },
   "outputs": [],
   "source": [
    "data_train = df_dlg_seen[(df_dlg_seen.is_train == True)&(df_dlg_seen.label!=0)][['text','label']]\n",
    "data_train['label'] = data_train['label']-1\n",
    "data_test = df_dlg_seen[(df_dlg_seen.is_train == False)&(df_dlg_seen.label!=0)][['text','label']]\n",
    "data_test['label'] = data_test['label']-1\n",
    "data_unseen = df_dlg_unseen[(df_dlg_unseen.label!=0)][['text','label']]\n",
    "data_unseen['label'] = data_unseen['label']-1"
   ]
  },
  {
   "cell_type": "code",
   "execution_count": 8,
   "metadata": {
    "colab": {
     "base_uri": "https://localhost:8080/"
    },
    "id": "Tt421RVa02xh",
    "outputId": "03de5b03-ec4f-4f0f-8656-399e7cb20cf9"
   },
   "outputs": [
    {
     "data": {
      "text/plain": [
       "(28347, 2)"
      ]
     },
     "execution_count": 8,
     "metadata": {},
     "output_type": "execute_result"
    }
   ],
   "source": [
    "data_train.shape"
   ]
  },
  {
   "cell_type": "code",
   "execution_count": 9,
   "metadata": {
    "colab": {
     "base_uri": "https://localhost:8080/"
    },
    "id": "LnHpAS_J02xk",
    "outputId": "4ab46916-557f-4c8a-c7d8-e19ff5f1478c"
   },
   "outputs": [
    {
     "data": {
      "text/plain": [
       "(9437, 2)"
      ]
     },
     "execution_count": 9,
     "metadata": {},
     "output_type": "execute_result"
    }
   ],
   "source": [
    "data_test.shape"
   ]
  },
  {
   "cell_type": "code",
   "execution_count": 10,
   "metadata": {
    "colab": {
     "base_uri": "https://localhost:8080/"
    },
    "id": "u1kNu3H602xo",
    "outputId": "3233fad8-8882-47d7-ed3b-4d0807ed4c05"
   },
   "outputs": [
    {
     "data": {
      "text/plain": [
       "(9085, 2)"
      ]
     },
     "execution_count": 10,
     "metadata": {},
     "output_type": "execute_result"
    }
   ],
   "source": [
    "data_unseen.shape"
   ]
  },
  {
   "cell_type": "code",
   "execution_count": 11,
   "metadata": {
    "colab": {
     "base_uri": "https://localhost:8080/"
    },
    "id": "IWx_PNZHay70",
    "outputId": "b877f337-b9ed-4c6e-e07c-8c4d0e0d7428"
   },
   "outputs": [
    {
     "data": {
      "text/plain": [
       "1    0.179612\n",
       "0    0.177811\n",
       "3    0.167532\n",
       "2    0.166049\n",
       "4    0.160750\n",
       "5    0.148246\n",
       "Name: label, dtype: float64"
      ]
     },
     "execution_count": 11,
     "metadata": {},
     "output_type": "execute_result"
    }
   ],
   "source": [
    "XX = data_test.label.value_counts()\n",
    "XX/XX.sum()"
   ]
  },
  {
   "cell_type": "code",
   "execution_count": null,
   "metadata": {
    "id": "L1J6bjri02xr"
   },
   "outputs": [],
   "source": []
  },
  {
   "cell_type": "markdown",
   "metadata": {
    "id": "5KQGGRST02xu"
   },
   "source": [
    "## Tokenizer - TFIDF"
   ]
  },
  {
   "cell_type": "code",
   "execution_count": 12,
   "metadata": {},
   "outputs": [],
   "source": [
    "MAX_LEN = 100\n",
    "EMBED_SIZE = 128"
   ]
  },
  {
   "cell_type": "code",
   "execution_count": 13,
   "metadata": {},
   "outputs": [],
   "source": [
    "OH = OneHotEncoder()"
   ]
  },
  {
   "cell_type": "code",
   "execution_count": 14,
   "metadata": {},
   "outputs": [
    {
     "data": {
      "text/html": [
       "<div>\n",
       "<style scoped>\n",
       "    .dataframe tbody tr th:only-of-type {\n",
       "        vertical-align: middle;\n",
       "    }\n",
       "\n",
       "    .dataframe tbody tr th {\n",
       "        vertical-align: top;\n",
       "    }\n",
       "\n",
       "    .dataframe thead th {\n",
       "        text-align: right;\n",
       "    }\n",
       "</style>\n",
       "<table border=\"1\" class=\"dataframe\">\n",
       "  <thead>\n",
       "    <tr style=\"text-align: right;\">\n",
       "      <th></th>\n",
       "      <th>text</th>\n",
       "      <th>label</th>\n",
       "    </tr>\n",
       "  </thead>\n",
       "  <tbody>\n",
       "    <tr>\n",
       "      <th>0</th>\n",
       "      <td>there's nothing to tell he's just some guy i w...</td>\n",
       "      <td>2</td>\n",
       "    </tr>\n",
       "    <tr>\n",
       "      <th>2</th>\n",
       "      <td>all right joey be nice so does he have a hump ...</td>\n",
       "      <td>3</td>\n",
       "    </tr>\n",
       "    <tr>\n",
       "      <th>4</th>\n",
       "      <td>just because i don't want her to go through wh...</td>\n",
       "      <td>5</td>\n",
       "    </tr>\n",
       "    <tr>\n",
       "      <th>5</th>\n",
       "      <td>okay everybody relax this is not even a date i...</td>\n",
       "      <td>2</td>\n",
       "    </tr>\n",
       "    <tr>\n",
       "      <th>6</th>\n",
       "      <td>sounds like a date to me</td>\n",
       "      <td>3</td>\n",
       "    </tr>\n",
       "  </tbody>\n",
       "</table>\n",
       "</div>"
      ],
      "text/plain": [
       "                                                text  label\n",
       "0  there's nothing to tell he's just some guy i w...      2\n",
       "2  all right joey be nice so does he have a hump ...      3\n",
       "4  just because i don't want her to go through wh...      5\n",
       "5  okay everybody relax this is not even a date i...      2\n",
       "6                           sounds like a date to me      3"
      ]
     },
     "execution_count": 14,
     "metadata": {},
     "output_type": "execute_result"
    }
   ],
   "source": [
    "data_train.head()"
   ]
  },
  {
   "cell_type": "code",
   "execution_count": 15,
   "metadata": {},
   "outputs": [
    {
     "data": {
      "text/html": [
       "<div>\n",
       "<style scoped>\n",
       "    .dataframe tbody tr th:only-of-type {\n",
       "        vertical-align: middle;\n",
       "    }\n",
       "\n",
       "    .dataframe tbody tr th {\n",
       "        vertical-align: top;\n",
       "    }\n",
       "\n",
       "    .dataframe thead th {\n",
       "        text-align: right;\n",
       "    }\n",
       "</style>\n",
       "<table border=\"1\" class=\"dataframe\">\n",
       "  <thead>\n",
       "    <tr style=\"text-align: right;\">\n",
       "      <th></th>\n",
       "      <th>text</th>\n",
       "      <th>label</th>\n",
       "    </tr>\n",
       "  </thead>\n",
       "  <tbody>\n",
       "    <tr>\n",
       "      <th>1</th>\n",
       "      <td>c'mon you're going out with the guy there's go...</td>\n",
       "      <td>4</td>\n",
       "    </tr>\n",
       "    <tr>\n",
       "      <th>3</th>\n",
       "      <td>wait does he eat chalk</td>\n",
       "      <td>5</td>\n",
       "    </tr>\n",
       "    <tr>\n",
       "      <th>9</th>\n",
       "      <td>then i look down and i realize there's a phone...</td>\n",
       "      <td>3</td>\n",
       "    </tr>\n",
       "    <tr>\n",
       "      <th>11</th>\n",
       "      <td>that's</td>\n",
       "      <td>3</td>\n",
       "    </tr>\n",
       "    <tr>\n",
       "      <th>14</th>\n",
       "      <td>all of a sudden the phone starts to ring now i...</td>\n",
       "      <td>3</td>\n",
       "    </tr>\n",
       "  </tbody>\n",
       "</table>\n",
       "</div>"
      ],
      "text/plain": [
       "                                                 text  label\n",
       "1   c'mon you're going out with the guy there's go...      4\n",
       "3                              wait does he eat chalk      5\n",
       "9   then i look down and i realize there's a phone...      3\n",
       "11                                             that's      3\n",
       "14  all of a sudden the phone starts to ring now i...      3"
      ]
     },
     "execution_count": 15,
     "metadata": {},
     "output_type": "execute_result"
    }
   ],
   "source": [
    "data_test.head()"
   ]
  },
  {
   "cell_type": "code",
   "execution_count": 16,
   "metadata": {},
   "outputs": [
    {
     "data": {
      "text/html": [
       "<div>\n",
       "<style scoped>\n",
       "    .dataframe tbody tr th:only-of-type {\n",
       "        vertical-align: middle;\n",
       "    }\n",
       "\n",
       "    .dataframe tbody tr th {\n",
       "        vertical-align: top;\n",
       "    }\n",
       "\n",
       "    .dataframe thead th {\n",
       "        text-align: right;\n",
       "    }\n",
       "</style>\n",
       "<table border=\"1\" class=\"dataframe\">\n",
       "  <thead>\n",
       "    <tr style=\"text-align: right;\">\n",
       "      <th></th>\n",
       "      <th>eps</th>\n",
       "      <th>dialogue_ids</th>\n",
       "      <th>scenes_places</th>\n",
       "      <th>label_place</th>\n",
       "      <th>label_str</th>\n",
       "      <th>label</th>\n",
       "      <th>season</th>\n",
       "      <th>dialogue</th>\n",
       "      <th>dialogue5</th>\n",
       "      <th>len_dialogue5</th>\n",
       "      <th>is_null2</th>\n",
       "      <th>ids</th>\n",
       "      <th>text</th>\n",
       "    </tr>\n",
       "  </thead>\n",
       "  <tbody>\n",
       "    <tr>\n",
       "      <th>0</th>\n",
       "      <td>0901</td>\n",
       "      <td>0</td>\n",
       "      <td>[rachel's room]</td>\n",
       "      <td>2</td>\n",
       "      <td>rachel</td>\n",
       "      <td>1</td>\n",
       "      <td>9</td>\n",
       "      <td>joey. (he turns to face rachel on one knee w...</td>\n",
       "      <td>joey</td>\n",
       "      <td>1</td>\n",
       "      <td>False</td>\n",
       "      <td>49643</td>\n",
       "      <td>joey</td>\n",
       "    </tr>\n",
       "    <tr>\n",
       "      <th>1</th>\n",
       "      <td>0901</td>\n",
       "      <td>1</td>\n",
       "      <td>[rachel's room]</td>\n",
       "      <td>2</td>\n",
       "      <td>rachel</td>\n",
       "      <td>1</td>\n",
       "      <td>9</td>\n",
       "      <td>(seeing the ring) oh my god. (pause) okay. (...</td>\n",
       "      <td>my god</td>\n",
       "      <td>2</td>\n",
       "      <td>False</td>\n",
       "      <td>49644</td>\n",
       "      <td>my god</td>\n",
       "    </tr>\n",
       "    <tr>\n",
       "      <th>2</th>\n",
       "      <td>0901</td>\n",
       "      <td>2</td>\n",
       "      <td>[rachel's room]</td>\n",
       "      <td>2</td>\n",
       "      <td>rachel</td>\n",
       "      <td>1</td>\n",
       "      <td>9</td>\n",
       "      <td>so uh...i guess we should...make it official...</td>\n",
       "      <td>so uh i guess we should make it official huh</td>\n",
       "      <td>10</td>\n",
       "      <td>False</td>\n",
       "      <td>49645</td>\n",
       "      <td>so uh i guess we should make it official huh</td>\n",
       "    </tr>\n",
       "    <tr>\n",
       "      <th>3</th>\n",
       "      <td>0901</td>\n",
       "      <td>3</td>\n",
       "      <td>[rachel's room]</td>\n",
       "      <td>2</td>\n",
       "      <td>joey</td>\n",
       "      <td>5</td>\n",
       "      <td>9</td>\n",
       "      <td>uh... look rach...(ross enters.) hey ross is...</td>\n",
       "      <td>uh look rach hey ross is here hey look it's my...</td>\n",
       "      <td>16</td>\n",
       "      <td>False</td>\n",
       "      <td>49646</td>\n",
       "      <td>uh look rach hey ross is here hey look it's my...</td>\n",
       "    </tr>\n",
       "    <tr>\n",
       "      <th>4</th>\n",
       "      <td>0901</td>\n",
       "      <td>4</td>\n",
       "      <td>[rachel's room]</td>\n",
       "      <td>2</td>\n",
       "      <td>ross</td>\n",
       "      <td>2</td>\n",
       "      <td>9</td>\n",
       "      <td>hey joey. (to rachel) hey you.</td>\n",
       "      <td>joey you</td>\n",
       "      <td>2</td>\n",
       "      <td>False</td>\n",
       "      <td>49647</td>\n",
       "      <td>joey you</td>\n",
       "    </tr>\n",
       "  </tbody>\n",
       "</table>\n",
       "</div>"
      ],
      "text/plain": [
       "    eps  dialogue_ids    scenes_places  label_place label_str  label  season  \\\n",
       "0  0901             0  [rachel's room]            2    rachel      1       9   \n",
       "1  0901             1  [rachel's room]            2    rachel      1       9   \n",
       "2  0901             2  [rachel's room]            2    rachel      1       9   \n",
       "3  0901             3  [rachel's room]            2      joey      5       9   \n",
       "4  0901             4  [rachel's room]            2      ross      2       9   \n",
       "\n",
       "                                            dialogue  \\\n",
       "0    joey. (he turns to face rachel on one knee w...   \n",
       "1    (seeing the ring) oh my god. (pause) okay. (...   \n",
       "2    so uh...i guess we should...make it official...   \n",
       "3    uh... look rach...(ross enters.) hey ross is...   \n",
       "4                     hey joey. (to rachel) hey you.   \n",
       "\n",
       "                                           dialogue5  len_dialogue5  is_null2  \\\n",
       "0                                               joey              1     False   \n",
       "1                                             my god              2     False   \n",
       "2       so uh i guess we should make it official huh             10     False   \n",
       "3  uh look rach hey ross is here hey look it's my...             16     False   \n",
       "4                                           joey you              2     False   \n",
       "\n",
       "     ids                                               text  \n",
       "0  49643                                               joey  \n",
       "1  49644                                             my god  \n",
       "2  49645       so uh i guess we should make it official huh  \n",
       "3  49646  uh look rach hey ross is here hey look it's my...  \n",
       "4  49647                                           joey you  "
      ]
     },
     "execution_count": 16,
     "metadata": {},
     "output_type": "execute_result"
    }
   ],
   "source": [
    "df_dlg_unseen.head()"
   ]
  },
  {
   "cell_type": "code",
   "execution_count": 17,
   "metadata": {},
   "outputs": [
    {
     "data": {
      "text/plain": [
       "TfidfVectorizer(max_features=100, min_df=0.05)"
      ]
     },
     "execution_count": 17,
     "metadata": {},
     "output_type": "execute_result"
    }
   ],
   "source": [
    "corpus = data_train['text'].tolist()+data_test['text'].tolist()\n",
    "vectorizer = TfidfVectorizer(min_df = 0.05, max_features = MAX_LEN)\n",
    "vectorizer.fit(corpus)"
   ]
  },
  {
   "cell_type": "code",
   "execution_count": 18,
   "metadata": {},
   "outputs": [],
   "source": [
    "def get_input(df):\n",
    "    txt = df['text']\n",
    "    X = vectorizer.transform(txt)\n",
    "    label = df['label']\n",
    "    return X.toarray(),label.values"
   ]
  },
  {
   "cell_type": "code",
   "execution_count": 19,
   "metadata": {},
   "outputs": [],
   "source": [
    "# for txt,label in data_train.values:\n",
    "#     text_encode = encode(txt)\n",
    "#     text_encode = set_fix_length(text_encode,max_len = MAX_LEN)\n",
    "#     X_train.append(text_encode)\n",
    "#     label_train.append(label)\n",
    "    \n",
    "X_train,label_train = get_input(pd.concat([data_train,data_test]))\n",
    "X_unseen,label_unseen = get_input(data_unseen)"
   ]
  },
  {
   "cell_type": "code",
   "execution_count": 20,
   "metadata": {},
   "outputs": [
    {
     "data": {
      "text/plain": [
       "OneHotEncoder()"
      ]
     },
     "execution_count": 20,
     "metadata": {},
     "output_type": "execute_result"
    }
   ],
   "source": [
    "OH.fit(label_train.reshape(len(label_train),-1))"
   ]
  },
  {
   "cell_type": "code",
   "execution_count": 21,
   "metadata": {},
   "outputs": [],
   "source": [
    "y_train = OH.transform(label_train.reshape(len(label_train),-1)).toarray()\n",
    "# y_test = OH.transform(label_test.reshape(len(label_test),-1)).toarray()\n",
    "y_unseen = OH.transform(label_unseen.reshape(len(label_unseen),-1)).toarray()"
   ]
  },
  {
   "cell_type": "code",
   "execution_count": 22,
   "metadata": {
    "id": "5wougnTMpWxj"
   },
   "outputs": [
    {
     "data": {
      "text/plain": [
       "array([2, 3, 5, ..., 0, 4, 0])"
      ]
     },
     "execution_count": 22,
     "metadata": {},
     "output_type": "execute_result"
    }
   ],
   "source": [
    "label_train"
   ]
  },
  {
   "cell_type": "markdown",
   "metadata": {
    "id": "cYqyu2RK02x6"
   },
   "source": [
    "## Training Model"
   ]
  },
  {
   "cell_type": "code",
   "execution_count": 23,
   "metadata": {},
   "outputs": [],
   "source": [
    "def xgb_evaluate(max_depth,learning_rate,n_estimators,\n",
    "                 gamma, reg_alpha,reg_lambda,X=X_train,y=label_train):\n",
    "\n",
    "    md= int(max_depth)\n",
    "    lr= max(learning_rate,0)\n",
    "    ne= int(n_estimators)\n",
    "    gamma= max(gamma, 0) # 0\n",
    "    ra= max(reg_alpha, 0) # 0\n",
    "    rl= max(reg_lambda, 0) # 1\n",
    "    see= 123\n",
    "    \n",
    "    xgB=XGBClassifier(max_depth=md,learning_rate=lr,\n",
    "                 n_estimators=ne,gamma=gamma,reg_alpha=ra,\n",
    "                 reg_lambda=rl,seed=see, \n",
    "                 nthread=2,num_classes=6)\n",
    "    cv_results = cross_validate(xgB, X, y, cv=5, scoring='f1_macro', n_jobs= 2)\n",
    "    return cv_results['test_score'].mean()"
   ]
  },
  {
   "cell_type": "code",
   "execution_count": 24,
   "metadata": {},
   "outputs": [],
   "source": [
    "xgbBO = BayesianOptimization(xgb_evaluate, \n",
    "                {'max_depth': (10,15),'learning_rate': (0.1, 0.35),\n",
    "                    'n_estimators': (10,17),'gamma': (1, 3.5),'reg_alpha': (1, 2),\n",
    "                    'reg_lambda': (1, 2)})"
   ]
  },
  {
   "cell_type": "code",
   "execution_count": 25,
   "metadata": {},
   "outputs": [
    {
     "name": "stdout",
     "output_type": "stream",
     "text": [
      "|   iter    |  target   |   gamma   | learni... | max_depth | n_esti... | reg_alpha | reg_la... |\n",
      "-------------------------------------------------------------------------------------------------\n",
      "| \u001b[0m 1       \u001b[0m | \u001b[0m 0.1992  \u001b[0m | \u001b[0m 3.126   \u001b[0m | \u001b[0m 0.2675  \u001b[0m | \u001b[0m 14.25   \u001b[0m | \u001b[0m 15.53   \u001b[0m | \u001b[0m 1.485   \u001b[0m | \u001b[0m 1.847   \u001b[0m |\n",
      "| \u001b[0m 2       \u001b[0m | \u001b[0m 0.1971  \u001b[0m | \u001b[0m 1.643   \u001b[0m | \u001b[0m 0.1415  \u001b[0m | \u001b[0m 11.03   \u001b[0m | \u001b[0m 14.69   \u001b[0m | \u001b[0m 1.599   \u001b[0m | \u001b[0m 1.684   \u001b[0m |\n",
      "| \u001b[0m 3       \u001b[0m | \u001b[0m 0.1978  \u001b[0m | \u001b[0m 3.474   \u001b[0m | \u001b[0m 0.2603  \u001b[0m | \u001b[0m 10.18   \u001b[0m | \u001b[0m 15.42   \u001b[0m | \u001b[0m 1.006   \u001b[0m | \u001b[0m 1.773   \u001b[0m |\n",
      "| \u001b[0m 4       \u001b[0m | \u001b[0m 0.1964  \u001b[0m | \u001b[0m 3.121   \u001b[0m | \u001b[0m 0.1649  \u001b[0m | \u001b[0m 10.11   \u001b[0m | \u001b[0m 13.3    \u001b[0m | \u001b[0m 1.354   \u001b[0m | \u001b[0m 1.487   \u001b[0m |\n",
      "| \u001b[95m 5       \u001b[0m | \u001b[95m 0.1994  \u001b[0m | \u001b[95m 2.486   \u001b[0m | \u001b[95m 0.2882  \u001b[0m | \u001b[95m 14.43   \u001b[0m | \u001b[95m 15.48   \u001b[0m | \u001b[95m 1.648   \u001b[0m | \u001b[95m 1.916   \u001b[0m |\n",
      "| \u001b[0m 6       \u001b[0m | \u001b[0m 0.1976  \u001b[0m | \u001b[0m 3.329   \u001b[0m | \u001b[0m 0.2968  \u001b[0m | \u001b[0m 13.5    \u001b[0m | \u001b[0m 12.95   \u001b[0m | \u001b[0m 1.856   \u001b[0m | \u001b[0m 1.102   \u001b[0m |\n",
      "| \u001b[0m 7       \u001b[0m | \u001b[0m 0.1974  \u001b[0m | \u001b[0m 2.922   \u001b[0m | \u001b[0m 0.1496  \u001b[0m | \u001b[0m 12.62   \u001b[0m | \u001b[0m 13.05   \u001b[0m | \u001b[0m 1.193   \u001b[0m | \u001b[0m 1.245   \u001b[0m |\n",
      "| \u001b[0m 8       \u001b[0m | \u001b[0m 0.199   \u001b[0m | \u001b[0m 2.228   \u001b[0m | \u001b[0m 0.3096  \u001b[0m | \u001b[0m 14.51   \u001b[0m | \u001b[0m 13.21   \u001b[0m | \u001b[0m 1.27    \u001b[0m | \u001b[0m 1.209   \u001b[0m |\n",
      "| \u001b[0m 9       \u001b[0m | \u001b[0m 0.196   \u001b[0m | \u001b[0m 2.819   \u001b[0m | \u001b[0m 0.1094  \u001b[0m | \u001b[0m 10.82   \u001b[0m | \u001b[0m 13.92   \u001b[0m | \u001b[0m 1.543   \u001b[0m | \u001b[0m 1.156   \u001b[0m |\n",
      "| \u001b[0m 10      \u001b[0m | \u001b[0m 0.1962  \u001b[0m | \u001b[0m 1.142   \u001b[0m | \u001b[0m 0.1405  \u001b[0m | \u001b[0m 10.31   \u001b[0m | \u001b[0m 11.7    \u001b[0m | \u001b[0m 1.875   \u001b[0m | \u001b[0m 1.204   \u001b[0m |\n",
      "| \u001b[0m 11      \u001b[0m | \u001b[0m 0.197   \u001b[0m | \u001b[0m 1.0     \u001b[0m | \u001b[0m 0.35    \u001b[0m | \u001b[0m 15.0    \u001b[0m | \u001b[0m 17.0    \u001b[0m | \u001b[0m 1.0     \u001b[0m | \u001b[0m 1.0     \u001b[0m |\n",
      "| \u001b[0m 12      \u001b[0m | \u001b[0m 0.1972  \u001b[0m | \u001b[0m 2.627   \u001b[0m | \u001b[0m 0.1     \u001b[0m | \u001b[0m 15.0    \u001b[0m | \u001b[0m 14.4    \u001b[0m | \u001b[0m 1.0     \u001b[0m | \u001b[0m 2.0     \u001b[0m |\n",
      "| \u001b[95m 13      \u001b[0m | \u001b[95m 0.2005  \u001b[0m | \u001b[95m 2.496   \u001b[0m | \u001b[95m 0.35    \u001b[0m | \u001b[95m 13.66   \u001b[0m | \u001b[95m 15.74   \u001b[0m | \u001b[95m 2.0     \u001b[0m | \u001b[95m 1.595   \u001b[0m |\n",
      "| \u001b[95m 14      \u001b[0m | \u001b[95m 0.2008  \u001b[0m | \u001b[95m 2.695   \u001b[0m | \u001b[95m 0.35    \u001b[0m | \u001b[95m 13.34   \u001b[0m | \u001b[95m 16.78   \u001b[0m | \u001b[95m 2.0     \u001b[0m | \u001b[95m 2.0     \u001b[0m |\n",
      "| \u001b[0m 15      \u001b[0m | \u001b[0m 0.2005  \u001b[0m | \u001b[0m 3.5     \u001b[0m | \u001b[0m 0.35    \u001b[0m | \u001b[0m 12.79   \u001b[0m | \u001b[0m 17.0    \u001b[0m | \u001b[0m 2.0     \u001b[0m | \u001b[0m 1.0     \u001b[0m |\n",
      "=================================================================================================\n"
     ]
    }
   ],
   "source": [
    "xgbBO.maximize(init_points=10, n_iter=5)"
   ]
  },
  {
   "cell_type": "code",
   "execution_count": 26,
   "metadata": {},
   "outputs": [],
   "source": [
    "# |  18       |  0.2054   |  1.885    |  0.1672   |  14.55    |  10.49    |  2.814    |  0.9857   |\n",
    "# |  2        |  0.2009   |  1.003    |  0.3106   |  12.55    |  16.46    |  0.9007   |  0.8912   |\n",
    "\n",
    "# |  14       |  0.2011   |  2.0      |  0.3239   |  14.11    |  15.53    |  1.5      |  1.57     |"
   ]
  },
  {
   "cell_type": "code",
   "execution_count": null,
   "metadata": {},
   "outputs": [],
   "source": []
  },
  {
   "cell_type": "code",
   "execution_count": 27,
   "metadata": {},
   "outputs": [
    {
     "data": {
      "text/plain": [
       "{'gamma': 2.694825338975148,\n",
       " 'learning_rate': 0.35,\n",
       " 'max_depth': 13.342879009768374,\n",
       " 'n_estimators': 16.778136859953854,\n",
       " 'reg_alpha': 2.0,\n",
       " 'reg_lambda': 2.0}"
      ]
     },
     "execution_count": 27,
     "metadata": {},
     "output_type": "execute_result"
    }
   ],
   "source": [
    "par = xgbBO.max['params']\n",
    "par"
   ]
  },
  {
   "cell_type": "code",
   "execution_count": 28,
   "metadata": {},
   "outputs": [],
   "source": [
    "par['max_depth'] = int(par['max_depth'])\n",
    "par['n_estimators'] = int(par['n_estimators'])"
   ]
  },
  {
   "cell_type": "code",
   "execution_count": 29,
   "metadata": {},
   "outputs": [
    {
     "name": "stderr",
     "output_type": "stream",
     "text": [
      "/Users/alamhanz/anaconda/envs/p37/lib/python3.7/site-packages/xgboost/sklearn.py:888: UserWarning: The use of label encoder in XGBClassifier is deprecated and will be removed in a future release. To remove this warning, do the following: 1) Pass option use_label_encoder=False when constructing XGBClassifier object; and 2) Encode your labels (y) as integers starting with 0, i.e. 0, 1, 2, ..., [num_class - 1].\n",
      "  warnings.warn(label_encoder_deprecation_msg, UserWarning)\n"
     ]
    },
    {
     "name": "stdout",
     "output_type": "stream",
     "text": [
      "[21:01:06] WARNING: /Users/travis/build/dmlc/xgboost/src/learner.cc:1061: Starting in XGBoost 1.3.0, the default evaluation metric used with the objective 'multi:softprob' was changed from 'merror' to 'mlogloss'. Explicitly set eval_metric if you'd like to restore the old behavior.\n"
     ]
    },
    {
     "data": {
      "text/plain": [
       "XGBClassifier(base_score=0.5, booster='gbtree', colsample_bylevel=1,\n",
       "              colsample_bynode=1, colsample_bytree=1, gamma=2.694825338975148,\n",
       "              gpu_id=-1, importance_type='gain', interaction_constraints='',\n",
       "              learning_rate=0.35, max_delta_step=0, max_depth=13,\n",
       "              min_child_weight=1, missing=nan, monotone_constraints='()',\n",
       "              n_estimators=16, n_jobs=4, num_parallel_tree=1,\n",
       "              objective='multi:softprob', random_state=0, reg_alpha=2.0,\n",
       "              reg_lambda=2.0, scale_pos_weight=None, subsample=1,\n",
       "              tree_method='exact', validate_parameters=1, verbosity=None)"
      ]
     },
     "execution_count": 29,
     "metadata": {},
     "output_type": "execute_result"
    }
   ],
   "source": [
    "xgB0=XGBClassifier(**par)\n",
    "xgB0.fit(X_train,label_train)"
   ]
  },
  {
   "cell_type": "code",
   "execution_count": null,
   "metadata": {},
   "outputs": [],
   "source": []
  },
  {
   "cell_type": "markdown",
   "metadata": {
    "id": "1J-Okj2NVbJT"
   },
   "source": [
    "## Testing"
   ]
  },
  {
   "cell_type": "code",
   "execution_count": 30,
   "metadata": {},
   "outputs": [
    {
     "data": {
      "text/html": [
       "<div>\n",
       "<style scoped>\n",
       "    .dataframe tbody tr th:only-of-type {\n",
       "        vertical-align: middle;\n",
       "    }\n",
       "\n",
       "    .dataframe tbody tr th {\n",
       "        vertical-align: top;\n",
       "    }\n",
       "\n",
       "    .dataframe thead th {\n",
       "        text-align: right;\n",
       "    }\n",
       "</style>\n",
       "<table border=\"1\" class=\"dataframe\">\n",
       "  <thead>\n",
       "    <tr style=\"text-align: right;\">\n",
       "      <th></th>\n",
       "      <th>text</th>\n",
       "      <th>label</th>\n",
       "    </tr>\n",
       "  </thead>\n",
       "  <tbody>\n",
       "    <tr>\n",
       "      <th>0</th>\n",
       "      <td>joey</td>\n",
       "      <td>0</td>\n",
       "    </tr>\n",
       "    <tr>\n",
       "      <th>1</th>\n",
       "      <td>my god</td>\n",
       "      <td>0</td>\n",
       "    </tr>\n",
       "    <tr>\n",
       "      <th>2</th>\n",
       "      <td>so uh i guess we should make it official huh</td>\n",
       "      <td>0</td>\n",
       "    </tr>\n",
       "    <tr>\n",
       "      <th>3</th>\n",
       "      <td>uh look rach hey ross is here hey look it's my...</td>\n",
       "      <td>4</td>\n",
       "    </tr>\n",
       "    <tr>\n",
       "      <th>4</th>\n",
       "      <td>joey you</td>\n",
       "      <td>1</td>\n",
       "    </tr>\n",
       "    <tr>\n",
       "      <th>...</th>\n",
       "      <td>...</td>\n",
       "      <td>...</td>\n",
       "    </tr>\n",
       "    <tr>\n",
       "      <th>11030</th>\n",
       "      <td>oh it's gonna be okay</td>\n",
       "      <td>3</td>\n",
       "    </tr>\n",
       "    <tr>\n",
       "      <th>11031</th>\n",
       "      <td>do you guys have to go to the new house right ...</td>\n",
       "      <td>0</td>\n",
       "    </tr>\n",
       "    <tr>\n",
       "      <th>11032</th>\n",
       "      <td>we got some time</td>\n",
       "      <td>2</td>\n",
       "    </tr>\n",
       "    <tr>\n",
       "      <th>11033</th>\n",
       "      <td>okay should we get some coffee</td>\n",
       "      <td>0</td>\n",
       "    </tr>\n",
       "    <tr>\n",
       "      <th>11034</th>\n",
       "      <td>where the end</td>\n",
       "      <td>3</td>\n",
       "    </tr>\n",
       "  </tbody>\n",
       "</table>\n",
       "<p>9085 rows × 2 columns</p>\n",
       "</div>"
      ],
      "text/plain": [
       "                                                    text  label\n",
       "0                                                   joey      0\n",
       "1                                                 my god      0\n",
       "2           so uh i guess we should make it official huh      0\n",
       "3      uh look rach hey ross is here hey look it's my...      4\n",
       "4                                               joey you      1\n",
       "...                                                  ...    ...\n",
       "11030                              oh it's gonna be okay      3\n",
       "11031  do you guys have to go to the new house right ...      0\n",
       "11032                                   we got some time      2\n",
       "11033                     okay should we get some coffee      0\n",
       "11034                                      where the end      3\n",
       "\n",
       "[9085 rows x 2 columns]"
      ]
     },
     "execution_count": 30,
     "metadata": {},
     "output_type": "execute_result"
    }
   ],
   "source": [
    "data_unseen"
   ]
  },
  {
   "cell_type": "code",
   "execution_count": 31,
   "metadata": {},
   "outputs": [],
   "source": [
    "y_pred_label = xgB0.predict(X_unseen)\n",
    "# y_pred_label = np.argmax(y_pred,axis = 1)\n",
    "y_true_label = data_unseen['label'].values"
   ]
  },
  {
   "cell_type": "code",
   "execution_count": null,
   "metadata": {},
   "outputs": [],
   "source": []
  },
  {
   "cell_type": "code",
   "execution_count": 32,
   "metadata": {
    "id": "r0bgWgl6cJQj"
   },
   "outputs": [
    {
     "name": "stdout",
     "output_type": "stream",
     "text": [
      "              precision    recall  f1-score   support\n",
      "\n",
      "           0       0.24      0.28      0.26      1545\n",
      "           1       0.18      0.29      0.23      1649\n",
      "           2       0.21      0.25      0.23      1487\n",
      "           3       0.21      0.18      0.19      1521\n",
      "           4       0.22      0.12      0.16      1491\n",
      "           5       0.20      0.10      0.13      1392\n",
      "\n",
      "    accuracy                           0.21      9085\n",
      "   macro avg       0.21      0.20      0.20      9085\n",
      "weighted avg       0.21      0.21      0.20      9085\n",
      "\n"
     ]
    },
    {
     "data": {
      "image/png": "[encoded data removed]",
      "text/plain": [
       "<Figure size 576x576 with 2 Axes>"
      ]
     },
     "metadata": {
      "needs_background": "light"
     },
     "output_type": "display_data"
    }
   ],
   "source": [
    "report = classification_report(y_true_label, y_pred_label)\n",
    "print(report)\n",
    "\n",
    "\n",
    "def plot_cm(labels, predictions, p=0.5):\n",
    "#     cm = confusion_matrix(labels, predictions)\n",
    "#     plt.figure(figsize=(5, 5))\n",
    "#     sns.heatmap(cm, annot=True, fmt=\"d\")\n",
    "    cm = confusion_matrix(labels, predictions)\n",
    "    cm = (cm.transpose()/cm.sum(axis = 1)).transpose()\n",
    "    plt.figure(figsize=(8, 8))\n",
    "    sns.heatmap(cm, annot=True, fmt=\".2%\")\n",
    "    plt.title(\"Confusion matrix (non-normalized))\")\n",
    "    plt.ylabel(\"Actual label\")\n",
    "    plt.xlabel(\"Predicted label\")\n",
    "\n",
    "\n",
    "plot_cm(y_true_label, y_pred_label)"
   ]
  },
  {
   "cell_type": "code",
   "execution_count": null,
   "metadata": {},
   "outputs": [],
   "source": []
  }
 ],
 "metadata": {
  "accelerator": "TPU",
  "colab": {
   "collapsed_sections": [],
   "name": "20200803_training_bert_TPU.ipynb",
   "provenance": []
  },
  "kernelspec": {
   "display_name": "p37",
   "language": "python",
   "name": "p37"
  },
  "language_info": {
   "codemirror_mode": {
    "name": "ipython",
    "version": 3
   },
   "file_extension": ".py",
   "mimetype": "text/x-python",
   "name": "python",
   "nbconvert_exporter": "python",
   "pygments_lexer": "ipython3",
   "version": "3.7.9"
  }
 },
 "nbformat": 4,
 "nbformat_minor": 4
}
