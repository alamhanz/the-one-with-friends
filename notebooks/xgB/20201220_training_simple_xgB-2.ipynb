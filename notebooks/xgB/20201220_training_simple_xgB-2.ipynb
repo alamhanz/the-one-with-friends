{
 "cells": [
  {
   "cell_type": "markdown",
   "metadata": {
    "id": "g5_fZUzo02xP"
   },
   "source": [
    "# Friends Classification Text (xgB) - 2\n",
    "\n",
    "This is classification of dialogue in FRIENDS TV Series.\n",
    "\n",
    "<!-- https://stackoverflow.com/questions/61000500/tensorflow-keras-bert-multiclass-text-classification-accuracy -->"
   ]
  },
  {
   "cell_type": "code",
   "execution_count": 3,
   "metadata": {
    "colab": {
     "base_uri": "https://localhost:8080/"
    },
    "id": "03Lpsmju02xR",
    "outputId": "729cb2e1-2326-4654-da9e-3facd4921f7c"
   },
   "outputs": [],
   "source": [
    "import pandas as pd\n",
    "import re\n",
    "import numpy as np\n",
    "import time\n",
    "\n",
    "import os\n",
    "import pprint\n",
    "import tensorflow as tf\n",
    "\n",
    "import sys\n",
    "sys.path.insert(1, '../../src/all_functions/')\n",
    "\n",
    "from text_tools import *\n",
    "\n",
    "from sklearn.model_selection import train_test_split\n",
    "from sklearn.feature_extraction.text import TfidfVectorizer\n",
    "\n",
    "import matplotlib.pyplot as plt\n",
    "\n",
    "from sklearn.preprocessing import OneHotEncoder\n",
    "\n",
    "from sklearn.metrics import (classification_report,\n",
    "                             confusion_matrix,\n",
    "                             roc_auc_score)\n",
    "import seaborn as sns\n",
    "\n",
    "from xgboost import XGBClassifier\n",
    "from sklearn.inspection import permutation_importance\n",
    "from sklearn.model_selection import train_test_split\n",
    "from bayes_opt import BayesianOptimization\n",
    "import joblib\n",
    "from sklearn.model_selection import cross_validate\n",
    "from sklearn import metrics"
   ]
  },
  {
   "cell_type": "code",
   "execution_count": null,
   "metadata": {},
   "outputs": [],
   "source": []
  },
  {
   "cell_type": "code",
   "execution_count": 4,
   "metadata": {
    "id": "Nplks9aMi_aH"
   },
   "outputs": [],
   "source": [
    "# help(drive.mount)"
   ]
  },
  {
   "cell_type": "code",
   "execution_count": 5,
   "metadata": {
    "id": "Z6n6vof_02xV"
   },
   "outputs": [],
   "source": [
    "# PATH_DATA = 'gdrive/'\n",
    "PATH_DATA = '../../data/'"
   ]
  },
  {
   "cell_type": "code",
   "execution_count": null,
   "metadata": {
    "id": "uQwZJZB61Nwm"
   },
   "outputs": [],
   "source": []
  },
  {
   "cell_type": "markdown",
   "metadata": {
    "id": "0lMeZ84P02xb"
   },
   "source": [
    "## Importing Data"
   ]
  },
  {
   "cell_type": "code",
   "execution_count": 14,
   "metadata": {
    "id": "dHeMuViP02xb"
   },
   "outputs": [
    {
     "name": "stderr",
     "output_type": "stream",
     "text": [
      "/Users/alamhanz/anaconda/envs/p37/lib/python3.7/site-packages/IPython/core/interactiveshell.py:3146: DtypeWarning: Columns (0) have mixed types.Specify dtype option on import or set low_memory=False.\n",
      "  interactivity=interactivity, compiler=compiler, result=result)\n"
     ]
    }
   ],
   "source": [
    "df_dlg_seen = pd.read_csv(PATH_DATA+'friends_seen_season2_2.csv')\n",
    "df_dlg_unseen = pd.read_csv(PATH_DATA+'friends_unseen_season2_2.csv')"
   ]
  },
  {
   "cell_type": "code",
   "execution_count": 15,
   "metadata": {
    "id": "y_VRmC1602xe"
   },
   "outputs": [],
   "source": [
    "data_train = df_dlg_seen[(df_dlg_seen.is_train == True)&(df_dlg_seen.label!=0)][['text1','text2','label']]\n",
    "data_train['label'] = data_train['label']-1\n",
    "data_train = data_train[~(data_train.text1.isnull())]\n",
    "\n",
    "data_test = df_dlg_seen[(df_dlg_seen.is_train == False)&(df_dlg_seen.label!=0)][['text1','text2','label']]\n",
    "data_test['label'] = data_test['label']-1\n",
    "data_test = data_test[~(data_test.text1.isnull())]\n",
    "\n",
    "data_unseen = df_dlg_unseen[(df_dlg_unseen.label!=0)][['text1','text2','label']]\n",
    "data_unseen['label'] = data_unseen['label']-1\n",
    "data_unseen = data_unseen[~(data_unseen.text1.isnull())]"
   ]
  },
  {
   "cell_type": "code",
   "execution_count": 16,
   "metadata": {
    "colab": {
     "base_uri": "https://localhost:8080/"
    },
    "id": "Tt421RVa02xh",
    "outputId": "03de5b03-ec4f-4f0f-8656-399e7cb20cf9"
   },
   "outputs": [
    {
     "data": {
      "text/plain": [
       "(25981, 3)"
      ]
     },
     "execution_count": 16,
     "metadata": {},
     "output_type": "execute_result"
    }
   ],
   "source": [
    "data_train.shape"
   ]
  },
  {
   "cell_type": "code",
   "execution_count": 17,
   "metadata": {
    "colab": {
     "base_uri": "https://localhost:8080/"
    },
    "id": "LnHpAS_J02xk",
    "outputId": "4ab46916-557f-4c8a-c7d8-e19ff5f1478c"
   },
   "outputs": [
    {
     "data": {
      "text/plain": [
       "(8593, 3)"
      ]
     },
     "execution_count": 17,
     "metadata": {},
     "output_type": "execute_result"
    }
   ],
   "source": [
    "data_test.shape"
   ]
  },
  {
   "cell_type": "code",
   "execution_count": 18,
   "metadata": {
    "colab": {
     "base_uri": "https://localhost:8080/"
    },
    "id": "u1kNu3H602xo",
    "outputId": "3233fad8-8882-47d7-ed3b-4d0807ed4c05"
   },
   "outputs": [
    {
     "data": {
      "text/plain": [
       "(8305, 3)"
      ]
     },
     "execution_count": 18,
     "metadata": {},
     "output_type": "execute_result"
    }
   ],
   "source": [
    "data_unseen.shape"
   ]
  },
  {
   "cell_type": "code",
   "execution_count": 19,
   "metadata": {
    "colab": {
     "base_uri": "https://localhost:8080/"
    },
    "id": "IWx_PNZHay70",
    "outputId": "b877f337-b9ed-4c6e-e07c-8c4d0e0d7428"
   },
   "outputs": [
    {
     "data": {
      "text/plain": [
       "1    0.178867\n",
       "0    0.177470\n",
       "3    0.167811\n",
       "2    0.167229\n",
       "4    0.160014\n",
       "5    0.148609\n",
       "Name: label, dtype: float64"
      ]
     },
     "execution_count": 19,
     "metadata": {},
     "output_type": "execute_result"
    }
   ],
   "source": [
    "XX = data_test.label.value_counts()\n",
    "XX/XX.sum()"
   ]
  },
  {
   "cell_type": "code",
   "execution_count": null,
   "metadata": {
    "id": "L1J6bjri02xr"
   },
   "outputs": [],
   "source": []
  },
  {
   "cell_type": "markdown",
   "metadata": {
    "id": "5KQGGRST02xu"
   },
   "source": [
    "## Tokenizer - TFIDF"
   ]
  },
  {
   "cell_type": "code",
   "execution_count": 20,
   "metadata": {},
   "outputs": [],
   "source": [
    "MAX_LEN = 50\n",
    "EMBED_SIZE = 128"
   ]
  },
  {
   "cell_type": "code",
   "execution_count": 21,
   "metadata": {},
   "outputs": [],
   "source": [
    "OH = OneHotEncoder()"
   ]
  },
  {
   "cell_type": "code",
   "execution_count": 22,
   "metadata": {},
   "outputs": [
    {
     "data": {
      "text/html": [
       "<div>\n",
       "<style scoped>\n",
       "    .dataframe tbody tr th:only-of-type {\n",
       "        vertical-align: middle;\n",
       "    }\n",
       "\n",
       "    .dataframe tbody tr th {\n",
       "        vertical-align: top;\n",
       "    }\n",
       "\n",
       "    .dataframe thead th {\n",
       "        text-align: right;\n",
       "    }\n",
       "</style>\n",
       "<table border=\"1\" class=\"dataframe\">\n",
       "  <thead>\n",
       "    <tr style=\"text-align: right;\">\n",
       "      <th></th>\n",
       "      <th>text1</th>\n",
       "      <th>text2</th>\n",
       "      <th>label</th>\n",
       "    </tr>\n",
       "  </thead>\n",
       "  <tbody>\n",
       "    <tr>\n",
       "      <th>1</th>\n",
       "      <td>c'mon you're going out with the guy there's go...</td>\n",
       "      <td>all right joey be nice so does he have a hump ...</td>\n",
       "      <td>3</td>\n",
       "    </tr>\n",
       "    <tr>\n",
       "      <th>3</th>\n",
       "      <td>just because i don't want her to go through wh...</td>\n",
       "      <td>okay everybody relax this is not even a date i...</td>\n",
       "      <td>2</td>\n",
       "    </tr>\n",
       "    <tr>\n",
       "      <th>4</th>\n",
       "      <td>okay everybody relax this is not even a date i...</td>\n",
       "      <td>sounds like a date to me</td>\n",
       "      <td>3</td>\n",
       "    </tr>\n",
       "    <tr>\n",
       "      <th>7</th>\n",
       "      <td>then i look down and i realize there's a phone...</td>\n",
       "      <td>instead of</td>\n",
       "      <td>4</td>\n",
       "    </tr>\n",
       "    <tr>\n",
       "      <th>9</th>\n",
       "      <td>that's</td>\n",
       "      <td>never had that dream</td>\n",
       "      <td>4</td>\n",
       "    </tr>\n",
       "  </tbody>\n",
       "</table>\n",
       "</div>"
      ],
      "text/plain": [
       "                                               text1  \\\n",
       "1  c'mon you're going out with the guy there's go...   \n",
       "3  just because i don't want her to go through wh...   \n",
       "4  okay everybody relax this is not even a date i...   \n",
       "7  then i look down and i realize there's a phone...   \n",
       "9                                             that's   \n",
       "\n",
       "                                               text2  label  \n",
       "1  all right joey be nice so does he have a hump ...      3  \n",
       "3  okay everybody relax this is not even a date i...      2  \n",
       "4                           sounds like a date to me      3  \n",
       "7                                         instead of      4  \n",
       "9                               never had that dream      4  "
      ]
     },
     "execution_count": 22,
     "metadata": {},
     "output_type": "execute_result"
    }
   ],
   "source": [
    "data_train.head()"
   ]
  },
  {
   "cell_type": "code",
   "execution_count": 23,
   "metadata": {},
   "outputs": [
    {
     "data": {
      "text/html": [
       "<div>\n",
       "<style scoped>\n",
       "    .dataframe tbody tr th:only-of-type {\n",
       "        vertical-align: middle;\n",
       "    }\n",
       "\n",
       "    .dataframe tbody tr th {\n",
       "        vertical-align: top;\n",
       "    }\n",
       "\n",
       "    .dataframe thead th {\n",
       "        text-align: right;\n",
       "    }\n",
       "</style>\n",
       "<table border=\"1\" class=\"dataframe\">\n",
       "  <thead>\n",
       "    <tr style=\"text-align: right;\">\n",
       "      <th></th>\n",
       "      <th>text1</th>\n",
       "      <th>text2</th>\n",
       "      <th>label</th>\n",
       "    </tr>\n",
       "  </thead>\n",
       "  <tbody>\n",
       "    <tr>\n",
       "      <th>0</th>\n",
       "      <td>there's nothing to tell he's just some guy i w...</td>\n",
       "      <td>c'mon you're going out with the guy there's go...</td>\n",
       "      <td>4</td>\n",
       "    </tr>\n",
       "    <tr>\n",
       "      <th>2</th>\n",
       "      <td>all right joey be nice so does he have a hump ...</td>\n",
       "      <td>wait does he eat chalk</td>\n",
       "      <td>5</td>\n",
       "    </tr>\n",
       "    <tr>\n",
       "      <th>6</th>\n",
       "      <td>oh yeah had that dream</td>\n",
       "      <td>then i look down and i realize there's a phone...</td>\n",
       "      <td>3</td>\n",
       "    </tr>\n",
       "    <tr>\n",
       "      <th>8</th>\n",
       "      <td>instead of</td>\n",
       "      <td>that's</td>\n",
       "      <td>3</td>\n",
       "    </tr>\n",
       "    <tr>\n",
       "      <th>11</th>\n",
       "      <td>no</td>\n",
       "      <td>all of a sudden the phone starts to ring now i...</td>\n",
       "      <td>3</td>\n",
       "    </tr>\n",
       "  </tbody>\n",
       "</table>\n",
       "</div>"
      ],
      "text/plain": [
       "                                                text1  \\\n",
       "0   there's nothing to tell he's just some guy i w...   \n",
       "2   all right joey be nice so does he have a hump ...   \n",
       "6                              oh yeah had that dream   \n",
       "8                                          instead of   \n",
       "11                                                 no   \n",
       "\n",
       "                                                text2  label  \n",
       "0   c'mon you're going out with the guy there's go...      4  \n",
       "2                              wait does he eat chalk      5  \n",
       "6   then i look down and i realize there's a phone...      3  \n",
       "8                                              that's      3  \n",
       "11  all of a sudden the phone starts to ring now i...      3  "
      ]
     },
     "execution_count": 23,
     "metadata": {},
     "output_type": "execute_result"
    }
   ],
   "source": [
    "data_test.head()"
   ]
  },
  {
   "cell_type": "code",
   "execution_count": 24,
   "metadata": {},
   "outputs": [
    {
     "data": {
      "text/html": [
       "<div>\n",
       "<style scoped>\n",
       "    .dataframe tbody tr th:only-of-type {\n",
       "        vertical-align: middle;\n",
       "    }\n",
       "\n",
       "    .dataframe tbody tr th {\n",
       "        vertical-align: top;\n",
       "    }\n",
       "\n",
       "    .dataframe thead th {\n",
       "        text-align: right;\n",
       "    }\n",
       "</style>\n",
       "<table border=\"1\" class=\"dataframe\">\n",
       "  <thead>\n",
       "    <tr style=\"text-align: right;\">\n",
       "      <th></th>\n",
       "      <th>eps</th>\n",
       "      <th>dialogue_ids</th>\n",
       "      <th>scenes_places</th>\n",
       "      <th>label_place</th>\n",
       "      <th>label_str</th>\n",
       "      <th>label</th>\n",
       "      <th>season</th>\n",
       "      <th>dialogue</th>\n",
       "      <th>text2</th>\n",
       "      <th>len_dialogue5</th>\n",
       "      <th>is_null2</th>\n",
       "      <th>ids</th>\n",
       "      <th>text1</th>\n",
       "      <th>label_prev</th>\n",
       "      <th>label_str_prev</th>\n",
       "      <th>is_null2_prev</th>\n",
       "    </tr>\n",
       "  </thead>\n",
       "  <tbody>\n",
       "    <tr>\n",
       "      <th>0</th>\n",
       "      <td>0901</td>\n",
       "      <td>3</td>\n",
       "      <td>[rachel's room]</td>\n",
       "      <td>2</td>\n",
       "      <td>joey</td>\n",
       "      <td>5</td>\n",
       "      <td>9</td>\n",
       "      <td>uh... look rach...(ross enters.) hey ross is...</td>\n",
       "      <td>uh look rach hey ross is here hey look it's my...</td>\n",
       "      <td>16</td>\n",
       "      <td>False</td>\n",
       "      <td>49646</td>\n",
       "      <td>so uh i guess we should make it official huh</td>\n",
       "      <td>1.0</td>\n",
       "      <td>rachel</td>\n",
       "      <td>False</td>\n",
       "    </tr>\n",
       "    <tr>\n",
       "      <th>1</th>\n",
       "      <td>0901</td>\n",
       "      <td>4</td>\n",
       "      <td>[rachel's room]</td>\n",
       "      <td>2</td>\n",
       "      <td>ross</td>\n",
       "      <td>2</td>\n",
       "      <td>9</td>\n",
       "      <td>hey joey. (to rachel) hey you.</td>\n",
       "      <td>joey you</td>\n",
       "      <td>2</td>\n",
       "      <td>False</td>\n",
       "      <td>49647</td>\n",
       "      <td>uh look rach hey ross is here hey look it's my...</td>\n",
       "      <td>5.0</td>\n",
       "      <td>joey</td>\n",
       "      <td>False</td>\n",
       "    </tr>\n",
       "    <tr>\n",
       "      <th>2</th>\n",
       "      <td>0901</td>\n",
       "      <td>5</td>\n",
       "      <td>[rachel's room]</td>\n",
       "      <td>2</td>\n",
       "      <td>rachel</td>\n",
       "      <td>1</td>\n",
       "      <td>9</td>\n",
       "      <td>hey you.</td>\n",
       "      <td>you</td>\n",
       "      <td>1</td>\n",
       "      <td>False</td>\n",
       "      <td>49648</td>\n",
       "      <td>joey you</td>\n",
       "      <td>2.0</td>\n",
       "      <td>ross</td>\n",
       "      <td>False</td>\n",
       "    </tr>\n",
       "    <tr>\n",
       "      <th>3</th>\n",
       "      <td>0901</td>\n",
       "      <td>6</td>\n",
       "      <td>[rachel's room]</td>\n",
       "      <td>2</td>\n",
       "      <td>joey</td>\n",
       "      <td>5</td>\n",
       "      <td>9</td>\n",
       "      <td>hey and look he brought flowers. thanks ross...</td>\n",
       "      <td>hey and look he brought flowers thanks ross bu...</td>\n",
       "      <td>16</td>\n",
       "      <td>False</td>\n",
       "      <td>49649</td>\n",
       "      <td>you</td>\n",
       "      <td>1.0</td>\n",
       "      <td>rachel</td>\n",
       "      <td>False</td>\n",
       "    </tr>\n",
       "    <tr>\n",
       "      <th>4</th>\n",
       "      <td>0901</td>\n",
       "      <td>7</td>\n",
       "      <td>[rachel's room]</td>\n",
       "      <td>2</td>\n",
       "      <td>ross</td>\n",
       "      <td>2</td>\n",
       "      <td>9</td>\n",
       "      <td>you're weird today. (he turns to rachel and ...</td>\n",
       "      <td>you're weird today listen i uh wanted to talk ...</td>\n",
       "      <td>13</td>\n",
       "      <td>False</td>\n",
       "      <td>49650</td>\n",
       "      <td>hey and look he brought flowers thanks ross bu...</td>\n",
       "      <td>5.0</td>\n",
       "      <td>joey</td>\n",
       "      <td>False</td>\n",
       "    </tr>\n",
       "  </tbody>\n",
       "</table>\n",
       "</div>"
      ],
      "text/plain": [
       "    eps  dialogue_ids    scenes_places  label_place label_str  label  season  \\\n",
       "0  0901             3  [rachel's room]            2      joey      5       9   \n",
       "1  0901             4  [rachel's room]            2      ross      2       9   \n",
       "2  0901             5  [rachel's room]            2    rachel      1       9   \n",
       "3  0901             6  [rachel's room]            2      joey      5       9   \n",
       "4  0901             7  [rachel's room]            2      ross      2       9   \n",
       "\n",
       "                                            dialogue  \\\n",
       "0    uh... look rach...(ross enters.) hey ross is...   \n",
       "1                     hey joey. (to rachel) hey you.   \n",
       "2                                           hey you.   \n",
       "3    hey and look he brought flowers. thanks ross...   \n",
       "4    you're weird today. (he turns to rachel and ...   \n",
       "\n",
       "                                               text2  len_dialogue5  is_null2  \\\n",
       "0  uh look rach hey ross is here hey look it's my...             16     False   \n",
       "1                                           joey you              2     False   \n",
       "2                                                you              1     False   \n",
       "3  hey and look he brought flowers thanks ross bu...             16     False   \n",
       "4  you're weird today listen i uh wanted to talk ...             13     False   \n",
       "\n",
       "     ids                                              text1  label_prev  \\\n",
       "0  49646       so uh i guess we should make it official huh         1.0   \n",
       "1  49647  uh look rach hey ross is here hey look it's my...         5.0   \n",
       "2  49648                                           joey you         2.0   \n",
       "3  49649                                                you         1.0   \n",
       "4  49650  hey and look he brought flowers thanks ross bu...         5.0   \n",
       "\n",
       "  label_str_prev  is_null2_prev  \n",
       "0         rachel          False  \n",
       "1           joey          False  \n",
       "2           ross          False  \n",
       "3         rachel          False  \n",
       "4           joey          False  "
      ]
     },
     "execution_count": 24,
     "metadata": {},
     "output_type": "execute_result"
    }
   ],
   "source": [
    "df_dlg_unseen.head()"
   ]
  },
  {
   "cell_type": "code",
   "execution_count": 25,
   "metadata": {},
   "outputs": [
    {
     "data": {
      "text/plain": [
       "TfidfVectorizer(max_features=50, min_df=0.05)"
      ]
     },
     "execution_count": 25,
     "metadata": {},
     "output_type": "execute_result"
    }
   ],
   "source": [
    "corpus = data_train['text1'].tolist()+data_test['text1'].tolist()+data_train['text2'].tolist()+data_test['text2'].tolist()\n",
    "vectorizer = TfidfVectorizer(min_df = 0.05, max_features = MAX_LEN)\n",
    "vectorizer.fit(corpus)"
   ]
  },
  {
   "cell_type": "code",
   "execution_count": 26,
   "metadata": {},
   "outputs": [],
   "source": [
    "def get_input(df):\n",
    "    txt = df['text1']\n",
    "    X1 = vectorizer.transform(txt).toarray()\n",
    "    txt = df['text2']\n",
    "    X2 = vectorizer.transform(txt).toarray()\n",
    "    label = df['label']\n",
    "    \n",
    "    X = np.concatenate([X1,X2],axis = 1)\n",
    "    return X,label.values"
   ]
  },
  {
   "cell_type": "code",
   "execution_count": 27,
   "metadata": {},
   "outputs": [],
   "source": [
    "X_train,label_train = get_input(pd.concat([data_train,data_test]))\n",
    "X_unseen,label_unseen = get_input(data_unseen)"
   ]
  },
  {
   "cell_type": "code",
   "execution_count": 28,
   "metadata": {},
   "outputs": [
    {
     "data": {
      "text/plain": [
       "OneHotEncoder()"
      ]
     },
     "execution_count": 28,
     "metadata": {},
     "output_type": "execute_result"
    }
   ],
   "source": [
    "OH.fit(label_train.reshape(len(label_train),-1))"
   ]
  },
  {
   "cell_type": "code",
   "execution_count": 29,
   "metadata": {},
   "outputs": [],
   "source": [
    "y_train = OH.transform(label_train.reshape(len(label_train),-1)).toarray()\n",
    "# y_test = OH.transform(label_test.reshape(len(label_test),-1)).toarray()\n",
    "y_unseen = OH.transform(label_unseen.reshape(len(label_unseen),-1)).toarray()"
   ]
  },
  {
   "cell_type": "code",
   "execution_count": 30,
   "metadata": {
    "id": "5wougnTMpWxj"
   },
   "outputs": [
    {
     "data": {
      "text/plain": [
       "array([3, 2, 3, ..., 4, 0, 0])"
      ]
     },
     "execution_count": 30,
     "metadata": {},
     "output_type": "execute_result"
    }
   ],
   "source": [
    "label_train"
   ]
  },
  {
   "cell_type": "code",
   "execution_count": 31,
   "metadata": {},
   "outputs": [
    {
     "data": {
      "text/plain": [
       "(34574, 76)"
      ]
     },
     "execution_count": 31,
     "metadata": {},
     "output_type": "execute_result"
    }
   ],
   "source": [
    "X_train.shape"
   ]
  },
  {
   "cell_type": "code",
   "execution_count": null,
   "metadata": {},
   "outputs": [],
   "source": []
  },
  {
   "cell_type": "markdown",
   "metadata": {
    "id": "cYqyu2RK02x6"
   },
   "source": [
    "## Training Model"
   ]
  },
  {
   "cell_type": "code",
   "execution_count": 32,
   "metadata": {},
   "outputs": [],
   "source": [
    "def xgb_evaluate(max_depth,learning_rate,n_estimators,\n",
    "                 gamma, reg_alpha,reg_lambda,X=X_train,y=label_train):\n",
    "\n",
    "    md= int(max_depth)\n",
    "    lr= max(learning_rate,0)\n",
    "    ne= int(n_estimators)\n",
    "    gamma= max(gamma, 0) # 0\n",
    "    ra= max(reg_alpha, 0) # 0\n",
    "    rl= max(reg_lambda, 0) # 1\n",
    "    see= 123\n",
    "    \n",
    "    xgB=XGBClassifier(max_depth=md,learning_rate=lr,\n",
    "                 n_estimators=ne,gamma=gamma,reg_alpha=ra,\n",
    "                 reg_lambda=rl,seed=see, \n",
    "                 nthread=2,num_classes=6)\n",
    "    cv_results = cross_validate(xgB, X, y, cv=5, scoring='f1_macro', n_jobs= 2)\n",
    "    return cv_results['test_score'].mean()"
   ]
  },
  {
   "cell_type": "code",
   "execution_count": 33,
   "metadata": {},
   "outputs": [],
   "source": [
    "xgbBO = BayesianOptimization(xgb_evaluate, \n",
    "                {'max_depth': (10,20),'learning_rate': (0.2, 0.5),\n",
    "                    'n_estimators': (8,16),'gamma': (0.1, 2),'reg_alpha': (1, 5),\n",
    "                    'reg_lambda': (1.5, 44.5)})"
   ]
  },
  {
   "cell_type": "code",
   "execution_count": 34,
   "metadata": {},
   "outputs": [
    {
     "name": "stdout",
     "output_type": "stream",
     "text": [
      "|   iter    |  target   |   gamma   | learni... | max_depth | n_esti... | reg_alpha | reg_la... |\n",
      "-------------------------------------------------------------------------------------------------\n",
      "| \u001b[0m 1       \u001b[0m | \u001b[0m 0.2024  \u001b[0m | \u001b[0m 1.39    \u001b[0m | \u001b[0m 0.3547  \u001b[0m | \u001b[0m 19.94   \u001b[0m | \u001b[0m 12.98   \u001b[0m | \u001b[0m 4.307   \u001b[0m | \u001b[0m 19.68   \u001b[0m |\n",
      "| \u001b[95m 2       \u001b[0m | \u001b[95m 0.2038  \u001b[0m | \u001b[95m 0.5288  \u001b[0m | \u001b[95m 0.2224  \u001b[0m | \u001b[95m 19.77   \u001b[0m | \u001b[95m 12.56   \u001b[0m | \u001b[95m 2.471   \u001b[0m | \u001b[95m 8.847   \u001b[0m |\n",
      "| \u001b[0m 3       \u001b[0m | \u001b[0m 0.2014  \u001b[0m | \u001b[0m 1.736   \u001b[0m | \u001b[0m 0.4719  \u001b[0m | \u001b[0m 14.33   \u001b[0m | \u001b[0m 11.77   \u001b[0m | \u001b[0m 4.424   \u001b[0m | \u001b[0m 25.69   \u001b[0m |\n",
      "| \u001b[0m 4       \u001b[0m | \u001b[0m 0.2029  \u001b[0m | \u001b[0m 0.3662  \u001b[0m | \u001b[0m 0.2123  \u001b[0m | \u001b[0m 12.36   \u001b[0m | \u001b[0m 12.64   \u001b[0m | \u001b[0m 3.452   \u001b[0m | \u001b[0m 26.16   \u001b[0m |\n",
      "| \u001b[0m 5       \u001b[0m | \u001b[0m 0.2005  \u001b[0m | \u001b[0m 0.207   \u001b[0m | \u001b[0m 0.4195  \u001b[0m | \u001b[0m 12.55   \u001b[0m | \u001b[0m 9.091   \u001b[0m | \u001b[0m 4.467   \u001b[0m | \u001b[0m 2.67    \u001b[0m |\n",
      "| \u001b[0m 6       \u001b[0m | \u001b[0m 0.2005  \u001b[0m | \u001b[0m 1.542   \u001b[0m | \u001b[0m 0.3044  \u001b[0m | \u001b[0m 18.71   \u001b[0m | \u001b[0m 8.339   \u001b[0m | \u001b[0m 4.859   \u001b[0m | \u001b[0m 24.06   \u001b[0m |\n",
      "| \u001b[0m 7       \u001b[0m | \u001b[0m 0.1993  \u001b[0m | \u001b[0m 0.5369  \u001b[0m | \u001b[0m 0.4603  \u001b[0m | \u001b[0m 14.19   \u001b[0m | \u001b[0m 13.12   \u001b[0m | \u001b[0m 1.534   \u001b[0m | \u001b[0m 2.809   \u001b[0m |\n",
      "| \u001b[0m 8       \u001b[0m | \u001b[0m 0.202   \u001b[0m | \u001b[0m 0.4802  \u001b[0m | \u001b[0m 0.3357  \u001b[0m | \u001b[0m 19.63   \u001b[0m | \u001b[0m 14.36   \u001b[0m | \u001b[0m 3.171   \u001b[0m | \u001b[0m 14.72   \u001b[0m |\n",
      "| \u001b[0m 9       \u001b[0m | \u001b[0m 0.2022  \u001b[0m | \u001b[0m 0.1425  \u001b[0m | \u001b[0m 0.4244  \u001b[0m | \u001b[0m 14.13   \u001b[0m | \u001b[0m 11.35   \u001b[0m | \u001b[0m 2.287   \u001b[0m | \u001b[0m 10.06   \u001b[0m |\n",
      "| \u001b[0m 10      \u001b[0m | \u001b[0m 0.1994  \u001b[0m | \u001b[0m 0.5983  \u001b[0m | \u001b[0m 0.4991  \u001b[0m | \u001b[0m 16.78   \u001b[0m | \u001b[0m 13.71   \u001b[0m | \u001b[0m 2.351   \u001b[0m | \u001b[0m 20.99   \u001b[0m |\n",
      "| \u001b[0m 11      \u001b[0m | \u001b[0m 0.2004  \u001b[0m | \u001b[0m 1.252   \u001b[0m | \u001b[0m 0.4992  \u001b[0m | \u001b[0m 13.66   \u001b[0m | \u001b[0m 13.52   \u001b[0m | \u001b[0m 3.094   \u001b[0m | \u001b[0m 21.61   \u001b[0m |\n",
      "| \u001b[0m 12      \u001b[0m | \u001b[0m 0.1998  \u001b[0m | \u001b[0m 1.823   \u001b[0m | \u001b[0m 0.4798  \u001b[0m | \u001b[0m 12.16   \u001b[0m | \u001b[0m 12.77   \u001b[0m | \u001b[0m 4.523   \u001b[0m | \u001b[0m 31.87   \u001b[0m |\n",
      "| \u001b[0m 13      \u001b[0m | \u001b[0m 0.2014  \u001b[0m | \u001b[0m 1.407   \u001b[0m | \u001b[0m 0.2166  \u001b[0m | \u001b[0m 17.57   \u001b[0m | \u001b[0m 10.41   \u001b[0m | \u001b[0m 1.679   \u001b[0m | \u001b[0m 12.24   \u001b[0m |\n",
      "| \u001b[0m 14      \u001b[0m | \u001b[0m 0.1999  \u001b[0m | \u001b[0m 1.121   \u001b[0m | \u001b[0m 0.3499  \u001b[0m | \u001b[0m 10.14   \u001b[0m | \u001b[0m 11.23   \u001b[0m | \u001b[0m 4.009   \u001b[0m | \u001b[0m 20.59   \u001b[0m |\n",
      "| \u001b[0m 15      \u001b[0m | \u001b[0m 0.2021  \u001b[0m | \u001b[0m 0.8567  \u001b[0m | \u001b[0m 0.213   \u001b[0m | \u001b[0m 16.28   \u001b[0m | \u001b[0m 12.38   \u001b[0m | \u001b[0m 3.5     \u001b[0m | \u001b[0m 5.961   \u001b[0m |\n",
      "| \u001b[0m 16      \u001b[0m | \u001b[0m 0.2003  \u001b[0m | \u001b[0m 0.3056  \u001b[0m | \u001b[0m 0.2688  \u001b[0m | \u001b[0m 18.02   \u001b[0m | \u001b[0m 12.62   \u001b[0m | \u001b[0m 3.017   \u001b[0m | \u001b[0m 8.813   \u001b[0m |\n",
      "| \u001b[95m 17      \u001b[0m | \u001b[95m 0.2044  \u001b[0m | \u001b[95m 1.163   \u001b[0m | \u001b[95m 0.3517  \u001b[0m | \u001b[95m 18.5    \u001b[0m | \u001b[95m 15.26   \u001b[0m | \u001b[95m 3.363   \u001b[0m | \u001b[95m 38.97   \u001b[0m |\n",
      "| \u001b[0m 18      \u001b[0m | \u001b[0m 0.2014  \u001b[0m | \u001b[0m 1.177   \u001b[0m | \u001b[0m 0.3412  \u001b[0m | \u001b[0m 16.32   \u001b[0m | \u001b[0m 12.5    \u001b[0m | \u001b[0m 3.647   \u001b[0m | \u001b[0m 5.985   \u001b[0m |\n",
      "| \u001b[0m 19      \u001b[0m | \u001b[0m 0.2013  \u001b[0m | \u001b[0m 1.237   \u001b[0m | \u001b[0m 0.2947  \u001b[0m | \u001b[0m 17.9    \u001b[0m | \u001b[0m 15.74   \u001b[0m | \u001b[0m 3.659   \u001b[0m | \u001b[0m 39.61   \u001b[0m |\n",
      "| \u001b[0m 20      \u001b[0m | \u001b[0m 0.202   \u001b[0m | \u001b[0m 0.2054  \u001b[0m | \u001b[0m 0.3038  \u001b[0m | \u001b[0m 19.78   \u001b[0m | \u001b[0m 13.03   \u001b[0m | \u001b[0m 2.526   \u001b[0m | \u001b[0m 8.674   \u001b[0m |\n",
      "=================================================================================================\n"
     ]
    }
   ],
   "source": [
    "xgbBO.maximize(init_points=15, n_iter=5)"
   ]
  },
  {
   "cell_type": "code",
   "execution_count": 35,
   "metadata": {},
   "outputs": [],
   "source": [
    "# |  17       |  0.2066   |  1.0      |  0.2      |  13.0     |  11.51    |  4.0      |  2.0      |"
   ]
  },
  {
   "cell_type": "code",
   "execution_count": 37,
   "metadata": {},
   "outputs": [
    {
     "data": {
      "text/plain": [
       "{'gamma': 1.1634414163723379,\n",
       " 'learning_rate': 0.351682006791587,\n",
       " 'max_depth': 18.499530350387243,\n",
       " 'n_estimators': 15.257212440238941,\n",
       " 'reg_alpha': 3.3628038431887086,\n",
       " 'reg_lambda': 38.9696429556927}"
      ]
     },
     "execution_count": 37,
     "metadata": {},
     "output_type": "execute_result"
    }
   ],
   "source": [
    "par = xgbBO.max['params']\n",
    "par"
   ]
  },
  {
   "cell_type": "code",
   "execution_count": 38,
   "metadata": {},
   "outputs": [],
   "source": [
    "# par = {'gamma': 1.0,\n",
    "#  'learning_rate': 0.2,\n",
    "#  'max_depth': 13.00295161270265,\n",
    "#  'n_estimators': 11.511195874852616,\n",
    "#  'reg_alpha': 4.0,\n",
    "#  'reg_lambda': 2.0}\n",
    "par['max_depth'] = int(par['max_depth'])\n",
    "par['n_estimators'] = int(par['n_estimators'])"
   ]
  },
  {
   "cell_type": "code",
   "execution_count": 39,
   "metadata": {},
   "outputs": [
    {
     "name": "stderr",
     "output_type": "stream",
     "text": [
      "/Users/alamhanz/anaconda/envs/p37/lib/python3.7/site-packages/xgboost/sklearn.py:888: UserWarning: The use of label encoder in XGBClassifier is deprecated and will be removed in a future release. To remove this warning, do the following: 1) Pass option use_label_encoder=False when constructing XGBClassifier object; and 2) Encode your labels (y) as integers starting with 0, i.e. 0, 1, 2, ..., [num_class - 1].\n",
      "  warnings.warn(label_encoder_deprecation_msg, UserWarning)\n"
     ]
    },
    {
     "name": "stdout",
     "output_type": "stream",
     "text": [
      "[21:41:38] WARNING: /Users/travis/build/dmlc/xgboost/src/learner.cc:1061: Starting in XGBoost 1.3.0, the default evaluation metric used with the objective 'multi:softprob' was changed from 'merror' to 'mlogloss'. Explicitly set eval_metric if you'd like to restore the old behavior.\n"
     ]
    },
    {
     "data": {
      "text/plain": [
       "XGBClassifier(base_score=0.5, booster='gbtree', colsample_bylevel=1,\n",
       "              colsample_bynode=1, colsample_bytree=1, gamma=1.1634414163723379,\n",
       "              gpu_id=-1, importance_type='gain', interaction_constraints='',\n",
       "              learning_rate=0.351682006791587, max_delta_step=0, max_depth=18,\n",
       "              min_child_weight=1, missing=nan, monotone_constraints='()',\n",
       "              n_estimators=15, n_jobs=4, num_parallel_tree=1,\n",
       "              objective='multi:softprob', random_state=0,\n",
       "              reg_alpha=3.3628038431887086, reg_lambda=38.9696429556927,\n",
       "              scale_pos_weight=None, subsample=1, tree_method='exact',\n",
       "              validate_parameters=1, verbosity=None)"
      ]
     },
     "execution_count": 39,
     "metadata": {},
     "output_type": "execute_result"
    }
   ],
   "source": [
    "xgB0=XGBClassifier(**par)\n",
    "xgB0.fit(X_train,label_train)"
   ]
  },
  {
   "cell_type": "code",
   "execution_count": null,
   "metadata": {},
   "outputs": [],
   "source": []
  },
  {
   "cell_type": "markdown",
   "metadata": {
    "id": "1J-Okj2NVbJT"
   },
   "source": [
    "## Testing"
   ]
  },
  {
   "cell_type": "code",
   "execution_count": 40,
   "metadata": {},
   "outputs": [
    {
     "data": {
      "text/html": [
       "<div>\n",
       "<style scoped>\n",
       "    .dataframe tbody tr th:only-of-type {\n",
       "        vertical-align: middle;\n",
       "    }\n",
       "\n",
       "    .dataframe tbody tr th {\n",
       "        vertical-align: top;\n",
       "    }\n",
       "\n",
       "    .dataframe thead th {\n",
       "        text-align: right;\n",
       "    }\n",
       "</style>\n",
       "<table border=\"1\" class=\"dataframe\">\n",
       "  <thead>\n",
       "    <tr style=\"text-align: right;\">\n",
       "      <th></th>\n",
       "      <th>text1</th>\n",
       "      <th>text2</th>\n",
       "      <th>label</th>\n",
       "    </tr>\n",
       "  </thead>\n",
       "  <tbody>\n",
       "    <tr>\n",
       "      <th>0</th>\n",
       "      <td>so uh i guess we should make it official huh</td>\n",
       "      <td>uh look rach hey ross is here hey look it's my...</td>\n",
       "      <td>4</td>\n",
       "    </tr>\n",
       "    <tr>\n",
       "      <th>1</th>\n",
       "      <td>uh look rach hey ross is here hey look it's my...</td>\n",
       "      <td>joey you</td>\n",
       "      <td>1</td>\n",
       "    </tr>\n",
       "    <tr>\n",
       "      <th>2</th>\n",
       "      <td>joey you</td>\n",
       "      <td>you</td>\n",
       "      <td>0</td>\n",
       "    </tr>\n",
       "    <tr>\n",
       "      <th>3</th>\n",
       "      <td>you</td>\n",
       "      <td>hey and look he brought flowers thanks ross bu...</td>\n",
       "      <td>4</td>\n",
       "    </tr>\n",
       "    <tr>\n",
       "      <th>4</th>\n",
       "      <td>hey and look he brought flowers thanks ross bu...</td>\n",
       "      <td>you're weird today listen i uh wanted to talk ...</td>\n",
       "      <td>1</td>\n",
       "    </tr>\n",
       "    <tr>\n",
       "      <th>...</th>\n",
       "      <td>...</td>\n",
       "      <td>...</td>\n",
       "      <td>...</td>\n",
       "    </tr>\n",
       "    <tr>\n",
       "      <th>9827</th>\n",
       "      <td>this is harder than i thought it would be</td>\n",
       "      <td>oh it's gonna be okay</td>\n",
       "      <td>3</td>\n",
       "    </tr>\n",
       "    <tr>\n",
       "      <th>9828</th>\n",
       "      <td>oh it's gonna be okay</td>\n",
       "      <td>do you guys have to go to the new house right ...</td>\n",
       "      <td>0</td>\n",
       "    </tr>\n",
       "    <tr>\n",
       "      <th>9829</th>\n",
       "      <td>do you guys have to go to the new house right ...</td>\n",
       "      <td>we got some time</td>\n",
       "      <td>2</td>\n",
       "    </tr>\n",
       "    <tr>\n",
       "      <th>9830</th>\n",
       "      <td>we got some time</td>\n",
       "      <td>okay should we get some coffee</td>\n",
       "      <td>0</td>\n",
       "    </tr>\n",
       "    <tr>\n",
       "      <th>9831</th>\n",
       "      <td>okay should we get some coffee</td>\n",
       "      <td>where the end</td>\n",
       "      <td>3</td>\n",
       "    </tr>\n",
       "  </tbody>\n",
       "</table>\n",
       "<p>8305 rows × 3 columns</p>\n",
       "</div>"
      ],
      "text/plain": [
       "                                                  text1  \\\n",
       "0          so uh i guess we should make it official huh   \n",
       "1     uh look rach hey ross is here hey look it's my...   \n",
       "2                                              joey you   \n",
       "3                                                   you   \n",
       "4     hey and look he brought flowers thanks ross bu...   \n",
       "...                                                 ...   \n",
       "9827          this is harder than i thought it would be   \n",
       "9828                              oh it's gonna be okay   \n",
       "9829  do you guys have to go to the new house right ...   \n",
       "9830                                   we got some time   \n",
       "9831                     okay should we get some coffee   \n",
       "\n",
       "                                                  text2  label  \n",
       "0     uh look rach hey ross is here hey look it's my...      4  \n",
       "1                                              joey you      1  \n",
       "2                                                   you      0  \n",
       "3     hey and look he brought flowers thanks ross bu...      4  \n",
       "4     you're weird today listen i uh wanted to talk ...      1  \n",
       "...                                                 ...    ...  \n",
       "9827                              oh it's gonna be okay      3  \n",
       "9828  do you guys have to go to the new house right ...      0  \n",
       "9829                                   we got some time      2  \n",
       "9830                     okay should we get some coffee      0  \n",
       "9831                                      where the end      3  \n",
       "\n",
       "[8305 rows x 3 columns]"
      ]
     },
     "execution_count": 40,
     "metadata": {},
     "output_type": "execute_result"
    }
   ],
   "source": [
    "data_unseen"
   ]
  },
  {
   "cell_type": "code",
   "execution_count": 41,
   "metadata": {},
   "outputs": [],
   "source": [
    "y_pred_label = xgB0.predict(X_unseen)\n",
    "# y_pred_label = np.argmax(y_pred,axis = 1)\n",
    "y_true_label = data_unseen['label'].values"
   ]
  },
  {
   "cell_type": "code",
   "execution_count": null,
   "metadata": {},
   "outputs": [],
   "source": []
  },
  {
   "cell_type": "code",
   "execution_count": 42,
   "metadata": {
    "id": "r0bgWgl6cJQj"
   },
   "outputs": [
    {
     "name": "stdout",
     "output_type": "stream",
     "text": [
      "              precision    recall  f1-score   support\n",
      "\n",
      "           0       0.22      0.28      0.24      1410\n",
      "           1       0.19      0.23      0.21      1497\n",
      "           2       0.21      0.25      0.22      1369\n",
      "           3       0.23      0.23      0.23      1401\n",
      "           4       0.23      0.17      0.20      1360\n",
      "           5       0.22      0.12      0.15      1268\n",
      "\n",
      "    accuracy                           0.21      8305\n",
      "   macro avg       0.22      0.21      0.21      8305\n",
      "weighted avg       0.22      0.21      0.21      8305\n",
      "\n"
     ]
    },
    {
     "data": {
      "image/png": "[encoded data removed]",
      "text/plain": [
       "<Figure size 576x576 with 2 Axes>"
      ]
     },
     "metadata": {
      "needs_background": "light"
     },
     "output_type": "display_data"
    }
   ],
   "source": [
    "report = classification_report(y_true_label, y_pred_label)\n",
    "print(report)\n",
    "\n",
    "\n",
    "def plot_cm(labels, predictions, p=0.5):\n",
    "#     cm = confusion_matrix(labels, predictions)\n",
    "#     plt.figure(figsize=(5, 5))\n",
    "#     sns.heatmap(cm, annot=True, fmt=\"d\")\n",
    "    cm = confusion_matrix(labels, predictions)\n",
    "    cm = (cm.transpose()/cm.sum(axis = 1)).transpose()\n",
    "    plt.figure(figsize=(8, 8))\n",
    "    sns.heatmap(cm, annot=True, fmt=\".2%\")\n",
    "    plt.title(\"Confusion matrix (non-normalized))\")\n",
    "    plt.ylabel(\"Actual label\")\n",
    "    plt.xlabel(\"Predicted label\")\n",
    "\n",
    "\n",
    "plot_cm(y_true_label, y_pred_label)"
   ]
  },
  {
   "cell_type": "code",
   "execution_count": null,
   "metadata": {},
   "outputs": [],
   "source": []
  }
 ],
 "metadata": {
  "accelerator": "TPU",
  "colab": {
   "collapsed_sections": [],
   "name": "20200803_training_bert_TPU.ipynb",
   "provenance": []
  },
  "kernelspec": {
   "display_name": "p37",
   "language": "python",
   "name": "p37"
  },
  "language_info": {
   "codemirror_mode": {
    "name": "ipython",
    "version": 3
   },
   "file_extension": ".py",
   "mimetype": "text/x-python",
   "name": "python",
   "nbconvert_exporter": "python",
   "pygments_lexer": "ipython3",
   "version": "3.7.9"
  }
 },
 "nbformat": 4,
 "nbformat_minor": 4
}
