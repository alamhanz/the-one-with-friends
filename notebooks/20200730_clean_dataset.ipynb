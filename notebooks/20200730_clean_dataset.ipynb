{
 "cells": [
  {
   "cell_type": "markdown",
   "metadata": {},
   "source": [
    "# Cleaning Dataset\n",
    "\n",
    "Cleaning the dialogue on Friends. The cleaning is used for analysis like multi classification"
   ]
  },
  {
   "cell_type": "code",
   "execution_count": 1,
   "metadata": {},
   "outputs": [],
   "source": [
    "import pandas as pd\n",
    "import re\n",
    "import nltk\n",
    "from nltk.corpus import stopwords"
   ]
  },
  {
   "cell_type": "code",
   "execution_count": 2,
   "metadata": {},
   "outputs": [],
   "source": [
    "df_trcpt_all = pd.read_csv('../data/friends_all_dialogue.csv')"
   ]
  },
  {
   "cell_type": "code",
   "execution_count": null,
   "metadata": {},
   "outputs": [],
   "source": []
  },
  {
   "cell_type": "markdown",
   "metadata": {},
   "source": [
    "## Checking"
   ]
  },
  {
   "cell_type": "code",
   "execution_count": 3,
   "metadata": {},
   "outputs": [
    {
     "data": {
      "text/html": [
       "<div>\n",
       "<style scoped>\n",
       "    .dataframe tbody tr th:only-of-type {\n",
       "        vertical-align: middle;\n",
       "    }\n",
       "\n",
       "    .dataframe tbody tr th {\n",
       "        vertical-align: top;\n",
       "    }\n",
       "\n",
       "    .dataframe thead th {\n",
       "        text-align: right;\n",
       "    }\n",
       "</style>\n",
       "<table border=\"1\" class=\"dataframe\">\n",
       "  <thead>\n",
       "    <tr style=\"text-align: right;\">\n",
       "      <th></th>\n",
       "      <th>Unnamed: 0</th>\n",
       "      <th>eps</th>\n",
       "      <th>dialogue_ids</th>\n",
       "      <th>scenes_places</th>\n",
       "      <th>character</th>\n",
       "      <th>dialogue</th>\n",
       "    </tr>\n",
       "  </thead>\n",
       "  <tbody>\n",
       "    <tr>\n",
       "      <th>0</th>\n",
       "      <td>0</td>\n",
       "      <td>0101</td>\n",
       "      <td>0</td>\n",
       "      <td>[central perk]</td>\n",
       "      <td>monica</td>\n",
       "      <td>there's nothing to tell! he's just some guy ...</td>\n",
       "    </tr>\n",
       "    <tr>\n",
       "      <th>1</th>\n",
       "      <td>1</td>\n",
       "      <td>0101</td>\n",
       "      <td>1</td>\n",
       "      <td>[central perk]</td>\n",
       "      <td>joey</td>\n",
       "      <td>c'mon, you're going out with the guy! there'...</td>\n",
       "    </tr>\n",
       "    <tr>\n",
       "      <th>2</th>\n",
       "      <td>2</td>\n",
       "      <td>0101</td>\n",
       "      <td>2</td>\n",
       "      <td>[central perk]</td>\n",
       "      <td>chandler</td>\n",
       "      <td>all right joey, be nice.  so does he have a...</td>\n",
       "    </tr>\n",
       "    <tr>\n",
       "      <th>3</th>\n",
       "      <td>3</td>\n",
       "      <td>0101</td>\n",
       "      <td>3</td>\n",
       "      <td>[central perk]</td>\n",
       "      <td>phoebe</td>\n",
       "      <td>wait, does he eat chalk? (they all stare, be...</td>\n",
       "    </tr>\n",
       "    <tr>\n",
       "      <th>4</th>\n",
       "      <td>4</td>\n",
       "      <td>0101</td>\n",
       "      <td>4</td>\n",
       "      <td>[central perk]</td>\n",
       "      <td>phoebe</td>\n",
       "      <td>just, 'cause, i don't want her to go through...</td>\n",
       "    </tr>\n",
       "    <tr>\n",
       "      <th>...</th>\n",
       "      <td>...</td>\n",
       "      <td>...</td>\n",
       "      <td>...</td>\n",
       "      <td>...</td>\n",
       "      <td>...</td>\n",
       "      <td>...</td>\n",
       "    </tr>\n",
       "    <tr>\n",
       "      <th>61485</th>\n",
       "      <td>580</td>\n",
       "      <td>1017-1018</td>\n",
       "      <td>580</td>\n",
       "      <td>[monica and chandler's apartment]</td>\n",
       "      <td>chandler</td>\n",
       "      <td>oh, it's gonna be okay. (chandler hugs her. m...</td>\n",
       "    </tr>\n",
       "    <tr>\n",
       "      <th>61486</th>\n",
       "      <td>581</td>\n",
       "      <td>1017-1018</td>\n",
       "      <td>581</td>\n",
       "      <td>[monica and chandler's apartment]</td>\n",
       "      <td>rachel</td>\n",
       "      <td>(crying) do you guys have to go to the new ho...</td>\n",
       "    </tr>\n",
       "    <tr>\n",
       "      <th>61487</th>\n",
       "      <td>582</td>\n",
       "      <td>1017-1018</td>\n",
       "      <td>582</td>\n",
       "      <td>[monica and chandler's apartment]</td>\n",
       "      <td>monica</td>\n",
       "      <td>we got some time.</td>\n",
       "    </tr>\n",
       "    <tr>\n",
       "      <th>61488</th>\n",
       "      <td>583</td>\n",
       "      <td>1017-1018</td>\n",
       "      <td>583</td>\n",
       "      <td>[monica and chandler's apartment]</td>\n",
       "      <td>rachel</td>\n",
       "      <td>okay, should we get some coffee?</td>\n",
       "    </tr>\n",
       "    <tr>\n",
       "      <th>61489</th>\n",
       "      <td>584</td>\n",
       "      <td>1017-1018</td>\n",
       "      <td>584</td>\n",
       "      <td>[monica and chandler's apartment]</td>\n",
       "      <td>chandler</td>\n",
       "      <td>sure. where? (they all leave the apartment. j...</td>\n",
       "    </tr>\n",
       "  </tbody>\n",
       "</table>\n",
       "<p>61490 rows × 6 columns</p>\n",
       "</div>"
      ],
      "text/plain": [
       "       Unnamed: 0        eps  dialogue_ids                      scenes_places  \\\n",
       "0               0       0101             0                     [central perk]   \n",
       "1               1       0101             1                     [central perk]   \n",
       "2               2       0101             2                     [central perk]   \n",
       "3               3       0101             3                     [central perk]   \n",
       "4               4       0101             4                     [central perk]   \n",
       "...           ...        ...           ...                                ...   \n",
       "61485         580  1017-1018           580  [monica and chandler's apartment]   \n",
       "61486         581  1017-1018           581  [monica and chandler's apartment]   \n",
       "61487         582  1017-1018           582  [monica and chandler's apartment]   \n",
       "61488         583  1017-1018           583  [monica and chandler's apartment]   \n",
       "61489         584  1017-1018           584  [monica and chandler's apartment]   \n",
       "\n",
       "       character                                           dialogue  \n",
       "0         monica    there's nothing to tell! he's just some guy ...  \n",
       "1           joey    c'mon, you're going out with the guy! there'...  \n",
       "2       chandler     all right joey, be nice.  so does he have a...  \n",
       "3         phoebe    wait, does he eat chalk? (they all stare, be...  \n",
       "4         phoebe    just, 'cause, i don't want her to go through...  \n",
       "...          ...                                                ...  \n",
       "61485  chandler    oh, it's gonna be okay. (chandler hugs her. m...  \n",
       "61486    rachel    (crying) do you guys have to go to the new ho...  \n",
       "61487    monica                                   we got some time.  \n",
       "61488    rachel                    okay, should we get some coffee?  \n",
       "61489  chandler    sure. where? (they all leave the apartment. j...  \n",
       "\n",
       "[61490 rows x 6 columns]"
      ]
     },
     "execution_count": 3,
     "metadata": {},
     "output_type": "execute_result"
    }
   ],
   "source": [
    "df_trcpt_all"
   ]
  },
  {
   "cell_type": "code",
   "execution_count": null,
   "metadata": {},
   "outputs": [],
   "source": []
  },
  {
   "cell_type": "markdown",
   "metadata": {},
   "source": [
    "**1. Remove all text in \"()\" or \"[]\" and some punctuations**"
   ]
  },
  {
   "cell_type": "code",
   "execution_count": 4,
   "metadata": {},
   "outputs": [],
   "source": [
    "regex = re.compile(\"[\\(\\[].*?[\\)\\]]\")\n",
    "# re.sub(, \"\", x)\n",
    "# 'This is a sentence.  '"
   ]
  },
  {
   "cell_type": "code",
   "execution_count": 5,
   "metadata": {},
   "outputs": [],
   "source": [
    "# df_trcpt_all.sample(100).dialogue.tolist()[:35]"
   ]
  },
  {
   "cell_type": "code",
   "execution_count": 6,
   "metadata": {},
   "outputs": [
    {
     "data": {
      "text/plain": [
       "'  awwwww!!  awwwwwww!!!'"
      ]
     },
     "execution_count": 6,
     "metadata": {},
     "output_type": "execute_result"
    }
   ],
   "source": [
    "re.sub(regex,\"\", '  awwwww!! (they lean back all the way.) awwwwwww!!!')"
   ]
  },
  {
   "cell_type": "code",
   "execution_count": 7,
   "metadata": {},
   "outputs": [],
   "source": [
    "df_trcpt_all['dialogue2'] = df_trcpt_all.dialogue.apply(lambda x : re.sub(regex,\"\",x))\n",
    "df_trcpt_all['dialogue2'] = df_trcpt_all.dialogue2.apply(lambda x : x.replace('!',' ').replace('?',' ').replace('.',' ').replace(',',' '))\n",
    "df_trcpt_all['dialogue2'] = df_trcpt_all.dialogue2.apply(lambda x : x.replace('!',' ').replace('    ',' ').replace('   ',' ').replace('  ',' '))\n",
    "df_trcpt_all['dialogue2'] = df_trcpt_all.dialogue2.apply(lambda x : x.replace('`cause','because'))\n",
    "df_trcpt_all['dialogue2'] = df_trcpt_all.dialogue2.apply(lambda x : x.strip())"
   ]
  },
  {
   "cell_type": "code",
   "execution_count": 8,
   "metadata": {},
   "outputs": [
    {
     "data": {
      "text/plain": [
       "['oh',\n",
       " 'what did they say the end',\n",
       " 'okay ending credits',\n",
       " \"what do you mean rach don't i seem like a professor you'd buy some kind of e crap from\",\n",
       " 'okay',\n",
       " 'the pink one with the flowers',\n",
       " \"hey pheebs what's up\",\n",
       " 'let me get that you got five bucks',\n",
       " 'sure that sounds great just leave me a message and tell me where to meet you okay',\n",
       " \"no no don't don't leave me here with these people\",\n",
       " 'no',\n",
       " \"really stupid and i don't even know how it happened i'm sorry honey i promise it will never happen again are we okay now\",\n",
       " \"i can't i can't believe i have plans i can't can you do it tomorrow night though\",\n",
       " \"oh please these guys we haven't even moved in yet and they have us picking out china patterns\",\n",
       " 'freakish',\n",
       " 'wow this is so amazing what else what else',\n",
       " \"good oh oh roger's having a dinner thing and he wanted me to invite you guys\",\n",
       " 'just let her serve the beef custard thing',\n",
       " \"okay let's talk outside\",\n",
       " \"yeah well you promised barry you'd marry him\",\n",
       " 'shut up it just got interesting commercial break',\n",
       " 'tulsa oklahoma',\n",
       " \"y'know what\",\n",
       " \"excuse me i'm seizing mr treeger here's another 50 happy hanukkah will uh will this help with the knob getting\",\n",
       " \"well it looks like it wasn't heeled after all yeah so i guess this chair is mine now\",\n",
       " \"i'll ask boohaki\",\n",
       " \"oh you guys with this joke i gotta say i know i cracked up but i'm not even sure i got it\",\n",
       " 'really',\n",
       " \"i don't know is it crazy\",\n",
       " 'thank you so much']"
      ]
     },
     "execution_count": 8,
     "metadata": {},
     "output_type": "execute_result"
    }
   ],
   "source": [
    "df_trcpt_all.sample(30)['dialogue2'].tolist()"
   ]
  },
  {
   "cell_type": "code",
   "execution_count": null,
   "metadata": {},
   "outputs": [],
   "source": []
  },
  {
   "cell_type": "markdown",
   "metadata": {},
   "source": [
    "**2. standardized some abbreviation words**\n",
    "\n",
    "like y'know, can't"
   ]
  },
  {
   "cell_type": "code",
   "execution_count": 16,
   "metadata": {},
   "outputs": [],
   "source": [
    "all_sentences=df_trcpt_all['dialogue2'].tolist()"
   ]
  },
  {
   "cell_type": "code",
   "execution_count": 20,
   "metadata": {},
   "outputs": [],
   "source": [
    "all_abb = []\n",
    "for sen in all_sentences:\n",
    "    words = sen.split(' ')\n",
    "    abb = [w for w in words if \"'\" in w]\n",
    "    all_abb += abb\n",
    "    \n",
    "all_abb = pd.Series(all_abb).value_counts()\n"
   ]
  },
  {
   "cell_type": "code",
   "execution_count": 24,
   "metadata": {},
   "outputs": [
    {
     "data": {
      "text/plain": [
       "i'm           6148\n",
       "it's          4535\n",
       "don't         4300\n",
       "you're        2887\n",
       "that's        2733\n",
       "y'know        2235\n",
       "can't         1584\n",
       "i'll          1206\n",
       "didn't        1188\n",
       "we're         1140\n",
       "he's          1103\n",
       "she's          934\n",
       "what's         848\n",
       "i've           816\n",
       "there's        714\n",
       "let's          627\n",
       "they're        506\n",
       "doesn't        487\n",
       "i'd            381\n",
       "isn't          346\n",
       "you've         314\n",
       "we'll          314\n",
       "won't          283\n",
       "wouldn't       267\n",
       "who's          266\n",
       "wasn't         260\n",
       "'              224\n",
       "haven't        223\n",
       "you'll         210\n",
       "'cause         209\n",
       "couldn't       204\n",
       "we've          183\n",
       "you'd          181\n",
       "here's         179\n",
       "aren't         156\n",
       "c'mon          139\n",
       "monica's       129\n",
       "how's          119\n",
       "it'll          114\n",
       "shouldn't      110\n",
       "joey's         107\n",
       "chandler's      95\n",
       "weren't         95\n",
       "where's         93\n",
       "would've        86\n",
       "doin'           84\n",
       "rachel's        84\n",
       "ross's          78\n",
       "we'd            76\n",
       "what're         65\n",
       "he'll           62\n",
       "guy's           61\n",
       "how'd           57\n",
       "goin'           55\n",
       "phoebe's        54\n",
       "they'll         53\n",
       "dtype: int64"
      ]
     },
     "execution_count": 24,
     "metadata": {},
     "output_type": "execute_result"
    }
   ],
   "source": [
    "all_abb[all_abb>50]"
   ]
  },
  {
   "cell_type": "code",
   "execution_count": null,
   "metadata": {},
   "outputs": [],
   "source": []
  },
  {
   "cell_type": "markdown",
   "metadata": {},
   "source": [
    "**3. Remove stop words**"
   ]
  },
  {
   "cell_type": "code",
   "execution_count": null,
   "metadata": {},
   "outputs": [],
   "source": []
  },
  {
   "cell_type": "code",
   "execution_count": null,
   "metadata": {},
   "outputs": [],
   "source": []
  }
 ],
 "metadata": {
  "kernelspec": {
   "display_name": "py37_env",
   "language": "python",
   "name": "myenv"
  },
  "language_info": {
   "codemirror_mode": {
    "name": "ipython",
    "version": 3
   },
   "file_extension": ".py",
   "mimetype": "text/x-python",
   "name": "python",
   "nbconvert_exporter": "python",
   "pygments_lexer": "ipython3",
   "version": "3.7.6"
  }
 },
 "nbformat": 4,
 "nbformat_minor": 4
}
