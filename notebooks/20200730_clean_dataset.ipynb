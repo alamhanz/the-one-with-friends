{
 "cells": [
  {
   "cell_type": "markdown",
   "metadata": {},
   "source": [
    "# Cleaning Dataset\n",
    "\n",
    "Cleaning the dialogue on Friends. The cleaning is used for analysis like multi classification"
   ]
  },
  {
   "cell_type": "code",
   "execution_count": 42,
   "metadata": {},
   "outputs": [],
   "source": [
    "import pandas as pd\n",
    "import re\n",
    "import nltk\n",
    "from nltk.corpus import stopwords"
   ]
  },
  {
   "cell_type": "code",
   "execution_count": 43,
   "metadata": {},
   "outputs": [],
   "source": [
    "df_trcpt_all = pd.read_csv('../data/friends_all_dialogue.csv')"
   ]
  },
  {
   "cell_type": "code",
   "execution_count": null,
   "metadata": {},
   "outputs": [],
   "source": []
  },
  {
   "cell_type": "markdown",
   "metadata": {},
   "source": [
    "## Checking"
   ]
  },
  {
   "cell_type": "code",
   "execution_count": 44,
   "metadata": {},
   "outputs": [
    {
     "data": {
      "text/html": [
       "<div>\n",
       "<style scoped>\n",
       "    .dataframe tbody tr th:only-of-type {\n",
       "        vertical-align: middle;\n",
       "    }\n",
       "\n",
       "    .dataframe tbody tr th {\n",
       "        vertical-align: top;\n",
       "    }\n",
       "\n",
       "    .dataframe thead th {\n",
       "        text-align: right;\n",
       "    }\n",
       "</style>\n",
       "<table border=\"1\" class=\"dataframe\">\n",
       "  <thead>\n",
       "    <tr style=\"text-align: right;\">\n",
       "      <th></th>\n",
       "      <th>Unnamed: 0</th>\n",
       "      <th>eps</th>\n",
       "      <th>dialogue_ids</th>\n",
       "      <th>scenes_places</th>\n",
       "      <th>character</th>\n",
       "      <th>dialogue</th>\n",
       "    </tr>\n",
       "  </thead>\n",
       "  <tbody>\n",
       "    <tr>\n",
       "      <th>0</th>\n",
       "      <td>0</td>\n",
       "      <td>0101</td>\n",
       "      <td>0</td>\n",
       "      <td>[central perk]</td>\n",
       "      <td>monica</td>\n",
       "      <td>there's nothing to tell! he's just some guy ...</td>\n",
       "    </tr>\n",
       "    <tr>\n",
       "      <th>1</th>\n",
       "      <td>1</td>\n",
       "      <td>0101</td>\n",
       "      <td>1</td>\n",
       "      <td>[central perk]</td>\n",
       "      <td>joey</td>\n",
       "      <td>c'mon, you're going out with the guy! there'...</td>\n",
       "    </tr>\n",
       "    <tr>\n",
       "      <th>2</th>\n",
       "      <td>2</td>\n",
       "      <td>0101</td>\n",
       "      <td>2</td>\n",
       "      <td>[central perk]</td>\n",
       "      <td>chandler</td>\n",
       "      <td>all right joey, be nice.  so does he have a...</td>\n",
       "    </tr>\n",
       "    <tr>\n",
       "      <th>3</th>\n",
       "      <td>3</td>\n",
       "      <td>0101</td>\n",
       "      <td>3</td>\n",
       "      <td>[central perk]</td>\n",
       "      <td>phoebe</td>\n",
       "      <td>wait, does he eat chalk? (they all stare, be...</td>\n",
       "    </tr>\n",
       "    <tr>\n",
       "      <th>4</th>\n",
       "      <td>4</td>\n",
       "      <td>0101</td>\n",
       "      <td>4</td>\n",
       "      <td>[central perk]</td>\n",
       "      <td>phoebe</td>\n",
       "      <td>just, 'cause, i don't want her to go through...</td>\n",
       "    </tr>\n",
       "    <tr>\n",
       "      <th>...</th>\n",
       "      <td>...</td>\n",
       "      <td>...</td>\n",
       "      <td>...</td>\n",
       "      <td>...</td>\n",
       "      <td>...</td>\n",
       "      <td>...</td>\n",
       "    </tr>\n",
       "    <tr>\n",
       "      <th>61485</th>\n",
       "      <td>580</td>\n",
       "      <td>1017-1018</td>\n",
       "      <td>580</td>\n",
       "      <td>[monica and chandler's apartment]</td>\n",
       "      <td>chandler</td>\n",
       "      <td>oh, it's gonna be okay. (chandler hugs her. m...</td>\n",
       "    </tr>\n",
       "    <tr>\n",
       "      <th>61486</th>\n",
       "      <td>581</td>\n",
       "      <td>1017-1018</td>\n",
       "      <td>581</td>\n",
       "      <td>[monica and chandler's apartment]</td>\n",
       "      <td>rachel</td>\n",
       "      <td>(crying) do you guys have to go to the new ho...</td>\n",
       "    </tr>\n",
       "    <tr>\n",
       "      <th>61487</th>\n",
       "      <td>582</td>\n",
       "      <td>1017-1018</td>\n",
       "      <td>582</td>\n",
       "      <td>[monica and chandler's apartment]</td>\n",
       "      <td>monica</td>\n",
       "      <td>we got some time.</td>\n",
       "    </tr>\n",
       "    <tr>\n",
       "      <th>61488</th>\n",
       "      <td>583</td>\n",
       "      <td>1017-1018</td>\n",
       "      <td>583</td>\n",
       "      <td>[monica and chandler's apartment]</td>\n",
       "      <td>rachel</td>\n",
       "      <td>okay, should we get some coffee?</td>\n",
       "    </tr>\n",
       "    <tr>\n",
       "      <th>61489</th>\n",
       "      <td>584</td>\n",
       "      <td>1017-1018</td>\n",
       "      <td>584</td>\n",
       "      <td>[monica and chandler's apartment]</td>\n",
       "      <td>chandler</td>\n",
       "      <td>sure. where? (they all leave the apartment. j...</td>\n",
       "    </tr>\n",
       "  </tbody>\n",
       "</table>\n",
       "<p>61490 rows × 6 columns</p>\n",
       "</div>"
      ],
      "text/plain": [
       "       Unnamed: 0        eps  dialogue_ids                      scenes_places  \\\n",
       "0               0       0101             0                     [central perk]   \n",
       "1               1       0101             1                     [central perk]   \n",
       "2               2       0101             2                     [central perk]   \n",
       "3               3       0101             3                     [central perk]   \n",
       "4               4       0101             4                     [central perk]   \n",
       "...           ...        ...           ...                                ...   \n",
       "61485         580  1017-1018           580  [monica and chandler's apartment]   \n",
       "61486         581  1017-1018           581  [monica and chandler's apartment]   \n",
       "61487         582  1017-1018           582  [monica and chandler's apartment]   \n",
       "61488         583  1017-1018           583  [monica and chandler's apartment]   \n",
       "61489         584  1017-1018           584  [monica and chandler's apartment]   \n",
       "\n",
       "       character                                           dialogue  \n",
       "0         monica    there's nothing to tell! he's just some guy ...  \n",
       "1           joey    c'mon, you're going out with the guy! there'...  \n",
       "2       chandler     all right joey, be nice.  so does he have a...  \n",
       "3         phoebe    wait, does he eat chalk? (they all stare, be...  \n",
       "4         phoebe    just, 'cause, i don't want her to go through...  \n",
       "...          ...                                                ...  \n",
       "61485  chandler    oh, it's gonna be okay. (chandler hugs her. m...  \n",
       "61486    rachel    (crying) do you guys have to go to the new ho...  \n",
       "61487    monica                                   we got some time.  \n",
       "61488    rachel                    okay, should we get some coffee?  \n",
       "61489  chandler    sure. where? (they all leave the apartment. j...  \n",
       "\n",
       "[61490 rows x 6 columns]"
      ]
     },
     "execution_count": 44,
     "metadata": {},
     "output_type": "execute_result"
    }
   ],
   "source": [
    "df_trcpt_all"
   ]
  },
  {
   "cell_type": "code",
   "execution_count": null,
   "metadata": {},
   "outputs": [],
   "source": []
  },
  {
   "cell_type": "markdown",
   "metadata": {},
   "source": [
    "**1. Remove all text in \"()\" or \"[]\" and some punctuations**"
   ]
  },
  {
   "cell_type": "code",
   "execution_count": 45,
   "metadata": {},
   "outputs": [],
   "source": [
    "regex = re.compile(\"[\\(\\[].*?[\\)\\]]\")\n",
    "# re.sub(, \"\", x)\n",
    "# 'This is a sentence.  '"
   ]
  },
  {
   "cell_type": "code",
   "execution_count": 46,
   "metadata": {},
   "outputs": [],
   "source": [
    "# df_trcpt_all.sample(100).dialogue.tolist()[:35]"
   ]
  },
  {
   "cell_type": "code",
   "execution_count": 47,
   "metadata": {},
   "outputs": [
    {
     "data": {
      "text/plain": [
       "'  awwwww!!  awwwwwww!!!'"
      ]
     },
     "execution_count": 47,
     "metadata": {},
     "output_type": "execute_result"
    }
   ],
   "source": [
    "re.sub(regex,\"\", '  awwwww!! (they lean back all the way.) awwwwwww!!!')"
   ]
  },
  {
   "cell_type": "code",
   "execution_count": 48,
   "metadata": {},
   "outputs": [],
   "source": [
    "df_trcpt_all['dialogue2'] = df_trcpt_all.dialogue.apply(lambda x : re.sub(regex,\"\",x))\n",
    "df_trcpt_all['dialogue3'] = df_trcpt_all.dialogue2.apply(lambda x : x.replace('!',' ').replace('?',' ').replace('.',' ').replace(',',' '))\n",
    "df_trcpt_all['dialogue3'] = df_trcpt_all.dialogue3.apply(lambda x : x.replace('!',' ').replace('    ',' ').replace('   ',' ').replace('  ',' '))\n",
    "df_trcpt_all['dialogue3'] = df_trcpt_all.dialogue3.apply(lambda x : x.replace('`cause','because'))\n",
    "df_trcpt_all['dialogue3'] = df_trcpt_all.dialogue3.apply(lambda x : x.strip())"
   ]
  },
  {
   "cell_type": "code",
   "execution_count": 49,
   "metadata": {},
   "outputs": [
    {
     "data": {
      "text/plain": [
       "['what there was ice there that night with carol plastic seats four thousand angry pittsburgh fans',\n",
       " 'the wedding is off sloppy and immature',\n",
       " \"y'know you called me that before so i i took the liberty of fashioning a star out of aluminum foil now no pressure you like my cookies you give me the star\",\n",
       " \"yeah i wanted to call and tell you that there's no hard feelings for firing me\",\n",
       " \"no real honey really it's fine just g go with susan really i no i think girls night out is a great idea okay okay bye\",\n",
       " 'huh never really thought about the writers the scripts just kinda come to my house but you know what this makes me look good which makes the show look good which makes the writers look good so how could they be mad about that',\n",
       " 'ohh thanks rach goodnight',\n",
       " 'oh my god yes i would love that oh that is soo sweet joey',\n",
       " 'you go back out there and you seduce her till she cracks',\n",
       " \"oh you can't show phoebe this she hates those corporate massage chains\",\n",
       " \"okay obviously you don't know much about the u s government\",\n",
       " \"all right look if you can't come home and deal with this then i'm gonna\",\n",
       " \"it's joey\",\n",
       " 'good idea where do you want to go to lunch',\n",
       " \"i just had a meeting i was actually hoping to get transferred up here but i just found out its not gonna happen apparently somebody thinks i'm not eleventh floor material say uh who the hell is this chandler\",\n",
       " 'what',\n",
       " 'ok odd thing to get excited about',\n",
       " \"little baby girl chandler where i have heard that before oh right coach ruben do you know what pheebs when you're done over there we kinda have a situation over here too\",\n",
       " 'oh my god how bad was it',\n",
       " \"umm i'm still here\",\n",
       " 'yeah',\n",
       " 'ok and then you take the poopie diaper and you put it in the poopie diaper pail',\n",
       " \"kids new dream i'm in las vegas\",\n",
       " 'hey you ok',\n",
       " 'you need to give him money',\n",
       " \"just y'know out\",\n",
       " \"oh hey hey hey ho ho ho hello guy who doesn't want to know standing right here\",\n",
       " 'what is it',\n",
       " \"yeah it's almost definitely him\",\n",
       " 'not a problem']"
      ]
     },
     "execution_count": 49,
     "metadata": {},
     "output_type": "execute_result"
    }
   ],
   "source": [
    "df_trcpt_all.sample(30)['dialogue3'].tolist()"
   ]
  },
  {
   "cell_type": "code",
   "execution_count": null,
   "metadata": {},
   "outputs": [],
   "source": []
  },
  {
   "cell_type": "markdown",
   "metadata": {},
   "source": [
    "**2. standardized some abbreviation words**\n",
    "\n",
    "like y'know, can't"
   ]
  },
  {
   "cell_type": "code",
   "execution_count": 50,
   "metadata": {},
   "outputs": [],
   "source": [
    "# all_sentences=df_trcpt_all['dialogue2'].tolist()"
   ]
  },
  {
   "cell_type": "code",
   "execution_count": 51,
   "metadata": {},
   "outputs": [],
   "source": [
    "# all_abb = []\n",
    "# for sen in all_sentences:\n",
    "#     words = sen.split(' ')\n",
    "#     abb = [w for w in words if \"'\" in w]\n",
    "#     all_abb += abb\n",
    "    \n",
    "# all_abb = pd.Series(all_abb).value_counts()\n"
   ]
  },
  {
   "cell_type": "code",
   "execution_count": 52,
   "metadata": {},
   "outputs": [],
   "source": [
    "# all_abb[all_abb>50]."
   ]
  },
  {
   "cell_type": "code",
   "execution_count": null,
   "metadata": {},
   "outputs": [],
   "source": []
  },
  {
   "cell_type": "markdown",
   "metadata": {},
   "source": [
    "**3. Remove stop words**"
   ]
  },
  {
   "cell_type": "code",
   "execution_count": 53,
   "metadata": {},
   "outputs": [],
   "source": [
    "# stopwords.words('english')"
   ]
  },
  {
   "cell_type": "code",
   "execution_count": 54,
   "metadata": {},
   "outputs": [],
   "source": [
    "# def lose_stop(sentence):\n",
    "#     word_list = sentence.split(' ')\n",
    "#     new_sen = []\n",
    "#     for w in sentence:\n",
    "#         if w not in stopwords.words('english'):\n",
    "#             new_sen.append(w)\n",
    "            \n",
    "#     return ' '.join(new_sen)"
   ]
  },
  {
   "cell_type": "code",
   "execution_count": 55,
   "metadata": {},
   "outputs": [],
   "source": [
    "# df_trcpt_all['dialogue3'] = df_trcpt_all.dialogue2.apply(lambda x : lose_stop(x))"
   ]
  },
  {
   "cell_type": "code",
   "execution_count": 56,
   "metadata": {},
   "outputs": [],
   "source": [
    "# df_trcpt_all.head()"
   ]
  },
  {
   "cell_type": "code",
   "execution_count": null,
   "metadata": {},
   "outputs": [],
   "source": []
  },
  {
   "cell_type": "markdown",
   "metadata": {},
   "source": [
    "**4. character clean**"
   ]
  },
  {
   "cell_type": "code",
   "execution_count": 57,
   "metadata": {},
   "outputs": [],
   "source": [
    "df_trcpt_all.character = df_trcpt_all.character.str.strip()"
   ]
  },
  {
   "cell_type": "code",
   "execution_count": 58,
   "metadata": {},
   "outputs": [
    {
     "data": {
      "text/plain": [
       "rachel        9108\n",
       "ross          9055\n",
       "chandler      8355\n",
       "monica        8276\n",
       "joey          8176\n",
       "phoebe        7396\n",
       "mike           359\n",
       "all            338\n",
       "richard        254\n",
       "janice         217\n",
       "mr. geller     206\n",
       "Name: character, dtype: int64"
      ]
     },
     "execution_count": 58,
     "metadata": {},
     "output_type": "execute_result"
    }
   ],
   "source": [
    "char_dlg_cnt = df_trcpt_all.character.value_counts()\n",
    "char_dlg_cnt[(char_dlg_cnt<100000)&(char_dlg_cnt>200)]"
   ]
  },
  {
   "cell_type": "code",
   "execution_count": 59,
   "metadata": {},
   "outputs": [],
   "source": [
    "char_change = {'rach' : 'rachel',\n",
    "'mnca' : 'monica',\n",
    "'phoe' : 'phoebe'}\n",
    "\n",
    "\n",
    "df_trcpt_all.character = df_trcpt_all.character.replace(char_change)"
   ]
  },
  {
   "cell_type": "code",
   "execution_count": 60,
   "metadata": {},
   "outputs": [
    {
     "data": {
      "text/plain": [
       "rachel        9248\n",
       "ross          9055\n",
       "monica        8383\n",
       "chandler      8355\n",
       "joey          8176\n",
       "phoebe        7476\n",
       "mike           359\n",
       "all            338\n",
       "richard        254\n",
       "janice         217\n",
       "mr. geller     206\n",
       "Name: character, dtype: int64"
      ]
     },
     "execution_count": 60,
     "metadata": {},
     "output_type": "execute_result"
    }
   ],
   "source": [
    "char_dlg_cnt = df_trcpt_all.character.value_counts()\n",
    "char_dlg_cnt[(char_dlg_cnt<100000)&(char_dlg_cnt>200)]"
   ]
  },
  {
   "cell_type": "code",
   "execution_count": null,
   "metadata": {},
   "outputs": [],
   "source": []
  },
  {
   "cell_type": "markdown",
   "metadata": {},
   "source": [
    "## Save"
   ]
  },
  {
   "cell_type": "code",
   "execution_count": 61,
   "metadata": {},
   "outputs": [
    {
     "data": {
      "text/html": [
       "<div>\n",
       "<style scoped>\n",
       "    .dataframe tbody tr th:only-of-type {\n",
       "        vertical-align: middle;\n",
       "    }\n",
       "\n",
       "    .dataframe tbody tr th {\n",
       "        vertical-align: top;\n",
       "    }\n",
       "\n",
       "    .dataframe thead th {\n",
       "        text-align: right;\n",
       "    }\n",
       "</style>\n",
       "<table border=\"1\" class=\"dataframe\">\n",
       "  <thead>\n",
       "    <tr style=\"text-align: right;\">\n",
       "      <th></th>\n",
       "      <th>Unnamed: 0</th>\n",
       "      <th>eps</th>\n",
       "      <th>dialogue_ids</th>\n",
       "      <th>scenes_places</th>\n",
       "      <th>character</th>\n",
       "      <th>dialogue</th>\n",
       "      <th>dialogue2</th>\n",
       "      <th>dialogue3</th>\n",
       "    </tr>\n",
       "  </thead>\n",
       "  <tbody>\n",
       "    <tr>\n",
       "      <th>0</th>\n",
       "      <td>0</td>\n",
       "      <td>0101</td>\n",
       "      <td>0</td>\n",
       "      <td>[central perk]</td>\n",
       "      <td>monica</td>\n",
       "      <td>there's nothing to tell! he's just some guy ...</td>\n",
       "      <td>there's nothing to tell! he's just some guy ...</td>\n",
       "      <td>there's nothing to tell he's just some guy i w...</td>\n",
       "    </tr>\n",
       "    <tr>\n",
       "      <th>1</th>\n",
       "      <td>1</td>\n",
       "      <td>0101</td>\n",
       "      <td>1</td>\n",
       "      <td>[central perk]</td>\n",
       "      <td>joey</td>\n",
       "      <td>c'mon, you're going out with the guy! there'...</td>\n",
       "      <td>c'mon, you're going out with the guy! there'...</td>\n",
       "      <td>c'mon you're going out with the guy there's go...</td>\n",
       "    </tr>\n",
       "    <tr>\n",
       "      <th>2</th>\n",
       "      <td>2</td>\n",
       "      <td>0101</td>\n",
       "      <td>2</td>\n",
       "      <td>[central perk]</td>\n",
       "      <td>chandler</td>\n",
       "      <td>all right joey, be nice.  so does he have a...</td>\n",
       "      <td>all right joey, be nice.  so does he have a...</td>\n",
       "      <td>all right joey be nice so does he have a hump ...</td>\n",
       "    </tr>\n",
       "    <tr>\n",
       "      <th>3</th>\n",
       "      <td>3</td>\n",
       "      <td>0101</td>\n",
       "      <td>3</td>\n",
       "      <td>[central perk]</td>\n",
       "      <td>phoebe</td>\n",
       "      <td>wait, does he eat chalk? (they all stare, be...</td>\n",
       "      <td>wait, does he eat chalk?</td>\n",
       "      <td>wait does he eat chalk</td>\n",
       "    </tr>\n",
       "    <tr>\n",
       "      <th>4</th>\n",
       "      <td>4</td>\n",
       "      <td>0101</td>\n",
       "      <td>4</td>\n",
       "      <td>[central perk]</td>\n",
       "      <td>phoebe</td>\n",
       "      <td>just, 'cause, i don't want her to go through...</td>\n",
       "      <td>just, 'cause, i don't want her to go through...</td>\n",
       "      <td>just 'cause i don't want her to go through wha...</td>\n",
       "    </tr>\n",
       "  </tbody>\n",
       "</table>\n",
       "</div>"
      ],
      "text/plain": [
       "   Unnamed: 0   eps  dialogue_ids   scenes_places character  \\\n",
       "0           0  0101             0  [central perk]    monica   \n",
       "1           1  0101             1  [central perk]      joey   \n",
       "2           2  0101             2  [central perk]  chandler   \n",
       "3           3  0101             3  [central perk]    phoebe   \n",
       "4           4  0101             4  [central perk]    phoebe   \n",
       "\n",
       "                                            dialogue  \\\n",
       "0    there's nothing to tell! he's just some guy ...   \n",
       "1    c'mon, you're going out with the guy! there'...   \n",
       "2     all right joey, be nice.  so does he have a...   \n",
       "3    wait, does he eat chalk? (they all stare, be...   \n",
       "4    just, 'cause, i don't want her to go through...   \n",
       "\n",
       "                                           dialogue2  \\\n",
       "0    there's nothing to tell! he's just some guy ...   \n",
       "1    c'mon, you're going out with the guy! there'...   \n",
       "2     all right joey, be nice.  so does he have a...   \n",
       "3                          wait, does he eat chalk?    \n",
       "4    just, 'cause, i don't want her to go through...   \n",
       "\n",
       "                                           dialogue3  \n",
       "0  there's nothing to tell he's just some guy i w...  \n",
       "1  c'mon you're going out with the guy there's go...  \n",
       "2  all right joey be nice so does he have a hump ...  \n",
       "3                             wait does he eat chalk  \n",
       "4  just 'cause i don't want her to go through wha...  "
      ]
     },
     "execution_count": 61,
     "metadata": {},
     "output_type": "execute_result"
    }
   ],
   "source": [
    "df_trcpt_all.head()"
   ]
  },
  {
   "cell_type": "code",
   "execution_count": 62,
   "metadata": {},
   "outputs": [],
   "source": [
    "del df_trcpt_all['Unnamed: 0']"
   ]
  },
  {
   "cell_type": "code",
   "execution_count": 63,
   "metadata": {},
   "outputs": [],
   "source": [
    "df_trcpt_all.to_csv('../data/friends_all_dialogue_semi_cln.csv',index=False)"
   ]
  },
  {
   "cell_type": "code",
   "execution_count": null,
   "metadata": {},
   "outputs": [],
   "source": []
  }
 ],
 "metadata": {
  "kernelspec": {
   "display_name": "py37_env",
   "language": "python",
   "name": "myenv"
  },
  "language_info": {
   "codemirror_mode": {
    "name": "ipython",
    "version": 3
   },
   "file_extension": ".py",
   "mimetype": "text/x-python",
   "name": "python",
   "nbconvert_exporter": "python",
   "pygments_lexer": "ipython3",
   "version": "3.7.6"
  }
 },
 "nbformat": 4,
 "nbformat_minor": 4
}
