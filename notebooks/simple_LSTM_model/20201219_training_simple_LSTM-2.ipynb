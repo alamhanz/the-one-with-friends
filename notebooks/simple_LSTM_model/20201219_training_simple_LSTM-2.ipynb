{
 "cells": [
  {
   "cell_type": "markdown",
   "metadata": {
    "id": "g5_fZUzo02xP"
   },
   "source": [
    "# Friends Classification Text (LSTM) - 2\n",
    "\n",
    "This is classification of dialogue in FRIENDS TV Series.\n",
    "\n",
    "text only :\n",
    "the character scipt + \"as respond to\"-script\n",
    "\n",
    "<!-- https://stackoverflow.com/questions/61000500/tensorflow-keras-bert-multiclass-text-classification-accuracy -->"
   ]
  },
  {
   "cell_type": "code",
   "execution_count": 1,
   "metadata": {
    "colab": {
     "base_uri": "https://localhost:8080/"
    },
    "id": "03Lpsmju02xR",
    "outputId": "729cb2e1-2326-4654-da9e-3facd4921f7c"
   },
   "outputs": [],
   "source": [
    "import pandas as pd\n",
    "import re\n",
    "import numpy as np\n",
    "import time\n",
    "\n",
    "import os\n",
    "import pprint\n",
    "import tensorflow as tf\n",
    "\n",
    "import sys\n",
    "sys.path.insert(1, '../../src/all_functions/')\n",
    "\n",
    "from text_tools import *\n",
    "\n",
    "import keras\n",
    "from keras.datasets import mnist\n",
    "from sklearn.model_selection import train_test_split\n",
    "from keras.callbacks import ModelCheckpoint\n",
    "from keras.applications.mobilenet_v2 import MobileNetV2, preprocess_input\n",
    "from keras.models import load_model\n",
    "\n",
    "from keras.layers import Embedding, LSTM\n",
    "import matplotlib.pyplot as plt\n",
    "from keras import Sequential\n",
    "\n",
    "from keras import backend as K\n",
    "from keras import layers\n",
    "\n",
    "from sklearn.preprocessing import OneHotEncoder\n",
    "\n",
    "\n",
    "from sklearn.metrics import (classification_report,\n",
    "                             confusion_matrix,\n",
    "                             roc_auc_score)\n",
    "\n",
    "import matplotlib.pyplot as plt\n",
    "import seaborn as sns\n",
    "\n",
    "\n",
    "# from google.colab import drive\n",
    "# drive.mount('/content/gdrive')"
   ]
  },
  {
   "cell_type": "code",
   "execution_count": 2,
   "metadata": {
    "id": "Nplks9aMi_aH"
   },
   "outputs": [],
   "source": [
    "# help(drive.mount)"
   ]
  },
  {
   "cell_type": "code",
   "execution_count": 3,
   "metadata": {},
   "outputs": [],
   "source": [
    "def encode(text):\n",
    "    token_ids = []\n",
    "    for word in text:\n",
    "        try:\n",
    "            token_ids.append(word2idx[word])\n",
    "        except:\n",
    "            token_ids.append(1)\n",
    "            \n",
    "    token_ids = np.array(token_ids)\n",
    "    return token_ids\n",
    "\n",
    "def set_fix_length(ids, max_len = 15):\n",
    "    # print(ids)\n",
    "    length = ids.shape[0]\n",
    "    zeros = np.zeros(max_len)\n",
    "\n",
    "    if length <= max_len:\n",
    "        zeros[:length] = ids\n",
    "    else:\n",
    "        zeros = ids[:max_len]\n",
    "\n",
    "    return zeros"
   ]
  },
  {
   "cell_type": "code",
   "execution_count": null,
   "metadata": {},
   "outputs": [],
   "source": []
  },
  {
   "cell_type": "code",
   "execution_count": 4,
   "metadata": {
    "id": "Z6n6vof_02xV"
   },
   "outputs": [],
   "source": [
    "# PATH_DATA = 'gdrive/'\n",
    "PATH_DATA = '../../data/'"
   ]
  },
  {
   "cell_type": "code",
   "execution_count": 5,
   "metadata": {
    "colab": {
     "base_uri": "https://localhost:8080/"
    },
    "id": "nvelJ79e02xY",
    "outputId": "d017b6ae-6106-451a-9f99-6e6f6ef824ec"
   },
   "outputs": [
    {
     "data": {
      "text/plain": [
       "['friends_seen_season_new.csv',\n",
       " 'friends_unseen_season.csv',\n",
       " 'friends-transcripts',\n",
       " 'friends_all_dialogue.csv',\n",
       " '.DS_Store',\n",
       " 'friends_all_dialogue_semi_cln.csv',\n",
       " 'friends_unseen_season2_2.csv',\n",
       " 'friends_unseen_season_1.csv',\n",
       " 'friends_seen_season2_2.csv',\n",
       " 'friends-transcripts-extract',\n",
       " 'friends_seen_season2_new.csv',\n",
       " 'friends_unseen_season_new.csv',\n",
       " 'friends_seen_season.csv',\n",
       " 'friends_all_dialogue_semi_cln2.csv',\n",
       " 'friends_unseen_season2_new.csv',\n",
       " '.ipynb_checkpoints',\n",
       " 'friends_seen_season2.csv',\n",
       " 'friends_unseen_season2.csv',\n",
       " 'friends_seen_season_1.csv']"
      ]
     },
     "execution_count": 5,
     "metadata": {},
     "output_type": "execute_result"
    }
   ],
   "source": [
    "os.listdir(PATH_DATA)"
   ]
  },
  {
   "cell_type": "code",
   "execution_count": null,
   "metadata": {
    "id": "uQwZJZB61Nwm"
   },
   "outputs": [],
   "source": []
  },
  {
   "cell_type": "markdown",
   "metadata": {
    "id": "0lMeZ84P02xb"
   },
   "source": [
    "## Importing Data"
   ]
  },
  {
   "cell_type": "code",
   "execution_count": 6,
   "metadata": {
    "colab": {
     "base_uri": "https://localhost:8080/"
    },
    "id": "3Nfyykbz1wZv",
    "outputId": "13b39367-505a-4952-e94a-9f7c0dfacd90"
   },
   "outputs": [],
   "source": [
    "# %cd gdrive/My Drive/Repository/Data/"
   ]
  },
  {
   "cell_type": "code",
   "execution_count": 7,
   "metadata": {
    "colab": {
     "base_uri": "https://localhost:8080/"
    },
    "id": "ZCCTJo2o1dDF",
    "outputId": "0d76ccce-34a4-47f5-9815-a2364d8bfcb9"
   },
   "outputs": [],
   "source": [
    "# os.listdir()"
   ]
  },
  {
   "cell_type": "code",
   "execution_count": 8,
   "metadata": {
    "id": "dHeMuViP02xb"
   },
   "outputs": [],
   "source": [
    "# df_dlg_seen = pd.read_csv(PATH_DATA+'friends_seen_season2.csv')\n",
    "# df_dlg_unseen = pd.read_csv(PATH_DATA+'friends_unseen_season2.csv')"
   ]
  },
  {
   "cell_type": "code",
   "execution_count": 9,
   "metadata": {
    "id": "dHeMuViP02xb"
   },
   "outputs": [
    {
     "name": "stderr",
     "output_type": "stream",
     "text": [
      "/Users/alamhanz/anaconda/envs/joko/lib/python3.8/site-packages/IPython/core/interactiveshell.py:3146: DtypeWarning: Columns (0) have mixed types.Specify dtype option on import or set low_memory=False.\n",
      "  has_raised = await self.run_ast_nodes(code_ast.body, cell_name,\n"
     ]
    }
   ],
   "source": [
    "df_dlg_seen = pd.read_csv(PATH_DATA+'friends_seen_season2_2.csv')\n",
    "df_dlg_unseen = pd.read_csv(PATH_DATA+'friends_unseen_season2_2.csv')"
   ]
  },
  {
   "cell_type": "code",
   "execution_count": 10,
   "metadata": {
    "id": "y_VRmC1602xe"
   },
   "outputs": [],
   "source": [
    "data_train = df_dlg_seen[(df_dlg_seen.is_train == True)&(df_dlg_seen.label!=0)][['text1','text2','label']]\n",
    "data_train['label'] = data_train['label']-1\n",
    "data_train = data_train[~(data_train.text1.isnull())]\n",
    "\n",
    "data_test = df_dlg_seen[(df_dlg_seen.is_train == False)&(df_dlg_seen.label!=0)][['text1','text2','label']]\n",
    "data_test['label'] = data_test['label']-1\n",
    "data_test = data_test[~(data_test.text1.isnull())]\n",
    "\n",
    "data_unseen = df_dlg_unseen[(df_dlg_unseen.label!=0)][['text1','text2','label']]\n",
    "data_unseen['label'] = data_unseen['label']-1\n",
    "data_unseen = data_unseen[~(data_unseen.text1.isnull())]"
   ]
  },
  {
   "cell_type": "code",
   "execution_count": 11,
   "metadata": {
    "colab": {
     "base_uri": "https://localhost:8080/"
    },
    "id": "Tt421RVa02xh",
    "outputId": "03de5b03-ec4f-4f0f-8656-399e7cb20cf9"
   },
   "outputs": [
    {
     "data": {
      "text/plain": [
       "(25981, 3)"
      ]
     },
     "execution_count": 11,
     "metadata": {},
     "output_type": "execute_result"
    }
   ],
   "source": [
    "data_train.shape"
   ]
  },
  {
   "cell_type": "code",
   "execution_count": 12,
   "metadata": {
    "colab": {
     "base_uri": "https://localhost:8080/"
    },
    "id": "LnHpAS_J02xk",
    "outputId": "4ab46916-557f-4c8a-c7d8-e19ff5f1478c"
   },
   "outputs": [
    {
     "data": {
      "text/plain": [
       "(8593, 3)"
      ]
     },
     "execution_count": 12,
     "metadata": {},
     "output_type": "execute_result"
    }
   ],
   "source": [
    "data_test.shape"
   ]
  },
  {
   "cell_type": "code",
   "execution_count": 13,
   "metadata": {
    "colab": {
     "base_uri": "https://localhost:8080/"
    },
    "id": "u1kNu3H602xo",
    "outputId": "3233fad8-8882-47d7-ed3b-4d0807ed4c05"
   },
   "outputs": [
    {
     "data": {
      "text/plain": [
       "(8305, 3)"
      ]
     },
     "execution_count": 13,
     "metadata": {},
     "output_type": "execute_result"
    }
   ],
   "source": [
    "data_unseen.shape"
   ]
  },
  {
   "cell_type": "code",
   "execution_count": 14,
   "metadata": {
    "colab": {
     "base_uri": "https://localhost:8080/"
    },
    "id": "IWx_PNZHay70",
    "outputId": "b877f337-b9ed-4c6e-e07c-8c4d0e0d7428"
   },
   "outputs": [
    {
     "data": {
      "text/plain": [
       "1    0.178867\n",
       "0    0.177470\n",
       "3    0.167811\n",
       "2    0.167229\n",
       "4    0.160014\n",
       "5    0.148609\n",
       "Name: label, dtype: float64"
      ]
     },
     "execution_count": 14,
     "metadata": {},
     "output_type": "execute_result"
    }
   ],
   "source": [
    "XX = data_test.label.value_counts()\n",
    "XX/XX.sum()"
   ]
  },
  {
   "cell_type": "code",
   "execution_count": null,
   "metadata": {
    "id": "L1J6bjri02xr"
   },
   "outputs": [],
   "source": []
  },
  {
   "cell_type": "markdown",
   "metadata": {
    "id": "5KQGGRST02xu"
   },
   "source": [
    "## Tokenizer"
   ]
  },
  {
   "cell_type": "code",
   "execution_count": 15,
   "metadata": {},
   "outputs": [],
   "source": [
    "MAX_LEN = 20\n",
    "EMBED_SIZE = 128"
   ]
  },
  {
   "cell_type": "code",
   "execution_count": 16,
   "metadata": {},
   "outputs": [],
   "source": [
    "OH = OneHotEncoder()"
   ]
  },
  {
   "cell_type": "code",
   "execution_count": 17,
   "metadata": {},
   "outputs": [
    {
     "data": {
      "text/html": [
       "<div>\n",
       "<style scoped>\n",
       "    .dataframe tbody tr th:only-of-type {\n",
       "        vertical-align: middle;\n",
       "    }\n",
       "\n",
       "    .dataframe tbody tr th {\n",
       "        vertical-align: top;\n",
       "    }\n",
       "\n",
       "    .dataframe thead th {\n",
       "        text-align: right;\n",
       "    }\n",
       "</style>\n",
       "<table border=\"1\" class=\"dataframe\">\n",
       "  <thead>\n",
       "    <tr style=\"text-align: right;\">\n",
       "      <th></th>\n",
       "      <th>text1</th>\n",
       "      <th>text2</th>\n",
       "      <th>label</th>\n",
       "    </tr>\n",
       "  </thead>\n",
       "  <tbody>\n",
       "    <tr>\n",
       "      <th>1</th>\n",
       "      <td>c'mon you're going out with the guy there's go...</td>\n",
       "      <td>all right joey be nice so does he have a hump ...</td>\n",
       "      <td>3</td>\n",
       "    </tr>\n",
       "    <tr>\n",
       "      <th>3</th>\n",
       "      <td>just because i don't want her to go through wh...</td>\n",
       "      <td>okay everybody relax this is not even a date i...</td>\n",
       "      <td>2</td>\n",
       "    </tr>\n",
       "    <tr>\n",
       "      <th>4</th>\n",
       "      <td>okay everybody relax this is not even a date i...</td>\n",
       "      <td>sounds like a date to me</td>\n",
       "      <td>3</td>\n",
       "    </tr>\n",
       "    <tr>\n",
       "      <th>7</th>\n",
       "      <td>then i look down and i realize there's a phone...</td>\n",
       "      <td>instead of</td>\n",
       "      <td>4</td>\n",
       "    </tr>\n",
       "    <tr>\n",
       "      <th>9</th>\n",
       "      <td>that's</td>\n",
       "      <td>never had that dream</td>\n",
       "      <td>4</td>\n",
       "    </tr>\n",
       "  </tbody>\n",
       "</table>\n",
       "</div>"
      ],
      "text/plain": [
       "                                               text1  \\\n",
       "1  c'mon you're going out with the guy there's go...   \n",
       "3  just because i don't want her to go through wh...   \n",
       "4  okay everybody relax this is not even a date i...   \n",
       "7  then i look down and i realize there's a phone...   \n",
       "9                                             that's   \n",
       "\n",
       "                                               text2  label  \n",
       "1  all right joey be nice so does he have a hump ...      3  \n",
       "3  okay everybody relax this is not even a date i...      2  \n",
       "4                           sounds like a date to me      3  \n",
       "7                                         instead of      4  \n",
       "9                               never had that dream      4  "
      ]
     },
     "execution_count": 17,
     "metadata": {},
     "output_type": "execute_result"
    }
   ],
   "source": [
    "data_train.head()"
   ]
  },
  {
   "cell_type": "code",
   "execution_count": 18,
   "metadata": {},
   "outputs": [
    {
     "data": {
      "text/html": [
       "<div>\n",
       "<style scoped>\n",
       "    .dataframe tbody tr th:only-of-type {\n",
       "        vertical-align: middle;\n",
       "    }\n",
       "\n",
       "    .dataframe tbody tr th {\n",
       "        vertical-align: top;\n",
       "    }\n",
       "\n",
       "    .dataframe thead th {\n",
       "        text-align: right;\n",
       "    }\n",
       "</style>\n",
       "<table border=\"1\" class=\"dataframe\">\n",
       "  <thead>\n",
       "    <tr style=\"text-align: right;\">\n",
       "      <th></th>\n",
       "      <th>text1</th>\n",
       "      <th>text2</th>\n",
       "      <th>label</th>\n",
       "    </tr>\n",
       "  </thead>\n",
       "  <tbody>\n",
       "    <tr>\n",
       "      <th>0</th>\n",
       "      <td>there's nothing to tell he's just some guy i w...</td>\n",
       "      <td>c'mon you're going out with the guy there's go...</td>\n",
       "      <td>4</td>\n",
       "    </tr>\n",
       "    <tr>\n",
       "      <th>2</th>\n",
       "      <td>all right joey be nice so does he have a hump ...</td>\n",
       "      <td>wait does he eat chalk</td>\n",
       "      <td>5</td>\n",
       "    </tr>\n",
       "    <tr>\n",
       "      <th>6</th>\n",
       "      <td>oh yeah had that dream</td>\n",
       "      <td>then i look down and i realize there's a phone...</td>\n",
       "      <td>3</td>\n",
       "    </tr>\n",
       "    <tr>\n",
       "      <th>8</th>\n",
       "      <td>instead of</td>\n",
       "      <td>that's</td>\n",
       "      <td>3</td>\n",
       "    </tr>\n",
       "    <tr>\n",
       "      <th>11</th>\n",
       "      <td>no</td>\n",
       "      <td>all of a sudden the phone starts to ring now i...</td>\n",
       "      <td>3</td>\n",
       "    </tr>\n",
       "  </tbody>\n",
       "</table>\n",
       "</div>"
      ],
      "text/plain": [
       "                                                text1  \\\n",
       "0   there's nothing to tell he's just some guy i w...   \n",
       "2   all right joey be nice so does he have a hump ...   \n",
       "6                              oh yeah had that dream   \n",
       "8                                          instead of   \n",
       "11                                                 no   \n",
       "\n",
       "                                                text2  label  \n",
       "0   c'mon you're going out with the guy there's go...      4  \n",
       "2                              wait does he eat chalk      5  \n",
       "6   then i look down and i realize there's a phone...      3  \n",
       "8                                              that's      3  \n",
       "11  all of a sudden the phone starts to ring now i...      3  "
      ]
     },
     "execution_count": 18,
     "metadata": {},
     "output_type": "execute_result"
    }
   ],
   "source": [
    "data_test.head()"
   ]
  },
  {
   "cell_type": "code",
   "execution_count": 19,
   "metadata": {},
   "outputs": [
    {
     "data": {
      "text/html": [
       "<div>\n",
       "<style scoped>\n",
       "    .dataframe tbody tr th:only-of-type {\n",
       "        vertical-align: middle;\n",
       "    }\n",
       "\n",
       "    .dataframe tbody tr th {\n",
       "        vertical-align: top;\n",
       "    }\n",
       "\n",
       "    .dataframe thead th {\n",
       "        text-align: right;\n",
       "    }\n",
       "</style>\n",
       "<table border=\"1\" class=\"dataframe\">\n",
       "  <thead>\n",
       "    <tr style=\"text-align: right;\">\n",
       "      <th></th>\n",
       "      <th>text1</th>\n",
       "      <th>text2</th>\n",
       "      <th>label</th>\n",
       "    </tr>\n",
       "  </thead>\n",
       "  <tbody>\n",
       "    <tr>\n",
       "      <th>0</th>\n",
       "      <td>so uh i guess we should make it official huh</td>\n",
       "      <td>uh look rach hey ross is here hey look it's my...</td>\n",
       "      <td>4</td>\n",
       "    </tr>\n",
       "    <tr>\n",
       "      <th>1</th>\n",
       "      <td>uh look rach hey ross is here hey look it's my...</td>\n",
       "      <td>joey you</td>\n",
       "      <td>1</td>\n",
       "    </tr>\n",
       "    <tr>\n",
       "      <th>2</th>\n",
       "      <td>joey you</td>\n",
       "      <td>you</td>\n",
       "      <td>0</td>\n",
       "    </tr>\n",
       "    <tr>\n",
       "      <th>3</th>\n",
       "      <td>you</td>\n",
       "      <td>hey and look he brought flowers thanks ross bu...</td>\n",
       "      <td>4</td>\n",
       "    </tr>\n",
       "    <tr>\n",
       "      <th>4</th>\n",
       "      <td>hey and look he brought flowers thanks ross bu...</td>\n",
       "      <td>you're weird today listen i uh wanted to talk ...</td>\n",
       "      <td>1</td>\n",
       "    </tr>\n",
       "  </tbody>\n",
       "</table>\n",
       "</div>"
      ],
      "text/plain": [
       "                                               text1  \\\n",
       "0       so uh i guess we should make it official huh   \n",
       "1  uh look rach hey ross is here hey look it's my...   \n",
       "2                                           joey you   \n",
       "3                                                you   \n",
       "4  hey and look he brought flowers thanks ross bu...   \n",
       "\n",
       "                                               text2  label  \n",
       "0  uh look rach hey ross is here hey look it's my...      4  \n",
       "1                                           joey you      1  \n",
       "2                                                you      0  \n",
       "3  hey and look he brought flowers thanks ross bu...      4  \n",
       "4  you're weird today listen i uh wanted to talk ...      1  "
      ]
     },
     "execution_count": 19,
     "metadata": {},
     "output_type": "execute_result"
    }
   ],
   "source": [
    "data_unseen.head()"
   ]
  },
  {
   "cell_type": "code",
   "execution_count": null,
   "metadata": {},
   "outputs": [],
   "source": []
  },
  {
   "cell_type": "code",
   "execution_count": 20,
   "metadata": {},
   "outputs": [],
   "source": [
    "get_ids = pd.concat([data_train,data_test])\n",
    "get_ids = pd.DataFrame(get_ids['text1'].tolist()+get_ids['text2'].tolist(),columns = ['text'])"
   ]
  },
  {
   "cell_type": "code",
   "execution_count": 21,
   "metadata": {},
   "outputs": [],
   "source": [
    "word2idx, idx2word = data_text_prep(get_ids)"
   ]
  },
  {
   "cell_type": "code",
   "execution_count": 22,
   "metadata": {},
   "outputs": [
    {
     "data": {
      "text/plain": [
       "13352"
      ]
     },
     "execution_count": 22,
     "metadata": {},
     "output_type": "execute_result"
    }
   ],
   "source": [
    "VOCAB_SIZE = len(word2idx)\n",
    "VOCAB_SIZE"
   ]
  },
  {
   "cell_type": "code",
   "execution_count": 23,
   "metadata": {},
   "outputs": [],
   "source": [
    "def get_input(df):\n",
    "    X1 = []\n",
    "    X2 = []\n",
    "    label_ls = []\n",
    "    for txt1,txt2,label in df.values:\n",
    "        text_encode = encode(txt1)\n",
    "        text_encode = set_fix_length(text_encode,max_len=MAX_LEN)\n",
    "        X1.append(text_encode)\n",
    "        \n",
    "        text_encode = encode(txt2)\n",
    "        text_encode = set_fix_length(text_encode,max_len=MAX_LEN)\n",
    "        X2.append(text_encode)\n",
    "        \n",
    "        label_ls.append(label)\n",
    "    return np.stack(X1),np.stack(X2),np.array(label_ls)"
   ]
  },
  {
   "cell_type": "code",
   "execution_count": 24,
   "metadata": {},
   "outputs": [],
   "source": [
    "X_train1,X_train2,label_train = get_input(data_train)\n",
    "X_test1,X_test2,label_test = get_input(data_test)\n",
    "X_unseen1,X_unseen2,label_unseen = get_input(data_unseen)"
   ]
  },
  {
   "cell_type": "code",
   "execution_count": 25,
   "metadata": {},
   "outputs": [
    {
     "data": {
      "text/plain": [
       "OneHotEncoder()"
      ]
     },
     "execution_count": 25,
     "metadata": {},
     "output_type": "execute_result"
    }
   ],
   "source": [
    "OH.fit(label_train.reshape(len(label_train),-1))"
   ]
  },
  {
   "cell_type": "code",
   "execution_count": 26,
   "metadata": {},
   "outputs": [],
   "source": [
    "y_train = OH.transform(label_train.reshape(len(label_train),-1)).toarray()\n",
    "y_test = OH.transform(label_test.reshape(len(label_test),-1)).toarray()\n",
    "y_unseen = OH.transform(label_unseen.reshape(len(label_unseen),-1)).toarray()"
   ]
  },
  {
   "cell_type": "code",
   "execution_count": null,
   "metadata": {},
   "outputs": [],
   "source": []
  },
  {
   "cell_type": "markdown",
   "metadata": {
    "id": "cYqyu2RK02x6"
   },
   "source": [
    "## Training Model"
   ]
  },
  {
   "cell_type": "code",
   "execution_count": 27,
   "metadata": {},
   "outputs": [],
   "source": [
    "def text_net() :\n",
    "    # sentence_indices = keras.Input(25, dtype = 'int32')\n",
    "    mod1 = Sequential()\n",
    "    mod1.add(Embedding(VOCAB_SIZE, EMBED_SIZE))\n",
    "    mod1.add(LSTM(128,return_sequences = True))\n",
    "    mod1.add(LSTM(64,return_sequences = True))\n",
    "    mod1.add(layers.Dropout(0.4))\n",
    "    return mod1"
   ]
  },
  {
   "cell_type": "code",
   "execution_count": 28,
   "metadata": {},
   "outputs": [],
   "source": [
    "input_dim_txt = (MAX_LEN)\n",
    "txt_1 = keras.Input(shape=input_dim_txt)\n",
    "txt_2 = keras.Input(shape=input_dim_txt)"
   ]
  },
  {
   "cell_type": "code",
   "execution_count": 29,
   "metadata": {},
   "outputs": [],
   "source": [
    "tx_net = text_net()\n",
    "connect_layer = layers.Concatenate(axis=2)\n",
    "\n",
    "feat_txt_1 = tx_net(txt_1)\n",
    "feat_txt_2 = tx_net(txt_2)\n",
    "\n",
    "concat_txt = connect_layer([feat_txt_1, feat_txt_2])\n",
    "\n",
    "\n",
    "LSTM_2 = LSTM(32,return_sequences = True)(concat_txt)\n",
    "layers_n = layers.Flatten()(LSTM_2)\n",
    "layers_n = layers.Dense(256,activation='relu')(layers_n)\n",
    "layers_n = layers.Dropout(0.4)(layers_n)\n",
    "layers_n = layers.Dense(64,activation='relu')(layers_n)\n",
    "layers_n = layers.Dropout(0.3)(layers_n)\n",
    "layers_n = layers.Dense(16,activation='relu')(layers_n)\n",
    "layers_n = layers.Dropout(0.2)(layers_n)\n",
    "prediction = layers.Dense(6,activation='softmax')(layers_n)\n",
    "\n",
    "mod1 = keras.Model(inputs = [txt_1, txt_2], outputs = prediction)"
   ]
  },
  {
   "cell_type": "code",
   "execution_count": null,
   "metadata": {},
   "outputs": [],
   "source": []
  },
  {
   "cell_type": "code",
   "execution_count": 30,
   "metadata": {},
   "outputs": [
    {
     "name": "stdout",
     "output_type": "stream",
     "text": [
      "Model: \"functional_1\"\n",
      "__________________________________________________________________________________________________\n",
      "Layer (type)                    Output Shape         Param #     Connected to                     \n",
      "==================================================================================================\n",
      "input_1 (InputLayer)            [(None, 20)]         0                                            \n",
      "__________________________________________________________________________________________________\n",
      "input_2 (InputLayer)            [(None, 20)]         0                                            \n",
      "__________________________________________________________________________________________________\n",
      "sequential (Sequential)         (None, None, 64)     1890048     input_1[0][0]                    \n",
      "                                                                 input_2[0][0]                    \n",
      "__________________________________________________________________________________________________\n",
      "concatenate (Concatenate)       (None, 20, 128)      0           sequential[0][0]                 \n",
      "                                                                 sequential[1][0]                 \n",
      "__________________________________________________________________________________________________\n",
      "lstm_2 (LSTM)                   (None, 20, 32)       20608       concatenate[0][0]                \n",
      "__________________________________________________________________________________________________\n",
      "flatten (Flatten)               (None, 640)          0           lstm_2[0][0]                     \n",
      "__________________________________________________________________________________________________\n",
      "dense (Dense)                   (None, 256)          164096      flatten[0][0]                    \n",
      "__________________________________________________________________________________________________\n",
      "dropout_1 (Dropout)             (None, 256)          0           dense[0][0]                      \n",
      "__________________________________________________________________________________________________\n",
      "dense_1 (Dense)                 (None, 64)           16448       dropout_1[0][0]                  \n",
      "__________________________________________________________________________________________________\n",
      "dropout_2 (Dropout)             (None, 64)           0           dense_1[0][0]                    \n",
      "__________________________________________________________________________________________________\n",
      "dense_2 (Dense)                 (None, 16)           1040        dropout_2[0][0]                  \n",
      "__________________________________________________________________________________________________\n",
      "dropout_3 (Dropout)             (None, 16)           0           dense_2[0][0]                    \n",
      "__________________________________________________________________________________________________\n",
      "dense_3 (Dense)                 (None, 6)            102         dropout_3[0][0]                  \n",
      "==================================================================================================\n",
      "Total params: 2,092,342\n",
      "Trainable params: 2,092,342\n",
      "Non-trainable params: 0\n",
      "__________________________________________________________________________________________________\n"
     ]
    }
   ],
   "source": [
    "mod1.summary()"
   ]
  },
  {
   "cell_type": "code",
   "execution_count": 31,
   "metadata": {},
   "outputs": [],
   "source": [
    "# keras.utils.plot_model(mod1)"
   ]
  },
  {
   "cell_type": "code",
   "execution_count": 32,
   "metadata": {
    "id": "SKvzYkhC7CHN"
   },
   "outputs": [],
   "source": [
    "filepath = '../../models/simple_LSTM2/model_{epoch:02d}_{val_accuracy:.2f}.hdf5'\n",
    "checkpoint = ModelCheckpoint(filepath, monitor='val_accuracy', verbose=1, save_best_only=True)"
   ]
  },
  {
   "cell_type": "code",
   "execution_count": 33,
   "metadata": {
    "colab": {
     "base_uri": "https://localhost:8080/"
    },
    "id": "KA1k9kZc290S",
    "outputId": "01d43e7d-f920-427c-a028-82e6e7303596"
   },
   "outputs": [
    {
     "name": "stdout",
     "output_type": "stream",
     "text": [
      "Epoch 1/40\n",
      "1300/1300 [==============================] - ETA: 0s - loss: 1.7887 - accuracy: 0.1811\n",
      "Epoch 00001: val_accuracy improved from -inf to 0.18573, saving model to ../../models/simple_LSTM2/model_01_0.19.hdf5\n",
      "1300/1300 [==============================] - 172s 132ms/step - loss: 1.7887 - accuracy: 0.1811 - val_loss: 1.7809 - val_accuracy: 0.1857\n",
      "Epoch 2/40\n",
      "1300/1300 [==============================] - ETA: 0s - loss: 1.7791 - accuracy: 0.1923\n",
      "Epoch 00002: val_accuracy improved from 0.18573 to 0.19062, saving model to ../../models/simple_LSTM2/model_02_0.19.hdf5\n",
      "1300/1300 [==============================] - 148s 114ms/step - loss: 1.7791 - accuracy: 0.1923 - val_loss: 1.7722 - val_accuracy: 0.1906\n",
      "Epoch 3/40\n",
      "1300/1300 [==============================] - ETA: 0s - loss: 1.7713 - accuracy: 0.2038\n",
      "Epoch 00003: val_accuracy improved from 0.19062 to 0.19888, saving model to ../../models/simple_LSTM2/model_03_0.20.hdf5\n",
      "1300/1300 [==============================] - 148s 114ms/step - loss: 1.7713 - accuracy: 0.2038 - val_loss: 1.7686 - val_accuracy: 0.1989\n",
      "Epoch 4/40\n",
      "1300/1300 [==============================] - ETA: 0s - loss: 1.7590 - accuracy: 0.2112\n",
      "Epoch 00004: val_accuracy improved from 0.19888 to 0.21541, saving model to ../../models/simple_LSTM2/model_04_0.22.hdf5\n",
      "1300/1300 [==============================] - 152s 117ms/step - loss: 1.7590 - accuracy: 0.2112 - val_loss: 1.7516 - val_accuracy: 0.2154\n",
      "Epoch 5/40\n",
      "1300/1300 [==============================] - ETA: 0s - loss: 1.7514 - accuracy: 0.2185\n",
      "Epoch 00005: val_accuracy improved from 0.21541 to 0.22949, saving model to ../../models/simple_LSTM2/model_05_0.23.hdf5\n",
      "1300/1300 [==============================] - 156s 120ms/step - loss: 1.7514 - accuracy: 0.2185 - val_loss: 1.7401 - val_accuracy: 0.2295\n",
      "Epoch 6/40\n",
      "1300/1300 [==============================] - ETA: 0s - loss: 1.7462 - accuracy: 0.2271\n",
      "Epoch 00006: val_accuracy improved from 0.22949 to 0.23682, saving model to ../../models/simple_LSTM2/model_06_0.24.hdf5\n",
      "1300/1300 [==============================] - 171s 132ms/step - loss: 1.7462 - accuracy: 0.2271 - val_loss: 1.7369 - val_accuracy: 0.2368\n",
      "Epoch 7/40\n",
      "1300/1300 [==============================] - ETA: 0s - loss: 1.7387 - accuracy: 0.2366\n",
      "Epoch 00007: val_accuracy improved from 0.23682 to 0.24066, saving model to ../../models/simple_LSTM2/model_07_0.24.hdf5\n",
      "1300/1300 [==============================] - 170s 131ms/step - loss: 1.7387 - accuracy: 0.2366 - val_loss: 1.7244 - val_accuracy: 0.2407\n",
      "Epoch 8/40\n",
      "1300/1300 [==============================] - ETA: 0s - loss: 1.7303 - accuracy: 0.2438\n",
      "Epoch 00008: val_accuracy improved from 0.24066 to 0.25090, saving model to ../../models/simple_LSTM2/model_08_0.25.hdf5\n",
      "1300/1300 [==============================] - 179s 137ms/step - loss: 1.7303 - accuracy: 0.2438 - val_loss: 1.7198 - val_accuracy: 0.2509\n",
      "Epoch 9/40\n",
      "1300/1300 [==============================] - ETA: 0s - loss: 1.7233 - accuracy: 0.2473\n",
      "Epoch 00009: val_accuracy did not improve from 0.25090\n",
      "1300/1300 [==============================] - 176s 135ms/step - loss: 1.7233 - accuracy: 0.2473 - val_loss: 1.7219 - val_accuracy: 0.2408\n",
      "Epoch 10/40\n",
      "1300/1300 [==============================] - ETA: 0s - loss: 1.7183 - accuracy: 0.2527\n",
      "Epoch 00010: val_accuracy improved from 0.25090 to 0.25497, saving model to ../../models/simple_LSTM2/model_10_0.25.hdf5\n",
      "1300/1300 [==============================] - 179s 138ms/step - loss: 1.7183 - accuracy: 0.2527 - val_loss: 1.7172 - val_accuracy: 0.2550\n",
      "Epoch 11/40\n",
      "1300/1300 [==============================] - ETA: 0s - loss: 1.7150 - accuracy: 0.2549\n",
      "Epoch 00011: val_accuracy improved from 0.25497 to 0.26394, saving model to ../../models/simple_LSTM2/model_11_0.26.hdf5\n",
      "1300/1300 [==============================] - 184s 141ms/step - loss: 1.7150 - accuracy: 0.2549 - val_loss: 1.7090 - val_accuracy: 0.2639\n",
      "Epoch 12/40\n",
      "1300/1300 [==============================] - ETA: 0s - loss: 1.7089 - accuracy: 0.2635\n",
      "Epoch 00012: val_accuracy improved from 0.26394 to 0.26440, saving model to ../../models/simple_LSTM2/model_12_0.26.hdf5\n",
      "1300/1300 [==============================] - 185s 142ms/step - loss: 1.7089 - accuracy: 0.2635 - val_loss: 1.7079 - val_accuracy: 0.2644\n",
      "Epoch 13/40\n",
      "1300/1300 [==============================] - ETA: 0s - loss: 1.7035 - accuracy: 0.2657\n",
      "Epoch 00013: val_accuracy improved from 0.26440 to 0.26557, saving model to ../../models/simple_LSTM2/model_13_0.27.hdf5\n",
      "1300/1300 [==============================] - 182s 140ms/step - loss: 1.7035 - accuracy: 0.2657 - val_loss: 1.7075 - val_accuracy: 0.2656\n",
      "Epoch 14/40\n",
      "1300/1300 [==============================] - ETA: 0s - loss: 1.6964 - accuracy: 0.2781\n",
      "Epoch 00014: val_accuracy improved from 0.26557 to 0.27325, saving model to ../../models/simple_LSTM2/model_14_0.27.hdf5\n",
      "1300/1300 [==============================] - 182s 140ms/step - loss: 1.6964 - accuracy: 0.2781 - val_loss: 1.7010 - val_accuracy: 0.2732\n",
      "Epoch 15/40\n",
      "1300/1300 [==============================] - ETA: 0s - loss: 1.6897 - accuracy: 0.2769\n",
      "Epoch 00015: val_accuracy did not improve from 0.27325\n",
      "1300/1300 [==============================] - 181s 140ms/step - loss: 1.6897 - accuracy: 0.2769 - val_loss: 1.6991 - val_accuracy: 0.2727\n",
      "Epoch 16/40\n",
      "1300/1300 [==============================] - ETA: 0s - loss: 1.6816 - accuracy: 0.2838\n",
      "Epoch 00016: val_accuracy improved from 0.27325 to 0.27453, saving model to ../../models/simple_LSTM2/model_16_0.27.hdf5\n",
      "1300/1300 [==============================] - 179s 138ms/step - loss: 1.6816 - accuracy: 0.2838 - val_loss: 1.6969 - val_accuracy: 0.2745\n",
      "Epoch 17/40\n",
      "1300/1300 [==============================] - ETA: 0s - loss: 1.6773 - accuracy: 0.2900\n",
      "Epoch 00017: val_accuracy improved from 0.27453 to 0.27604, saving model to ../../models/simple_LSTM2/model_17_0.28.hdf5\n",
      "1300/1300 [==============================] - 177s 137ms/step - loss: 1.6773 - accuracy: 0.2900 - val_loss: 1.6965 - val_accuracy: 0.2760\n",
      "Epoch 18/40\n",
      "1300/1300 [==============================] - ETA: 0s - loss: 1.6681 - accuracy: 0.2934\n",
      "Epoch 00018: val_accuracy improved from 0.27604 to 0.27778, saving model to ../../models/simple_LSTM2/model_18_0.28.hdf5\n",
      "1300/1300 [==============================] - 176s 135ms/step - loss: 1.6681 - accuracy: 0.2934 - val_loss: 1.6905 - val_accuracy: 0.2778\n",
      "Epoch 19/40\n",
      "1300/1300 [==============================] - ETA: 0s - loss: 1.6591 - accuracy: 0.2976\n",
      "Epoch 00019: val_accuracy improved from 0.27778 to 0.28232, saving model to ../../models/simple_LSTM2/model_19_0.28.hdf5\n",
      "1300/1300 [==============================] - 180s 138ms/step - loss: 1.6591 - accuracy: 0.2976 - val_loss: 1.6960 - val_accuracy: 0.2823\n",
      "Epoch 20/40\n",
      "1300/1300 [==============================] - ETA: 0s - loss: 1.6500 - accuracy: 0.3064\n",
      "Epoch 00020: val_accuracy improved from 0.28232 to 0.28314, saving model to ../../models/simple_LSTM2/model_20_0.28.hdf5\n",
      "1300/1300 [==============================] - 175s 135ms/step - loss: 1.6500 - accuracy: 0.3064 - val_loss: 1.6974 - val_accuracy: 0.2831\n",
      "Epoch 21/40\n",
      "1300/1300 [==============================] - ETA: 0s - loss: 1.6407 - accuracy: 0.3110\n",
      "Epoch 00021: val_accuracy improved from 0.28314 to 0.28523, saving model to ../../models/simple_LSTM2/model_21_0.29.hdf5\n",
      "1300/1300 [==============================] - 176s 135ms/step - loss: 1.6407 - accuracy: 0.3110 - val_loss: 1.6922 - val_accuracy: 0.2852\n",
      "Epoch 22/40\n",
      "1300/1300 [==============================] - ETA: 0s - loss: 1.6292 - accuracy: 0.3232\n",
      "Epoch 00022: val_accuracy did not improve from 0.28523\n",
      "1300/1300 [==============================] - 173s 133ms/step - loss: 1.6292 - accuracy: 0.3232 - val_loss: 1.6917 - val_accuracy: 0.2847\n",
      "Epoch 23/40\n",
      "1300/1300 [==============================] - ETA: 0s - loss: 1.6225 - accuracy: 0.3289\n",
      "Epoch 00023: val_accuracy did not improve from 0.28523\n",
      "1300/1300 [==============================] - 175s 135ms/step - loss: 1.6225 - accuracy: 0.3289 - val_loss: 1.6953 - val_accuracy: 0.2817\n",
      "Epoch 24/40\n",
      "1300/1300 [==============================] - ETA: 0s - loss: 1.6032 - accuracy: 0.3368\n",
      "Epoch 00024: val_accuracy did not improve from 0.28523\n",
      "1300/1300 [==============================] - 174s 134ms/step - loss: 1.6032 - accuracy: 0.3368 - val_loss: 1.7051 - val_accuracy: 0.2828\n",
      "Epoch 25/40\n",
      "1300/1300 [==============================] - ETA: 0s - loss: 1.5924 - accuracy: 0.3449\n",
      "Epoch 00025: val_accuracy did not improve from 0.28523\n",
      "1300/1300 [==============================] - 174s 134ms/step - loss: 1.5924 - accuracy: 0.3449 - val_loss: 1.7144 - val_accuracy: 0.2833\n",
      "Epoch 26/40\n",
      "1299/1300 [============================>.] - ETA: 0s - loss: 1.5767 - accuracy: 0.3505\n",
      "Epoch 00026: val_accuracy did not improve from 0.28523\n",
      "1300/1300 [==============================] - 95s 73ms/step - loss: 1.5766 - accuracy: 0.3505 - val_loss: 1.7130 - val_accuracy: 0.2820\n",
      "Epoch 27/40\n",
      "1299/1300 [============================>.] - ETA: 0s - loss: 1.5560 - accuracy: 0.3663\n",
      "Epoch 00027: val_accuracy did not improve from 0.28523\n",
      "1300/1300 [==============================] - 95s 73ms/step - loss: 1.5560 - accuracy: 0.3663 - val_loss: 1.7240 - val_accuracy: 0.2842\n",
      "Epoch 28/40\n",
      "1300/1300 [==============================] - ETA: 0s - loss: 1.5436 - accuracy: 0.3677\n",
      "Epoch 00028: val_accuracy did not improve from 0.28523\n",
      "1300/1300 [==============================] - 96s 74ms/step - loss: 1.5436 - accuracy: 0.3677 - val_loss: 1.7445 - val_accuracy: 0.2794\n",
      "Epoch 29/40\n",
      "1299/1300 [============================>.] - ETA: 0s - loss: 1.5265 - accuracy: 0.3816\n",
      "Epoch 00029: val_accuracy did not improve from 0.28523\n",
      "1300/1300 [==============================] - 96s 74ms/step - loss: 1.5265 - accuracy: 0.3816 - val_loss: 1.7512 - val_accuracy: 0.2816\n",
      "Epoch 30/40\n",
      "1300/1300 [==============================] - ETA: 0s - loss: 1.5106 - accuracy: 0.3932 ETA: 1s - loss: 1 - ETA: 1s - l\n",
      "Epoch 00030: val_accuracy did not improve from 0.28523\n",
      "1300/1300 [==============================] - 95s 73ms/step - loss: 1.5106 - accuracy: 0.3932 - val_loss: 1.7481 - val_accuracy: 0.2791\n",
      "Epoch 31/40\n",
      "1299/1300 [============================>.] - ETA: 0s - loss: 1.4899 - accuracy: 0.4022\n",
      "Epoch 00031: val_accuracy did not improve from 0.28523\n",
      "1300/1300 [==============================] - 95s 73ms/step - loss: 1.4899 - accuracy: 0.4022 - val_loss: 1.7687 - val_accuracy: 0.2745\n",
      "Epoch 32/40\n",
      "1299/1300 [============================>.] - ETA: 0s - loss: 1.4734 - accuracy: 0.4103\n",
      "Epoch 00032: val_accuracy did not improve from 0.28523\n",
      "1300/1300 [==============================] - 95s 73ms/step - loss: 1.4734 - accuracy: 0.4103 - val_loss: 1.7841 - val_accuracy: 0.2822\n",
      "Epoch 33/40\n",
      "1299/1300 [============================>.] - ETA: 0s - loss: 1.4575 - accuracy: 0.4183\n",
      "Epoch 00033: val_accuracy did not improve from 0.28523\n",
      "1300/1300 [==============================] - 95s 73ms/step - loss: 1.4575 - accuracy: 0.4183 - val_loss: 1.7924 - val_accuracy: 0.2703\n",
      "Epoch 34/40\n",
      "1299/1300 [============================>.] - ETA: 0s - loss: 1.4367 - accuracy: 0.4318\n",
      "Epoch 00034: val_accuracy did not improve from 0.28523\n",
      "1300/1300 [==============================] - 95s 73ms/step - loss: 1.4367 - accuracy: 0.4317 - val_loss: 1.8160 - val_accuracy: 0.2762\n",
      "Epoch 35/40\n",
      "1299/1300 [============================>.] - ETA: 0s - loss: 1.4241 - accuracy: 0.4331\n",
      "Epoch 00035: val_accuracy did not improve from 0.28523\n",
      "1300/1300 [==============================] - 97s 74ms/step - loss: 1.4241 - accuracy: 0.4330 - val_loss: 1.8399 - val_accuracy: 0.2741\n",
      "Epoch 36/40\n",
      "1299/1300 [============================>.] - ETA: 0s - loss: 1.3973 - accuracy: 0.4457\n",
      "Epoch 00036: val_accuracy did not improve from 0.28523\n",
      "1300/1300 [==============================] - 97s 74ms/step - loss: 1.3973 - accuracy: 0.4457 - val_loss: 1.8338 - val_accuracy: 0.2696\n",
      "Epoch 37/40\n",
      "1299/1300 [============================>.] - ETA: 0s - loss: 1.3823 - accuracy: 0.4535\n",
      "Epoch 00037: val_accuracy did not improve from 0.28523\n",
      "1300/1300 [==============================] - 97s 74ms/step - loss: 1.3823 - accuracy: 0.4536 - val_loss: 1.8967 - val_accuracy: 0.2735\n",
      "Epoch 38/40\n",
      "1299/1300 [============================>.] - ETA: 0s - loss: 1.3635 - accuracy: 0.4650\n",
      "Epoch 00038: val_accuracy did not improve from 0.28523\n",
      "1300/1300 [==============================] - 95s 73ms/step - loss: 1.3635 - accuracy: 0.4650 - val_loss: 1.8779 - val_accuracy: 0.2755\n",
      "Epoch 39/40\n",
      "1300/1300 [==============================] - ETA: 0s - loss: 1.3389 - accuracy: 0.4775\n",
      "Epoch 00039: val_accuracy did not improve from 0.28523\n",
      "1300/1300 [==============================] - 97s 75ms/step - loss: 1.3389 - accuracy: 0.4775 - val_loss: 1.9466 - val_accuracy: 0.2678\n",
      "Epoch 40/40\n",
      "1299/1300 [============================>.] - ETA: 0s - loss: 1.3227 - accuracy: 0.4856\n",
      "Epoch 00040: val_accuracy did not improve from 0.28523\n",
      "1300/1300 [==============================] - 95s 73ms/step - loss: 1.3227 - accuracy: 0.4856 - val_loss: 1.9190 - val_accuracy: 0.2763\n"
     ]
    }
   ],
   "source": [
    "# recommended learning rate for Adam 5e-5, 3e-5, 2e-5\n",
    "LR = 5e-4\n",
    "EPOCHS = 40\n",
    "BATCH_SIZE = 20\n",
    "opt = keras.optimizers.Adam(learning_rate=LR)\n",
    "mod1.compile(optimizer=opt, loss='categorical_crossentropy', metrics=['accuracy'])\n",
    "\n",
    "mod_history = mod1.fit([X_train1,X_train2], y_train, \n",
    "            validation_data=([X_test1,X_test2], y_test), \n",
    "            epochs=EPOCHS, batch_size = BATCH_SIZE, verbose=1,\n",
    "            callbacks=[checkpoint])"
   ]
  },
  {
   "cell_type": "code",
   "execution_count": null,
   "metadata": {
    "colab": {
     "base_uri": "https://localhost:8080/"
    },
    "id": "4BdhEg9g02yC",
    "outputId": "102a02d0-d8be-4dcb-900f-088f7c2aa39f"
   },
   "outputs": [],
   "source": []
  },
  {
   "cell_type": "code",
   "execution_count": null,
   "metadata": {
    "id": "7-mq2babThRC"
   },
   "outputs": [],
   "source": []
  },
  {
   "cell_type": "markdown",
   "metadata": {
    "id": "1J-Okj2NVbJT"
   },
   "source": [
    "## Testing"
   ]
  },
  {
   "cell_type": "code",
   "execution_count": 34,
   "metadata": {
    "id": "m7uYbBiZXCHA"
   },
   "outputs": [],
   "source": [
    "mod_use = keras.models.load_model('../../models/simple_LSTM2/model_21_0.29.hdf5')"
   ]
  },
  {
   "cell_type": "code",
   "execution_count": 35,
   "metadata": {},
   "outputs": [],
   "source": [
    "def plot_cm(labels, predictions, type_eval = 'test'):\n",
    "    cm = confusion_matrix(labels, predictions)\n",
    "    cm = (cm.transpose()/cm.sum(axis = 1)).transpose()\n",
    "    plt.figure(figsize=(8, 8))\n",
    "    sns.heatmap(cm, annot=True, fmt=\".2%\")\n",
    "    plt.title(\"Confusion matrix (\"+type_eval+\") - 2\")\n",
    "    plt.ylabel(\"Actual label\")\n",
    "    plt.xlabel(\"Predicted label\")"
   ]
  },
  {
   "cell_type": "code",
   "execution_count": 36,
   "metadata": {},
   "outputs": [],
   "source": [
    "y_pred_test = mod_use.predict([X_test1,X_test2])\n",
    "y_pred_test = np.argmax(y_pred_test,axis = 1)\n",
    "y_true_test = np.argmax(y_test,axis = 1)"
   ]
  },
  {
   "cell_type": "code",
   "execution_count": 37,
   "metadata": {},
   "outputs": [
    {
     "name": "stdout",
     "output_type": "stream",
     "text": [
      "              precision    recall  f1-score   support\n",
      "\n",
      "           0       0.28      0.48      0.35      1525\n",
      "           1       0.29      0.31      0.30      1537\n",
      "           2       0.25      0.37      0.29      1437\n",
      "           3       0.28      0.15      0.20      1442\n",
      "           4       0.34      0.24      0.28      1375\n",
      "           5       0.41      0.14      0.20      1277\n",
      "\n",
      "    accuracy                           0.29      8593\n",
      "   macro avg       0.31      0.28      0.27      8593\n",
      "weighted avg       0.30      0.29      0.27      8593\n",
      "\n"
     ]
    },
    {
     "data": {
      "image/png": "[encoded data removed]",
      "text/plain": [
       "<Figure size 576x576 with 2 Axes>"
      ]
     },
     "metadata": {
      "needs_background": "light"
     },
     "output_type": "display_data"
    }
   ],
   "source": [
    "report = classification_report(y_true_test,y_pred_test)\n",
    "print(report)\n",
    "plot_cm(y_true_test,y_pred_test, type_eval = 'test')"
   ]
  },
  {
   "cell_type": "code",
   "execution_count": null,
   "metadata": {},
   "outputs": [],
   "source": []
  },
  {
   "cell_type": "code",
   "execution_count": 38,
   "metadata": {
    "id": "r0bgWgl6cJQj"
   },
   "outputs": [],
   "source": [
    "y_pred = mod_use.predict([X_unseen1,X_unseen2])\n",
    "y_pred_label = np.argmax(y_pred,axis = 1)\n",
    "y_true_label = data_unseen['label'].values"
   ]
  },
  {
   "cell_type": "code",
   "execution_count": 39,
   "metadata": {},
   "outputs": [
    {
     "name": "stdout",
     "output_type": "stream",
     "text": [
      "              precision    recall  f1-score   support\n",
      "\n",
      "           0       0.24      0.43      0.31      1410\n",
      "           1       0.26      0.28      0.27      1497\n",
      "           2       0.21      0.33      0.26      1369\n",
      "           3       0.28      0.15      0.20      1401\n",
      "           4       0.33      0.22      0.26      1360\n",
      "           5       0.36      0.11      0.16      1268\n",
      "\n",
      "    accuracy                           0.26      8305\n",
      "   macro avg       0.28      0.25      0.24      8305\n",
      "weighted avg       0.28      0.26      0.24      8305\n",
      "\n"
     ]
    },
    {
     "data": {
      "image/png": "[encoded data removed]",
      "text/plain": [
       "<Figure size 576x576 with 2 Axes>"
      ]
     },
     "metadata": {
      "needs_background": "light"
     },
     "output_type": "display_data"
    }
   ],
   "source": [
    "report = classification_report(y_true_label, y_pred_label)\n",
    "print(report)\n",
    "plot_cm(y_true_label, y_pred_label,type_eval = 'unseen')"
   ]
  },
  {
   "cell_type": "code",
   "execution_count": null,
   "metadata": {},
   "outputs": [],
   "source": []
  }
 ],
 "metadata": {
  "accelerator": "TPU",
  "colab": {
   "collapsed_sections": [],
   "name": "20200803_training_bert_TPU.ipynb",
   "provenance": []
  },
  "kernelspec": {
   "display_name": "joko-notebook",
   "language": "python",
   "name": "joko"
  },
  "language_info": {
   "codemirror_mode": {
    "name": "ipython",
    "version": 3
   },
   "file_extension": ".py",
   "mimetype": "text/x-python",
   "name": "python",
   "nbconvert_exporter": "python",
   "pygments_lexer": "ipython3",
   "version": "3.8.3"
  }
 },
 "nbformat": 4,
 "nbformat_minor": 4
}
