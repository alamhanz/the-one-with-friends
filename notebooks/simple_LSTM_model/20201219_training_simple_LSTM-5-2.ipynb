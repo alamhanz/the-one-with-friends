{
 "cells": [
  {
   "cell_type": "markdown",
   "metadata": {
    "id": "g5_fZUzo02xP"
   },
   "source": [
    "# Friends Classification Text (LSTM) - 5 -2\n",
    "\n",
    "This is classification of dialogue in FRIENDS TV Series.\n",
    "\n",
    "text (the character scipt + \"as respond to\"-script) + place + interlocutors --> season 7,8 as train\n",
    "\n",
    "<!-- https://stackoverflow.com/questions/61000500/tensorflow-keras-bert-multiclass-text-classification-accuracy -->"
   ]
  },
  {
   "cell_type": "code",
   "execution_count": 1,
   "metadata": {
    "colab": {
     "base_uri": "https://localhost:8080/"
    },
    "id": "03Lpsmju02xR",
    "outputId": "729cb2e1-2326-4654-da9e-3facd4921f7c"
   },
   "outputs": [],
   "source": [
    "import pandas as pd\n",
    "import re\n",
    "import numpy as np\n",
    "import time\n",
    "\n",
    "import os\n",
    "import pprint\n",
    "import tensorflow as tf\n",
    "\n",
    "import sys\n",
    "sys.path.insert(1, '../../src/all_functions/')\n",
    "\n",
    "from text_tools import *\n",
    "\n",
    "import keras\n",
    "from keras.datasets import mnist\n",
    "from sklearn.model_selection import train_test_split\n",
    "from keras.callbacks import ModelCheckpoint\n",
    "from keras.applications.mobilenet_v2 import MobileNetV2, preprocess_input\n",
    "from keras.models import load_model\n",
    "\n",
    "from keras.layers import Embedding, LSTM\n",
    "import matplotlib.pyplot as plt\n",
    "from keras import Sequential\n",
    "\n",
    "from keras import backend as K\n",
    "from keras import layers\n",
    "\n",
    "from sklearn.preprocessing import OneHotEncoder\n",
    "\n",
    "\n",
    "from sklearn.metrics import (classification_report,\n",
    "                             confusion_matrix,\n",
    "                             roc_auc_score)\n",
    "\n",
    "import matplotlib.pyplot as plt\n",
    "import seaborn as sns\n",
    "\n",
    "# from google.colab import drive\n",
    "# drive.mount('/content/gdrive')"
   ]
  },
  {
   "cell_type": "code",
   "execution_count": 2,
   "metadata": {
    "id": "Nplks9aMi_aH"
   },
   "outputs": [],
   "source": [
    "# help(drive.mount)"
   ]
  },
  {
   "cell_type": "code",
   "execution_count": 3,
   "metadata": {},
   "outputs": [],
   "source": [
    "def encode(text):\n",
    "    token_ids = []\n",
    "    for word in text:\n",
    "        try:\n",
    "            token_ids.append(word2idx[word])\n",
    "        except:\n",
    "            token_ids.append(1)\n",
    "            \n",
    "    token_ids = np.array(token_ids)\n",
    "    return token_ids\n",
    "\n",
    "def set_fix_length(ids, max_len = 15):\n",
    "    # print(ids)\n",
    "    length = ids.shape[0]\n",
    "    zeros = np.zeros(max_len)\n",
    "\n",
    "    if length <= max_len:\n",
    "        zeros[:length] = ids\n",
    "    else:\n",
    "        zeros = ids[:max_len]\n",
    "\n",
    "    return zeros"
   ]
  },
  {
   "cell_type": "code",
   "execution_count": null,
   "metadata": {},
   "outputs": [],
   "source": []
  },
  {
   "cell_type": "code",
   "execution_count": 4,
   "metadata": {
    "id": "Z6n6vof_02xV"
   },
   "outputs": [],
   "source": [
    "# PATH_DATA = 'gdrive/'\n",
    "PATH_DATA = '../../data/'"
   ]
  },
  {
   "cell_type": "code",
   "execution_count": 5,
   "metadata": {
    "colab": {
     "base_uri": "https://localhost:8080/"
    },
    "id": "nvelJ79e02xY",
    "outputId": "d017b6ae-6106-451a-9f99-6e6f6ef824ec"
   },
   "outputs": [
    {
     "data": {
      "text/plain": [
       "['friends_seen_season_new.csv',\n",
       " 'friends_unseen_season.csv',\n",
       " 'friends-transcripts',\n",
       " 'friends_all_dialogue.csv',\n",
       " '.DS_Store',\n",
       " 'friends_all_dialogue_semi_cln.csv',\n",
       " 'friends_unseen_season2_2.csv',\n",
       " 'friends_unseen_season_1.csv',\n",
       " 'friends_seen_season2_2.csv',\n",
       " 'friends-transcripts-extract',\n",
       " 'friends_seen_season2_new.csv',\n",
       " 'friends_unseen_season_new.csv',\n",
       " 'friends_seen_season.csv',\n",
       " 'friends_all_dialogue_semi_cln2.csv',\n",
       " 'friends_unseen_season2_new.csv',\n",
       " '.ipynb_checkpoints',\n",
       " 'friends_seen_season2.csv',\n",
       " 'friends_unseen_season2.csv',\n",
       " 'friends_seen_season_1.csv']"
      ]
     },
     "execution_count": 5,
     "metadata": {},
     "output_type": "execute_result"
    }
   ],
   "source": [
    "os.listdir(PATH_DATA)"
   ]
  },
  {
   "cell_type": "code",
   "execution_count": null,
   "metadata": {
    "id": "uQwZJZB61Nwm"
   },
   "outputs": [],
   "source": []
  },
  {
   "cell_type": "markdown",
   "metadata": {
    "id": "0lMeZ84P02xb"
   },
   "source": [
    "## Importing Data"
   ]
  },
  {
   "cell_type": "code",
   "execution_count": 6,
   "metadata": {
    "colab": {
     "base_uri": "https://localhost:8080/"
    },
    "id": "3Nfyykbz1wZv",
    "outputId": "13b39367-505a-4952-e94a-9f7c0dfacd90"
   },
   "outputs": [],
   "source": [
    "# %cd gdrive/My Drive/Repository/Data/"
   ]
  },
  {
   "cell_type": "code",
   "execution_count": 7,
   "metadata": {
    "colab": {
     "base_uri": "https://localhost:8080/"
    },
    "id": "ZCCTJo2o1dDF",
    "outputId": "0d76ccce-34a4-47f5-9815-a2364d8bfcb9"
   },
   "outputs": [],
   "source": [
    "# os.listdir()"
   ]
  },
  {
   "cell_type": "code",
   "execution_count": 8,
   "metadata": {
    "id": "dHeMuViP02xb"
   },
   "outputs": [
    {
     "name": "stderr",
     "output_type": "stream",
     "text": [
      "/Users/alamhanz/anaconda/envs/joko/lib/python3.8/site-packages/IPython/core/interactiveshell.py:3146: DtypeWarning: Columns (0) have mixed types.Specify dtype option on import or set low_memory=False.\n",
      "  has_raised = await self.run_ast_nodes(code_ast.body, cell_name,\n"
     ]
    }
   ],
   "source": [
    "# df_dlg_seen = pd.read_csv(PATH_DATA+'friends_seen_season2.csv')\n",
    "# df_dlg_unseen = pd.read_csv(PATH_DATA+'friends_unseen_season2.csv')\n",
    "\n",
    "df_dlg_seen = pd.read_csv(PATH_DATA+'friends_seen_season2_2.csv')\n",
    "df_dlg_unseen = pd.read_csv(PATH_DATA+'friends_unseen_season2_2.csv')"
   ]
  },
  {
   "cell_type": "code",
   "execution_count": 9,
   "metadata": {},
   "outputs": [],
   "source": [
    "df_dlg_seen.rename(columns = {'label_place':'places'},inplace=True)\n",
    "df_dlg_unseen.rename(columns = {'label_place':'places'},inplace=True)"
   ]
  },
  {
   "cell_type": "code",
   "execution_count": 10,
   "metadata": {},
   "outputs": [
    {
     "data": {
      "text/html": [
       "<div>\n",
       "<style scoped>\n",
       "    .dataframe tbody tr th:only-of-type {\n",
       "        vertical-align: middle;\n",
       "    }\n",
       "\n",
       "    .dataframe tbody tr th {\n",
       "        vertical-align: top;\n",
       "    }\n",
       "\n",
       "    .dataframe thead th {\n",
       "        text-align: right;\n",
       "    }\n",
       "</style>\n",
       "<table border=\"1\" class=\"dataframe\">\n",
       "  <thead>\n",
       "    <tr style=\"text-align: right;\">\n",
       "      <th></th>\n",
       "      <th>eps</th>\n",
       "      <th>dialogue_ids</th>\n",
       "      <th>scenes_places</th>\n",
       "      <th>places</th>\n",
       "      <th>label_str</th>\n",
       "      <th>label</th>\n",
       "      <th>season</th>\n",
       "      <th>dialogue</th>\n",
       "      <th>text2</th>\n",
       "      <th>len_dialogue5</th>\n",
       "      <th>is_null2</th>\n",
       "      <th>ids</th>\n",
       "      <th>is_train</th>\n",
       "      <th>text1</th>\n",
       "      <th>label_prev</th>\n",
       "      <th>label_str_prev</th>\n",
       "      <th>is_null2_prev</th>\n",
       "    </tr>\n",
       "  </thead>\n",
       "  <tbody>\n",
       "    <tr>\n",
       "      <th>0</th>\n",
       "      <td>0101</td>\n",
       "      <td>1</td>\n",
       "      <td>[central perk]</td>\n",
       "      <td>1</td>\n",
       "      <td>joey</td>\n",
       "      <td>5</td>\n",
       "      <td>1</td>\n",
       "      <td>c'mon, you're going out with the guy! there'...</td>\n",
       "      <td>c'mon you're going out with the guy there's go...</td>\n",
       "      <td>14</td>\n",
       "      <td>False</td>\n",
       "      <td>1</td>\n",
       "      <td>False</td>\n",
       "      <td>there's nothing to tell he's just some guy i w...</td>\n",
       "      <td>3.0</td>\n",
       "      <td>monica</td>\n",
       "      <td>False</td>\n",
       "    </tr>\n",
       "    <tr>\n",
       "      <th>1</th>\n",
       "      <td>0101</td>\n",
       "      <td>2</td>\n",
       "      <td>[central perk]</td>\n",
       "      <td>1</td>\n",
       "      <td>chandler</td>\n",
       "      <td>4</td>\n",
       "      <td>1</td>\n",
       "      <td>all right joey, be nice.  so does he have a...</td>\n",
       "      <td>all right joey be nice so does he have a hump ...</td>\n",
       "      <td>16</td>\n",
       "      <td>False</td>\n",
       "      <td>2</td>\n",
       "      <td>True</td>\n",
       "      <td>c'mon you're going out with the guy there's go...</td>\n",
       "      <td>5.0</td>\n",
       "      <td>joey</td>\n",
       "      <td>False</td>\n",
       "    </tr>\n",
       "    <tr>\n",
       "      <th>2</th>\n",
       "      <td>0101</td>\n",
       "      <td>3</td>\n",
       "      <td>[central perk]</td>\n",
       "      <td>1</td>\n",
       "      <td>phoebe</td>\n",
       "      <td>6</td>\n",
       "      <td>1</td>\n",
       "      <td>wait, does he eat chalk? (they all stare, be...</td>\n",
       "      <td>wait does he eat chalk</td>\n",
       "      <td>5</td>\n",
       "      <td>False</td>\n",
       "      <td>3</td>\n",
       "      <td>False</td>\n",
       "      <td>all right joey be nice so does he have a hump ...</td>\n",
       "      <td>4.0</td>\n",
       "      <td>chandler</td>\n",
       "      <td>False</td>\n",
       "    </tr>\n",
       "    <tr>\n",
       "      <th>3</th>\n",
       "      <td>0101</td>\n",
       "      <td>5</td>\n",
       "      <td>[central perk]</td>\n",
       "      <td>1</td>\n",
       "      <td>monica</td>\n",
       "      <td>3</td>\n",
       "      <td>1</td>\n",
       "      <td>okay, everybody relax. this is not even a da...</td>\n",
       "      <td>okay everybody relax this is not even a date i...</td>\n",
       "      <td>21</td>\n",
       "      <td>False</td>\n",
       "      <td>5</td>\n",
       "      <td>True</td>\n",
       "      <td>just because i don't want her to go through wh...</td>\n",
       "      <td>6.0</td>\n",
       "      <td>phoebe</td>\n",
       "      <td>False</td>\n",
       "    </tr>\n",
       "    <tr>\n",
       "      <th>4</th>\n",
       "      <td>0101</td>\n",
       "      <td>6</td>\n",
       "      <td>[central perk]</td>\n",
       "      <td>1</td>\n",
       "      <td>chandler</td>\n",
       "      <td>4</td>\n",
       "      <td>1</td>\n",
       "      <td>sounds like a date to me. [time lapse]</td>\n",
       "      <td>sounds like a date to me</td>\n",
       "      <td>6</td>\n",
       "      <td>False</td>\n",
       "      <td>6</td>\n",
       "      <td>True</td>\n",
       "      <td>okay everybody relax this is not even a date i...</td>\n",
       "      <td>3.0</td>\n",
       "      <td>monica</td>\n",
       "      <td>False</td>\n",
       "    </tr>\n",
       "  </tbody>\n",
       "</table>\n",
       "</div>"
      ],
      "text/plain": [
       "    eps  dialogue_ids   scenes_places  places label_str  label  season  \\\n",
       "0  0101             1  [central perk]       1      joey      5       1   \n",
       "1  0101             2  [central perk]       1  chandler      4       1   \n",
       "2  0101             3  [central perk]       1    phoebe      6       1   \n",
       "3  0101             5  [central perk]       1    monica      3       1   \n",
       "4  0101             6  [central perk]       1  chandler      4       1   \n",
       "\n",
       "                                            dialogue  \\\n",
       "0    c'mon, you're going out with the guy! there'...   \n",
       "1     all right joey, be nice.  so does he have a...   \n",
       "2    wait, does he eat chalk? (they all stare, be...   \n",
       "3    okay, everybody relax. this is not even a da...   \n",
       "4             sounds like a date to me. [time lapse]   \n",
       "\n",
       "                                               text2  len_dialogue5  is_null2  \\\n",
       "0  c'mon you're going out with the guy there's go...             14     False   \n",
       "1  all right joey be nice so does he have a hump ...             16     False   \n",
       "2                             wait does he eat chalk              5     False   \n",
       "3  okay everybody relax this is not even a date i...             21     False   \n",
       "4                           sounds like a date to me              6     False   \n",
       "\n",
       "   ids  is_train                                              text1  \\\n",
       "0    1     False  there's nothing to tell he's just some guy i w...   \n",
       "1    2      True  c'mon you're going out with the guy there's go...   \n",
       "2    3     False  all right joey be nice so does he have a hump ...   \n",
       "3    5      True  just because i don't want her to go through wh...   \n",
       "4    6      True  okay everybody relax this is not even a date i...   \n",
       "\n",
       "   label_prev label_str_prev  is_null2_prev  \n",
       "0         3.0         monica          False  \n",
       "1         5.0           joey          False  \n",
       "2         4.0       chandler          False  \n",
       "3         6.0         phoebe          False  \n",
       "4         3.0         monica          False  "
      ]
     },
     "execution_count": 10,
     "metadata": {},
     "output_type": "execute_result"
    }
   ],
   "source": [
    "df_dlg_seen.head()"
   ]
  },
  {
   "cell_type": "code",
   "execution_count": 11,
   "metadata": {},
   "outputs": [
    {
     "data": {
      "text/plain": [
       "array([5, 4, 6, 3, 0, 2, 1])"
      ]
     },
     "execution_count": 11,
     "metadata": {},
     "output_type": "execute_result"
    }
   ],
   "source": [
    "df_dlg_seen.label.unique()"
   ]
  },
  {
   "cell_type": "code",
   "execution_count": 12,
   "metadata": {},
   "outputs": [],
   "source": [
    "# df_dlg_seen_1 = df_dlg_seen[df_dlg_seen.season.isin([8,7,6])]\n",
    "# df_dlg_seen_2 = df_dlg_seen[df_dlg_seen.season.isin([5,4])&df_dlg_seen.label.isin([6,5])].sample(800, random_state=123)\n",
    "# df_dlg_seen = pd.concat([df_dlg_seen_1,df_dlg_seen_2])\n",
    "\n",
    "df_dlg_seen = df_dlg_seen[df_dlg_seen.season.isin([8,7])]"
   ]
  },
  {
   "cell_type": "code",
   "execution_count": 13,
   "metadata": {
    "id": "y_VRmC1602xe"
   },
   "outputs": [],
   "source": [
    "data_train = df_dlg_seen[(df_dlg_seen.is_train == True)&(df_dlg_seen.label!=0)][['text1','text2','label_prev','places','season','label']]\n",
    "data_train['label'] = data_train['label']-1\n",
    "data_train = data_train[~(data_train.text1.isnull())]\n",
    "\n",
    "data_test = df_dlg_seen[(df_dlg_seen.is_train == False)&(df_dlg_seen.label!=0)][['text1','text2','label_prev','places','season','label']]\n",
    "data_test['label'] = data_test['label']-1\n",
    "data_test = data_test[~(data_test.text1.isnull())]\n",
    "\n",
    "data_unseen = df_dlg_unseen[(df_dlg_unseen.label!=0)][['text1','text2','label_prev','places','season','label']]\n",
    "data_unseen['label'] = data_unseen['label']-1\n",
    "data_unseen = data_unseen[~(data_unseen.text1.isnull())]"
   ]
  },
  {
   "cell_type": "code",
   "execution_count": 14,
   "metadata": {
    "colab": {
     "base_uri": "https://localhost:8080/"
    },
    "id": "Tt421RVa02xh",
    "outputId": "03de5b03-ec4f-4f0f-8656-399e7cb20cf9"
   },
   "outputs": [
    {
     "data": {
      "text/plain": [
       "(6733, 6)"
      ]
     },
     "execution_count": 14,
     "metadata": {},
     "output_type": "execute_result"
    }
   ],
   "source": [
    "data_train.shape"
   ]
  },
  {
   "cell_type": "code",
   "execution_count": 15,
   "metadata": {
    "colab": {
     "base_uri": "https://localhost:8080/"
    },
    "id": "LnHpAS_J02xk",
    "outputId": "4ab46916-557f-4c8a-c7d8-e19ff5f1478c"
   },
   "outputs": [
    {
     "data": {
      "text/plain": [
       "(2308, 6)"
      ]
     },
     "execution_count": 15,
     "metadata": {},
     "output_type": "execute_result"
    }
   ],
   "source": [
    "data_test.shape"
   ]
  },
  {
   "cell_type": "code",
   "execution_count": 16,
   "metadata": {
    "colab": {
     "base_uri": "https://localhost:8080/"
    },
    "id": "u1kNu3H602xo",
    "outputId": "3233fad8-8882-47d7-ed3b-4d0807ed4c05"
   },
   "outputs": [
    {
     "data": {
      "text/plain": [
       "(8305, 6)"
      ]
     },
     "execution_count": 16,
     "metadata": {},
     "output_type": "execute_result"
    }
   ],
   "source": [
    "data_unseen.shape"
   ]
  },
  {
   "cell_type": "code",
   "execution_count": 17,
   "metadata": {},
   "outputs": [
    {
     "data": {
      "text/plain": [
       "0    0.205555\n",
       "4    0.173771\n",
       "1    0.164860\n",
       "2    0.164414\n",
       "3    0.147186\n",
       "5    0.144215\n",
       "Name: label, dtype: float64"
      ]
     },
     "execution_count": 17,
     "metadata": {},
     "output_type": "execute_result"
    }
   ],
   "source": [
    "XX = data_train.label.value_counts()\n",
    "XX/XX.sum()"
   ]
  },
  {
   "cell_type": "code",
   "execution_count": 18,
   "metadata": {
    "colab": {
     "base_uri": "https://localhost:8080/"
    },
    "id": "IWx_PNZHay70",
    "outputId": "b877f337-b9ed-4c6e-e07c-8c4d0e0d7428"
   },
   "outputs": [
    {
     "data": {
      "text/plain": [
       "1    0.180253\n",
       "0    0.169777\n",
       "3    0.168694\n",
       "2    0.164840\n",
       "4    0.163757\n",
       "5    0.152679\n",
       "Name: label, dtype: float64"
      ]
     },
     "execution_count": 18,
     "metadata": {},
     "output_type": "execute_result"
    }
   ],
   "source": [
    "XX = data_unseen.label.value_counts()\n",
    "XX/XX.sum()"
   ]
  },
  {
   "cell_type": "code",
   "execution_count": null,
   "metadata": {
    "id": "L1J6bjri02xr"
   },
   "outputs": [],
   "source": []
  },
  {
   "cell_type": "markdown",
   "metadata": {
    "id": "5KQGGRST02xu"
   },
   "source": [
    "## Tokenizer"
   ]
  },
  {
   "cell_type": "code",
   "execution_count": 19,
   "metadata": {},
   "outputs": [],
   "source": [
    "MAX_LEN = 20\n",
    "EMBED_SIZE = 128"
   ]
  },
  {
   "cell_type": "code",
   "execution_count": 20,
   "metadata": {},
   "outputs": [],
   "source": [
    "OH = OneHotEncoder()\n",
    "OH_people = OneHotEncoder()\n",
    "OH_place = OneHotEncoder()"
   ]
  },
  {
   "cell_type": "code",
   "execution_count": 21,
   "metadata": {},
   "outputs": [
    {
     "data": {
      "text/html": [
       "<div>\n",
       "<style scoped>\n",
       "    .dataframe tbody tr th:only-of-type {\n",
       "        vertical-align: middle;\n",
       "    }\n",
       "\n",
       "    .dataframe tbody tr th {\n",
       "        vertical-align: top;\n",
       "    }\n",
       "\n",
       "    .dataframe thead th {\n",
       "        text-align: right;\n",
       "    }\n",
       "</style>\n",
       "<table border=\"1\" class=\"dataframe\">\n",
       "  <thead>\n",
       "    <tr style=\"text-align: right;\">\n",
       "      <th></th>\n",
       "      <th>text1</th>\n",
       "      <th>text2</th>\n",
       "      <th>label_prev</th>\n",
       "      <th>places</th>\n",
       "      <th>season</th>\n",
       "      <th>label</th>\n",
       "    </tr>\n",
       "  </thead>\n",
       "  <tbody>\n",
       "    <tr>\n",
       "      <th>30335</th>\n",
       "      <td>david crane marta kauffman</td>\n",
       "      <td>what's going on</td>\n",
       "      <td>0.0</td>\n",
       "      <td>2</td>\n",
       "      <td>7</td>\n",
       "      <td>1</td>\n",
       "    </tr>\n",
       "    <tr>\n",
       "      <th>30336</th>\n",
       "      <td>i found a note on my door come to monica's qui...</td>\n",
       "      <td>i'll take that</td>\n",
       "      <td>2.0</td>\n",
       "      <td>2</td>\n",
       "      <td>7</td>\n",
       "      <td>4</td>\n",
       "    </tr>\n",
       "    <tr>\n",
       "      <th>30337</th>\n",
       "      <td>i'll take that</td>\n",
       "      <td>what's up</td>\n",
       "      <td>5.0</td>\n",
       "      <td>2</td>\n",
       "      <td>7</td>\n",
       "      <td>1</td>\n",
       "    </tr>\n",
       "    <tr>\n",
       "      <th>30338</th>\n",
       "      <td>what's up</td>\n",
       "      <td>monica and i are engaged</td>\n",
       "      <td>2.0</td>\n",
       "      <td>2</td>\n",
       "      <td>7</td>\n",
       "      <td>3</td>\n",
       "    </tr>\n",
       "    <tr>\n",
       "      <th>30340</th>\n",
       "      <td>where is she</td>\n",
       "      <td>i'm engaged i'm engaged</td>\n",
       "      <td>2.0</td>\n",
       "      <td>2</td>\n",
       "      <td>7</td>\n",
       "      <td>2</td>\n",
       "    </tr>\n",
       "  </tbody>\n",
       "</table>\n",
       "</div>"
      ],
      "text/plain": [
       "                                                   text1  \\\n",
       "30335                         david crane marta kauffman   \n",
       "30336  i found a note on my door come to monica's qui...   \n",
       "30337                                     i'll take that   \n",
       "30338                                          what's up   \n",
       "30340                                       where is she   \n",
       "\n",
       "                          text2  label_prev  places  season  label  \n",
       "30335           what's going on         0.0       2       7      1  \n",
       "30336            i'll take that         2.0       2       7      4  \n",
       "30337                 what's up         5.0       2       7      1  \n",
       "30338  monica and i are engaged         2.0       2       7      3  \n",
       "30340   i'm engaged i'm engaged         2.0       2       7      2  "
      ]
     },
     "execution_count": 21,
     "metadata": {},
     "output_type": "execute_result"
    }
   ],
   "source": [
    "data_train.head()"
   ]
  },
  {
   "cell_type": "code",
   "execution_count": 22,
   "metadata": {},
   "outputs": [
    {
     "data": {
      "text/html": [
       "<div>\n",
       "<style scoped>\n",
       "    .dataframe tbody tr th:only-of-type {\n",
       "        vertical-align: middle;\n",
       "    }\n",
       "\n",
       "    .dataframe tbody tr th {\n",
       "        vertical-align: top;\n",
       "    }\n",
       "\n",
       "    .dataframe thead th {\n",
       "        text-align: right;\n",
       "    }\n",
       "</style>\n",
       "<table border=\"1\" class=\"dataframe\">\n",
       "  <thead>\n",
       "    <tr style=\"text-align: right;\">\n",
       "      <th></th>\n",
       "      <th>text1</th>\n",
       "      <th>text2</th>\n",
       "      <th>label_prev</th>\n",
       "      <th>places</th>\n",
       "      <th>season</th>\n",
       "      <th>label</th>\n",
       "    </tr>\n",
       "  </thead>\n",
       "  <tbody>\n",
       "    <tr>\n",
       "      <th>30339</th>\n",
       "      <td>monica and i are engaged</td>\n",
       "      <td>my god congratulations</td>\n",
       "      <td>4.0</td>\n",
       "      <td>2</td>\n",
       "      <td>7</td>\n",
       "      <td>1</td>\n",
       "    </tr>\n",
       "    <tr>\n",
       "      <th>30341</th>\n",
       "      <td>i'm engaged i'm engaged</td>\n",
       "      <td>yeah she's been out there for twenty minutes i...</td>\n",
       "      <td>3.0</td>\n",
       "      <td>2</td>\n",
       "      <td>7</td>\n",
       "      <td>4</td>\n",
       "    </tr>\n",
       "    <tr>\n",
       "      <th>30347</th>\n",
       "      <td>okay wait wait wait shhh okay umm i just wanna...</td>\n",
       "      <td>it's okay i want this to be your night too to ...</td>\n",
       "      <td>3.0</td>\n",
       "      <td>2</td>\n",
       "      <td>7</td>\n",
       "      <td>3</td>\n",
       "    </tr>\n",
       "    <tr>\n",
       "      <th>30356</th>\n",
       "      <td>but i i i can't stay too long i gotta get up e...</td>\n",
       "      <td>so when you said get up early did you mean 1986</td>\n",
       "      <td>5.0</td>\n",
       "      <td>2</td>\n",
       "      <td>7</td>\n",
       "      <td>3</td>\n",
       "    </tr>\n",
       "    <tr>\n",
       "      <th>30358</th>\n",
       "      <td>you guys don't think i look 19</td>\n",
       "      <td>oh 19 we thought you said 90</td>\n",
       "      <td>5.0</td>\n",
       "      <td>2</td>\n",
       "      <td>7</td>\n",
       "      <td>5</td>\n",
       "    </tr>\n",
       "  </tbody>\n",
       "</table>\n",
       "</div>"
      ],
      "text/plain": [
       "                                                   text1  \\\n",
       "30339                           monica and i are engaged   \n",
       "30341                            i'm engaged i'm engaged   \n",
       "30347  okay wait wait wait shhh okay umm i just wanna...   \n",
       "30356  but i i i can't stay too long i gotta get up e...   \n",
       "30358                     you guys don't think i look 19   \n",
       "\n",
       "                                                   text2  label_prev  places  \\\n",
       "30339                             my god congratulations         4.0       2   \n",
       "30341  yeah she's been out there for twenty minutes i...         3.0       2   \n",
       "30347  it's okay i want this to be your night too to ...         3.0       2   \n",
       "30356    so when you said get up early did you mean 1986         5.0       2   \n",
       "30358                       oh 19 we thought you said 90         5.0       2   \n",
       "\n",
       "       season  label  \n",
       "30339       7      1  \n",
       "30341       7      4  \n",
       "30347       7      3  \n",
       "30356       7      3  \n",
       "30358       7      5  "
      ]
     },
     "execution_count": 22,
     "metadata": {},
     "output_type": "execute_result"
    }
   ],
   "source": [
    "data_test.head()"
   ]
  },
  {
   "cell_type": "code",
   "execution_count": 23,
   "metadata": {},
   "outputs": [
    {
     "data": {
      "text/html": [
       "<div>\n",
       "<style scoped>\n",
       "    .dataframe tbody tr th:only-of-type {\n",
       "        vertical-align: middle;\n",
       "    }\n",
       "\n",
       "    .dataframe tbody tr th {\n",
       "        vertical-align: top;\n",
       "    }\n",
       "\n",
       "    .dataframe thead th {\n",
       "        text-align: right;\n",
       "    }\n",
       "</style>\n",
       "<table border=\"1\" class=\"dataframe\">\n",
       "  <thead>\n",
       "    <tr style=\"text-align: right;\">\n",
       "      <th></th>\n",
       "      <th>text1</th>\n",
       "      <th>text2</th>\n",
       "      <th>label_prev</th>\n",
       "      <th>places</th>\n",
       "      <th>season</th>\n",
       "      <th>label</th>\n",
       "    </tr>\n",
       "  </thead>\n",
       "  <tbody>\n",
       "    <tr>\n",
       "      <th>0</th>\n",
       "      <td>so uh i guess we should make it official huh</td>\n",
       "      <td>uh look rach hey ross is here hey look it's my...</td>\n",
       "      <td>1.0</td>\n",
       "      <td>2</td>\n",
       "      <td>9</td>\n",
       "      <td>4</td>\n",
       "    </tr>\n",
       "    <tr>\n",
       "      <th>1</th>\n",
       "      <td>uh look rach hey ross is here hey look it's my...</td>\n",
       "      <td>joey you</td>\n",
       "      <td>5.0</td>\n",
       "      <td>2</td>\n",
       "      <td>9</td>\n",
       "      <td>1</td>\n",
       "    </tr>\n",
       "    <tr>\n",
       "      <th>2</th>\n",
       "      <td>joey you</td>\n",
       "      <td>you</td>\n",
       "      <td>2.0</td>\n",
       "      <td>2</td>\n",
       "      <td>9</td>\n",
       "      <td>0</td>\n",
       "    </tr>\n",
       "    <tr>\n",
       "      <th>3</th>\n",
       "      <td>you</td>\n",
       "      <td>hey and look he brought flowers thanks ross bu...</td>\n",
       "      <td>1.0</td>\n",
       "      <td>2</td>\n",
       "      <td>9</td>\n",
       "      <td>4</td>\n",
       "    </tr>\n",
       "    <tr>\n",
       "      <th>4</th>\n",
       "      <td>hey and look he brought flowers thanks ross bu...</td>\n",
       "      <td>you're weird today listen i uh wanted to talk ...</td>\n",
       "      <td>5.0</td>\n",
       "      <td>2</td>\n",
       "      <td>9</td>\n",
       "      <td>1</td>\n",
       "    </tr>\n",
       "  </tbody>\n",
       "</table>\n",
       "</div>"
      ],
      "text/plain": [
       "                                               text1  \\\n",
       "0       so uh i guess we should make it official huh   \n",
       "1  uh look rach hey ross is here hey look it's my...   \n",
       "2                                           joey you   \n",
       "3                                                you   \n",
       "4  hey and look he brought flowers thanks ross bu...   \n",
       "\n",
       "                                               text2  label_prev  places  \\\n",
       "0  uh look rach hey ross is here hey look it's my...         1.0       2   \n",
       "1                                           joey you         5.0       2   \n",
       "2                                                you         2.0       2   \n",
       "3  hey and look he brought flowers thanks ross bu...         1.0       2   \n",
       "4  you're weird today listen i uh wanted to talk ...         5.0       2   \n",
       "\n",
       "   season  label  \n",
       "0       9      4  \n",
       "1       9      1  \n",
       "2       9      0  \n",
       "3       9      4  \n",
       "4       9      1  "
      ]
     },
     "execution_count": 23,
     "metadata": {},
     "output_type": "execute_result"
    }
   ],
   "source": [
    "data_unseen.head()"
   ]
  },
  {
   "cell_type": "code",
   "execution_count": null,
   "metadata": {},
   "outputs": [],
   "source": []
  },
  {
   "cell_type": "code",
   "execution_count": 24,
   "metadata": {},
   "outputs": [],
   "source": [
    "get_ids = pd.concat([data_train,data_test])\n",
    "get_ids = pd.DataFrame(get_ids['text1'].tolist()+get_ids['text2'].tolist(),columns = ['text'])"
   ]
  },
  {
   "cell_type": "code",
   "execution_count": 25,
   "metadata": {},
   "outputs": [],
   "source": [
    "word2idx, idx2word = data_text_prep(get_ids)"
   ]
  },
  {
   "cell_type": "code",
   "execution_count": 26,
   "metadata": {},
   "outputs": [
    {
     "data": {
      "text/plain": [
       "6020"
      ]
     },
     "execution_count": 26,
     "metadata": {},
     "output_type": "execute_result"
    }
   ],
   "source": [
    "VOCAB_SIZE = len(word2idx)\n",
    "VOCAB_SIZE"
   ]
  },
  {
   "cell_type": "code",
   "execution_count": 27,
   "metadata": {},
   "outputs": [
    {
     "data": {
      "text/plain": [
       "OneHotEncoder()"
      ]
     },
     "execution_count": 27,
     "metadata": {},
     "output_type": "execute_result"
    }
   ],
   "source": [
    "get_ids = pd.concat([data_train,data_test])\n",
    "OH.fit(get_ids['label'].values.reshape(len(get_ids),-1))\n",
    "OH_people.fit(get_ids['label_prev'].values.reshape(len(get_ids),-1))\n",
    "OH_place.fit(get_ids['places'].values.reshape(len(get_ids),-1))"
   ]
  },
  {
   "cell_type": "code",
   "execution_count": 28,
   "metadata": {},
   "outputs": [],
   "source": [
    "def get_input(df):\n",
    "    X1 = []\n",
    "    X2 = []\n",
    "    f1 = []\n",
    "    f2 = []\n",
    "    f3 = []\n",
    "    \n",
    "    label_ls = []\n",
    "    for txt1,txt2,label1,label2,label3,label in df.values:\n",
    "        text_encode = encode(txt1)\n",
    "        text_encode = set_fix_length(text_encode,max_len=MAX_LEN)\n",
    "        X1.append(text_encode)\n",
    "        \n",
    "        text_encode = encode(txt2)\n",
    "        text_encode = set_fix_length(text_encode,max_len=MAX_LEN)\n",
    "        X2.append(text_encode)\n",
    "        \n",
    "        f1.append(int(label1))\n",
    "        f2.append(int(label2))\n",
    "        label_ls.append(label)\n",
    "    \n",
    "    Xf1 = OH_people.transform(np.array(f1).reshape(len(f1),-1)).toarray()\n",
    "    Xf2 = OH_place.transform(np.array(f2).reshape(len(f1),-1)).toarray()\n",
    "    \n",
    "    X3 = np.concatenate([Xf1,Xf2],axis = 1)\n",
    "    \n",
    "    return np.stack(X1),np.stack(X2),np.array(X3),np.array(label_ls)"
   ]
  },
  {
   "cell_type": "code",
   "execution_count": 29,
   "metadata": {},
   "outputs": [],
   "source": [
    "X_train1,X_train2,X_train3,label_train = get_input(data_train)\n",
    "X_test1,X_test2,X_test3,label_test = get_input(data_test)\n",
    "X_unseen1,X_unseen2,X_unseen3,label_unseen = get_input(data_unseen)"
   ]
  },
  {
   "cell_type": "code",
   "execution_count": 30,
   "metadata": {},
   "outputs": [
    {
     "data": {
      "text/plain": [
       "((6733, 20), (6733, 20), (6733, 20))"
      ]
     },
     "execution_count": 30,
     "metadata": {},
     "output_type": "execute_result"
    }
   ],
   "source": [
    "X_train1.shape,X_train2.shape,X_train3.shape"
   ]
  },
  {
   "cell_type": "code",
   "execution_count": 31,
   "metadata": {},
   "outputs": [
    {
     "data": {
      "text/plain": [
       "((8305, 20), (8305, 20), (8305, 20))"
      ]
     },
     "execution_count": 31,
     "metadata": {},
     "output_type": "execute_result"
    }
   ],
   "source": [
    "X_unseen1.shape,X_unseen2.shape,X_unseen3.shape"
   ]
  },
  {
   "cell_type": "code",
   "execution_count": 32,
   "metadata": {},
   "outputs": [],
   "source": [
    "y_train = OH.transform(label_train.reshape(len(label_train),-1)).toarray()\n",
    "y_test = OH.transform(label_test.reshape(len(label_test),-1)).toarray()\n",
    "y_unseen = OH.transform(label_unseen.reshape(len(label_unseen),-1)).toarray()"
   ]
  },
  {
   "cell_type": "code",
   "execution_count": 33,
   "metadata": {},
   "outputs": [
    {
     "data": {
      "text/plain": [
       "(6733, 20)"
      ]
     },
     "execution_count": 33,
     "metadata": {},
     "output_type": "execute_result"
    }
   ],
   "source": [
    "X_train3.shape"
   ]
  },
  {
   "cell_type": "code",
   "execution_count": null,
   "metadata": {},
   "outputs": [],
   "source": []
  },
  {
   "cell_type": "markdown",
   "metadata": {
    "id": "cYqyu2RK02x6"
   },
   "source": [
    "## Training Model"
   ]
  },
  {
   "cell_type": "code",
   "execution_count": 34,
   "metadata": {},
   "outputs": [],
   "source": [
    "def text_net() :\n",
    "    # sentence_indices = keras.Input(25, dtype = 'int32')\n",
    "    mod1 = Sequential()\n",
    "    mod1.add(Embedding(VOCAB_SIZE, EMBED_SIZE))\n",
    "    mod1.add(LSTM(128,return_sequences = True))\n",
    "    mod1.add(LSTM(64,return_sequences = True))\n",
    "    mod1.add(layers.Dropout(0.4))\n",
    "    return mod1"
   ]
  },
  {
   "cell_type": "code",
   "execution_count": 35,
   "metadata": {},
   "outputs": [],
   "source": [
    "input_dim_txt = (MAX_LEN)\n",
    "txt_1 = keras.Input(shape=input_dim_txt)\n",
    "txt_2 = keras.Input(shape=input_dim_txt)\n",
    "inp_3 = keras.Input(shape=(20))"
   ]
  },
  {
   "cell_type": "code",
   "execution_count": 36,
   "metadata": {},
   "outputs": [],
   "source": [
    "tx_net = text_net()\n",
    "connect_layer = layers.Concatenate(axis=2)\n",
    "connect_layer2 = layers.Concatenate(axis=1)\n",
    "\n",
    "feat_txt_1 = tx_net(txt_1)\n",
    "feat_txt_2 = tx_net(txt_2)\n",
    "\n",
    "concat_txt = connect_layer([feat_txt_1, feat_txt_2])\n",
    "inp_3_emb = layers.Dense(128,activation='relu')(inp_3)\n",
    "inp_3_emb = layers.Dense(128,activation='relu')(inp_3_emb)\n",
    "inp_3_emb = layers.Dense(64,activation='relu')(inp_3_emb)\n",
    "inp_3_emb = layers.Dense(16,activation='relu')(inp_3_emb)\n",
    "\n",
    "LSTM_2 = LSTM(64,return_sequences = True)(concat_txt)\n",
    "LSTM_2 = LSTM(16,return_sequences = True)(LSTM_2)\n",
    "layers_n = layers.Flatten()(LSTM_2)\n",
    "layers_n = layers.Dense(256,activation='relu')(layers_n)\n",
    "layers_n = layers.Dropout(0.2)(layers_n)\n",
    "layers_n = layers.Dense(16,activation='relu')(layers_n)\n",
    "layers_n = connect_layer2([layers_n, inp_3_emb])\n",
    "\n",
    "layers_n = layers.Dense(32,activation='relu')(layers_n)\n",
    "layers_n = layers.Dense(32,activation='relu')(layers_n)\n",
    "layers_n = layers.Dropout(0.2)(layers_n)\n",
    "prediction = layers.Dense(6,activation='softmax')(layers_n)\n",
    "\n",
    "mod1 = keras.Model(inputs = [txt_1, txt_2, inp_3], outputs = prediction)"
   ]
  },
  {
   "cell_type": "code",
   "execution_count": null,
   "metadata": {},
   "outputs": [],
   "source": []
  },
  {
   "cell_type": "code",
   "execution_count": 37,
   "metadata": {},
   "outputs": [
    {
     "name": "stdout",
     "output_type": "stream",
     "text": [
      "Model: \"functional_1\"\n",
      "__________________________________________________________________________________________________\n",
      "Layer (type)                    Output Shape         Param #     Connected to                     \n",
      "==================================================================================================\n",
      "input_1 (InputLayer)            [(None, 20)]         0                                            \n",
      "__________________________________________________________________________________________________\n",
      "input_2 (InputLayer)            [(None, 20)]         0                                            \n",
      "__________________________________________________________________________________________________\n",
      "sequential (Sequential)         (None, None, 64)     951552      input_1[0][0]                    \n",
      "                                                                 input_2[0][0]                    \n",
      "__________________________________________________________________________________________________\n",
      "concatenate (Concatenate)       (None, 20, 128)      0           sequential[0][0]                 \n",
      "                                                                 sequential[1][0]                 \n",
      "__________________________________________________________________________________________________\n",
      "lstm_2 (LSTM)                   (None, 20, 64)       49408       concatenate[0][0]                \n",
      "__________________________________________________________________________________________________\n",
      "lstm_3 (LSTM)                   (None, 20, 16)       5184        lstm_2[0][0]                     \n",
      "__________________________________________________________________________________________________\n",
      "input_3 (InputLayer)            [(None, 20)]         0                                            \n",
      "__________________________________________________________________________________________________\n",
      "flatten (Flatten)               (None, 320)          0           lstm_3[0][0]                     \n",
      "__________________________________________________________________________________________________\n",
      "dense (Dense)                   (None, 128)          2688        input_3[0][0]                    \n",
      "__________________________________________________________________________________________________\n",
      "dense_4 (Dense)                 (None, 256)          82176       flatten[0][0]                    \n",
      "__________________________________________________________________________________________________\n",
      "dense_1 (Dense)                 (None, 128)          16512       dense[0][0]                      \n",
      "__________________________________________________________________________________________________\n",
      "dropout_1 (Dropout)             (None, 256)          0           dense_4[0][0]                    \n",
      "__________________________________________________________________________________________________\n",
      "dense_2 (Dense)                 (None, 64)           8256        dense_1[0][0]                    \n",
      "__________________________________________________________________________________________________\n",
      "dense_5 (Dense)                 (None, 16)           4112        dropout_1[0][0]                  \n",
      "__________________________________________________________________________________________________\n",
      "dense_3 (Dense)                 (None, 16)           1040        dense_2[0][0]                    \n",
      "__________________________________________________________________________________________________\n",
      "concatenate_1 (Concatenate)     (None, 32)           0           dense_5[0][0]                    \n",
      "                                                                 dense_3[0][0]                    \n",
      "__________________________________________________________________________________________________\n",
      "dense_6 (Dense)                 (None, 32)           1056        concatenate_1[0][0]              \n",
      "__________________________________________________________________________________________________\n",
      "dense_7 (Dense)                 (None, 32)           1056        dense_6[0][0]                    \n",
      "__________________________________________________________________________________________________\n",
      "dropout_2 (Dropout)             (None, 32)           0           dense_7[0][0]                    \n",
      "__________________________________________________________________________________________________\n",
      "dense_8 (Dense)                 (None, 6)            198         dropout_2[0][0]                  \n",
      "==================================================================================================\n",
      "Total params: 1,123,238\n",
      "Trainable params: 1,123,238\n",
      "Non-trainable params: 0\n",
      "__________________________________________________________________________________________________\n"
     ]
    }
   ],
   "source": [
    "mod1.summary()"
   ]
  },
  {
   "cell_type": "code",
   "execution_count": 38,
   "metadata": {},
   "outputs": [
    {
     "data": {
      "image/png": "[encoded data removed]",
      "text/plain": [
       "<IPython.core.display.Image object>"
      ]
     },
     "execution_count": 38,
     "metadata": {},
     "output_type": "execute_result"
    }
   ],
   "source": [
    "keras.utils.plot_model(mod1)"
   ]
  },
  {
   "cell_type": "code",
   "execution_count": 39,
   "metadata": {
    "id": "SKvzYkhC7CHN"
   },
   "outputs": [],
   "source": [
    "filepath = '../../models/simple_LSTM5-2/model_{epoch:02d}_{val_accuracy:.2f}.hdf5'\n",
    "checkpoint = ModelCheckpoint(filepath, monitor='val_accuracy', verbose=1, save_best_only=True)"
   ]
  },
  {
   "cell_type": "code",
   "execution_count": 40,
   "metadata": {
    "colab": {
     "base_uri": "https://localhost:8080/"
    },
    "id": "KA1k9kZc290S",
    "outputId": "01d43e7d-f920-427c-a028-82e6e7303596"
   },
   "outputs": [
    {
     "name": "stdout",
     "output_type": "stream",
     "text": [
      "Epoch 1/40\n",
      "269/270 [============================>.] - ETA: 0s - loss: 1.7053 - accuracy: 0.2833\n",
      "Epoch 00001: val_accuracy improved from -inf to 0.32799, saving model to ../../models/simple_LSTM5-2/model_01_0.33.hdf5\n",
      "270/270 [==============================] - 21s 78ms/step - loss: 1.7054 - accuracy: 0.2831 - val_loss: 1.6107 - val_accuracy: 0.3280\n",
      "Epoch 2/40\n",
      "269/270 [============================>.] - ETA: 0s - loss: 1.5747 - accuracy: 0.3625\n",
      "Epoch 00002: val_accuracy improved from 0.32799 to 0.36828, saving model to ../../models/simple_LSTM5-2/model_02_0.37.hdf5\n",
      "270/270 [==============================] - 18s 68ms/step - loss: 1.5745 - accuracy: 0.3625 - val_loss: 1.5163 - val_accuracy: 0.3683\n",
      "Epoch 3/40\n",
      "269/270 [============================>.] - ETA: 0s - loss: 1.4999 - accuracy: 0.4000\n",
      "Epoch 00003: val_accuracy improved from 0.36828 to 0.42721, saving model to ../../models/simple_LSTM5-2/model_03_0.43.hdf5\n",
      "270/270 [==============================] - 18s 67ms/step - loss: 1.5001 - accuracy: 0.4000 - val_loss: 1.4520 - val_accuracy: 0.4272\n",
      "Epoch 4/40\n",
      "269/270 [============================>.] - ETA: 0s - loss: 1.4666 - accuracy: 0.4137\n",
      "Epoch 00004: val_accuracy did not improve from 0.42721\n",
      "270/270 [==============================] - 18s 68ms/step - loss: 1.4664 - accuracy: 0.4136 - val_loss: 1.4375 - val_accuracy: 0.4203\n",
      "Epoch 5/40\n",
      "269/270 [============================>.] - ETA: 0s - loss: 1.4556 - accuracy: 0.4092\n",
      "Epoch 00005: val_accuracy did not improve from 0.42721\n",
      "270/270 [==============================] - 18s 68ms/step - loss: 1.4559 - accuracy: 0.4089 - val_loss: 1.4296 - val_accuracy: 0.4151\n",
      "Epoch 6/40\n",
      "269/270 [============================>.] - ETA: 0s - loss: 1.4362 - accuracy: 0.4150\n",
      "Epoch 00006: val_accuracy did not improve from 0.42721\n",
      "270/270 [==============================] - 18s 67ms/step - loss: 1.4364 - accuracy: 0.4151 - val_loss: 1.4167 - val_accuracy: 0.4185\n",
      "Epoch 7/40\n",
      "269/270 [============================>.] - ETA: 0s - loss: 1.4308 - accuracy: 0.4189\n",
      "Epoch 00007: val_accuracy improved from 0.42721 to 0.43068, saving model to ../../models/simple_LSTM5-2/model_07_0.43.hdf5\n",
      "270/270 [==============================] - 19s 70ms/step - loss: 1.4304 - accuracy: 0.4191 - val_loss: 1.4047 - val_accuracy: 0.4307\n",
      "Epoch 8/40\n",
      "269/270 [============================>.] - ETA: 0s - loss: 1.4239 - accuracy: 0.4241\n",
      "Epoch 00008: val_accuracy did not improve from 0.43068\n",
      "270/270 [==============================] - 18s 68ms/step - loss: 1.4239 - accuracy: 0.4240 - val_loss: 1.4138 - val_accuracy: 0.4220\n",
      "Epoch 9/40\n",
      "270/270 [==============================] - ETA: 0s - loss: 1.4169 - accuracy: 0.4211\n",
      "Epoch 00009: val_accuracy did not improve from 0.43068\n",
      "270/270 [==============================] - 19s 69ms/step - loss: 1.4169 - accuracy: 0.4211 - val_loss: 1.4100 - val_accuracy: 0.4281\n",
      "Epoch 10/40\n",
      "269/270 [============================>.] - ETA: 0s - loss: 1.4080 - accuracy: 0.4272\n",
      "Epoch 00010: val_accuracy did not improve from 0.43068\n",
      "270/270 [==============================] - 19s 70ms/step - loss: 1.4082 - accuracy: 0.4271 - val_loss: 1.4106 - val_accuracy: 0.4203\n",
      "Epoch 11/40\n",
      "269/270 [============================>.] - ETA: 0s - loss: 1.4014 - accuracy: 0.4265\n",
      "Epoch 00011: val_accuracy did not improve from 0.43068\n",
      "270/270 [==============================] - 19s 70ms/step - loss: 1.4012 - accuracy: 0.4267 - val_loss: 1.4044 - val_accuracy: 0.4294\n",
      "Epoch 12/40\n",
      "270/270 [==============================] - ETA: 0s - loss: 1.3926 - accuracy: 0.4285\n",
      "Epoch 00012: val_accuracy did not improve from 0.43068\n",
      "270/270 [==============================] - 19s 70ms/step - loss: 1.3926 - accuracy: 0.4285 - val_loss: 1.4039 - val_accuracy: 0.4276\n",
      "Epoch 13/40\n",
      "270/270 [==============================] - ETA: 0s - loss: 1.3818 - accuracy: 0.4405\n",
      "Epoch 00013: val_accuracy did not improve from 0.43068\n",
      "270/270 [==============================] - 19s 70ms/step - loss: 1.3818 - accuracy: 0.4405 - val_loss: 1.4075 - val_accuracy: 0.4220\n",
      "Epoch 14/40\n",
      "269/270 [============================>.] - ETA: 0s - loss: 1.3741 - accuracy: 0.4431\n",
      "Epoch 00014: val_accuracy improved from 0.43068 to 0.43154, saving model to ../../models/simple_LSTM5-2/model_14_0.43.hdf5\n",
      "270/270 [==============================] - 19s 71ms/step - loss: 1.3743 - accuracy: 0.4430 - val_loss: 1.4137 - val_accuracy: 0.4315\n",
      "Epoch 15/40\n",
      "269/270 [============================>.] - ETA: 0s - loss: 1.3701 - accuracy: 0.4416\n",
      "Epoch 00015: val_accuracy did not improve from 0.43154\n",
      "270/270 [==============================] - 19s 71ms/step - loss: 1.3701 - accuracy: 0.4417 - val_loss: 1.3968 - val_accuracy: 0.4268\n",
      "Epoch 16/40\n",
      "269/270 [============================>.] - ETA: 0s - loss: 1.3655 - accuracy: 0.4512\n",
      "Epoch 00016: val_accuracy did not improve from 0.43154\n",
      "270/270 [==============================] - 19s 72ms/step - loss: 1.3659 - accuracy: 0.4509 - val_loss: 1.4045 - val_accuracy: 0.4307\n",
      "Epoch 17/40\n",
      "270/270 [==============================] - ETA: 0s - loss: 1.3657 - accuracy: 0.4457\n",
      "Epoch 00017: val_accuracy did not improve from 0.43154\n",
      "270/270 [==============================] - 19s 72ms/step - loss: 1.3657 - accuracy: 0.4457 - val_loss: 1.4056 - val_accuracy: 0.4250\n",
      "Epoch 18/40\n",
      "269/270 [============================>.] - ETA: 0s - loss: 1.3535 - accuracy: 0.4509\n",
      "Epoch 00018: val_accuracy did not improve from 0.43154\n",
      "270/270 [==============================] - 20s 73ms/step - loss: 1.3534 - accuracy: 0.4509 - val_loss: 1.4097 - val_accuracy: 0.4272\n",
      "Epoch 19/40\n",
      "270/270 [==============================] - ETA: 0s - loss: 1.3413 - accuracy: 0.4528\n",
      "Epoch 00019: val_accuracy did not improve from 0.43154\n",
      "270/270 [==============================] - 19s 71ms/step - loss: 1.3413 - accuracy: 0.4528 - val_loss: 1.4069 - val_accuracy: 0.4246\n",
      "Epoch 20/40\n",
      "269/270 [============================>.] - ETA: 0s - loss: 1.3383 - accuracy: 0.4601\n",
      "Epoch 00020: val_accuracy did not improve from 0.43154\n",
      "270/270 [==============================] - 19s 72ms/step - loss: 1.3382 - accuracy: 0.4601 - val_loss: 1.4196 - val_accuracy: 0.4259\n",
      "Epoch 21/40\n",
      "269/270 [============================>.] - ETA: 0s - loss: 1.3351 - accuracy: 0.4628\n",
      "Epoch 00021: val_accuracy did not improve from 0.43154\n",
      "270/270 [==============================] - 24s 88ms/step - loss: 1.3346 - accuracy: 0.4631 - val_loss: 1.4362 - val_accuracy: 0.4246\n",
      "Epoch 22/40\n",
      "269/270 [============================>.] - ETA: 0s - loss: 1.3279 - accuracy: 0.4584\n",
      "Epoch 00022: val_accuracy improved from 0.43154 to 0.43544, saving model to ../../models/simple_LSTM5-2/model_22_0.44.hdf5\n",
      "270/270 [==============================] - 22s 83ms/step - loss: 1.3277 - accuracy: 0.4585 - val_loss: 1.4148 - val_accuracy: 0.4354\n",
      "Epoch 23/40\n",
      "269/270 [============================>.] - ETA: 0s - loss: 1.3123 - accuracy: 0.4721\n",
      "Epoch 00023: val_accuracy did not improve from 0.43544\n",
      "270/270 [==============================] - 24s 88ms/step - loss: 1.3120 - accuracy: 0.4724 - val_loss: 1.4212 - val_accuracy: 0.4268\n",
      "Epoch 24/40\n",
      "269/270 [============================>.] - ETA: 0s - loss: 1.3030 - accuracy: 0.4693\n",
      "Epoch 00024: val_accuracy improved from 0.43544 to 0.43631, saving model to ../../models/simple_LSTM5-2/model_24_0.44.hdf5\n",
      "270/270 [==============================] - 19s 71ms/step - loss: 1.3031 - accuracy: 0.4693 - val_loss: 1.4250 - val_accuracy: 0.4363\n",
      "Epoch 25/40\n",
      "270/270 [==============================] - ETA: 0s - loss: 1.2963 - accuracy: 0.4790\n",
      "Epoch 00025: val_accuracy did not improve from 0.43631\n",
      "270/270 [==============================] - 19s 72ms/step - loss: 1.2963 - accuracy: 0.4790 - val_loss: 1.4431 - val_accuracy: 0.4233\n",
      "Epoch 26/40\n",
      "270/270 [==============================] - ETA: 0s - loss: 1.2849 - accuracy: 0.4815\n",
      "Epoch 00026: val_accuracy did not improve from 0.43631\n",
      "270/270 [==============================] - 22s 80ms/step - loss: 1.2849 - accuracy: 0.4815 - val_loss: 1.4378 - val_accuracy: 0.4268\n",
      "Epoch 27/40\n",
      "269/270 [============================>.] - ETA: 0s - loss: 1.2726 - accuracy: 0.4845\n",
      "Epoch 00027: val_accuracy did not improve from 0.43631\n",
      "270/270 [==============================] - 21s 77ms/step - loss: 1.2727 - accuracy: 0.4843 - val_loss: 1.4868 - val_accuracy: 0.4237\n",
      "Epoch 28/40\n",
      "269/270 [============================>.] - ETA: 0s - loss: 1.2730 - accuracy: 0.4897\n",
      "Epoch 00028: val_accuracy did not improve from 0.43631\n",
      "270/270 [==============================] - 21s 76ms/step - loss: 1.2729 - accuracy: 0.4894 - val_loss: 1.4429 - val_accuracy: 0.4211\n",
      "Epoch 29/40\n",
      "269/270 [============================>.] - ETA: 0s - loss: 1.2483 - accuracy: 0.4993\n",
      "Epoch 00029: val_accuracy did not improve from 0.43631\n",
      "270/270 [==============================] - 20s 75ms/step - loss: 1.2484 - accuracy: 0.4992 - val_loss: 1.4845 - val_accuracy: 0.4151\n",
      "Epoch 30/40\n",
      "269/270 [============================>.] - ETA: 0s - loss: 1.2393 - accuracy: 0.5022\n",
      "Epoch 00030: val_accuracy did not improve from 0.43631\n",
      "270/270 [==============================] - 23s 83ms/step - loss: 1.2391 - accuracy: 0.5023 - val_loss: 1.4723 - val_accuracy: 0.4281\n",
      "Epoch 31/40\n",
      "270/270 [==============================] - ETA: 0s - loss: 1.2224 - accuracy: 0.5072\n",
      "Epoch 00031: val_accuracy did not improve from 0.43631\n",
      "270/270 [==============================] - 22s 80ms/step - loss: 1.2224 - accuracy: 0.5072 - val_loss: 1.4705 - val_accuracy: 0.4220\n",
      "Epoch 32/40\n",
      "270/270 [==============================] - ETA: 0s - loss: 1.2047 - accuracy: 0.5176\n",
      "Epoch 00032: val_accuracy did not improve from 0.43631\n",
      "270/270 [==============================] - 20s 75ms/step - loss: 1.2047 - accuracy: 0.5176 - val_loss: 1.4968 - val_accuracy: 0.4289\n",
      "Epoch 33/40\n",
      "270/270 [==============================] - ETA: 0s - loss: 1.1995 - accuracy: 0.5215\n",
      "Epoch 00033: val_accuracy did not improve from 0.43631\n",
      "270/270 [==============================] - 21s 77ms/step - loss: 1.1995 - accuracy: 0.5215 - val_loss: 1.5265 - val_accuracy: 0.4233\n",
      "Epoch 34/40\n",
      "270/270 [==============================] - ETA: 0s - loss: 1.1751 - accuracy: 0.5258\n",
      "Epoch 00034: val_accuracy did not improve from 0.43631\n",
      "270/270 [==============================] - 21s 77ms/step - loss: 1.1751 - accuracy: 0.5258 - val_loss: 1.5360 - val_accuracy: 0.4120\n",
      "Epoch 35/40\n",
      "270/270 [==============================] - ETA: 0s - loss: 1.1570 - accuracy: 0.5316\n",
      "Epoch 00035: val_accuracy did not improve from 0.43631\n",
      "270/270 [==============================] - 21s 79ms/step - loss: 1.1570 - accuracy: 0.5316 - val_loss: 1.5459 - val_accuracy: 0.4068\n",
      "Epoch 36/40\n",
      "270/270 [==============================] - ETA: 0s - loss: 1.1292 - accuracy: 0.5399\n",
      "Epoch 00036: val_accuracy did not improve from 0.43631\n",
      "270/270 [==============================] - 21s 79ms/step - loss: 1.1292 - accuracy: 0.5399 - val_loss: 1.6454 - val_accuracy: 0.4125\n",
      "Epoch 37/40\n",
      "270/270 [==============================] - ETA: 0s - loss: 1.1225 - accuracy: 0.5458\n",
      "Epoch 00037: val_accuracy did not improve from 0.43631\n",
      "270/270 [==============================] - 21s 76ms/step - loss: 1.1225 - accuracy: 0.5458 - val_loss: 1.6115 - val_accuracy: 0.4168\n",
      "Epoch 38/40\n",
      "269/270 [============================>.] - ETA: 0s - loss: 1.0964 - accuracy: 0.5570\n",
      "Epoch 00038: val_accuracy did not improve from 0.43631\n",
      "270/270 [==============================] - 21s 76ms/step - loss: 1.0962 - accuracy: 0.5573 - val_loss: 1.6025 - val_accuracy: 0.4151\n",
      "Epoch 39/40\n",
      "270/270 [==============================] - ETA: 0s - loss: 1.0812 - accuracy: 0.5602\n",
      "Epoch 00039: val_accuracy did not improve from 0.43631\n",
      "270/270 [==============================] - 21s 77ms/step - loss: 1.0812 - accuracy: 0.5602 - val_loss: 1.6416 - val_accuracy: 0.4181\n",
      "Epoch 40/40\n",
      "269/270 [============================>.] - ETA: 0s - loss: 1.0680 - accuracy: 0.5740\n",
      "Epoch 00040: val_accuracy did not improve from 0.43631\n",
      "270/270 [==============================] - 22s 80ms/step - loss: 1.0681 - accuracy: 0.5740 - val_loss: 1.6221 - val_accuracy: 0.3982\n"
     ]
    }
   ],
   "source": [
    "# recommended learning rate for Adam 5e-5, 3e-5, 2e-5\n",
    "LR = 5e-4\n",
    "EPOCHS = 40\n",
    "BATCH_SIZE = 25\n",
    "opt = keras.optimizers.Adam(learning_rate=LR)\n",
    "mod1.compile(optimizer=opt, loss='categorical_crossentropy', metrics=['accuracy'])\n",
    "\n",
    "mod_history = mod1.fit([X_train1,X_train2,X_train3], y_train, \n",
    "            validation_data=([X_test1,X_test2,X_test3], y_test), \n",
    "            epochs=EPOCHS, batch_size = BATCH_SIZE, verbose=1,\n",
    "            callbacks=[checkpoint])"
   ]
  },
  {
   "cell_type": "code",
   "execution_count": null,
   "metadata": {
    "colab": {
     "base_uri": "https://localhost:8080/"
    },
    "id": "4BdhEg9g02yC",
    "outputId": "102a02d0-d8be-4dcb-900f-088f7c2aa39f"
   },
   "outputs": [],
   "source": []
  },
  {
   "cell_type": "code",
   "execution_count": null,
   "metadata": {
    "id": "7-mq2babThRC"
   },
   "outputs": [],
   "source": []
  },
  {
   "cell_type": "markdown",
   "metadata": {
    "id": "1J-Okj2NVbJT"
   },
   "source": [
    "## Testing"
   ]
  },
  {
   "cell_type": "code",
   "execution_count": 41,
   "metadata": {},
   "outputs": [],
   "source": [
    "mod_use = keras.models.load_model('../../models/simple_LSTM5-2/model_24_0.44.hdf5')"
   ]
  },
  {
   "cell_type": "code",
   "execution_count": 42,
   "metadata": {},
   "outputs": [],
   "source": [
    "def plot_cm(labels, predictions, type_eval = 'test'):\n",
    "    cm = confusion_matrix(labels, predictions)\n",
    "    cm = (cm.transpose()/cm.sum(axis = 1)).transpose()\n",
    "    plt.figure(figsize=(8, 8))\n",
    "    sns.heatmap(cm, annot=True, fmt=\".2%\")\n",
    "    plt.title(\"Confusion matrix (\"+type_eval+\") - 5_2\")\n",
    "    plt.ylabel(\"Actual label\")\n",
    "    plt.xlabel(\"Predicted label\")"
   ]
  },
  {
   "cell_type": "code",
   "execution_count": 43,
   "metadata": {},
   "outputs": [],
   "source": [
    "y_pred_test = mod_use.predict([X_test1,X_test2,X_test3])\n",
    "y_pred_test = np.argmax(y_pred_test,axis = 1)\n",
    "y_true_test = np.argmax(y_test,axis = 1)"
   ]
  },
  {
   "cell_type": "code",
   "execution_count": 44,
   "metadata": {},
   "outputs": [
    {
     "name": "stdout",
     "output_type": "stream",
     "text": [
      "              precision    recall  f1-score   support\n",
      "\n",
      "           0       0.42      0.50      0.46       439\n",
      "           1       0.42      0.39      0.40       426\n",
      "           2       0.43      0.56      0.49       372\n",
      "           3       0.42      0.51      0.46       343\n",
      "           4       0.53      0.40      0.46       383\n",
      "           5       0.40      0.26      0.31       345\n",
      "\n",
      "    accuracy                           0.44      2308\n",
      "   macro avg       0.44      0.43      0.43      2308\n",
      "weighted avg       0.44      0.44      0.43      2308\n",
      "\n"
     ]
    },
    {
     "data": {
      "image/png": "[encoded data removed]",
      "text/plain": [
       "<Figure size 576x576 with 2 Axes>"
      ]
     },
     "metadata": {
      "needs_background": "light"
     },
     "output_type": "display_data"
    }
   ],
   "source": [
    "report = classification_report(y_true_test,y_pred_test)\n",
    "print(report)\n",
    "plot_cm(y_true_test,y_pred_test, type_eval = 'test')"
   ]
  },
  {
   "cell_type": "code",
   "execution_count": null,
   "metadata": {},
   "outputs": [],
   "source": []
  },
  {
   "cell_type": "code",
   "execution_count": 45,
   "metadata": {
    "id": "r0bgWgl6cJQj"
   },
   "outputs": [],
   "source": [
    "y_pred = mod_use.predict([X_unseen1,X_unseen2,X_unseen3])\n",
    "y_pred_label = np.argmax(y_pred,axis = 1)\n",
    "y_true_label = data_unseen['label'].values"
   ]
  },
  {
   "cell_type": "code",
   "execution_count": 46,
   "metadata": {},
   "outputs": [
    {
     "name": "stdout",
     "output_type": "stream",
     "text": [
      "              precision    recall  f1-score   support\n",
      "\n",
      "           0       0.28      0.36      0.32      1410\n",
      "           1       0.32      0.35      0.34      1497\n",
      "           2       0.41      0.48      0.44      1369\n",
      "           3       0.44      0.47      0.45      1401\n",
      "           4       0.37      0.22      0.28      1360\n",
      "           5       0.30      0.23      0.26      1268\n",
      "\n",
      "    accuracy                           0.35      8305\n",
      "   macro avg       0.35      0.35      0.35      8305\n",
      "weighted avg       0.35      0.35      0.35      8305\n",
      "\n"
     ]
    },
    {
     "data": {
      "image/png": "[encoded data removed]",
      "text/plain": [
       "<Figure size 576x576 with 2 Axes>"
      ]
     },
     "metadata": {
      "needs_background": "light"
     },
     "output_type": "display_data"
    }
   ],
   "source": [
    "report = classification_report(y_true_label, y_pred_label)\n",
    "print(report)\n",
    "plot_cm(y_true_label, y_pred_label,type_eval = 'unseen')"
   ]
  },
  {
   "cell_type": "code",
   "execution_count": null,
   "metadata": {},
   "outputs": [],
   "source": []
  }
 ],
 "metadata": {
  "accelerator": "TPU",
  "colab": {
   "collapsed_sections": [],
   "name": "20200803_training_bert_TPU.ipynb",
   "provenance": []
  },
  "kernelspec": {
   "display_name": "joko-notebook",
   "language": "python",
   "name": "joko"
  },
  "language_info": {
   "codemirror_mode": {
    "name": "ipython",
    "version": 3
   },
   "file_extension": ".py",
   "mimetype": "text/x-python",
   "name": "python",
   "nbconvert_exporter": "python",
   "pygments_lexer": "ipython3",
   "version": "3.8.3"
  }
 },
 "nbformat": 4,
 "nbformat_minor": 4
}
