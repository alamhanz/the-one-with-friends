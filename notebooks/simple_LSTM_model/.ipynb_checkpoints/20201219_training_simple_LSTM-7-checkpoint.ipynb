{
 "cells": [
  {
   "cell_type": "markdown",
   "metadata": {
    "id": "g5_fZUzo02xP"
   },
   "source": [
    "# Friends Classification Text (LSTM) - 6\n",
    "\n",
    "This is classification of dialogue in FRIENDS TV Series.\n",
    "\n",
    "<!-- https://stackoverflow.com/questions/61000500/tensorflow-keras-bert-multiclass-text-classification-accuracy -->"
   ]
  },
  {
   "cell_type": "code",
   "execution_count": 57,
   "metadata": {
    "colab": {
     "base_uri": "https://localhost:8080/"
    },
    "id": "03Lpsmju02xR",
    "outputId": "729cb2e1-2326-4654-da9e-3facd4921f7c"
   },
   "outputs": [],
   "source": [
    "import pandas as pd\n",
    "import re\n",
    "import numpy as np\n",
    "import time\n",
    "\n",
    "import os\n",
    "import pprint\n",
    "import tensorflow as tf\n",
    "\n",
    "import sys\n",
    "sys.path.insert(1, '../../src/all_functions/')\n",
    "\n",
    "from text_tools import *\n",
    "\n",
    "import keras\n",
    "from keras.datasets import mnist\n",
    "from sklearn.model_selection import train_test_split\n",
    "from keras.callbacks import ModelCheckpoint\n",
    "from keras.applications.mobilenet_v2 import MobileNetV2, preprocess_input\n",
    "from keras.models import load_model\n",
    "\n",
    "from keras.layers import Embedding, LSTM\n",
    "import matplotlib.pyplot as plt\n",
    "from keras import Sequential\n",
    "\n",
    "from keras import backend as K\n",
    "from keras import layers\n",
    "\n",
    "from sklearn.preprocessing import OneHotEncoder\n",
    "\n",
    "\n",
    "from sklearn.metrics import (classification_report,\n",
    "                             confusion_matrix,\n",
    "                             roc_auc_score)\n",
    "\n",
    "import matplotlib.pyplot as plt\n",
    "import seaborn as sns\n",
    "import joblib\n",
    "\n",
    "# from google.colab import drive\n",
    "# drive.mount('/content/gdrive')"
   ]
  },
  {
   "cell_type": "code",
   "execution_count": 2,
   "metadata": {
    "id": "Nplks9aMi_aH"
   },
   "outputs": [],
   "source": [
    "# help(drive.mount)"
   ]
  },
  {
   "cell_type": "code",
   "execution_count": 3,
   "metadata": {},
   "outputs": [],
   "source": [
    "def encode(text):\n",
    "    token_ids = []\n",
    "    for word in text:\n",
    "        try:\n",
    "            token_ids.append(word2idx[word])\n",
    "        except:\n",
    "            token_ids.append(1)\n",
    "            \n",
    "    token_ids = np.array(token_ids)\n",
    "    return token_ids\n",
    "\n",
    "def set_fix_length(ids, max_len = 15):\n",
    "    # print(ids)\n",
    "    length = ids.shape[0]\n",
    "    zeros = np.zeros(max_len)\n",
    "\n",
    "    if length <= max_len:\n",
    "        zeros[:length] = ids\n",
    "    else:\n",
    "        zeros = ids[:max_len]\n",
    "\n",
    "    return zeros"
   ]
  },
  {
   "cell_type": "code",
   "execution_count": null,
   "metadata": {},
   "outputs": [],
   "source": []
  },
  {
   "cell_type": "code",
   "execution_count": 4,
   "metadata": {
    "id": "Z6n6vof_02xV"
   },
   "outputs": [],
   "source": [
    "# PATH_DATA = 'gdrive/'\n",
    "PATH_DATA = '../../data/'"
   ]
  },
  {
   "cell_type": "code",
   "execution_count": 5,
   "metadata": {
    "colab": {
     "base_uri": "https://localhost:8080/"
    },
    "id": "nvelJ79e02xY",
    "outputId": "d017b6ae-6106-451a-9f99-6e6f6ef824ec"
   },
   "outputs": [
    {
     "data": {
      "text/plain": [
       "['friends_seen_season_new.csv',\n",
       " 'friends_unseen_season.csv',\n",
       " 'friends-transcripts',\n",
       " 'friends_all_dialogue.csv',\n",
       " '.DS_Store',\n",
       " 'friends_all_dialogue_semi_cln.csv',\n",
       " 'friends_unseen_season2_2.csv',\n",
       " 'friends_unseen_season_1.csv',\n",
       " 'friends_seen_season2_2.csv',\n",
       " 'friends-transcripts-extract',\n",
       " 'friends_seen_season2_new.csv',\n",
       " 'friends_unseen_season_new.csv',\n",
       " 'friends_seen_season.csv',\n",
       " 'friends_all_dialogue_semi_cln2.csv',\n",
       " 'friends_unseen_season2_new.csv',\n",
       " '.ipynb_checkpoints',\n",
       " 'friends_seen_season2.csv',\n",
       " 'friends_unseen_season2.csv',\n",
       " 'friends_seen_season_1.csv']"
      ]
     },
     "execution_count": 5,
     "metadata": {},
     "output_type": "execute_result"
    }
   ],
   "source": [
    "os.listdir(PATH_DATA)"
   ]
  },
  {
   "cell_type": "code",
   "execution_count": null,
   "metadata": {
    "id": "uQwZJZB61Nwm"
   },
   "outputs": [],
   "source": []
  },
  {
   "cell_type": "markdown",
   "metadata": {
    "id": "0lMeZ84P02xb"
   },
   "source": [
    "## Importing Data"
   ]
  },
  {
   "cell_type": "code",
   "execution_count": 6,
   "metadata": {
    "colab": {
     "base_uri": "https://localhost:8080/"
    },
    "id": "3Nfyykbz1wZv",
    "outputId": "13b39367-505a-4952-e94a-9f7c0dfacd90"
   },
   "outputs": [],
   "source": [
    "# %cd gdrive/My Drive/Repository/Data/"
   ]
  },
  {
   "cell_type": "code",
   "execution_count": 7,
   "metadata": {
    "colab": {
     "base_uri": "https://localhost:8080/"
    },
    "id": "ZCCTJo2o1dDF",
    "outputId": "0d76ccce-34a4-47f5-9815-a2364d8bfcb9"
   },
   "outputs": [],
   "source": [
    "# os.listdir()"
   ]
  },
  {
   "cell_type": "code",
   "execution_count": 8,
   "metadata": {
    "id": "dHeMuViP02xb"
   },
   "outputs": [
    {
     "name": "stderr",
     "output_type": "stream",
     "text": [
      "/Users/alamhanz/anaconda/envs/joko/lib/python3.8/site-packages/IPython/core/interactiveshell.py:3146: DtypeWarning: Columns (0) have mixed types.Specify dtype option on import or set low_memory=False.\n",
      "  has_raised = await self.run_ast_nodes(code_ast.body, cell_name,\n"
     ]
    }
   ],
   "source": [
    "# df_dlg_seen = pd.read_csv(PATH_DATA+'friends_seen_season2.csv')\n",
    "# df_dlg_unseen = pd.read_csv(PATH_DATA+'friends_unseen_season2.csv')\n",
    "\n",
    "df_dlg_seen = pd.read_csv(PATH_DATA+'friends_seen_season2_2.csv')\n",
    "df_dlg_unseen = pd.read_csv(PATH_DATA+'friends_unseen_season2_2.csv')"
   ]
  },
  {
   "cell_type": "code",
   "execution_count": 9,
   "metadata": {},
   "outputs": [],
   "source": [
    "df_dlg_seen.rename(columns = {'label_place':'places'},inplace=True)\n",
    "df_dlg_unseen.rename(columns = {'label_place':'places'},inplace=True)"
   ]
  },
  {
   "cell_type": "code",
   "execution_count": 10,
   "metadata": {},
   "outputs": [
    {
     "data": {
      "text/html": [
       "<div>\n",
       "<style scoped>\n",
       "    .dataframe tbody tr th:only-of-type {\n",
       "        vertical-align: middle;\n",
       "    }\n",
       "\n",
       "    .dataframe tbody tr th {\n",
       "        vertical-align: top;\n",
       "    }\n",
       "\n",
       "    .dataframe thead th {\n",
       "        text-align: right;\n",
       "    }\n",
       "</style>\n",
       "<table border=\"1\" class=\"dataframe\">\n",
       "  <thead>\n",
       "    <tr style=\"text-align: right;\">\n",
       "      <th></th>\n",
       "      <th>eps</th>\n",
       "      <th>dialogue_ids</th>\n",
       "      <th>scenes_places</th>\n",
       "      <th>places</th>\n",
       "      <th>label_str</th>\n",
       "      <th>label</th>\n",
       "      <th>season</th>\n",
       "      <th>dialogue</th>\n",
       "      <th>text2</th>\n",
       "      <th>len_dialogue5</th>\n",
       "      <th>is_null2</th>\n",
       "      <th>ids</th>\n",
       "      <th>is_train</th>\n",
       "      <th>text1</th>\n",
       "      <th>label_prev</th>\n",
       "      <th>label_str_prev</th>\n",
       "      <th>is_null2_prev</th>\n",
       "    </tr>\n",
       "  </thead>\n",
       "  <tbody>\n",
       "    <tr>\n",
       "      <th>0</th>\n",
       "      <td>0101</td>\n",
       "      <td>1</td>\n",
       "      <td>[central perk]</td>\n",
       "      <td>1</td>\n",
       "      <td>joey</td>\n",
       "      <td>5</td>\n",
       "      <td>1</td>\n",
       "      <td>c'mon, you're going out with the guy! there'...</td>\n",
       "      <td>c'mon you're going out with the guy there's go...</td>\n",
       "      <td>14</td>\n",
       "      <td>False</td>\n",
       "      <td>1</td>\n",
       "      <td>False</td>\n",
       "      <td>there's nothing to tell he's just some guy i w...</td>\n",
       "      <td>3.0</td>\n",
       "      <td>monica</td>\n",
       "      <td>False</td>\n",
       "    </tr>\n",
       "    <tr>\n",
       "      <th>1</th>\n",
       "      <td>0101</td>\n",
       "      <td>2</td>\n",
       "      <td>[central perk]</td>\n",
       "      <td>1</td>\n",
       "      <td>chandler</td>\n",
       "      <td>4</td>\n",
       "      <td>1</td>\n",
       "      <td>all right joey, be nice.  so does he have a...</td>\n",
       "      <td>all right joey be nice so does he have a hump ...</td>\n",
       "      <td>16</td>\n",
       "      <td>False</td>\n",
       "      <td>2</td>\n",
       "      <td>True</td>\n",
       "      <td>c'mon you're going out with the guy there's go...</td>\n",
       "      <td>5.0</td>\n",
       "      <td>joey</td>\n",
       "      <td>False</td>\n",
       "    </tr>\n",
       "    <tr>\n",
       "      <th>2</th>\n",
       "      <td>0101</td>\n",
       "      <td>3</td>\n",
       "      <td>[central perk]</td>\n",
       "      <td>1</td>\n",
       "      <td>phoebe</td>\n",
       "      <td>6</td>\n",
       "      <td>1</td>\n",
       "      <td>wait, does he eat chalk? (they all stare, be...</td>\n",
       "      <td>wait does he eat chalk</td>\n",
       "      <td>5</td>\n",
       "      <td>False</td>\n",
       "      <td>3</td>\n",
       "      <td>False</td>\n",
       "      <td>all right joey be nice so does he have a hump ...</td>\n",
       "      <td>4.0</td>\n",
       "      <td>chandler</td>\n",
       "      <td>False</td>\n",
       "    </tr>\n",
       "    <tr>\n",
       "      <th>3</th>\n",
       "      <td>0101</td>\n",
       "      <td>5</td>\n",
       "      <td>[central perk]</td>\n",
       "      <td>1</td>\n",
       "      <td>monica</td>\n",
       "      <td>3</td>\n",
       "      <td>1</td>\n",
       "      <td>okay, everybody relax. this is not even a da...</td>\n",
       "      <td>okay everybody relax this is not even a date i...</td>\n",
       "      <td>21</td>\n",
       "      <td>False</td>\n",
       "      <td>5</td>\n",
       "      <td>True</td>\n",
       "      <td>just because i don't want her to go through wh...</td>\n",
       "      <td>6.0</td>\n",
       "      <td>phoebe</td>\n",
       "      <td>False</td>\n",
       "    </tr>\n",
       "    <tr>\n",
       "      <th>4</th>\n",
       "      <td>0101</td>\n",
       "      <td>6</td>\n",
       "      <td>[central perk]</td>\n",
       "      <td>1</td>\n",
       "      <td>chandler</td>\n",
       "      <td>4</td>\n",
       "      <td>1</td>\n",
       "      <td>sounds like a date to me. [time lapse]</td>\n",
       "      <td>sounds like a date to me</td>\n",
       "      <td>6</td>\n",
       "      <td>False</td>\n",
       "      <td>6</td>\n",
       "      <td>True</td>\n",
       "      <td>okay everybody relax this is not even a date i...</td>\n",
       "      <td>3.0</td>\n",
       "      <td>monica</td>\n",
       "      <td>False</td>\n",
       "    </tr>\n",
       "  </tbody>\n",
       "</table>\n",
       "</div>"
      ],
      "text/plain": [
       "    eps  dialogue_ids   scenes_places  places label_str  label  season  \\\n",
       "0  0101             1  [central perk]       1      joey      5       1   \n",
       "1  0101             2  [central perk]       1  chandler      4       1   \n",
       "2  0101             3  [central perk]       1    phoebe      6       1   \n",
       "3  0101             5  [central perk]       1    monica      3       1   \n",
       "4  0101             6  [central perk]       1  chandler      4       1   \n",
       "\n",
       "                                            dialogue  \\\n",
       "0    c'mon, you're going out with the guy! there'...   \n",
       "1     all right joey, be nice.  so does he have a...   \n",
       "2    wait, does he eat chalk? (they all stare, be...   \n",
       "3    okay, everybody relax. this is not even a da...   \n",
       "4             sounds like a date to me. [time lapse]   \n",
       "\n",
       "                                               text2  len_dialogue5  is_null2  \\\n",
       "0  c'mon you're going out with the guy there's go...             14     False   \n",
       "1  all right joey be nice so does he have a hump ...             16     False   \n",
       "2                             wait does he eat chalk              5     False   \n",
       "3  okay everybody relax this is not even a date i...             21     False   \n",
       "4                           sounds like a date to me              6     False   \n",
       "\n",
       "   ids  is_train                                              text1  \\\n",
       "0    1     False  there's nothing to tell he's just some guy i w...   \n",
       "1    2      True  c'mon you're going out with the guy there's go...   \n",
       "2    3     False  all right joey be nice so does he have a hump ...   \n",
       "3    5      True  just because i don't want her to go through wh...   \n",
       "4    6      True  okay everybody relax this is not even a date i...   \n",
       "\n",
       "   label_prev label_str_prev  is_null2_prev  \n",
       "0         3.0         monica          False  \n",
       "1         5.0           joey          False  \n",
       "2         4.0       chandler          False  \n",
       "3         6.0         phoebe          False  \n",
       "4         3.0         monica          False  "
      ]
     },
     "execution_count": 10,
     "metadata": {},
     "output_type": "execute_result"
    }
   ],
   "source": [
    "df_dlg_seen.head()"
   ]
  },
  {
   "cell_type": "code",
   "execution_count": 11,
   "metadata": {},
   "outputs": [
    {
     "data": {
      "text/plain": [
       "array([5, 4, 6, 3, 0, 2, 1])"
      ]
     },
     "execution_count": 11,
     "metadata": {},
     "output_type": "execute_result"
    }
   ],
   "source": [
    "df_dlg_seen.label.unique()"
   ]
  },
  {
   "cell_type": "code",
   "execution_count": 12,
   "metadata": {},
   "outputs": [],
   "source": [
    "df_dlg_seen_1 = df_dlg_seen[df_dlg_seen.season.isin([4,5,6,7,8])]\n",
    "df_dlg_seen_2 = df_dlg_seen[df_dlg_seen.season.isin([2,3])&df_dlg_seen.label.isin([5,6])]\n",
    "df_dlg_seen = pd.concat([df_dlg_seen_1,df_dlg_seen_2])"
   ]
  },
  {
   "cell_type": "code",
   "execution_count": 13,
   "metadata": {
    "id": "y_VRmC1602xe"
   },
   "outputs": [],
   "source": [
    "data_train = df_dlg_seen[(df_dlg_seen.is_train == True)&(df_dlg_seen.label!=0)][['text1','text2','label_prev','places','season','label']]\n",
    "data_train['label'] = data_train['label']-1\n",
    "data_train = data_train[~(data_train.text1.isnull())]\n",
    "\n",
    "data_test = df_dlg_seen[(df_dlg_seen.is_train == False)&(df_dlg_seen.label!=0)][['text1','text2','label_prev','places','season','label']]\n",
    "data_test['label'] = data_test['label']-1\n",
    "data_test = data_test[~(data_test.text1.isnull())]\n",
    "\n",
    "data_unseen = df_dlg_unseen[(df_dlg_unseen.label!=0)][['text1','text2','label_prev','places','season','label']]\n",
    "data_unseen['label'] = data_unseen['label']-1\n",
    "data_unseen = data_unseen[~(data_unseen.text1.isnull())]"
   ]
  },
  {
   "cell_type": "code",
   "execution_count": 14,
   "metadata": {
    "colab": {
     "base_uri": "https://localhost:8080/"
    },
    "id": "Tt421RVa02xh",
    "outputId": "03de5b03-ec4f-4f0f-8656-399e7cb20cf9"
   },
   "outputs": [
    {
     "data": {
      "text/plain": [
       "(18464, 6)"
      ]
     },
     "execution_count": 14,
     "metadata": {},
     "output_type": "execute_result"
    }
   ],
   "source": [
    "data_train.shape"
   ]
  },
  {
   "cell_type": "code",
   "execution_count": 15,
   "metadata": {
    "colab": {
     "base_uri": "https://localhost:8080/"
    },
    "id": "LnHpAS_J02xk",
    "outputId": "4ab46916-557f-4c8a-c7d8-e19ff5f1478c"
   },
   "outputs": [
    {
     "data": {
      "text/plain": [
       "(6139, 6)"
      ]
     },
     "execution_count": 15,
     "metadata": {},
     "output_type": "execute_result"
    }
   ],
   "source": [
    "data_test.shape"
   ]
  },
  {
   "cell_type": "code",
   "execution_count": 16,
   "metadata": {
    "colab": {
     "base_uri": "https://localhost:8080/"
    },
    "id": "u1kNu3H602xo",
    "outputId": "3233fad8-8882-47d7-ed3b-4d0807ed4c05"
   },
   "outputs": [
    {
     "data": {
      "text/plain": [
       "(8305, 6)"
      ]
     },
     "execution_count": 16,
     "metadata": {},
     "output_type": "execute_result"
    }
   ],
   "source": [
    "data_unseen.shape"
   ]
  },
  {
   "cell_type": "code",
   "execution_count": 17,
   "metadata": {},
   "outputs": [
    {
     "data": {
      "text/plain": [
       "4    0.201690\n",
       "5    0.179864\n",
       "0    0.169736\n",
       "3    0.151213\n",
       "2    0.149643\n",
       "1    0.147855\n",
       "Name: label, dtype: float64"
      ]
     },
     "execution_count": 17,
     "metadata": {},
     "output_type": "execute_result"
    }
   ],
   "source": [
    "XX = data_train.label.value_counts()\n",
    "XX/XX.sum()"
   ]
  },
  {
   "cell_type": "code",
   "execution_count": 18,
   "metadata": {
    "colab": {
     "base_uri": "https://localhost:8080/"
    },
    "id": "IWx_PNZHay70",
    "outputId": "b877f337-b9ed-4c6e-e07c-8c4d0e0d7428"
   },
   "outputs": [
    {
     "data": {
      "text/plain": [
       "1    0.180253\n",
       "0    0.169777\n",
       "3    0.168694\n",
       "2    0.164840\n",
       "4    0.163757\n",
       "5    0.152679\n",
       "Name: label, dtype: float64"
      ]
     },
     "execution_count": 18,
     "metadata": {},
     "output_type": "execute_result"
    }
   ],
   "source": [
    "XX = data_unseen.label.value_counts()\n",
    "XX/XX.sum()"
   ]
  },
  {
   "cell_type": "code",
   "execution_count": null,
   "metadata": {
    "id": "L1J6bjri02xr"
   },
   "outputs": [],
   "source": []
  },
  {
   "cell_type": "markdown",
   "metadata": {
    "id": "5KQGGRST02xu"
   },
   "source": [
    "## Tokenizer"
   ]
  },
  {
   "cell_type": "code",
   "execution_count": 19,
   "metadata": {},
   "outputs": [],
   "source": [
    "MAX_LEN = 20\n",
    "EMBED_SIZE = 128"
   ]
  },
  {
   "cell_type": "code",
   "execution_count": 20,
   "metadata": {},
   "outputs": [],
   "source": [
    "OH = OneHotEncoder()\n",
    "OH_people = OneHotEncoder()\n",
    "OH_place = OneHotEncoder()"
   ]
  },
  {
   "cell_type": "code",
   "execution_count": 21,
   "metadata": {},
   "outputs": [
    {
     "data": {
      "text/html": [
       "<div>\n",
       "<style scoped>\n",
       "    .dataframe tbody tr th:only-of-type {\n",
       "        vertical-align: middle;\n",
       "    }\n",
       "\n",
       "    .dataframe tbody tr th {\n",
       "        vertical-align: top;\n",
       "    }\n",
       "\n",
       "    .dataframe thead th {\n",
       "        text-align: right;\n",
       "    }\n",
       "</style>\n",
       "<table border=\"1\" class=\"dataframe\">\n",
       "  <thead>\n",
       "    <tr style=\"text-align: right;\">\n",
       "      <th></th>\n",
       "      <th>text1</th>\n",
       "      <th>text2</th>\n",
       "      <th>label_prev</th>\n",
       "      <th>places</th>\n",
       "      <th>season</th>\n",
       "      <th>label</th>\n",
       "    </tr>\n",
       "  </thead>\n",
       "  <tbody>\n",
       "    <tr>\n",
       "      <th>15219</th>\n",
       "      <td>ehh</td>\n",
       "      <td>oh and then monica joked that she wouldn't go ...</td>\n",
       "      <td>6.0</td>\n",
       "      <td>0</td>\n",
       "      <td>4</td>\n",
       "      <td>4</td>\n",
       "    </tr>\n",
       "    <tr>\n",
       "      <th>15220</th>\n",
       "      <td>oh and then monica joked that she wouldn't go ...</td>\n",
       "      <td>there</td>\n",
       "      <td>5.0</td>\n",
       "      <td>0</td>\n",
       "      <td>4</td>\n",
       "      <td>3</td>\n",
       "    </tr>\n",
       "    <tr>\n",
       "      <th>15221</th>\n",
       "      <td>there</td>\n",
       "      <td>and he couldn't let it go and i don't really k...</td>\n",
       "      <td>4.0</td>\n",
       "      <td>0</td>\n",
       "      <td>4</td>\n",
       "      <td>4</td>\n",
       "    </tr>\n",
       "    <tr>\n",
       "      <th>15224</th>\n",
       "      <td>a million</td>\n",
       "      <td>oh you're welcome a million</td>\n",
       "      <td>0.0</td>\n",
       "      <td>0</td>\n",
       "      <td>4</td>\n",
       "      <td>0</td>\n",
       "    </tr>\n",
       "    <tr>\n",
       "      <th>15226</th>\n",
       "      <td>my god</td>\n",
       "      <td>i</td>\n",
       "      <td>1.0</td>\n",
       "      <td>0</td>\n",
       "      <td>4</td>\n",
       "      <td>1</td>\n",
       "    </tr>\n",
       "  </tbody>\n",
       "</table>\n",
       "</div>"
      ],
      "text/plain": [
       "                                                   text1  \\\n",
       "15219                                                ehh   \n",
       "15220  oh and then monica joked that she wouldn't go ...   \n",
       "15221                                              there   \n",
       "15224                                          a million   \n",
       "15226                                             my god   \n",
       "\n",
       "                                                   text2  label_prev  places  \\\n",
       "15219  oh and then monica joked that she wouldn't go ...         6.0       0   \n",
       "15220                                              there         5.0       0   \n",
       "15221  and he couldn't let it go and i don't really k...         4.0       0   \n",
       "15224                        oh you're welcome a million         0.0       0   \n",
       "15226                                                  i         1.0       0   \n",
       "\n",
       "       season  label  \n",
       "15219       4      4  \n",
       "15220       4      3  \n",
       "15221       4      4  \n",
       "15224       4      0  \n",
       "15226       4      1  "
      ]
     },
     "execution_count": 21,
     "metadata": {},
     "output_type": "execute_result"
    }
   ],
   "source": [
    "data_train.head()"
   ]
  },
  {
   "cell_type": "code",
   "execution_count": 22,
   "metadata": {},
   "outputs": [
    {
     "data": {
      "text/html": [
       "<div>\n",
       "<style scoped>\n",
       "    .dataframe tbody tr th:only-of-type {\n",
       "        vertical-align: middle;\n",
       "    }\n",
       "\n",
       "    .dataframe tbody tr th {\n",
       "        vertical-align: top;\n",
       "    }\n",
       "\n",
       "    .dataframe thead th {\n",
       "        text-align: right;\n",
       "    }\n",
       "</style>\n",
       "<table border=\"1\" class=\"dataframe\">\n",
       "  <thead>\n",
       "    <tr style=\"text-align: right;\">\n",
       "      <th></th>\n",
       "      <th>text1</th>\n",
       "      <th>text2</th>\n",
       "      <th>label_prev</th>\n",
       "      <th>places</th>\n",
       "      <th>season</th>\n",
       "      <th>label</th>\n",
       "    </tr>\n",
       "  </thead>\n",
       "  <tbody>\n",
       "    <tr>\n",
       "      <th>15218</th>\n",
       "      <td>i'm your mother</td>\n",
       "      <td>ehh</td>\n",
       "      <td>0.0</td>\n",
       "      <td>0</td>\n",
       "      <td>4</td>\n",
       "      <td>5</td>\n",
       "    </tr>\n",
       "    <tr>\n",
       "      <th>15222</th>\n",
       "      <td>rachel was just helping me out my head got all...</td>\n",
       "      <td>awww</td>\n",
       "      <td>0.0</td>\n",
       "      <td>0</td>\n",
       "      <td>4</td>\n",
       "      <td>1</td>\n",
       "    </tr>\n",
       "    <tr>\n",
       "      <th>15233</th>\n",
       "      <td>no she likes that yeah faking sleep doesn't wo...</td>\n",
       "      <td>whoa ho</td>\n",
       "      <td>2.0</td>\n",
       "      <td>0</td>\n",
       "      <td>4</td>\n",
       "      <td>0</td>\n",
       "    </tr>\n",
       "    <tr>\n",
       "      <th>15235</th>\n",
       "      <td>whoa oh okay yeah why am i telling you that</td>\n",
       "      <td>i don't</td>\n",
       "      <td>2.0</td>\n",
       "      <td>0</td>\n",
       "      <td>4</td>\n",
       "      <td>0</td>\n",
       "    </tr>\n",
       "    <tr>\n",
       "      <th>15248</th>\n",
       "      <td>well any how some how i got pregnant and and i...</td>\n",
       "      <td>yeah let's see my had mom killed herself and m...</td>\n",
       "      <td>0.0</td>\n",
       "      <td>0</td>\n",
       "      <td>4</td>\n",
       "      <td>5</td>\n",
       "    </tr>\n",
       "  </tbody>\n",
       "</table>\n",
       "</div>"
      ],
      "text/plain": [
       "                                                   text1  \\\n",
       "15218                                    i'm your mother   \n",
       "15222  rachel was just helping me out my head got all...   \n",
       "15233  no she likes that yeah faking sleep doesn't wo...   \n",
       "15235        whoa oh okay yeah why am i telling you that   \n",
       "15248  well any how some how i got pregnant and and i...   \n",
       "\n",
       "                                                   text2  label_prev  places  \\\n",
       "15218                                                ehh         0.0       0   \n",
       "15222                                               awww         0.0       0   \n",
       "15233                                            whoa ho         2.0       0   \n",
       "15235                                            i don't         2.0       0   \n",
       "15248  yeah let's see my had mom killed herself and m...         0.0       0   \n",
       "\n",
       "       season  label  \n",
       "15218       4      5  \n",
       "15222       4      1  \n",
       "15233       4      0  \n",
       "15235       4      0  \n",
       "15248       4      5  "
      ]
     },
     "execution_count": 22,
     "metadata": {},
     "output_type": "execute_result"
    }
   ],
   "source": [
    "data_test.head()"
   ]
  },
  {
   "cell_type": "code",
   "execution_count": 23,
   "metadata": {},
   "outputs": [
    {
     "data": {
      "text/html": [
       "<div>\n",
       "<style scoped>\n",
       "    .dataframe tbody tr th:only-of-type {\n",
       "        vertical-align: middle;\n",
       "    }\n",
       "\n",
       "    .dataframe tbody tr th {\n",
       "        vertical-align: top;\n",
       "    }\n",
       "\n",
       "    .dataframe thead th {\n",
       "        text-align: right;\n",
       "    }\n",
       "</style>\n",
       "<table border=\"1\" class=\"dataframe\">\n",
       "  <thead>\n",
       "    <tr style=\"text-align: right;\">\n",
       "      <th></th>\n",
       "      <th>text1</th>\n",
       "      <th>text2</th>\n",
       "      <th>label_prev</th>\n",
       "      <th>places</th>\n",
       "      <th>season</th>\n",
       "      <th>label</th>\n",
       "    </tr>\n",
       "  </thead>\n",
       "  <tbody>\n",
       "    <tr>\n",
       "      <th>0</th>\n",
       "      <td>so uh i guess we should make it official huh</td>\n",
       "      <td>uh look rach hey ross is here hey look it's my...</td>\n",
       "      <td>1.0</td>\n",
       "      <td>2</td>\n",
       "      <td>9</td>\n",
       "      <td>4</td>\n",
       "    </tr>\n",
       "    <tr>\n",
       "      <th>1</th>\n",
       "      <td>uh look rach hey ross is here hey look it's my...</td>\n",
       "      <td>joey you</td>\n",
       "      <td>5.0</td>\n",
       "      <td>2</td>\n",
       "      <td>9</td>\n",
       "      <td>1</td>\n",
       "    </tr>\n",
       "    <tr>\n",
       "      <th>2</th>\n",
       "      <td>joey you</td>\n",
       "      <td>you</td>\n",
       "      <td>2.0</td>\n",
       "      <td>2</td>\n",
       "      <td>9</td>\n",
       "      <td>0</td>\n",
       "    </tr>\n",
       "    <tr>\n",
       "      <th>3</th>\n",
       "      <td>you</td>\n",
       "      <td>hey and look he brought flowers thanks ross bu...</td>\n",
       "      <td>1.0</td>\n",
       "      <td>2</td>\n",
       "      <td>9</td>\n",
       "      <td>4</td>\n",
       "    </tr>\n",
       "    <tr>\n",
       "      <th>4</th>\n",
       "      <td>hey and look he brought flowers thanks ross bu...</td>\n",
       "      <td>you're weird today listen i uh wanted to talk ...</td>\n",
       "      <td>5.0</td>\n",
       "      <td>2</td>\n",
       "      <td>9</td>\n",
       "      <td>1</td>\n",
       "    </tr>\n",
       "  </tbody>\n",
       "</table>\n",
       "</div>"
      ],
      "text/plain": [
       "                                               text1  \\\n",
       "0       so uh i guess we should make it official huh   \n",
       "1  uh look rach hey ross is here hey look it's my...   \n",
       "2                                           joey you   \n",
       "3                                                you   \n",
       "4  hey and look he brought flowers thanks ross bu...   \n",
       "\n",
       "                                               text2  label_prev  places  \\\n",
       "0  uh look rach hey ross is here hey look it's my...         1.0       2   \n",
       "1                                           joey you         5.0       2   \n",
       "2                                                you         2.0       2   \n",
       "3  hey and look he brought flowers thanks ross bu...         1.0       2   \n",
       "4  you're weird today listen i uh wanted to talk ...         5.0       2   \n",
       "\n",
       "   season  label  \n",
       "0       9      4  \n",
       "1       9      1  \n",
       "2       9      0  \n",
       "3       9      4  \n",
       "4       9      1  "
      ]
     },
     "execution_count": 23,
     "metadata": {},
     "output_type": "execute_result"
    }
   ],
   "source": [
    "data_unseen.head()"
   ]
  },
  {
   "cell_type": "code",
   "execution_count": null,
   "metadata": {},
   "outputs": [],
   "source": []
  },
  {
   "cell_type": "code",
   "execution_count": 24,
   "metadata": {},
   "outputs": [],
   "source": [
    "get_ids = pd.concat([data_train,data_test])\n",
    "get_ids = pd.DataFrame(get_ids['text1'].tolist()+get_ids['text2'].tolist(),columns = ['text'])"
   ]
  },
  {
   "cell_type": "code",
   "execution_count": 25,
   "metadata": {},
   "outputs": [],
   "source": [
    "word2idx, idx2word = data_text_prep(get_ids)"
   ]
  },
  {
   "cell_type": "code",
   "execution_count": 26,
   "metadata": {},
   "outputs": [
    {
     "data": {
      "text/plain": [
       "10901"
      ]
     },
     "execution_count": 26,
     "metadata": {},
     "output_type": "execute_result"
    }
   ],
   "source": [
    "VOCAB_SIZE = len(word2idx)\n",
    "VOCAB_SIZE"
   ]
  },
  {
   "cell_type": "code",
   "execution_count": 27,
   "metadata": {},
   "outputs": [
    {
     "data": {
      "text/plain": [
       "OneHotEncoder()"
      ]
     },
     "execution_count": 27,
     "metadata": {},
     "output_type": "execute_result"
    }
   ],
   "source": [
    "get_ids = pd.concat([data_train,data_test])\n",
    "OH.fit(get_ids['label'].values.reshape(len(get_ids),-1))\n",
    "OH_people.fit(get_ids['label_prev'].values.reshape(len(get_ids),-1))\n",
    "OH_place.fit(get_ids['places'].values.reshape(len(get_ids),-1))"
   ]
  },
  {
   "cell_type": "code",
   "execution_count": 28,
   "metadata": {},
   "outputs": [],
   "source": [
    "def get_input(df):\n",
    "    X1 = []\n",
    "    X2 = []\n",
    "    f1 = []\n",
    "    f2 = []\n",
    "    f3 = []\n",
    "    \n",
    "    label_ls = []\n",
    "    for txt1,txt2,label1,label2,label3,label in df.values:\n",
    "        text_encode = encode(txt1)\n",
    "        text_encode = set_fix_length(text_encode,max_len=MAX_LEN)\n",
    "        X1.append(text_encode)\n",
    "        \n",
    "        text_encode = encode(txt2)\n",
    "        text_encode = set_fix_length(text_encode,max_len=MAX_LEN)\n",
    "        X2.append(text_encode)\n",
    "        \n",
    "        f1.append(int(label1))\n",
    "        f2.append(int(label2))\n",
    "        label_ls.append(label)\n",
    "    \n",
    "    Xf1 = OH_people.transform(np.array(f1).reshape(len(f1),-1)).toarray()\n",
    "    Xf2 = OH_place.transform(np.array(f2).reshape(len(f1),-1)).toarray()\n",
    "    \n",
    "    X3 = np.concatenate([Xf1,Xf2],axis = 1)\n",
    "    \n",
    "    return np.stack(X1),np.stack(X2),np.array(X3),np.array(label_ls)"
   ]
  },
  {
   "cell_type": "code",
   "execution_count": 29,
   "metadata": {},
   "outputs": [],
   "source": [
    "X_train1,X_train2,X_train3,label_train = get_input(data_train)\n",
    "X_test1,X_test2,X_test3,label_test = get_input(data_test)\n",
    "X_unseen1,X_unseen2,X_unseen3,label_unseen = get_input(data_unseen)"
   ]
  },
  {
   "cell_type": "code",
   "execution_count": 30,
   "metadata": {},
   "outputs": [
    {
     "data": {
      "text/plain": [
       "((18464, 20), (18464, 20), (18464, 20))"
      ]
     },
     "execution_count": 30,
     "metadata": {},
     "output_type": "execute_result"
    }
   ],
   "source": [
    "X_train1.shape,X_train2.shape,X_train3.shape"
   ]
  },
  {
   "cell_type": "code",
   "execution_count": 31,
   "metadata": {},
   "outputs": [
    {
     "data": {
      "text/plain": [
       "((8305, 20), (8305, 20), (8305, 20))"
      ]
     },
     "execution_count": 31,
     "metadata": {},
     "output_type": "execute_result"
    }
   ],
   "source": [
    "X_unseen1.shape,X_unseen2.shape,X_unseen3.shape"
   ]
  },
  {
   "cell_type": "code",
   "execution_count": 32,
   "metadata": {},
   "outputs": [],
   "source": [
    "y_train = OH.transform(label_train.reshape(len(label_train),-1)).toarray()\n",
    "y_test = OH.transform(label_test.reshape(len(label_test),-1)).toarray()\n",
    "y_unseen = OH.transform(label_unseen.reshape(len(label_unseen),-1)).toarray()"
   ]
  },
  {
   "cell_type": "code",
   "execution_count": 33,
   "metadata": {},
   "outputs": [
    {
     "data": {
      "text/plain": [
       "(18464, 20)"
      ]
     },
     "execution_count": 33,
     "metadata": {},
     "output_type": "execute_result"
    }
   ],
   "source": [
    "X_train3.shape"
   ]
  },
  {
   "cell_type": "code",
   "execution_count": null,
   "metadata": {},
   "outputs": [],
   "source": []
  },
  {
   "cell_type": "markdown",
   "metadata": {
    "id": "cYqyu2RK02x6"
   },
   "source": [
    "## Training Model"
   ]
  },
  {
   "cell_type": "code",
   "execution_count": 41,
   "metadata": {},
   "outputs": [],
   "source": [
    "def text_net() :\n",
    "    # sentence_indices = keras.Input(25, dtype = 'int32')\n",
    "    mod1 = Sequential()\n",
    "    mod1.add(Embedding(VOCAB_SIZE, EMBED_SIZE))\n",
    "    mod1.add(LSTM(128,return_sequences = True))\n",
    "    mod1.add(LSTM(64,return_sequences = True))\n",
    "    mod1.add(layers.Dropout(0.4))\n",
    "    return mod1"
   ]
  },
  {
   "cell_type": "code",
   "execution_count": 42,
   "metadata": {},
   "outputs": [],
   "source": [
    "input_dim_txt = (MAX_LEN)\n",
    "txt_1 = keras.Input(shape=input_dim_txt)\n",
    "txt_2 = keras.Input(shape=input_dim_txt)\n",
    "inp_3 = keras.Input(shape=(20))"
   ]
  },
  {
   "cell_type": "code",
   "execution_count": 43,
   "metadata": {},
   "outputs": [],
   "source": [
    "tx_net = text_net()\n",
    "connect_layer = layers.Concatenate(axis=2)\n",
    "connect_layer2 = layers.Concatenate(axis=1)\n",
    "\n",
    "feat_txt_1 = tx_net(txt_1)\n",
    "feat_txt_2 = tx_net(txt_2)\n",
    "\n",
    "concat_txt = connect_layer([feat_txt_1, feat_txt_2])\n",
    "inp_3_emb = layers.Dense(128,activation='relu')(inp_3)\n",
    "inp_3_emb = layers.Dense(128,activation='relu')(inp_3_emb)\n",
    "inp_3_emb = layers.Dense(64,activation='relu')(inp_3_emb)\n",
    "inp_3_emb = layers.Dense(16,activation='relu')(inp_3_emb)\n",
    "\n",
    "LSTM_2 = LSTM(64,return_sequences = True)(concat_txt)\n",
    "LSTM_2 = LSTM(16,return_sequences = True)(LSTM_2)\n",
    "layers_n = layers.Flatten()(LSTM_2)\n",
    "layers_n = layers.Dense(256,activation='relu')(layers_n)\n",
    "layers_n = layers.Dropout(0.2)(layers_n)\n",
    "layers_n = layers.Dense(16,activation='relu')(layers_n)\n",
    "layers_n = connect_layer2([layers_n, inp_3_emb])\n",
    "\n",
    "layers_n = layers.Dense(32,activation='relu')(layers_n)\n",
    "layers_n = layers.Dense(32,activation='relu')(layers_n)\n",
    "layers_n = layers.Dropout(0.2)(layers_n)\n",
    "prediction = layers.Dense(6,activation='softmax')(layers_n)\n",
    "\n",
    "mod1 = keras.Model(inputs = [txt_1, txt_2, inp_3], outputs = prediction)"
   ]
  },
  {
   "cell_type": "code",
   "execution_count": null,
   "metadata": {},
   "outputs": [],
   "source": []
  },
  {
   "cell_type": "code",
   "execution_count": 44,
   "metadata": {},
   "outputs": [
    {
     "name": "stdout",
     "output_type": "stream",
     "text": [
      "Model: \"functional_3\"\n",
      "__________________________________________________________________________________________________\n",
      "Layer (type)                    Output Shape         Param #     Connected to                     \n",
      "==================================================================================================\n",
      "input_4 (InputLayer)            [(None, 20)]         0                                            \n",
      "__________________________________________________________________________________________________\n",
      "input_5 (InputLayer)            [(None, 20)]         0                                            \n",
      "__________________________________________________________________________________________________\n",
      "sequential_1 (Sequential)       (None, None, 64)     1576320     input_4[0][0]                    \n",
      "                                                                 input_5[0][0]                    \n",
      "__________________________________________________________________________________________________\n",
      "concatenate_2 (Concatenate)     (None, 20, 128)      0           sequential_1[0][0]               \n",
      "                                                                 sequential_1[1][0]               \n",
      "__________________________________________________________________________________________________\n",
      "lstm_6 (LSTM)                   (None, 20, 64)       49408       concatenate_2[0][0]              \n",
      "__________________________________________________________________________________________________\n",
      "lstm_7 (LSTM)                   (None, 20, 16)       5184        lstm_6[0][0]                     \n",
      "__________________________________________________________________________________________________\n",
      "input_6 (InputLayer)            [(None, 20)]         0                                            \n",
      "__________________________________________________________________________________________________\n",
      "flatten_1 (Flatten)             (None, 320)          0           lstm_7[0][0]                     \n",
      "__________________________________________________________________________________________________\n",
      "dense_9 (Dense)                 (None, 128)          2688        input_6[0][0]                    \n",
      "__________________________________________________________________________________________________\n",
      "dense_13 (Dense)                (None, 256)          82176       flatten_1[0][0]                  \n",
      "__________________________________________________________________________________________________\n",
      "dense_10 (Dense)                (None, 128)          16512       dense_9[0][0]                    \n",
      "__________________________________________________________________________________________________\n",
      "dropout_4 (Dropout)             (None, 256)          0           dense_13[0][0]                   \n",
      "__________________________________________________________________________________________________\n",
      "dense_11 (Dense)                (None, 64)           8256        dense_10[0][0]                   \n",
      "__________________________________________________________________________________________________\n",
      "dense_14 (Dense)                (None, 16)           4112        dropout_4[0][0]                  \n",
      "__________________________________________________________________________________________________\n",
      "dense_12 (Dense)                (None, 16)           1040        dense_11[0][0]                   \n",
      "__________________________________________________________________________________________________\n",
      "concatenate_3 (Concatenate)     (None, 32)           0           dense_14[0][0]                   \n",
      "                                                                 dense_12[0][0]                   \n",
      "__________________________________________________________________________________________________\n",
      "dense_15 (Dense)                (None, 32)           1056        concatenate_3[0][0]              \n",
      "__________________________________________________________________________________________________\n",
      "dense_16 (Dense)                (None, 32)           1056        dense_15[0][0]                   \n",
      "__________________________________________________________________________________________________\n",
      "dropout_5 (Dropout)             (None, 32)           0           dense_16[0][0]                   \n",
      "__________________________________________________________________________________________________\n",
      "dense_17 (Dense)                (None, 6)            198         dropout_5[0][0]                  \n",
      "==================================================================================================\n",
      "Total params: 1,748,006\n",
      "Trainable params: 1,748,006\n",
      "Non-trainable params: 0\n",
      "__________________________________________________________________________________________________\n"
     ]
    }
   ],
   "source": [
    "mod1.summary()"
   ]
  },
  {
   "cell_type": "code",
   "execution_count": 45,
   "metadata": {},
   "outputs": [
    {
     "data": {
      "image/png": "[encoded data removed]",
      "text/plain": [
       "<IPython.core.display.Image object>"
      ]
     },
     "execution_count": 45,
     "metadata": {},
     "output_type": "execute_result"
    }
   ],
   "source": [
    "keras.utils.plot_model(mod1)"
   ]
  },
  {
   "cell_type": "code",
   "execution_count": 46,
   "metadata": {
    "id": "SKvzYkhC7CHN"
   },
   "outputs": [],
   "source": [
    "filepath = '../../models/simple_LSTM7/model_{epoch:02d}_{val_accuracy:.2f}.hdf5'\n",
    "checkpoint = ModelCheckpoint(filepath, monitor='val_accuracy', verbose=1, save_best_only=True)"
   ]
  },
  {
   "cell_type": "code",
   "execution_count": 47,
   "metadata": {
    "colab": {
     "base_uri": "https://localhost:8080/"
    },
    "id": "KA1k9kZc290S",
    "outputId": "01d43e7d-f920-427c-a028-82e6e7303596"
   },
   "outputs": [
    {
     "name": "stdout",
     "output_type": "stream",
     "text": [
      "Epoch 1/50\n",
      "739/739 [==============================] - ETA: 0s - loss: 1.6438 - accuracy: 0.3068\n",
      "Epoch 00001: val_accuracy improved from -inf to 0.33979, saving model to ../../models/simple_LSTM7/model_01_0.34.hdf5\n",
      "739/739 [==============================] - 90s 121ms/step - loss: 1.6438 - accuracy: 0.3068 - val_loss: 1.5550 - val_accuracy: 0.3398\n",
      "Epoch 2/50\n",
      "739/739 [==============================] - ETA: 0s - loss: 1.5593 - accuracy: 0.3388\n",
      "Epoch 00002: val_accuracy improved from 0.33979 to 0.35918, saving model to ../../models/simple_LSTM7/model_02_0.36.hdf5\n",
      "739/739 [==============================] - 61s 82ms/step - loss: 1.5593 - accuracy: 0.3388 - val_loss: 1.5169 - val_accuracy: 0.3592\n",
      "Epoch 3/50\n",
      "739/739 [==============================] - ETA: 0s - loss: 1.5254 - accuracy: 0.3532\n",
      "Epoch 00003: val_accuracy improved from 0.35918 to 0.38752, saving model to ../../models/simple_LSTM7/model_03_0.39.hdf5\n",
      "739/739 [==============================] - 62s 84ms/step - loss: 1.5254 - accuracy: 0.3532 - val_loss: 1.4866 - val_accuracy: 0.3875\n",
      "Epoch 4/50\n",
      "739/739 [==============================] - ETA: 0s - loss: 1.5059 - accuracy: 0.3657\n",
      "Epoch 00004: val_accuracy did not improve from 0.38752\n",
      "739/739 [==============================] - 59s 79ms/step - loss: 1.5059 - accuracy: 0.3657 - val_loss: 1.4831 - val_accuracy: 0.3773\n",
      "Epoch 5/50\n",
      "739/739 [==============================] - ETA: 0s - loss: 1.4941 - accuracy: 0.3671\n",
      "Epoch 00005: val_accuracy did not improve from 0.38752\n",
      "739/739 [==============================] - 58s 78ms/step - loss: 1.4941 - accuracy: 0.3671 - val_loss: 1.4768 - val_accuracy: 0.3745\n",
      "Epoch 6/50\n",
      "739/739 [==============================] - ETA: 0s - loss: 1.4843 - accuracy: 0.3739\n",
      "Epoch 00006: val_accuracy did not improve from 0.38752\n",
      "739/739 [==============================] - 59s 80ms/step - loss: 1.4843 - accuracy: 0.3739 - val_loss: 1.4632 - val_accuracy: 0.3825\n",
      "Epoch 7/50\n",
      "739/739 [==============================] - ETA: 0s - loss: 1.4788 - accuracy: 0.3768\n",
      "Epoch 00007: val_accuracy did not improve from 0.38752\n",
      "739/739 [==============================] - 57s 77ms/step - loss: 1.4788 - accuracy: 0.3768 - val_loss: 1.4621 - val_accuracy: 0.3841\n",
      "Epoch 8/50\n",
      "739/739 [==============================] - ETA: 0s - loss: 1.4736 - accuracy: 0.3827\n",
      "Epoch 00008: val_accuracy did not improve from 0.38752\n",
      "739/739 [==============================] - 59s 79ms/step - loss: 1.4736 - accuracy: 0.3827 - val_loss: 1.4665 - val_accuracy: 0.3791\n",
      "Epoch 9/50\n",
      "739/739 [==============================] - ETA: 0s - loss: 1.4645 - accuracy: 0.3873\n",
      "Epoch 00009: val_accuracy improved from 0.38752 to 0.39322, saving model to ../../models/simple_LSTM7/model_09_0.39.hdf5\n",
      "739/739 [==============================] - 64s 86ms/step - loss: 1.4645 - accuracy: 0.3873 - val_loss: 1.4597 - val_accuracy: 0.3932\n",
      "Epoch 10/50\n",
      "739/739 [==============================] - ETA: 0s - loss: 1.4559 - accuracy: 0.3916\n",
      "Epoch 00010: val_accuracy improved from 0.39322 to 0.39550, saving model to ../../models/simple_LSTM7/model_10_0.40.hdf5\n",
      "739/739 [==============================] - 68s 92ms/step - loss: 1.4559 - accuracy: 0.3916 - val_loss: 1.4530 - val_accuracy: 0.3955\n",
      "Epoch 11/50\n",
      "739/739 [==============================] - ETA: 0s - loss: 1.4449 - accuracy: 0.3991\n",
      "Epoch 00011: val_accuracy improved from 0.39550 to 0.39811, saving model to ../../models/simple_LSTM7/model_11_0.40.hdf5\n",
      "739/739 [==============================] - 63s 85ms/step - loss: 1.4449 - accuracy: 0.3991 - val_loss: 1.4462 - val_accuracy: 0.3981\n",
      "Epoch 12/50\n",
      "739/739 [==============================] - ETA: 0s - loss: 1.4385 - accuracy: 0.4034\n",
      "Epoch 00012: val_accuracy improved from 0.39811 to 0.39892, saving model to ../../models/simple_LSTM7/model_12_0.40.hdf5\n",
      "739/739 [==============================] - 67s 90ms/step - loss: 1.4385 - accuracy: 0.4034 - val_loss: 1.4527 - val_accuracy: 0.3989\n",
      "Epoch 13/50\n",
      "739/739 [==============================] - ETA: 0s - loss: 1.4380 - accuracy: 0.4020\n",
      "Epoch 00013: val_accuracy did not improve from 0.39892\n",
      "739/739 [==============================] - 73s 99ms/step - loss: 1.4380 - accuracy: 0.4020 - val_loss: 1.4404 - val_accuracy: 0.3960\n",
      "Epoch 14/50\n",
      "739/739 [==============================] - ETA: 0s - loss: 1.4280 - accuracy: 0.4062\n",
      "Epoch 00014: val_accuracy improved from 0.39892 to 0.40218, saving model to ../../models/simple_LSTM7/model_14_0.40.hdf5\n",
      "739/739 [==============================] - 66s 90ms/step - loss: 1.4280 - accuracy: 0.4062 - val_loss: 1.4354 - val_accuracy: 0.4022\n",
      "Epoch 15/50\n",
      "739/739 [==============================] - ETA: 0s - loss: 1.4204 - accuracy: 0.4092\n",
      "Epoch 00015: val_accuracy improved from 0.40218 to 0.40332, saving model to ../../models/simple_LSTM7/model_15_0.40.hdf5\n",
      "739/739 [==============================] - 74s 101ms/step - loss: 1.4204 - accuracy: 0.4092 - val_loss: 1.4438 - val_accuracy: 0.4033\n",
      "Epoch 16/50\n",
      "739/739 [==============================] - ETA: 0s - loss: 1.4165 - accuracy: 0.4152\n",
      "Epoch 00016: val_accuracy did not improve from 0.40332\n",
      "739/739 [==============================] - 99s 134ms/step - loss: 1.4165 - accuracy: 0.4152 - val_loss: 1.4362 - val_accuracy: 0.4015\n",
      "Epoch 17/50\n",
      "739/739 [==============================] - ETA: 0s - loss: 1.4101 - accuracy: 0.4123\n",
      "Epoch 00017: val_accuracy did not improve from 0.40332\n",
      "739/739 [==============================] - 78s 105ms/step - loss: 1.4101 - accuracy: 0.4123 - val_loss: 1.4450 - val_accuracy: 0.3989\n",
      "Epoch 18/50\n",
      "739/739 [==============================] - ETA: 0s - loss: 1.4005 - accuracy: 0.4183\n",
      "Epoch 00018: val_accuracy did not improve from 0.40332\n",
      "739/739 [==============================] - 71s 96ms/step - loss: 1.4005 - accuracy: 0.4183 - val_loss: 1.4434 - val_accuracy: 0.3984\n",
      "Epoch 19/50\n",
      "739/739 [==============================] - ETA: 0s - loss: 1.3956 - accuracy: 0.4264\n",
      "Epoch 00019: val_accuracy did not improve from 0.40332\n",
      "739/739 [==============================] - 69s 94ms/step - loss: 1.3956 - accuracy: 0.4264 - val_loss: 1.4363 - val_accuracy: 0.4022\n",
      "Epoch 20/50\n",
      "739/739 [==============================] - ETA: 0s - loss: 1.3890 - accuracy: 0.4292\n",
      "Epoch 00020: val_accuracy did not improve from 0.40332\n",
      "739/739 [==============================] - 70s 95ms/step - loss: 1.3890 - accuracy: 0.4292 - val_loss: 1.4488 - val_accuracy: 0.4014\n",
      "Epoch 21/50\n",
      "739/739 [==============================] - ETA: 0s - loss: 1.3792 - accuracy: 0.4316\n",
      "Epoch 00021: val_accuracy improved from 0.40332 to 0.40984, saving model to ../../models/simple_LSTM7/model_21_0.41.hdf5\n",
      "739/739 [==============================] - 70s 95ms/step - loss: 1.3792 - accuracy: 0.4316 - val_loss: 1.4359 - val_accuracy: 0.4098\n",
      "Epoch 22/50\n",
      "739/739 [==============================] - ETA: 0s - loss: 1.3669 - accuracy: 0.4358\n",
      "Epoch 00022: val_accuracy did not improve from 0.40984\n",
      "739/739 [==============================] - 71s 97ms/step - loss: 1.3669 - accuracy: 0.4358 - val_loss: 1.4511 - val_accuracy: 0.3970\n",
      "Epoch 23/50\n",
      "739/739 [==============================] - ETA: 0s - loss: 1.3575 - accuracy: 0.4451\n",
      "Epoch 00023: val_accuracy did not improve from 0.40984\n",
      "739/739 [==============================] - 67s 91ms/step - loss: 1.3575 - accuracy: 0.4451 - val_loss: 1.4610 - val_accuracy: 0.3996\n",
      "Epoch 24/50\n",
      "739/739 [==============================] - ETA: 0s - loss: 1.3485 - accuracy: 0.4477\n",
      "Epoch 00024: val_accuracy did not improve from 0.40984\n",
      "739/739 [==============================] - 64s 86ms/step - loss: 1.3485 - accuracy: 0.4477 - val_loss: 1.4592 - val_accuracy: 0.4040\n",
      "Epoch 25/50\n",
      "739/739 [==============================] - ETA: 0s - loss: 1.3349 - accuracy: 0.4539\n",
      "Epoch 00025: val_accuracy did not improve from 0.40984\n",
      "739/739 [==============================] - 64s 86ms/step - loss: 1.3349 - accuracy: 0.4539 - val_loss: 1.4628 - val_accuracy: 0.3988\n",
      "Epoch 26/50\n",
      "739/739 [==============================] - ETA: 0s - loss: 1.3236 - accuracy: 0.4572\n",
      "Epoch 00026: val_accuracy did not improve from 0.40984\n",
      "739/739 [==============================] - 64s 87ms/step - loss: 1.3236 - accuracy: 0.4572 - val_loss: 1.4874 - val_accuracy: 0.3901\n",
      "Epoch 27/50\n",
      "739/739 [==============================] - ETA: 0s - loss: 1.3072 - accuracy: 0.4635\n",
      "Epoch 00027: val_accuracy did not improve from 0.40984\n",
      "739/739 [==============================] - 63s 86ms/step - loss: 1.3072 - accuracy: 0.4635 - val_loss: 1.4944 - val_accuracy: 0.3962\n",
      "Epoch 28/50\n",
      "739/739 [==============================] - ETA: 0s - loss: 1.2890 - accuracy: 0.4770\n",
      "Epoch 00028: val_accuracy did not improve from 0.40984\n",
      "739/739 [==============================] - 64s 86ms/step - loss: 1.2890 - accuracy: 0.4770 - val_loss: 1.5210 - val_accuracy: 0.3883\n",
      "Epoch 29/50\n",
      "739/739 [==============================] - ETA: 0s - loss: 1.2754 - accuracy: 0.4787\n",
      "Epoch 00029: val_accuracy did not improve from 0.40984\n",
      "739/739 [==============================] - 64s 87ms/step - loss: 1.2754 - accuracy: 0.4787 - val_loss: 1.5118 - val_accuracy: 0.3914\n",
      "Epoch 30/50\n",
      "739/739 [==============================] - ETA: 0s - loss: 1.2566 - accuracy: 0.4877\n",
      "Epoch 00030: val_accuracy did not improve from 0.40984\n",
      "739/739 [==============================] - 70s 95ms/step - loss: 1.2566 - accuracy: 0.4877 - val_loss: 1.5274 - val_accuracy: 0.3870\n",
      "Epoch 31/50\n",
      "739/739 [==============================] - ETA: 0s - loss: 1.2382 - accuracy: 0.4979\n",
      "Epoch 00031: val_accuracy did not improve from 0.40984\n",
      "739/739 [==============================] - 66s 90ms/step - loss: 1.2382 - accuracy: 0.4979 - val_loss: 1.5577 - val_accuracy: 0.3849\n",
      "Epoch 32/50\n",
      "739/739 [==============================] - ETA: 0s - loss: 1.2233 - accuracy: 0.5006\n",
      "Epoch 00032: val_accuracy did not improve from 0.40984\n",
      "739/739 [==============================] - 69s 94ms/step - loss: 1.2233 - accuracy: 0.5006 - val_loss: 1.5694 - val_accuracy: 0.3802\n",
      "Epoch 33/50\n",
      "739/739 [==============================] - ETA: 0s - loss: 1.1995 - accuracy: 0.5136\n",
      "Epoch 00033: val_accuracy did not improve from 0.40984\n",
      "739/739 [==============================] - 69s 93ms/step - loss: 1.1995 - accuracy: 0.5136 - val_loss: 1.5971 - val_accuracy: 0.3830\n",
      "Epoch 34/50\n",
      "739/739 [==============================] - ETA: 0s - loss: 1.1765 - accuracy: 0.5222\n",
      "Epoch 00034: val_accuracy did not improve from 0.40984\n",
      "739/739 [==============================] - 69s 93ms/step - loss: 1.1765 - accuracy: 0.5222 - val_loss: 1.6388 - val_accuracy: 0.3846\n",
      "Epoch 35/50\n",
      "739/739 [==============================] - ETA: 0s - loss: 1.1546 - accuracy: 0.5369\n",
      "Epoch 00035: val_accuracy did not improve from 0.40984\n",
      "739/739 [==============================] - 73s 99ms/step - loss: 1.1546 - accuracy: 0.5369 - val_loss: 1.6474 - val_accuracy: 0.3859\n",
      "Epoch 36/50\n",
      "739/739 [==============================] - ETA: 0s - loss: 1.1320 - accuracy: 0.5435\n",
      "Epoch 00036: val_accuracy did not improve from 0.40984\n",
      "739/739 [==============================] - 72s 97ms/step - loss: 1.1320 - accuracy: 0.5435 - val_loss: 1.6819 - val_accuracy: 0.3815\n",
      "Epoch 37/50\n",
      "739/739 [==============================] - ETA: 0s - loss: 1.1184 - accuracy: 0.5487\n",
      "Epoch 00037: val_accuracy did not improve from 0.40984\n",
      "739/739 [==============================] - 75s 101ms/step - loss: 1.1184 - accuracy: 0.5487 - val_loss: 1.6831 - val_accuracy: 0.3820\n",
      "Epoch 38/50\n",
      "739/739 [==============================] - ETA: 0s - loss: 1.0952 - accuracy: 0.5552\n",
      "Epoch 00038: val_accuracy did not improve from 0.40984\n",
      "739/739 [==============================] - 76s 102ms/step - loss: 1.0952 - accuracy: 0.5552 - val_loss: 1.7512 - val_accuracy: 0.3758\n",
      "Epoch 39/50\n",
      "739/739 [==============================] - ETA: 0s - loss: 1.0783 - accuracy: 0.5659\n",
      "Epoch 00039: val_accuracy did not improve from 0.40984\n",
      "739/739 [==============================] - 70s 95ms/step - loss: 1.0783 - accuracy: 0.5659 - val_loss: 1.7857 - val_accuracy: 0.3751\n",
      "Epoch 40/50\n",
      "739/739 [==============================] - ETA: 0s - loss: 1.0576 - accuracy: 0.5719\n",
      "Epoch 00040: val_accuracy did not improve from 0.40984\n",
      "739/739 [==============================] - 73s 98ms/step - loss: 1.0576 - accuracy: 0.5719 - val_loss: 1.7909 - val_accuracy: 0.3774\n",
      "Epoch 41/50\n",
      "739/739 [==============================] - ETA: 0s - loss: 1.0341 - accuracy: 0.5836\n",
      "Epoch 00041: val_accuracy did not improve from 0.40984\n",
      "739/739 [==============================] - 69s 94ms/step - loss: 1.0341 - accuracy: 0.5836 - val_loss: 1.9020 - val_accuracy: 0.3688\n",
      "Epoch 42/50\n",
      "739/739 [==============================] - ETA: 0s - loss: 1.0216 - accuracy: 0.5936\n",
      "Epoch 00042: val_accuracy did not improve from 0.40984\n",
      "739/739 [==============================] - 66s 89ms/step - loss: 1.0216 - accuracy: 0.5936 - val_loss: 1.8056 - val_accuracy: 0.3706\n",
      "Epoch 43/50\n",
      "739/739 [==============================] - ETA: 0s - loss: 0.9964 - accuracy: 0.5994\n",
      "Epoch 00043: val_accuracy did not improve from 0.40984\n",
      "739/739 [==============================] - 65s 88ms/step - loss: 0.9964 - accuracy: 0.5994 - val_loss: 1.8830 - val_accuracy: 0.3730\n",
      "Epoch 44/50\n",
      "739/739 [==============================] - ETA: 0s - loss: 0.9768 - accuracy: 0.6123\n",
      "Epoch 00044: val_accuracy did not improve from 0.40984\n",
      "739/739 [==============================] - 64s 87ms/step - loss: 0.9768 - accuracy: 0.6123 - val_loss: 2.0071 - val_accuracy: 0.3691\n",
      "Epoch 45/50\n",
      "739/739 [==============================] - ETA: 0s - loss: 0.9576 - accuracy: 0.6194\n",
      "Epoch 00045: val_accuracy did not improve from 0.40984\n",
      "739/739 [==============================] - 65s 88ms/step - loss: 0.9576 - accuracy: 0.6194 - val_loss: 1.9541 - val_accuracy: 0.3704\n",
      "Epoch 46/50\n",
      "739/739 [==============================] - ETA: 0s - loss: 0.9390 - accuracy: 0.6272\n",
      "Epoch 00046: val_accuracy did not improve from 0.40984\n",
      "739/739 [==============================] - 65s 87ms/step - loss: 0.9390 - accuracy: 0.6272 - val_loss: 2.0642 - val_accuracy: 0.3618\n",
      "Epoch 47/50\n",
      "739/739 [==============================] - ETA: 0s - loss: 0.9205 - accuracy: 0.6323\n",
      "Epoch 00047: val_accuracy did not improve from 0.40984\n",
      "739/739 [==============================] - 67s 90ms/step - loss: 0.9205 - accuracy: 0.6323 - val_loss: 2.0685 - val_accuracy: 0.3696\n",
      "Epoch 48/50\n",
      "739/739 [==============================] - ETA: 0s - loss: 0.9043 - accuracy: 0.6388\n",
      "Epoch 00048: val_accuracy did not improve from 0.40984\n",
      "739/739 [==============================] - 64s 87ms/step - loss: 0.9043 - accuracy: 0.6388 - val_loss: 2.1767 - val_accuracy: 0.3608\n",
      "Epoch 49/50\n",
      "739/739 [==============================] - ETA: 0s - loss: 0.8851 - accuracy: 0.6470\n",
      "Epoch 00049: val_accuracy did not improve from 0.40984\n",
      "739/739 [==============================] - 66s 90ms/step - loss: 0.8851 - accuracy: 0.6470 - val_loss: 2.1379 - val_accuracy: 0.3646\n",
      "Epoch 50/50\n",
      "739/739 [==============================] - ETA: 0s - loss: 0.8767 - accuracy: 0.6501\n",
      "Epoch 00050: val_accuracy did not improve from 0.40984\n",
      "739/739 [==============================] - 65s 89ms/step - loss: 0.8767 - accuracy: 0.6501 - val_loss: 2.1713 - val_accuracy: 0.3613\n"
     ]
    }
   ],
   "source": [
    "# recommended learning rate for Adam 5e-5, 3e-5, 2e-5\n",
    "LR = 5e-4\n",
    "EPOCHS = 50\n",
    "BATCH_SIZE = 25\n",
    "opt = keras.optimizers.Adam(learning_rate=LR)\n",
    "mod1.compile(optimizer=opt, loss='categorical_crossentropy', metrics=['accuracy'])\n",
    "\n",
    "mod_history = mod1.fit([X_train1,X_train2,X_train3], y_train, \n",
    "            validation_data=([X_test1,X_test2,X_test3], y_test), \n",
    "            epochs=EPOCHS, batch_size = BATCH_SIZE, verbose=1,\n",
    "            callbacks=[checkpoint])"
   ]
  },
  {
   "cell_type": "code",
   "execution_count": null,
   "metadata": {
    "colab": {
     "base_uri": "https://localhost:8080/"
    },
    "id": "4BdhEg9g02yC",
    "outputId": "102a02d0-d8be-4dcb-900f-088f7c2aa39f"
   },
   "outputs": [],
   "source": []
  },
  {
   "cell_type": "code",
   "execution_count": null,
   "metadata": {
    "id": "7-mq2babThRC"
   },
   "outputs": [],
   "source": []
  },
  {
   "cell_type": "markdown",
   "metadata": {
    "id": "1J-Okj2NVbJT"
   },
   "source": [
    "## Testing"
   ]
  },
  {
   "cell_type": "code",
   "execution_count": 56,
   "metadata": {},
   "outputs": [],
   "source": [
    "mod_use1 = keras.models.load_model('../../models/simple_LSTM7/model_21_0.41.hdf5')\n",
    "# mod_use2 = keras.models.load_model('../../models/simple_LSTM4/model_27_0.40.hdf5')"
   ]
  },
  {
   "cell_type": "code",
   "execution_count": 58,
   "metadata": {
    "id": "r0bgWgl6cJQj"
   },
   "outputs": [],
   "source": [
    "y_pred1 = mod_use1.predict([X_unseen1,X_unseen2,X_unseen3])\n",
    "# y_pred2 = mod_use2.predict([X_unseen1,X_unseen2,X_unseen3])\n",
    "y_pred2 = joblib.load('../../models/simple_LSTM4/y_pred4.pkl')"
   ]
  },
  {
   "cell_type": "code",
   "execution_count": 55,
   "metadata": {},
   "outputs": [
    {
     "data": {
      "text/plain": [
       "(8305, 6)"
      ]
     },
     "execution_count": 55,
     "metadata": {},
     "output_type": "execute_result"
    }
   ],
   "source": [
    "y_pred1.shape"
   ]
  },
  {
   "cell_type": "code",
   "execution_count": 59,
   "metadata": {},
   "outputs": [
    {
     "data": {
      "text/plain": [
       "(8305, 6)"
      ]
     },
     "execution_count": 59,
     "metadata": {},
     "output_type": "execute_result"
    }
   ],
   "source": [
    "y_pred2.shape"
   ]
  },
  {
   "cell_type": "code",
   "execution_count": null,
   "metadata": {},
   "outputs": [],
   "source": []
  },
  {
   "cell_type": "code",
   "execution_count": 129,
   "metadata": {},
   "outputs": [],
   "source": [
    "yP1 = np.maximum(y_pred1,y_pred2)\n",
    "yP2 = (y_pred1+y_pred2)/2\n",
    "\n",
    "\n",
    "w1 = 0.5\n",
    "w2 = 1-w1\n",
    "yP3 = (w1*(y_pred1[:,:4]))+(w2*(y_pred2[:,:4]))\n",
    "yP3 = np.concatenate([yP3,y_pred1[:,4:]],axis = 1)"
   ]
  },
  {
   "cell_type": "code",
   "execution_count": 90,
   "metadata": {},
   "outputs": [],
   "source": [
    "def plot_cm(labels, predictions, p=0.5):\n",
    "#     cm = confusion_matrix(labels, predictions)\n",
    "#     plt.figure(figsize=(5, 5))\n",
    "#     sns.heatmap(cm, annot=True, fmt=\"d\")\n",
    "    cm = confusion_matrix(labels, predictions)\n",
    "    cm = (cm.transpose()/cm.sum(axis = 1)).transpose()\n",
    "    plt.figure(figsize=(8, 8))\n",
    "    sns.heatmap(cm, annot=True, fmt=\".2%\")\n",
    "    plt.title(\"Confusion matrix (non-normalized))\")\n",
    "    plt.ylabel(\"Actual label\")\n",
    "    plt.xlabel(\"Predicted label\")"
   ]
  },
  {
   "cell_type": "markdown",
   "metadata": {},
   "source": [
    "### 1"
   ]
  },
  {
   "cell_type": "code",
   "execution_count": 91,
   "metadata": {},
   "outputs": [],
   "source": [
    "y_pred_label = np.argmax(y_pred1,axis = 1)\n",
    "y_true_label = data_unseen['label'].values"
   ]
  },
  {
   "cell_type": "code",
   "execution_count": 92,
   "metadata": {},
   "outputs": [
    {
     "name": "stdout",
     "output_type": "stream",
     "text": [
      "              precision    recall  f1-score   support\n",
      "\n",
      "           0       0.39      0.33      0.36      1410\n",
      "           1       0.40      0.24      0.30      1497\n",
      "           2       0.43      0.41      0.42      1369\n",
      "           3       0.44      0.48      0.46      1401\n",
      "           4       0.34      0.40      0.37      1360\n",
      "           5       0.29      0.41      0.34      1268\n",
      "\n",
      "    accuracy                           0.38      8305\n",
      "   macro avg       0.38      0.38      0.38      8305\n",
      "weighted avg       0.38      0.38      0.37      8305\n",
      "\n"
     ]
    },
    {
     "data": {
      "image/png": "[encoded data removed]",
      "text/plain": [
       "<Figure size 576x576 with 2 Axes>"
      ]
     },
     "metadata": {
      "needs_background": "light"
     },
     "output_type": "display_data"
    }
   ],
   "source": [
    "report = classification_report(y_true_label, y_pred_label)\n",
    "print(report)\n",
    "plot_cm(y_true_label, y_pred_label)"
   ]
  },
  {
   "cell_type": "code",
   "execution_count": null,
   "metadata": {},
   "outputs": [],
   "source": []
  },
  {
   "cell_type": "markdown",
   "metadata": {},
   "source": [
    "### 2"
   ]
  },
  {
   "cell_type": "code",
   "execution_count": 93,
   "metadata": {},
   "outputs": [],
   "source": [
    "y_pred_label = np.argmax(yP1,axis = 1)\n",
    "y_true_label = data_unseen['label'].values"
   ]
  },
  {
   "cell_type": "code",
   "execution_count": 94,
   "metadata": {},
   "outputs": [
    {
     "name": "stdout",
     "output_type": "stream",
     "text": [
      "              precision    recall  f1-score   support\n",
      "\n",
      "           0       0.36      0.36      0.36      1410\n",
      "           1       0.35      0.36      0.35      1497\n",
      "           2       0.43      0.45      0.44      1369\n",
      "           3       0.44      0.48      0.46      1401\n",
      "           4       0.39      0.34      0.36      1360\n",
      "           5       0.33      0.31      0.32      1268\n",
      "\n",
      "    accuracy                           0.38      8305\n",
      "   macro avg       0.38      0.38      0.38      8305\n",
      "weighted avg       0.38      0.38      0.38      8305\n",
      "\n"
     ]
    },
    {
     "data": {
      "image/png": "[encoded data removed]",
      "text/plain": [
       "<Figure size 576x576 with 2 Axes>"
      ]
     },
     "metadata": {
      "needs_background": "light"
     },
     "output_type": "display_data"
    }
   ],
   "source": [
    "report = classification_report(y_true_label, y_pred_label)\n",
    "print(report)\n",
    "plot_cm(y_true_label, y_pred_label)"
   ]
  },
  {
   "cell_type": "code",
   "execution_count": null,
   "metadata": {},
   "outputs": [],
   "source": []
  },
  {
   "cell_type": "markdown",
   "metadata": {},
   "source": [
    "### 3"
   ]
  },
  {
   "cell_type": "code",
   "execution_count": 95,
   "metadata": {},
   "outputs": [],
   "source": [
    "y_pred_label = np.argmax(yP2,axis = 1)\n",
    "y_true_label = data_unseen['label'].values"
   ]
  },
  {
   "cell_type": "code",
   "execution_count": 96,
   "metadata": {},
   "outputs": [
    {
     "name": "stdout",
     "output_type": "stream",
     "text": [
      "              precision    recall  f1-score   support\n",
      "\n",
      "           0       0.35      0.37      0.36      1410\n",
      "           1       0.35      0.38      0.36      1497\n",
      "           2       0.43      0.46      0.44      1369\n",
      "           3       0.43      0.50      0.46      1401\n",
      "           4       0.41      0.31      0.35      1360\n",
      "           5       0.34      0.30      0.32      1268\n",
      "\n",
      "    accuracy                           0.39      8305\n",
      "   macro avg       0.39      0.39      0.38      8305\n",
      "weighted avg       0.39      0.39      0.38      8305\n",
      "\n"
     ]
    },
    {
     "data": {
      "image/png": "[encoded data removed]",
      "text/plain": [
       "<Figure size 576x576 with 2 Axes>"
      ]
     },
     "metadata": {
      "needs_background": "light"
     },
     "output_type": "display_data"
    }
   ],
   "source": [
    "report = classification_report(y_true_label, y_pred_label)\n",
    "print(report)\n",
    "plot_cm(y_true_label, y_pred_label)"
   ]
  },
  {
   "cell_type": "code",
   "execution_count": null,
   "metadata": {},
   "outputs": [],
   "source": []
  },
  {
   "cell_type": "code",
   "execution_count": null,
   "metadata": {},
   "outputs": [],
   "source": []
  },
  {
   "cell_type": "markdown",
   "metadata": {},
   "source": [
    "### 4"
   ]
  },
  {
   "cell_type": "code",
   "execution_count": 130,
   "metadata": {},
   "outputs": [],
   "source": [
    "y_pred_label = np.argmax(yP3,axis = 1)\n",
    "y_true_label = data_unseen['label'].values"
   ]
  },
  {
   "cell_type": "code",
   "execution_count": 131,
   "metadata": {},
   "outputs": [
    {
     "name": "stdout",
     "output_type": "stream",
     "text": [
      "              precision    recall  f1-score   support\n",
      "\n",
      "           0       0.38      0.34      0.36      1410\n",
      "           1       0.37      0.31      0.34      1497\n",
      "           2       0.45      0.43      0.44      1369\n",
      "           3       0.46      0.48      0.47      1401\n",
      "           4       0.35      0.37      0.36      1360\n",
      "           5       0.30      0.38      0.33      1268\n",
      "\n",
      "    accuracy                           0.38      8305\n",
      "   macro avg       0.38      0.38      0.38      8305\n",
      "weighted avg       0.39      0.38      0.38      8305\n",
      "\n"
     ]
    },
    {
     "data": {
      "image/png": "[encoded data removed]",
      "text/plain": [
       "<Figure size 576x576 with 2 Axes>"
      ]
     },
     "metadata": {
      "needs_background": "light"
     },
     "output_type": "display_data"
    }
   ],
   "source": [
    "report = classification_report(y_true_label, y_pred_label)\n",
    "print(report)\n",
    "plot_cm(y_true_label, y_pred_label)"
   ]
  },
  {
   "cell_type": "code",
   "execution_count": null,
   "metadata": {},
   "outputs": [],
   "source": []
  }
 ],
 "metadata": {
  "accelerator": "TPU",
  "colab": {
   "collapsed_sections": [],
   "name": "20200803_training_bert_TPU.ipynb",
   "provenance": []
  },
  "kernelspec": {
   "display_name": "joko-notebook",
   "language": "python",
   "name": "joko"
  },
  "language_info": {
   "codemirror_mode": {
    "name": "ipython",
    "version": 3
   },
   "file_extension": ".py",
   "mimetype": "text/x-python",
   "name": "python",
   "nbconvert_exporter": "python",
   "pygments_lexer": "ipython3",
   "version": "3.8.3"
  }
 },
 "nbformat": 4,
 "nbformat_minor": 4
}
