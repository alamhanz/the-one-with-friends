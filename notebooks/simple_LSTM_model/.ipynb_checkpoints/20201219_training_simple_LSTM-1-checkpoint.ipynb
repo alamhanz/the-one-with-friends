{
 "cells": [
  {
   "cell_type": "markdown",
   "metadata": {
    "id": "g5_fZUzo02xP"
   },
   "source": [
    "# Friends Classification Text (LSTM) - 1\n",
    "\n",
    "This is classification of dialogue in FRIENDS TV Series.\n",
    "\n",
    "text only\n",
    "\n",
    "<!-- https://stackoverflow.com/questions/61000500/tensorflow-keras-bert-multiclass-text-classification-accuracy -->"
   ]
  },
  {
   "cell_type": "code",
   "execution_count": 1,
   "metadata": {
    "colab": {
     "base_uri": "https://localhost:8080/"
    },
    "id": "03Lpsmju02xR",
    "outputId": "729cb2e1-2326-4654-da9e-3facd4921f7c"
   },
   "outputs": [],
   "source": [
    "import pandas as pd\n",
    "import re\n",
    "import numpy as np\n",
    "import time\n",
    "\n",
    "import os\n",
    "import pprint\n",
    "import tensorflow as tf\n",
    "\n",
    "import sys\n",
    "sys.path.insert(1, '../../src/all_functions/')\n",
    "\n",
    "from text_tools import *\n",
    "\n",
    "import keras\n",
    "from keras.datasets import mnist\n",
    "from sklearn.model_selection import train_test_split\n",
    "from keras.callbacks import ModelCheckpoint\n",
    "from keras.applications.mobilenet_v2 import MobileNetV2, preprocess_input\n",
    "from keras.models import load_model\n",
    "\n",
    "from keras.layers import Embedding, LSTM\n",
    "import matplotlib.pyplot as plt\n",
    "from keras import Sequential\n",
    "\n",
    "from keras import backend as K\n",
    "from keras import layers\n",
    "\n",
    "from sklearn.preprocessing import OneHotEncoder\n",
    "\n",
    "from sklearn.metrics import (classification_report,\n",
    "                             confusion_matrix,\n",
    "                             roc_auc_score)\n",
    "\n",
    "import matplotlib.pyplot as plt\n",
    "import seaborn as sns\n",
    "\n",
    "# from google.colab import drive\n",
    "# drive.mount('/content/gdrive')"
   ]
  },
  {
   "cell_type": "code",
   "execution_count": 2,
   "metadata": {
    "id": "Nplks9aMi_aH"
   },
   "outputs": [],
   "source": [
    "# help(drive.mount)"
   ]
  },
  {
   "cell_type": "code",
   "execution_count": 3,
   "metadata": {},
   "outputs": [],
   "source": [
    "def encode(text):\n",
    "    token_ids = []\n",
    "    for word in text:\n",
    "        try:\n",
    "            token_ids.append(word2idx[word])\n",
    "        except:\n",
    "            token_ids.append(1)\n",
    "            \n",
    "    token_ids = np.array(token_ids)\n",
    "    return token_ids\n",
    "\n",
    "def set_fix_length(ids, max_len = 15):\n",
    "    # print(ids)\n",
    "    length = ids.shape[0]\n",
    "    zeros = np.zeros(max_len)\n",
    "\n",
    "    if length <= max_len:\n",
    "        zeros[:length] = ids\n",
    "    else:\n",
    "        zeros = ids[:max_len]\n",
    "\n",
    "    return zeros"
   ]
  },
  {
   "cell_type": "code",
   "execution_count": null,
   "metadata": {},
   "outputs": [],
   "source": []
  },
  {
   "cell_type": "code",
   "execution_count": 4,
   "metadata": {
    "id": "Z6n6vof_02xV"
   },
   "outputs": [],
   "source": [
    "# PATH_DATA = 'gdrive/'\n",
    "PATH_DATA = '../../data/'"
   ]
  },
  {
   "cell_type": "markdown",
   "metadata": {
    "id": "0lMeZ84P02xb"
   },
   "source": [
    "## Importing Data"
   ]
  },
  {
   "cell_type": "code",
   "execution_count": 5,
   "metadata": {
    "id": "dHeMuViP02xb"
   },
   "outputs": [],
   "source": [
    "# df_dlg_seen = pd.read_csv(PATH_DATA+'friends_seen_season.csv')\n",
    "# df_dlg_unseen = pd.read_csv(PATH_DATA+'friends_unseen_season.csv')"
   ]
  },
  {
   "cell_type": "code",
   "execution_count": 6,
   "metadata": {
    "id": "dHeMuViP02xb"
   },
   "outputs": [],
   "source": [
    "df_dlg_seen = pd.read_csv(PATH_DATA+'friends_seen_season_1.csv')\n",
    "df_dlg_unseen = pd.read_csv(PATH_DATA+'friends_unseen_season_1.csv')"
   ]
  },
  {
   "cell_type": "code",
   "execution_count": 7,
   "metadata": {},
   "outputs": [],
   "source": [
    "df_dlg_seen['text'] = df_dlg_seen['dialogue5']\n",
    "df_dlg_unseen['text'] = df_dlg_unseen['dialogue5']"
   ]
  },
  {
   "cell_type": "code",
   "execution_count": 8,
   "metadata": {},
   "outputs": [
    {
     "data": {
      "text/html": [
       "<div>\n",
       "<style scoped>\n",
       "    .dataframe tbody tr th:only-of-type {\n",
       "        vertical-align: middle;\n",
       "    }\n",
       "\n",
       "    .dataframe tbody tr th {\n",
       "        vertical-align: top;\n",
       "    }\n",
       "\n",
       "    .dataframe thead th {\n",
       "        text-align: right;\n",
       "    }\n",
       "</style>\n",
       "<table border=\"1\" class=\"dataframe\">\n",
       "  <thead>\n",
       "    <tr style=\"text-align: right;\">\n",
       "      <th></th>\n",
       "      <th>eps</th>\n",
       "      <th>dialogue_ids</th>\n",
       "      <th>scenes_places</th>\n",
       "      <th>label_place</th>\n",
       "      <th>label_str</th>\n",
       "      <th>label</th>\n",
       "      <th>season</th>\n",
       "      <th>dialogue</th>\n",
       "      <th>dialogue5</th>\n",
       "      <th>len_dialogue5</th>\n",
       "      <th>is_null2</th>\n",
       "      <th>ids</th>\n",
       "      <th>text</th>\n",
       "    </tr>\n",
       "  </thead>\n",
       "  <tbody>\n",
       "    <tr>\n",
       "      <th>0</th>\n",
       "      <td>0901</td>\n",
       "      <td>0</td>\n",
       "      <td>[rachel's room]</td>\n",
       "      <td>2</td>\n",
       "      <td>rachel</td>\n",
       "      <td>1</td>\n",
       "      <td>9</td>\n",
       "      <td>joey. (he turns to face rachel on one knee w...</td>\n",
       "      <td>joey</td>\n",
       "      <td>1</td>\n",
       "      <td>False</td>\n",
       "      <td>49643</td>\n",
       "      <td>joey</td>\n",
       "    </tr>\n",
       "    <tr>\n",
       "      <th>1</th>\n",
       "      <td>0901</td>\n",
       "      <td>1</td>\n",
       "      <td>[rachel's room]</td>\n",
       "      <td>2</td>\n",
       "      <td>rachel</td>\n",
       "      <td>1</td>\n",
       "      <td>9</td>\n",
       "      <td>(seeing the ring) oh my god. (pause) okay. (...</td>\n",
       "      <td>my god</td>\n",
       "      <td>2</td>\n",
       "      <td>False</td>\n",
       "      <td>49644</td>\n",
       "      <td>my god</td>\n",
       "    </tr>\n",
       "    <tr>\n",
       "      <th>2</th>\n",
       "      <td>0901</td>\n",
       "      <td>2</td>\n",
       "      <td>[rachel's room]</td>\n",
       "      <td>2</td>\n",
       "      <td>rachel</td>\n",
       "      <td>1</td>\n",
       "      <td>9</td>\n",
       "      <td>so uh...i guess we should...make it official...</td>\n",
       "      <td>so uh i guess we should make it official huh</td>\n",
       "      <td>10</td>\n",
       "      <td>False</td>\n",
       "      <td>49645</td>\n",
       "      <td>so uh i guess we should make it official huh</td>\n",
       "    </tr>\n",
       "    <tr>\n",
       "      <th>3</th>\n",
       "      <td>0901</td>\n",
       "      <td>3</td>\n",
       "      <td>[rachel's room]</td>\n",
       "      <td>2</td>\n",
       "      <td>joey</td>\n",
       "      <td>5</td>\n",
       "      <td>9</td>\n",
       "      <td>uh... look rach...(ross enters.) hey ross is...</td>\n",
       "      <td>uh look rach hey ross is here hey look it's my...</td>\n",
       "      <td>16</td>\n",
       "      <td>False</td>\n",
       "      <td>49646</td>\n",
       "      <td>uh look rach hey ross is here hey look it's my...</td>\n",
       "    </tr>\n",
       "    <tr>\n",
       "      <th>4</th>\n",
       "      <td>0901</td>\n",
       "      <td>4</td>\n",
       "      <td>[rachel's room]</td>\n",
       "      <td>2</td>\n",
       "      <td>ross</td>\n",
       "      <td>2</td>\n",
       "      <td>9</td>\n",
       "      <td>hey joey. (to rachel) hey you.</td>\n",
       "      <td>joey you</td>\n",
       "      <td>2</td>\n",
       "      <td>False</td>\n",
       "      <td>49647</td>\n",
       "      <td>joey you</td>\n",
       "    </tr>\n",
       "  </tbody>\n",
       "</table>\n",
       "</div>"
      ],
      "text/plain": [
       "    eps  dialogue_ids    scenes_places  label_place label_str  label  season  \\\n",
       "0  0901             0  [rachel's room]            2    rachel      1       9   \n",
       "1  0901             1  [rachel's room]            2    rachel      1       9   \n",
       "2  0901             2  [rachel's room]            2    rachel      1       9   \n",
       "3  0901             3  [rachel's room]            2      joey      5       9   \n",
       "4  0901             4  [rachel's room]            2      ross      2       9   \n",
       "\n",
       "                                            dialogue  \\\n",
       "0    joey. (he turns to face rachel on one knee w...   \n",
       "1    (seeing the ring) oh my god. (pause) okay. (...   \n",
       "2    so uh...i guess we should...make it official...   \n",
       "3    uh... look rach...(ross enters.) hey ross is...   \n",
       "4                     hey joey. (to rachel) hey you.   \n",
       "\n",
       "                                           dialogue5  len_dialogue5  is_null2  \\\n",
       "0                                               joey              1     False   \n",
       "1                                             my god              2     False   \n",
       "2       so uh i guess we should make it official huh             10     False   \n",
       "3  uh look rach hey ross is here hey look it's my...             16     False   \n",
       "4                                           joey you              2     False   \n",
       "\n",
       "     ids                                               text  \n",
       "0  49643                                               joey  \n",
       "1  49644                                             my god  \n",
       "2  49645       so uh i guess we should make it official huh  \n",
       "3  49646  uh look rach hey ross is here hey look it's my...  \n",
       "4  49647                                           joey you  "
      ]
     },
     "execution_count": 8,
     "metadata": {},
     "output_type": "execute_result"
    }
   ],
   "source": [
    "df_dlg_unseen.head()"
   ]
  },
  {
   "cell_type": "code",
   "execution_count": null,
   "metadata": {},
   "outputs": [],
   "source": []
  },
  {
   "cell_type": "code",
   "execution_count": 9,
   "metadata": {
    "id": "y_VRmC1602xe"
   },
   "outputs": [],
   "source": [
    "data_train = df_dlg_seen[(df_dlg_seen.is_train == True)&(df_dlg_seen.label!=0)][['text','label']]\n",
    "data_train['label'] = data_train['label']-1\n",
    "data_test = df_dlg_seen[(df_dlg_seen.is_train == False)&(df_dlg_seen.label!=0)][['text','label']]\n",
    "data_test['label'] = data_test['label']-1\n",
    "data_unseen = df_dlg_unseen[(df_dlg_unseen.label!=0)][['text','label']]\n",
    "data_unseen['label'] = data_unseen['label']-1"
   ]
  },
  {
   "cell_type": "code",
   "execution_count": 10,
   "metadata": {
    "colab": {
     "base_uri": "https://localhost:8080/"
    },
    "id": "Tt421RVa02xh",
    "outputId": "03de5b03-ec4f-4f0f-8656-399e7cb20cf9"
   },
   "outputs": [
    {
     "data": {
      "text/plain": [
       "(28347, 2)"
      ]
     },
     "execution_count": 10,
     "metadata": {},
     "output_type": "execute_result"
    }
   ],
   "source": [
    "data_train.shape"
   ]
  },
  {
   "cell_type": "code",
   "execution_count": 11,
   "metadata": {
    "colab": {
     "base_uri": "https://localhost:8080/"
    },
    "id": "LnHpAS_J02xk",
    "outputId": "4ab46916-557f-4c8a-c7d8-e19ff5f1478c"
   },
   "outputs": [
    {
     "data": {
      "text/plain": [
       "(9437, 2)"
      ]
     },
     "execution_count": 11,
     "metadata": {},
     "output_type": "execute_result"
    }
   ],
   "source": [
    "data_test.shape"
   ]
  },
  {
   "cell_type": "code",
   "execution_count": 12,
   "metadata": {
    "colab": {
     "base_uri": "https://localhost:8080/"
    },
    "id": "u1kNu3H602xo",
    "outputId": "3233fad8-8882-47d7-ed3b-4d0807ed4c05"
   },
   "outputs": [
    {
     "data": {
      "text/plain": [
       "(9085, 2)"
      ]
     },
     "execution_count": 12,
     "metadata": {},
     "output_type": "execute_result"
    }
   ],
   "source": [
    "data_unseen.shape"
   ]
  },
  {
   "cell_type": "code",
   "execution_count": 13,
   "metadata": {
    "colab": {
     "base_uri": "https://localhost:8080/"
    },
    "id": "IWx_PNZHay70",
    "outputId": "b877f337-b9ed-4c6e-e07c-8c4d0e0d7428"
   },
   "outputs": [
    {
     "data": {
      "text/plain": [
       "1    0.179612\n",
       "0    0.177811\n",
       "3    0.167532\n",
       "2    0.166049\n",
       "4    0.160750\n",
       "5    0.148246\n",
       "Name: label, dtype: float64"
      ]
     },
     "execution_count": 13,
     "metadata": {},
     "output_type": "execute_result"
    }
   ],
   "source": [
    "XX = data_test.label.value_counts()\n",
    "XX/XX.sum()"
   ]
  },
  {
   "cell_type": "code",
   "execution_count": null,
   "metadata": {
    "id": "L1J6bjri02xr"
   },
   "outputs": [],
   "source": []
  },
  {
   "cell_type": "markdown",
   "metadata": {
    "id": "5KQGGRST02xu"
   },
   "source": [
    "## Tokenizer"
   ]
  },
  {
   "cell_type": "code",
   "execution_count": 14,
   "metadata": {},
   "outputs": [],
   "source": [
    "MAX_LEN = 20\n",
    "EMBED_SIZE = 128"
   ]
  },
  {
   "cell_type": "code",
   "execution_count": 15,
   "metadata": {},
   "outputs": [],
   "source": [
    "OH = OneHotEncoder()"
   ]
  },
  {
   "cell_type": "code",
   "execution_count": 16,
   "metadata": {},
   "outputs": [
    {
     "data": {
      "text/html": [
       "<div>\n",
       "<style scoped>\n",
       "    .dataframe tbody tr th:only-of-type {\n",
       "        vertical-align: middle;\n",
       "    }\n",
       "\n",
       "    .dataframe tbody tr th {\n",
       "        vertical-align: top;\n",
       "    }\n",
       "\n",
       "    .dataframe thead th {\n",
       "        text-align: right;\n",
       "    }\n",
       "</style>\n",
       "<table border=\"1\" class=\"dataframe\">\n",
       "  <thead>\n",
       "    <tr style=\"text-align: right;\">\n",
       "      <th></th>\n",
       "      <th>text</th>\n",
       "      <th>label</th>\n",
       "    </tr>\n",
       "  </thead>\n",
       "  <tbody>\n",
       "    <tr>\n",
       "      <th>0</th>\n",
       "      <td>there's nothing to tell he's just some guy i w...</td>\n",
       "      <td>2</td>\n",
       "    </tr>\n",
       "    <tr>\n",
       "      <th>2</th>\n",
       "      <td>all right joey be nice so does he have a hump ...</td>\n",
       "      <td>3</td>\n",
       "    </tr>\n",
       "    <tr>\n",
       "      <th>4</th>\n",
       "      <td>just because i don't want her to go through wh...</td>\n",
       "      <td>5</td>\n",
       "    </tr>\n",
       "    <tr>\n",
       "      <th>5</th>\n",
       "      <td>okay everybody relax this is not even a date i...</td>\n",
       "      <td>2</td>\n",
       "    </tr>\n",
       "    <tr>\n",
       "      <th>6</th>\n",
       "      <td>sounds like a date to me</td>\n",
       "      <td>3</td>\n",
       "    </tr>\n",
       "  </tbody>\n",
       "</table>\n",
       "</div>"
      ],
      "text/plain": [
       "                                                text  label\n",
       "0  there's nothing to tell he's just some guy i w...      2\n",
       "2  all right joey be nice so does he have a hump ...      3\n",
       "4  just because i don't want her to go through wh...      5\n",
       "5  okay everybody relax this is not even a date i...      2\n",
       "6                           sounds like a date to me      3"
      ]
     },
     "execution_count": 16,
     "metadata": {},
     "output_type": "execute_result"
    }
   ],
   "source": [
    "data_train.head()"
   ]
  },
  {
   "cell_type": "code",
   "execution_count": 17,
   "metadata": {},
   "outputs": [
    {
     "data": {
      "text/html": [
       "<div>\n",
       "<style scoped>\n",
       "    .dataframe tbody tr th:only-of-type {\n",
       "        vertical-align: middle;\n",
       "    }\n",
       "\n",
       "    .dataframe tbody tr th {\n",
       "        vertical-align: top;\n",
       "    }\n",
       "\n",
       "    .dataframe thead th {\n",
       "        text-align: right;\n",
       "    }\n",
       "</style>\n",
       "<table border=\"1\" class=\"dataframe\">\n",
       "  <thead>\n",
       "    <tr style=\"text-align: right;\">\n",
       "      <th></th>\n",
       "      <th>text</th>\n",
       "      <th>label</th>\n",
       "    </tr>\n",
       "  </thead>\n",
       "  <tbody>\n",
       "    <tr>\n",
       "      <th>1</th>\n",
       "      <td>c'mon you're going out with the guy there's go...</td>\n",
       "      <td>4</td>\n",
       "    </tr>\n",
       "    <tr>\n",
       "      <th>3</th>\n",
       "      <td>wait does he eat chalk</td>\n",
       "      <td>5</td>\n",
       "    </tr>\n",
       "    <tr>\n",
       "      <th>9</th>\n",
       "      <td>then i look down and i realize there's a phone...</td>\n",
       "      <td>3</td>\n",
       "    </tr>\n",
       "    <tr>\n",
       "      <th>11</th>\n",
       "      <td>that's</td>\n",
       "      <td>3</td>\n",
       "    </tr>\n",
       "    <tr>\n",
       "      <th>14</th>\n",
       "      <td>all of a sudden the phone starts to ring now i...</td>\n",
       "      <td>3</td>\n",
       "    </tr>\n",
       "  </tbody>\n",
       "</table>\n",
       "</div>"
      ],
      "text/plain": [
       "                                                 text  label\n",
       "1   c'mon you're going out with the guy there's go...      4\n",
       "3                              wait does he eat chalk      5\n",
       "9   then i look down and i realize there's a phone...      3\n",
       "11                                             that's      3\n",
       "14  all of a sudden the phone starts to ring now i...      3"
      ]
     },
     "execution_count": 17,
     "metadata": {},
     "output_type": "execute_result"
    }
   ],
   "source": [
    "data_test.head()"
   ]
  },
  {
   "cell_type": "code",
   "execution_count": 18,
   "metadata": {},
   "outputs": [
    {
     "data": {
      "text/html": [
       "<div>\n",
       "<style scoped>\n",
       "    .dataframe tbody tr th:only-of-type {\n",
       "        vertical-align: middle;\n",
       "    }\n",
       "\n",
       "    .dataframe tbody tr th {\n",
       "        vertical-align: top;\n",
       "    }\n",
       "\n",
       "    .dataframe thead th {\n",
       "        text-align: right;\n",
       "    }\n",
       "</style>\n",
       "<table border=\"1\" class=\"dataframe\">\n",
       "  <thead>\n",
       "    <tr style=\"text-align: right;\">\n",
       "      <th></th>\n",
       "      <th>eps</th>\n",
       "      <th>dialogue_ids</th>\n",
       "      <th>scenes_places</th>\n",
       "      <th>label_place</th>\n",
       "      <th>label_str</th>\n",
       "      <th>label</th>\n",
       "      <th>season</th>\n",
       "      <th>dialogue</th>\n",
       "      <th>dialogue5</th>\n",
       "      <th>len_dialogue5</th>\n",
       "      <th>is_null2</th>\n",
       "      <th>ids</th>\n",
       "      <th>text</th>\n",
       "    </tr>\n",
       "  </thead>\n",
       "  <tbody>\n",
       "    <tr>\n",
       "      <th>0</th>\n",
       "      <td>0901</td>\n",
       "      <td>0</td>\n",
       "      <td>[rachel's room]</td>\n",
       "      <td>2</td>\n",
       "      <td>rachel</td>\n",
       "      <td>1</td>\n",
       "      <td>9</td>\n",
       "      <td>joey. (he turns to face rachel on one knee w...</td>\n",
       "      <td>joey</td>\n",
       "      <td>1</td>\n",
       "      <td>False</td>\n",
       "      <td>49643</td>\n",
       "      <td>joey</td>\n",
       "    </tr>\n",
       "    <tr>\n",
       "      <th>1</th>\n",
       "      <td>0901</td>\n",
       "      <td>1</td>\n",
       "      <td>[rachel's room]</td>\n",
       "      <td>2</td>\n",
       "      <td>rachel</td>\n",
       "      <td>1</td>\n",
       "      <td>9</td>\n",
       "      <td>(seeing the ring) oh my god. (pause) okay. (...</td>\n",
       "      <td>my god</td>\n",
       "      <td>2</td>\n",
       "      <td>False</td>\n",
       "      <td>49644</td>\n",
       "      <td>my god</td>\n",
       "    </tr>\n",
       "    <tr>\n",
       "      <th>2</th>\n",
       "      <td>0901</td>\n",
       "      <td>2</td>\n",
       "      <td>[rachel's room]</td>\n",
       "      <td>2</td>\n",
       "      <td>rachel</td>\n",
       "      <td>1</td>\n",
       "      <td>9</td>\n",
       "      <td>so uh...i guess we should...make it official...</td>\n",
       "      <td>so uh i guess we should make it official huh</td>\n",
       "      <td>10</td>\n",
       "      <td>False</td>\n",
       "      <td>49645</td>\n",
       "      <td>so uh i guess we should make it official huh</td>\n",
       "    </tr>\n",
       "    <tr>\n",
       "      <th>3</th>\n",
       "      <td>0901</td>\n",
       "      <td>3</td>\n",
       "      <td>[rachel's room]</td>\n",
       "      <td>2</td>\n",
       "      <td>joey</td>\n",
       "      <td>5</td>\n",
       "      <td>9</td>\n",
       "      <td>uh... look rach...(ross enters.) hey ross is...</td>\n",
       "      <td>uh look rach hey ross is here hey look it's my...</td>\n",
       "      <td>16</td>\n",
       "      <td>False</td>\n",
       "      <td>49646</td>\n",
       "      <td>uh look rach hey ross is here hey look it's my...</td>\n",
       "    </tr>\n",
       "    <tr>\n",
       "      <th>4</th>\n",
       "      <td>0901</td>\n",
       "      <td>4</td>\n",
       "      <td>[rachel's room]</td>\n",
       "      <td>2</td>\n",
       "      <td>ross</td>\n",
       "      <td>2</td>\n",
       "      <td>9</td>\n",
       "      <td>hey joey. (to rachel) hey you.</td>\n",
       "      <td>joey you</td>\n",
       "      <td>2</td>\n",
       "      <td>False</td>\n",
       "      <td>49647</td>\n",
       "      <td>joey you</td>\n",
       "    </tr>\n",
       "  </tbody>\n",
       "</table>\n",
       "</div>"
      ],
      "text/plain": [
       "    eps  dialogue_ids    scenes_places  label_place label_str  label  season  \\\n",
       "0  0901             0  [rachel's room]            2    rachel      1       9   \n",
       "1  0901             1  [rachel's room]            2    rachel      1       9   \n",
       "2  0901             2  [rachel's room]            2    rachel      1       9   \n",
       "3  0901             3  [rachel's room]            2      joey      5       9   \n",
       "4  0901             4  [rachel's room]            2      ross      2       9   \n",
       "\n",
       "                                            dialogue  \\\n",
       "0    joey. (he turns to face rachel on one knee w...   \n",
       "1    (seeing the ring) oh my god. (pause) okay. (...   \n",
       "2    so uh...i guess we should...make it official...   \n",
       "3    uh... look rach...(ross enters.) hey ross is...   \n",
       "4                     hey joey. (to rachel) hey you.   \n",
       "\n",
       "                                           dialogue5  len_dialogue5  is_null2  \\\n",
       "0                                               joey              1     False   \n",
       "1                                             my god              2     False   \n",
       "2       so uh i guess we should make it official huh             10     False   \n",
       "3  uh look rach hey ross is here hey look it's my...             16     False   \n",
       "4                                           joey you              2     False   \n",
       "\n",
       "     ids                                               text  \n",
       "0  49643                                               joey  \n",
       "1  49644                                             my god  \n",
       "2  49645       so uh i guess we should make it official huh  \n",
       "3  49646  uh look rach hey ross is here hey look it's my...  \n",
       "4  49647                                           joey you  "
      ]
     },
     "execution_count": 18,
     "metadata": {},
     "output_type": "execute_result"
    }
   ],
   "source": [
    "df_dlg_unseen.head()"
   ]
  },
  {
   "cell_type": "code",
   "execution_count": 19,
   "metadata": {},
   "outputs": [],
   "source": [
    "word2idx, idx2word = data_text_prep( pd.concat([data_train,data_test]))\n",
    "X_train = []\n",
    "X_test = []\n",
    "X_unseen = []\n",
    "label_train = []\n",
    "label_test = []\n",
    "label_unseen = []"
   ]
  },
  {
   "cell_type": "code",
   "execution_count": 20,
   "metadata": {},
   "outputs": [
    {
     "data": {
      "text/plain": [
       "12319"
      ]
     },
     "execution_count": 20,
     "metadata": {},
     "output_type": "execute_result"
    }
   ],
   "source": [
    "VOCAB_SIZE = len(word2idx)\n",
    "VOCAB_SIZE"
   ]
  },
  {
   "cell_type": "code",
   "execution_count": 21,
   "metadata": {},
   "outputs": [],
   "source": [
    "for txt,label in data_train.values:\n",
    "    text_encode = encode(txt)\n",
    "    text_encode = set_fix_length(text_encode,max_len = MAX_LEN)\n",
    "    X_train.append(text_encode)\n",
    "    label_train.append(label)\n",
    "    \n",
    "X_train = np.stack(X_train)\n",
    "label_train = np.array(label_train)"
   ]
  },
  {
   "cell_type": "code",
   "execution_count": 22,
   "metadata": {},
   "outputs": [],
   "source": [
    "for txt,label in data_test.values:\n",
    "    text_encode = encode(txt)\n",
    "    text_encode = set_fix_length(text_encode,max_len = MAX_LEN)\n",
    "    X_test.append(text_encode)\n",
    "    label_test.append(label)\n",
    "\n",
    "X_test = np.stack(X_test)\n",
    "label_test = np.array(label_test)"
   ]
  },
  {
   "cell_type": "code",
   "execution_count": 23,
   "metadata": {},
   "outputs": [],
   "source": [
    "for txt,label in data_unseen.values:\n",
    "    text_encode = encode(txt)\n",
    "    text_encode = set_fix_length(text_encode,max_len = MAX_LEN)\n",
    "    X_unseen.append(text_encode)\n",
    "    label_unseen.append(label)\n",
    "\n",
    "X_unseen = np.stack(X_unseen)\n",
    "label_unseen = np.array(label_unseen)"
   ]
  },
  {
   "cell_type": "code",
   "execution_count": null,
   "metadata": {},
   "outputs": [],
   "source": []
  },
  {
   "cell_type": "code",
   "execution_count": 24,
   "metadata": {},
   "outputs": [
    {
     "data": {
      "text/plain": [
       "OneHotEncoder()"
      ]
     },
     "execution_count": 24,
     "metadata": {},
     "output_type": "execute_result"
    }
   ],
   "source": [
    "OH.fit(label_train.reshape(len(label_train),-1))"
   ]
  },
  {
   "cell_type": "code",
   "execution_count": 25,
   "metadata": {},
   "outputs": [],
   "source": [
    "y_train = OH.transform(label_train.reshape(len(label_train),-1)).toarray()\n",
    "y_test = OH.transform(label_test.reshape(len(label_test),-1)).toarray()\n",
    "y_unseen = OH.transform(label_unseen.reshape(len(label_unseen),-1)).toarray()"
   ]
  },
  {
   "cell_type": "code",
   "execution_count": null,
   "metadata": {
    "id": "5wougnTMpWxj"
   },
   "outputs": [],
   "source": []
  },
  {
   "cell_type": "markdown",
   "metadata": {
    "id": "cYqyu2RK02x6"
   },
   "source": [
    "## Training Model"
   ]
  },
  {
   "cell_type": "code",
   "execution_count": 26,
   "metadata": {
    "id": "JbdOHXqA02x6"
   },
   "outputs": [],
   "source": [
    "mod1 = Sequential()\n",
    "mod1.add(Embedding(VOCAB_SIZE, EMBED_SIZE))\n",
    "mod1.add(LSTM(128,return_sequences = True))\n",
    "mod1.add(layers.Dropout(0.5))\n",
    "mod1.add(LSTM(64,return_sequences = True))\n",
    "mod1.add(layers.Dropout(0.3))\n",
    "mod1.add(layers.Reshape((MAX_LEN,64,1)))\n",
    "mod1.add(layers.Flatten())\n",
    "mod1.add(layers.Dense(60,activation='relu'))\n",
    "mod1.add(layers.Dropout(0.3))\n",
    "mod1.add(layers.Dense(6,activation='softmax'))"
   ]
  },
  {
   "cell_type": "code",
   "execution_count": 27,
   "metadata": {},
   "outputs": [
    {
     "name": "stdout",
     "output_type": "stream",
     "text": [
      "Model: \"sequential\"\n",
      "_________________________________________________________________\n",
      "Layer (type)                 Output Shape              Param #   \n",
      "=================================================================\n",
      "embedding (Embedding)        (None, None, 128)         1576832   \n",
      "_________________________________________________________________\n",
      "lstm (LSTM)                  (None, None, 128)         131584    \n",
      "_________________________________________________________________\n",
      "dropout (Dropout)            (None, None, 128)         0         \n",
      "_________________________________________________________________\n",
      "lstm_1 (LSTM)                (None, None, 64)          49408     \n",
      "_________________________________________________________________\n",
      "dropout_1 (Dropout)          (None, None, 64)          0         \n",
      "_________________________________________________________________\n",
      "reshape (Reshape)            (None, 20, 64, 1)         0         \n",
      "_________________________________________________________________\n",
      "flatten (Flatten)            (None, 1280)              0         \n",
      "_________________________________________________________________\n",
      "dense (Dense)                (None, 60)                76860     \n",
      "_________________________________________________________________\n",
      "dropout_2 (Dropout)          (None, 60)                0         \n",
      "_________________________________________________________________\n",
      "dense_1 (Dense)              (None, 6)                 366       \n",
      "=================================================================\n",
      "Total params: 1,835,050\n",
      "Trainable params: 1,835,050\n",
      "Non-trainable params: 0\n",
      "_________________________________________________________________\n"
     ]
    }
   ],
   "source": [
    "mod1.summary()"
   ]
  },
  {
   "cell_type": "code",
   "execution_count": 28,
   "metadata": {},
   "outputs": [],
   "source": [
    "# keras.utils.plot_model(mod1)"
   ]
  },
  {
   "cell_type": "code",
   "execution_count": 29,
   "metadata": {
    "id": "SKvzYkhC7CHN"
   },
   "outputs": [],
   "source": [
    "filepath = '../../models/simple_LSTM1/model_{epoch:02d}_{val_accuracy:.2f}.hdf5'\n",
    "checkpoint = ModelCheckpoint(filepath, monitor='val_accuracy', verbose=1, save_best_only=True)\n"
   ]
  },
  {
   "cell_type": "code",
   "execution_count": 30,
   "metadata": {
    "colab": {
     "base_uri": "https://localhost:8080/"
    },
    "id": "KA1k9kZc290S",
    "outputId": "01d43e7d-f920-427c-a028-82e6e7303596"
   },
   "outputs": [
    {
     "name": "stdout",
     "output_type": "stream",
     "text": [
      "Epoch 1/40\n",
      "1417/1418 [============================>.] - ETA: 0s - loss: 1.7858 - accuracy: 0.1935\n",
      "Epoch 00001: val_accuracy improved from -inf to 0.19985, saving model to ../../models/simple_LSTM1/model_01_0.20.hdf5\n",
      "1418/1418 [==============================] - 63s 44ms/step - loss: 1.7858 - accuracy: 0.1934 - val_loss: 1.7803 - val_accuracy: 0.1999\n",
      "Epoch 2/40\n",
      "1418/1418 [==============================] - ETA: 0s - loss: 1.7782 - accuracy: 0.2043\n",
      "Epoch 00002: val_accuracy improved from 0.19985 to 0.20960, saving model to ../../models/simple_LSTM1/model_02_0.21.hdf5\n",
      "1418/1418 [==============================] - 83s 58ms/step - loss: 1.7782 - accuracy: 0.2043 - val_loss: 1.7721 - val_accuracy: 0.2096\n",
      "Epoch 3/40\n",
      "1417/1418 [============================>.] - ETA: 0s - loss: 1.7724 - accuracy: 0.21 - ETA: 0s - loss: 1.7724 - accuracy: 0.2154\n",
      "Epoch 00003: val_accuracy improved from 0.20960 to 0.21363, saving model to ../../models/simple_LSTM1/model_03_0.21.hdf5\n",
      "1418/1418 [==============================] - 108s 76ms/step - loss: 1.7724 - accuracy: 0.2154 - val_loss: 1.7706 - val_accuracy: 0.2136\n",
      "Epoch 4/40\n",
      "1418/1418 [==============================] - ETA: 0s - loss: 1.7665 - accuracy: 0.2183\n",
      "Epoch 00004: val_accuracy improved from 0.21363 to 0.22422, saving model to ../../models/simple_LSTM1/model_04_0.22.hdf5\n",
      "1418/1418 [==============================] - 102s 72ms/step - loss: 1.7665 - accuracy: 0.2183 - val_loss: 1.7679 - val_accuracy: 0.2242\n",
      "Epoch 5/40\n",
      "1418/1418 [==============================] - ETA: 0s - loss: 1.7609 - accuracy: 0.2263\n",
      "Epoch 00005: val_accuracy did not improve from 0.22422\n",
      "1418/1418 [==============================] - 97s 69ms/step - loss: 1.7609 - accuracy: 0.2263 - val_loss: 1.7665 - val_accuracy: 0.2228\n",
      "Epoch 6/40\n",
      "1418/1418 [==============================] - ETA: 0s - loss: 1.7568 - accuracy: 0.2333\n",
      "Epoch 00006: val_accuracy improved from 0.22422 to 0.23048, saving model to ../../models/simple_LSTM1/model_06_0.23.hdf5\n",
      "1418/1418 [==============================] - 98s 69ms/step - loss: 1.7568 - accuracy: 0.2333 - val_loss: 1.7639 - val_accuracy: 0.2305\n",
      "Epoch 7/40\n",
      "1418/1418 [==============================] - ETA: 0s - loss: 1.7523 - accuracy: 0.2328\n",
      "Epoch 00007: val_accuracy did not improve from 0.23048\n",
      "1418/1418 [==============================] - 98s 69ms/step - loss: 1.7523 - accuracy: 0.2328 - val_loss: 1.7623 - val_accuracy: 0.2235\n",
      "Epoch 8/40\n",
      "1418/1418 [==============================] - ETA: 0s - loss: 1.7471 - accuracy: 0.2400\n",
      "Epoch 00008: val_accuracy did not improve from 0.23048\n",
      "1418/1418 [==============================] - 101s 71ms/step - loss: 1.7471 - accuracy: 0.2400 - val_loss: 1.7585 - val_accuracy: 0.2296\n",
      "Epoch 9/40\n",
      "1418/1418 [==============================] - ETA: 0s - loss: 1.7410 - accuracy: 0.2453\n",
      "Epoch 00009: val_accuracy improved from 0.23048 to 0.24107, saving model to ../../models/simple_LSTM1/model_09_0.24.hdf5\n",
      "1418/1418 [==============================] - 103s 73ms/step - loss: 1.7410 - accuracy: 0.2453 - val_loss: 1.7567 - val_accuracy: 0.2411\n",
      "Epoch 10/40\n",
      "1418/1418 [==============================] - ETA: 0s - loss: 1.7361 - accuracy: 0.2471\n",
      "Epoch 00010: val_accuracy did not improve from 0.24107\n",
      "1418/1418 [==============================] - 107s 76ms/step - loss: 1.7361 - accuracy: 0.2471 - val_loss: 1.7571 - val_accuracy: 0.2359\n",
      "Epoch 11/40\n",
      "1418/1418 [==============================] - ETA: 0s - loss: 1.7310 - accuracy: 0.2536\n",
      "Epoch 00011: val_accuracy did not improve from 0.24107\n",
      "1418/1418 [==============================] - 111s 78ms/step - loss: 1.7310 - accuracy: 0.2536 - val_loss: 1.7544 - val_accuracy: 0.2347\n",
      "Epoch 12/40\n",
      "1418/1418 [==============================] - ETA: 0s - loss: 1.7210 - accuracy: 0.2579\n",
      "Epoch 00012: val_accuracy did not improve from 0.24107\n",
      "1418/1418 [==============================] - 111s 79ms/step - loss: 1.7210 - accuracy: 0.2579 - val_loss: 1.7553 - val_accuracy: 0.2362\n",
      "Epoch 13/40\n",
      "1418/1418 [==============================] - ETA: 0s - loss: 1.7182 - accuracy: 0.2608\n",
      "Epoch 00013: val_accuracy did not improve from 0.24107\n",
      "1418/1418 [==============================] - 111s 78ms/step - loss: 1.7182 - accuracy: 0.2608 - val_loss: 1.7504 - val_accuracy: 0.2388\n",
      "Epoch 14/40\n",
      "1417/1418 [============================>.] - ETA: 0s - loss: 1.7080 - accuracy: 0.2665\n",
      "Epoch 00014: val_accuracy did not improve from 0.24107\n",
      "1418/1418 [==============================] - 119s 84ms/step - loss: 1.7080 - accuracy: 0.2665 - val_loss: 1.7541 - val_accuracy: 0.2370\n",
      "Epoch 15/40\n",
      "1418/1418 [==============================] - ETA: 0s - loss: 1.7006 - accuracy: 0.2730\n",
      "Epoch 00015: val_accuracy did not improve from 0.24107\n",
      "1418/1418 [==============================] - 115s 81ms/step - loss: 1.7006 - accuracy: 0.2730 - val_loss: 1.7644 - val_accuracy: 0.2315\n",
      "Epoch 16/40\n",
      "1418/1418 [==============================] - ETA: 0s - loss: 1.6926 - accuracy: 0.2815\n",
      "Epoch 00016: val_accuracy did not improve from 0.24107\n",
      "1418/1418 [==============================] - 117s 83ms/step - loss: 1.6926 - accuracy: 0.2815 - val_loss: 1.7596 - val_accuracy: 0.2387\n",
      "Epoch 17/40\n",
      "1418/1418 [==============================] - ETA: 0s - loss: 1.6889 - accuracy: 0.2785\n",
      "Epoch 00017: val_accuracy did not improve from 0.24107\n",
      "1418/1418 [==============================] - 115s 81ms/step - loss: 1.6889 - accuracy: 0.2785 - val_loss: 1.7531 - val_accuracy: 0.2378\n",
      "Epoch 18/40\n",
      "1418/1418 [==============================] - ETA: 0s - loss: 1.6797 - accuracy: 0.2884\n",
      "Epoch 00018: val_accuracy did not improve from 0.24107\n",
      "1418/1418 [==============================] - 118s 84ms/step - loss: 1.6797 - accuracy: 0.2884 - val_loss: 1.7587 - val_accuracy: 0.2355\n",
      "Epoch 19/40\n",
      "1418/1418 [==============================] - ETA: 0s - loss: 1.6721 - accuracy: 0.2936\n",
      "Epoch 00019: val_accuracy did not improve from 0.24107\n",
      "1418/1418 [==============================] - 119s 84ms/step - loss: 1.6721 - accuracy: 0.2936 - val_loss: 1.7593 - val_accuracy: 0.2408\n",
      "Epoch 20/40\n",
      "1418/1418 [==============================] - ETA: 0s - loss: 1.6635 - accuracy: 0.2980\n",
      "Epoch 00020: val_accuracy improved from 0.24107 to 0.24128, saving model to ../../models/simple_LSTM1/model_20_0.24.hdf5\n",
      "1418/1418 [==============================] - 121s 86ms/step - loss: 1.6635 - accuracy: 0.2980 - val_loss: 1.7730 - val_accuracy: 0.2413\n",
      "Epoch 21/40\n",
      "1418/1418 [==============================] - ETA: 0s - loss: 1.6573 - accuracy: 0.2993\n",
      "Epoch 00021: val_accuracy did not improve from 0.24128\n",
      "1418/1418 [==============================] - 119s 84ms/step - loss: 1.6573 - accuracy: 0.2993 - val_loss: 1.7645 - val_accuracy: 0.2373\n",
      "Epoch 22/40\n",
      "1418/1418 [==============================] - ETA: 0s - loss: 1.6488 - accuracy: 0.3039\n",
      "Epoch 00022: val_accuracy did not improve from 0.24128\n",
      "1418/1418 [==============================] - 119s 84ms/step - loss: 1.6488 - accuracy: 0.3039 - val_loss: 1.7715 - val_accuracy: 0.2404\n",
      "Epoch 23/40\n",
      "1418/1418 [==============================] - ETA: 0s - loss: 1.6404 - accuracy: 0.3075\n",
      "Epoch 00023: val_accuracy did not improve from 0.24128\n",
      "1418/1418 [==============================] - 119s 84ms/step - loss: 1.6404 - accuracy: 0.3075 - val_loss: 1.7761 - val_accuracy: 0.2372\n",
      "Epoch 24/40\n",
      "1418/1418 [==============================] - ETA: 0s - loss: 1.6360 - accuracy: 0.3065\n",
      "Epoch 00024: val_accuracy did not improve from 0.24128\n",
      "1418/1418 [==============================] - 119s 84ms/step - loss: 1.6360 - accuracy: 0.3065 - val_loss: 1.7783 - val_accuracy: 0.2413\n",
      "Epoch 25/40\n",
      "1417/1418 [============================>.] - ETA: 0s - loss: 1.6246 - accuracy: 0.3168\n",
      "Epoch 00025: val_accuracy did not improve from 0.24128\n",
      "1418/1418 [==============================] - 118s 83ms/step - loss: 1.6246 - accuracy: 0.3168 - val_loss: 1.7779 - val_accuracy: 0.2349\n",
      "Epoch 26/40\n",
      "1418/1418 [==============================] - ETA: 0s - loss: 1.6142 - accuracy: 0.3174\n",
      "Epoch 00026: val_accuracy did not improve from 0.24128\n",
      "1418/1418 [==============================] - 118s 83ms/step - loss: 1.6142 - accuracy: 0.3174 - val_loss: 1.7769 - val_accuracy: 0.2411\n",
      "Epoch 27/40\n",
      "1418/1418 [==============================] - ETA: 0s - loss: 1.6045 - accuracy: 0.3322\n",
      "Epoch 00027: val_accuracy improved from 0.24128 to 0.24234, saving model to ../../models/simple_LSTM1/model_27_0.24.hdf5\n",
      "1418/1418 [==============================] - 117s 82ms/step - loss: 1.6045 - accuracy: 0.3322 - val_loss: 1.7938 - val_accuracy: 0.2423\n",
      "Epoch 28/40\n",
      "1418/1418 [==============================] - ETA: 0s - loss: 1.5987 - accuracy: 0.3306\n",
      "Epoch 00028: val_accuracy did not improve from 0.24234\n",
      "1418/1418 [==============================] - 116s 82ms/step - loss: 1.5987 - accuracy: 0.3306 - val_loss: 1.7972 - val_accuracy: 0.2366\n",
      "Epoch 29/40\n",
      "1418/1418 [==============================] - ETA: 0s - loss: 1.5925 - accuracy: 0.3316\n",
      "Epoch 00029: val_accuracy did not improve from 0.24234\n",
      "1418/1418 [==============================] - 116s 82ms/step - loss: 1.5925 - accuracy: 0.3316 - val_loss: 1.8037 - val_accuracy: 0.2412\n",
      "Epoch 30/40\n",
      "1418/1418 [==============================] - ETA: 0s - loss: 1.5870 - accuracy: 0.3337\n",
      "Epoch 00030: val_accuracy did not improve from 0.24234\n",
      "1418/1418 [==============================] - 116s 82ms/step - loss: 1.5870 - accuracy: 0.3337 - val_loss: 1.8117 - val_accuracy: 0.2378\n",
      "Epoch 31/40\n",
      "1417/1418 [============================>.] - ETA: 0s - loss: 1.5731 - accuracy: 0.3414\n",
      "Epoch 00031: val_accuracy improved from 0.24234 to 0.24287, saving model to ../../models/simple_LSTM1/model_31_0.24.hdf5\n",
      "1418/1418 [==============================] - 117s 83ms/step - loss: 1.5731 - accuracy: 0.3413 - val_loss: 1.8253 - val_accuracy: 0.2429\n",
      "Epoch 32/40\n",
      "1418/1418 [==============================] - ETA: 0s - loss: 1.5711 - accuracy: 0.3444\n",
      "Epoch 00032: val_accuracy did not improve from 0.24287\n",
      "1418/1418 [==============================] - 116s 82ms/step - loss: 1.5711 - accuracy: 0.3444 - val_loss: 1.8177 - val_accuracy: 0.2351\n",
      "Epoch 33/40\n",
      "1418/1418 [==============================] - ETA: 0s - loss: 1.5612 - accuracy: 0.3500\n",
      "Epoch 00033: val_accuracy did not improve from 0.24287\n",
      "1418/1418 [==============================] - 115s 81ms/step - loss: 1.5612 - accuracy: 0.3500 - val_loss: 1.8465 - val_accuracy: 0.2423\n",
      "Epoch 34/40\n",
      "1418/1418 [==============================] - ETA: 0s - loss: 1.5497 - accuracy: 0.3506\n",
      "Epoch 00034: val_accuracy did not improve from 0.24287\n",
      "1418/1418 [==============================] - 114s 81ms/step - loss: 1.5497 - accuracy: 0.3506 - val_loss: 1.8212 - val_accuracy: 0.2382\n",
      "Epoch 35/40\n",
      "1418/1418 [==============================] - ETA: 0s - loss: 1.5465 - accuracy: 0.3550\n",
      "Epoch 00035: val_accuracy did not improve from 0.24287\n",
      "1418/1418 [==============================] - 115s 81ms/step - loss: 1.5465 - accuracy: 0.3550 - val_loss: 1.8411 - val_accuracy: 0.2356\n",
      "Epoch 36/40\n",
      "1418/1418 [==============================] - ETA: 0s - loss: 1.5384 - accuracy: 0.3589\n",
      "Epoch 00036: val_accuracy did not improve from 0.24287\n",
      "1418/1418 [==============================] - 113s 80ms/step - loss: 1.5384 - accuracy: 0.3589 - val_loss: 1.8356 - val_accuracy: 0.2340\n",
      "Epoch 37/40\n",
      "1418/1418 [==============================] - ETA: 0s - loss: 1.5231 - accuracy: 0.3696\n",
      "Epoch 00037: val_accuracy did not improve from 0.24287\n",
      "1418/1418 [==============================] - 114s 80ms/step - loss: 1.5231 - accuracy: 0.3696 - val_loss: 1.8498 - val_accuracy: 0.2347\n",
      "Epoch 38/40\n",
      "1418/1418 [==============================] - ETA: 0s - loss: 1.5224 - accuracy: 0.3682\n",
      "Epoch 00038: val_accuracy did not improve from 0.24287\n",
      "1418/1418 [==============================] - 115s 81ms/step - loss: 1.5224 - accuracy: 0.3682 - val_loss: 1.8563 - val_accuracy: 0.2385\n",
      "Epoch 39/40\n",
      "1418/1418 [==============================] - ETA: 0s - loss: 1.5212 - accuracy: 0.3666\n",
      "Epoch 00039: val_accuracy did not improve from 0.24287\n",
      "1418/1418 [==============================] - 115s 81ms/step - loss: 1.5212 - accuracy: 0.3666 - val_loss: 1.8881 - val_accuracy: 0.2388\n",
      "Epoch 40/40\n",
      "1418/1418 [==============================] - ETA: 0s - loss: 1.5046 - accuracy: 0.3742\n",
      "Epoch 00040: val_accuracy did not improve from 0.24287\n",
      "1418/1418 [==============================] - 112s 79ms/step - loss: 1.5046 - accuracy: 0.3742 - val_loss: 1.8832 - val_accuracy: 0.2376\n"
     ]
    }
   ],
   "source": [
    "# recommended learning rate for Adam 5e-5, 3e-5, 2e-5\n",
    "LR = 5e-4\n",
    "EPOCHS = 40\n",
    "BATCH_SIZE = 20\n",
    "opt = keras.optimizers.Adam(learning_rate=LR)\n",
    "mod1.compile(optimizer=opt, loss='categorical_crossentropy', metrics=['accuracy'])\n",
    "\n",
    "mod_history = mod1.fit(X_train, y_train, \n",
    "            validation_data=(X_test, y_test), \n",
    "            epochs=EPOCHS, batch_size = BATCH_SIZE, verbose=1,\n",
    "            callbacks=[checkpoint])"
   ]
  },
  {
   "cell_type": "code",
   "execution_count": null,
   "metadata": {
    "colab": {
     "base_uri": "https://localhost:8080/"
    },
    "id": "4BdhEg9g02yC",
    "outputId": "102a02d0-d8be-4dcb-900f-088f7c2aa39f"
   },
   "outputs": [],
   "source": []
  },
  {
   "cell_type": "markdown",
   "metadata": {
    "id": "1J-Okj2NVbJT"
   },
   "source": [
    "## Testing"
   ]
  },
  {
   "cell_type": "code",
   "execution_count": 31,
   "metadata": {},
   "outputs": [],
   "source": [
    "mod_use = keras.models.load_model('../../models/simple_LSTM1/model_31_0.24.hdf5')"
   ]
  },
  {
   "cell_type": "code",
   "execution_count": 32,
   "metadata": {},
   "outputs": [],
   "source": [
    "def plot_cm(labels, predictions, type_eval = 'test'):\n",
    "    cm = confusion_matrix(labels, predictions)\n",
    "    cm = (cm.transpose()/cm.sum(axis = 1)).transpose()\n",
    "    plt.figure(figsize=(8, 8))\n",
    "    sns.heatmap(cm, annot=True, fmt=\".2%\")\n",
    "    plt.title(\"Confusion matrix (\"+type_eval+\") - 1\")\n",
    "    plt.ylabel(\"Actual label\")\n",
    "    plt.xlabel(\"Predicted label\")"
   ]
  },
  {
   "cell_type": "code",
   "execution_count": 33,
   "metadata": {},
   "outputs": [],
   "source": [
    "y_pred_test = mod_use.predict(X_test)\n",
    "y_pred_test = np.argmax(y_pred_test,axis = 1)\n",
    "y_true_test = np.argmax(y_test,axis = 1)"
   ]
  },
  {
   "cell_type": "code",
   "execution_count": 34,
   "metadata": {},
   "outputs": [
    {
     "name": "stdout",
     "output_type": "stream",
     "text": [
      "              precision    recall  f1-score   support\n",
      "\n",
      "           0       0.26      0.36      0.30      1678\n",
      "           1       0.25      0.16      0.20      1695\n",
      "           2       0.22      0.29      0.25      1567\n",
      "           3       0.24      0.23      0.24      1581\n",
      "           4       0.25      0.23      0.24      1517\n",
      "           5       0.25      0.16      0.19      1399\n",
      "\n",
      "    accuracy                           0.24      9437\n",
      "   macro avg       0.24      0.24      0.24      9437\n",
      "weighted avg       0.24      0.24      0.24      9437\n",
      "\n"
     ]
    },
    {
     "data": {
      "image/png": "[encoded data removed]",
      "text/plain": [
       "<Figure size 576x576 with 2 Axes>"
      ]
     },
     "metadata": {
      "needs_background": "light"
     },
     "output_type": "display_data"
    }
   ],
   "source": [
    "report = classification_report(y_true_test,y_pred_test)\n",
    "print(report)\n",
    "plot_cm(y_true_test,y_pred_test, type_eval = 'test')"
   ]
  },
  {
   "cell_type": "code",
   "execution_count": null,
   "metadata": {},
   "outputs": [],
   "source": []
  },
  {
   "cell_type": "code",
   "execution_count": 35,
   "metadata": {},
   "outputs": [],
   "source": [
    "y_pred = mod_use.predict(X_unseen)\n",
    "y_pred_label = np.argmax(y_pred,axis = 1)\n",
    "y_true_label = data_unseen['label'].values"
   ]
  },
  {
   "cell_type": "code",
   "execution_count": 36,
   "metadata": {
    "id": "r0bgWgl6cJQj"
   },
   "outputs": [
    {
     "name": "stdout",
     "output_type": "stream",
     "text": [
      "              precision    recall  f1-score   support\n",
      "\n",
      "           0       0.23      0.31      0.27      1545\n",
      "           1       0.23      0.14      0.17      1649\n",
      "           2       0.20      0.31      0.24      1487\n",
      "           3       0.21      0.20      0.20      1521\n",
      "           4       0.23      0.21      0.22      1491\n",
      "           5       0.20      0.12      0.15      1392\n",
      "\n",
      "    accuracy                           0.22      9085\n",
      "   macro avg       0.22      0.22      0.21      9085\n",
      "weighted avg       0.22      0.22      0.21      9085\n",
      "\n"
     ]
    },
    {
     "data": {
      "image/png": "[encoded data removed]",
      "text/plain": [
       "<Figure size 576x576 with 2 Axes>"
      ]
     },
     "metadata": {
      "needs_background": "light"
     },
     "output_type": "display_data"
    }
   ],
   "source": [
    "report = classification_report(y_true_label, y_pred_label)\n",
    "print(report)\n",
    "plot_cm(y_true_label, y_pred_label)"
   ]
  },
  {
   "cell_type": "code",
   "execution_count": null,
   "metadata": {},
   "outputs": [],
   "source": []
  }
 ],
 "metadata": {
  "accelerator": "TPU",
  "colab": {
   "collapsed_sections": [],
   "name": "20200803_training_bert_TPU.ipynb",
   "provenance": []
  },
  "kernelspec": {
   "display_name": "joko-notebook",
   "language": "python",
   "name": "joko"
  },
  "language_info": {
   "codemirror_mode": {
    "name": "ipython",
    "version": 3
   },
   "file_extension": ".py",
   "mimetype": "text/x-python",
   "name": "python",
   "nbconvert_exporter": "python",
   "pygments_lexer": "ipython3",
   "version": "3.8.3"
  }
 },
 "nbformat": 4,
 "nbformat_minor": 4
}
