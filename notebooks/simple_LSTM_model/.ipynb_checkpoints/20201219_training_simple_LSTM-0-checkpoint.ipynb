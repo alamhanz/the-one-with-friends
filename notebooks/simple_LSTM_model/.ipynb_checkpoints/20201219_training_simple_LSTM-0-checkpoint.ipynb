{
 "cells": [
  {
   "cell_type": "markdown",
   "metadata": {
    "id": "g5_fZUzo02xP"
   },
   "source": [
    "# Friends Classification Text (LSTM)\n",
    "\n",
    "This is classification of dialogue in FRIENDS TV Series.\n",
    "\n",
    "<!-- https://stackoverflow.com/questions/61000500/tensorflow-keras-bert-multiclass-text-classification-accuracy -->"
   ]
  },
  {
   "cell_type": "code",
   "execution_count": 1,
   "metadata": {
    "colab": {
     "base_uri": "https://localhost:8080/"
    },
    "id": "03Lpsmju02xR",
    "outputId": "729cb2e1-2326-4654-da9e-3facd4921f7c"
   },
   "outputs": [],
   "source": [
    "import pandas as pd\n",
    "import re\n",
    "import numpy as np\n",
    "import time\n",
    "\n",
    "import os\n",
    "import pprint\n",
    "import tensorflow as tf\n",
    "\n",
    "import sys\n",
    "sys.path.insert(1, '../../src/all_functions/')\n",
    "\n",
    "from text_tools import *\n",
    "\n",
    "import keras\n",
    "from keras.datasets import mnist\n",
    "from sklearn.model_selection import train_test_split\n",
    "from keras.callbacks import ModelCheckpoint\n",
    "from keras.applications.mobilenet_v2 import MobileNetV2, preprocess_input\n",
    "from keras.models import load_model\n",
    "\n",
    "from keras.layers import Embedding, LSTM\n",
    "import matplotlib.pyplot as plt\n",
    "from keras import Sequential\n",
    "\n",
    "from keras import backend as K\n",
    "from keras import layers\n",
    "\n",
    "from sklearn.preprocessing import OneHotEncoder\n",
    "\n",
    "from sklearn.metrics import (classification_report,\n",
    "                             confusion_matrix,\n",
    "                             roc_auc_score)\n",
    "\n",
    "import matplotlib.pyplot as plt\n",
    "import seaborn as sns\n",
    "\n",
    "# from google.colab import drive\n",
    "# drive.mount('/content/gdrive')"
   ]
  },
  {
   "cell_type": "code",
   "execution_count": 2,
   "metadata": {
    "id": "Nplks9aMi_aH"
   },
   "outputs": [],
   "source": [
    "# help(drive.mount)"
   ]
  },
  {
   "cell_type": "code",
   "execution_count": 3,
   "metadata": {},
   "outputs": [],
   "source": [
    "def encode(text):\n",
    "    token_ids = []\n",
    "    for word in text:\n",
    "        try:\n",
    "            token_ids.append(word2idx[word])\n",
    "        except:\n",
    "            token_ids.append(1)\n",
    "            \n",
    "    token_ids = np.array(token_ids)\n",
    "    return token_ids\n",
    "\n",
    "def set_fix_length(ids, max_len = 15):\n",
    "    # print(ids)\n",
    "    length = ids.shape[0]\n",
    "    zeros = np.zeros(max_len)\n",
    "\n",
    "    if length <= max_len:\n",
    "        zeros[:length] = ids\n",
    "    else:\n",
    "        zeros = ids[:max_len]\n",
    "\n",
    "    return zeros"
   ]
  },
  {
   "cell_type": "code",
   "execution_count": null,
   "metadata": {},
   "outputs": [],
   "source": []
  },
  {
   "cell_type": "code",
   "execution_count": 4,
   "metadata": {
    "id": "Z6n6vof_02xV"
   },
   "outputs": [],
   "source": [
    "# PATH_DATA = 'gdrive/'\n",
    "PATH_DATA = '../../data/'"
   ]
  },
  {
   "cell_type": "markdown",
   "metadata": {
    "id": "0lMeZ84P02xb"
   },
   "source": [
    "## Importing Data"
   ]
  },
  {
   "cell_type": "code",
   "execution_count": 5,
   "metadata": {
    "id": "dHeMuViP02xb"
   },
   "outputs": [],
   "source": [
    "df_dlg_seen = pd.read_csv(PATH_DATA+'friends_seen_season_new.csv')\n",
    "df_dlg_unseen = pd.read_csv(PATH_DATA+'friends_unseen_season_new.csv')"
   ]
  },
  {
   "cell_type": "code",
   "execution_count": 6,
   "metadata": {},
   "outputs": [],
   "source": [
    "df_dlg_seen['text'] = df_dlg_seen['dialogue5']\n",
    "df_dlg_unseen['text'] = df_dlg_unseen['dialogue5']"
   ]
  },
  {
   "cell_type": "code",
   "execution_count": 7,
   "metadata": {
    "id": "y_VRmC1602xe"
   },
   "outputs": [],
   "source": [
    "data_train = df_dlg_seen[(df_dlg_seen.is_train == True)&(df_dlg_seen.label!=0)&(df_dlg_seen.len_dialogue5>0)][['text','label']]\n",
    "data_train['label'] = data_train['label']-1\n",
    "data_test = df_dlg_seen[(df_dlg_seen.is_train == False)&(df_dlg_seen.label!=0)&(df_dlg_seen.len_dialogue5>0)][['text','label']]\n",
    "data_test['label'] = data_test['label']-1\n",
    "data_unseen = df_dlg_unseen[(df_dlg_unseen.label!=0)&(df_dlg_unseen.len_dialogue5>0)][['text','label']]\n",
    "data_unseen['label'] = data_unseen['label']-1"
   ]
  },
  {
   "cell_type": "code",
   "execution_count": 8,
   "metadata": {
    "colab": {
     "base_uri": "https://localhost:8080/"
    },
    "id": "Tt421RVa02xh",
    "outputId": "03de5b03-ec4f-4f0f-8656-399e7cb20cf9"
   },
   "outputs": [
    {
     "data": {
      "text/plain": [
       "(28949, 2)"
      ]
     },
     "execution_count": 8,
     "metadata": {},
     "output_type": "execute_result"
    }
   ],
   "source": [
    "data_train.shape"
   ]
  },
  {
   "cell_type": "code",
   "execution_count": 9,
   "metadata": {
    "colab": {
     "base_uri": "https://localhost:8080/"
    },
    "id": "LnHpAS_J02xk",
    "outputId": "4ab46916-557f-4c8a-c7d8-e19ff5f1478c"
   },
   "outputs": [
    {
     "data": {
      "text/plain": [
       "(9652, 2)"
      ]
     },
     "execution_count": 9,
     "metadata": {},
     "output_type": "execute_result"
    }
   ],
   "source": [
    "data_test.shape"
   ]
  },
  {
   "cell_type": "code",
   "execution_count": 10,
   "metadata": {
    "colab": {
     "base_uri": "https://localhost:8080/"
    },
    "id": "u1kNu3H602xo",
    "outputId": "3233fad8-8882-47d7-ed3b-4d0807ed4c05"
   },
   "outputs": [
    {
     "data": {
      "text/plain": [
       "(9268, 2)"
      ]
     },
     "execution_count": 10,
     "metadata": {},
     "output_type": "execute_result"
    }
   ],
   "source": [
    "data_unseen.shape"
   ]
  },
  {
   "cell_type": "code",
   "execution_count": 11,
   "metadata": {
    "colab": {
     "base_uri": "https://localhost:8080/"
    },
    "id": "IWx_PNZHay70",
    "outputId": "b877f337-b9ed-4c6e-e07c-8c4d0e0d7428"
   },
   "outputs": [
    {
     "data": {
      "text/plain": [
       "1    0.180377\n",
       "0    0.178512\n",
       "3    0.168255\n",
       "2    0.165665\n",
       "4    0.159656\n",
       "5    0.147534\n",
       "Name: label, dtype: float64"
      ]
     },
     "execution_count": 11,
     "metadata": {},
     "output_type": "execute_result"
    }
   ],
   "source": [
    "XX = data_test.label.value_counts()\n",
    "XX/XX.sum()"
   ]
  },
  {
   "cell_type": "code",
   "execution_count": null,
   "metadata": {
    "id": "L1J6bjri02xr"
   },
   "outputs": [],
   "source": []
  },
  {
   "cell_type": "markdown",
   "metadata": {
    "id": "5KQGGRST02xu"
   },
   "source": [
    "## Tokenizer"
   ]
  },
  {
   "cell_type": "code",
   "execution_count": 12,
   "metadata": {},
   "outputs": [],
   "source": [
    "MAX_LEN = 20\n",
    "EMBED_SIZE = 128"
   ]
  },
  {
   "cell_type": "code",
   "execution_count": 13,
   "metadata": {},
   "outputs": [],
   "source": [
    "OH = OneHotEncoder()"
   ]
  },
  {
   "cell_type": "code",
   "execution_count": 14,
   "metadata": {},
   "outputs": [
    {
     "data": {
      "text/html": [
       "<div>\n",
       "<style scoped>\n",
       "    .dataframe tbody tr th:only-of-type {\n",
       "        vertical-align: middle;\n",
       "    }\n",
       "\n",
       "    .dataframe tbody tr th {\n",
       "        vertical-align: top;\n",
       "    }\n",
       "\n",
       "    .dataframe thead th {\n",
       "        text-align: right;\n",
       "    }\n",
       "</style>\n",
       "<table border=\"1\" class=\"dataframe\">\n",
       "  <thead>\n",
       "    <tr style=\"text-align: right;\">\n",
       "      <th></th>\n",
       "      <th>text</th>\n",
       "      <th>label</th>\n",
       "    </tr>\n",
       "  </thead>\n",
       "  <tbody>\n",
       "    <tr>\n",
       "      <th>0</th>\n",
       "      <td>there has nothing to tell he has just some i w...</td>\n",
       "      <td>2</td>\n",
       "    </tr>\n",
       "    <tr>\n",
       "      <th>2</th>\n",
       "      <td>all joey be nice so does he have a hump a hump...</td>\n",
       "      <td>3</td>\n",
       "    </tr>\n",
       "    <tr>\n",
       "      <th>4</th>\n",
       "      <td>just because i do not her to through what i we...</td>\n",
       "      <td>5</td>\n",
       "    </tr>\n",
       "    <tr>\n",
       "      <th>5</th>\n",
       "      <td>everybody relax this is not even a date it has...</td>\n",
       "      <td>2</td>\n",
       "    </tr>\n",
       "    <tr>\n",
       "      <th>6</th>\n",
       "      <td>sounds a date to me</td>\n",
       "      <td>3</td>\n",
       "    </tr>\n",
       "  </tbody>\n",
       "</table>\n",
       "</div>"
      ],
      "text/plain": [
       "                                                text  label\n",
       "0  there has nothing to tell he has just some i w...      2\n",
       "2  all joey be nice so does he have a hump a hump...      3\n",
       "4  just because i do not her to through what i we...      5\n",
       "5  everybody relax this is not even a date it has...      2\n",
       "6                                sounds a date to me      3"
      ]
     },
     "execution_count": 14,
     "metadata": {},
     "output_type": "execute_result"
    }
   ],
   "source": [
    "data_train.head()"
   ]
  },
  {
   "cell_type": "code",
   "execution_count": 15,
   "metadata": {},
   "outputs": [
    {
     "data": {
      "text/html": [
       "<div>\n",
       "<style scoped>\n",
       "    .dataframe tbody tr th:only-of-type {\n",
       "        vertical-align: middle;\n",
       "    }\n",
       "\n",
       "    .dataframe tbody tr th {\n",
       "        vertical-align: top;\n",
       "    }\n",
       "\n",
       "    .dataframe thead th {\n",
       "        text-align: right;\n",
       "    }\n",
       "</style>\n",
       "<table border=\"1\" class=\"dataframe\">\n",
       "  <thead>\n",
       "    <tr style=\"text-align: right;\">\n",
       "      <th></th>\n",
       "      <th>text</th>\n",
       "      <th>label</th>\n",
       "    </tr>\n",
       "  </thead>\n",
       "  <tbody>\n",
       "    <tr>\n",
       "      <th>1</th>\n",
       "      <td>on you are going out with the there has gotta ...</td>\n",
       "      <td>4</td>\n",
       "    </tr>\n",
       "    <tr>\n",
       "      <th>3</th>\n",
       "      <td>wait does he eat chalk</td>\n",
       "      <td>5</td>\n",
       "    </tr>\n",
       "    <tr>\n",
       "      <th>9</th>\n",
       "      <td>then i down and i realize there has a phone there</td>\n",
       "      <td>3</td>\n",
       "    </tr>\n",
       "    <tr>\n",
       "      <th>11</th>\n",
       "      <td>that has</td>\n",
       "      <td>3</td>\n",
       "    </tr>\n",
       "    <tr>\n",
       "      <th>14</th>\n",
       "      <td>all of a sudden the phone starts to ring now i...</td>\n",
       "      <td>3</td>\n",
       "    </tr>\n",
       "  </tbody>\n",
       "</table>\n",
       "</div>"
      ],
      "text/plain": [
       "                                                 text  label\n",
       "1   on you are going out with the there has gotta ...      4\n",
       "3                              wait does he eat chalk      5\n",
       "9   then i down and i realize there has a phone there      3\n",
       "11                                           that has      3\n",
       "14  all of a sudden the phone starts to ring now i...      3"
      ]
     },
     "execution_count": 15,
     "metadata": {},
     "output_type": "execute_result"
    }
   ],
   "source": [
    "data_test.head()"
   ]
  },
  {
   "cell_type": "code",
   "execution_count": 16,
   "metadata": {},
   "outputs": [
    {
     "data": {
      "text/html": [
       "<div>\n",
       "<style scoped>\n",
       "    .dataframe tbody tr th:only-of-type {\n",
       "        vertical-align: middle;\n",
       "    }\n",
       "\n",
       "    .dataframe tbody tr th {\n",
       "        vertical-align: top;\n",
       "    }\n",
       "\n",
       "    .dataframe thead th {\n",
       "        text-align: right;\n",
       "    }\n",
       "</style>\n",
       "<table border=\"1\" class=\"dataframe\">\n",
       "  <thead>\n",
       "    <tr style=\"text-align: right;\">\n",
       "      <th></th>\n",
       "      <th>eps</th>\n",
       "      <th>dialogue_ids</th>\n",
       "      <th>scenes_places</th>\n",
       "      <th>label_place</th>\n",
       "      <th>label_str</th>\n",
       "      <th>label</th>\n",
       "      <th>season</th>\n",
       "      <th>dialogue</th>\n",
       "      <th>dialogue5</th>\n",
       "      <th>len_dialogue5</th>\n",
       "      <th>is_null2</th>\n",
       "      <th>ids</th>\n",
       "      <th>text</th>\n",
       "    </tr>\n",
       "  </thead>\n",
       "  <tbody>\n",
       "    <tr>\n",
       "      <th>0</th>\n",
       "      <td>0901</td>\n",
       "      <td>0</td>\n",
       "      <td>[rachel's room]</td>\n",
       "      <td>2</td>\n",
       "      <td>rachel</td>\n",
       "      <td>1</td>\n",
       "      <td>9</td>\n",
       "      <td>joey. (he turns to face rachel on one knee w...</td>\n",
       "      <td>joey</td>\n",
       "      <td>1</td>\n",
       "      <td>False</td>\n",
       "      <td>49643</td>\n",
       "      <td>joey</td>\n",
       "    </tr>\n",
       "    <tr>\n",
       "      <th>1</th>\n",
       "      <td>0901</td>\n",
       "      <td>1</td>\n",
       "      <td>[rachel's room]</td>\n",
       "      <td>2</td>\n",
       "      <td>rachel</td>\n",
       "      <td>1</td>\n",
       "      <td>9</td>\n",
       "      <td>(seeing the ring) oh my god. (pause) okay. (...</td>\n",
       "      <td>my god</td>\n",
       "      <td>2</td>\n",
       "      <td>False</td>\n",
       "      <td>49644</td>\n",
       "      <td>my god</td>\n",
       "    </tr>\n",
       "    <tr>\n",
       "      <th>2</th>\n",
       "      <td>0901</td>\n",
       "      <td>2</td>\n",
       "      <td>[rachel's room]</td>\n",
       "      <td>2</td>\n",
       "      <td>rachel</td>\n",
       "      <td>1</td>\n",
       "      <td>9</td>\n",
       "      <td>so uh...i guess we should...make it official...</td>\n",
       "      <td>so i guess we should make it official huh</td>\n",
       "      <td>9</td>\n",
       "      <td>False</td>\n",
       "      <td>49645</td>\n",
       "      <td>so i guess we should make it official huh</td>\n",
       "    </tr>\n",
       "    <tr>\n",
       "      <th>3</th>\n",
       "      <td>0901</td>\n",
       "      <td>3</td>\n",
       "      <td>[rachel's room]</td>\n",
       "      <td>2</td>\n",
       "      <td>joey</td>\n",
       "      <td>5</td>\n",
       "      <td>9</td>\n",
       "      <td>uh... look rach...(ross enters.) hey ross is...</td>\n",
       "      <td>rach ross is here it has my friend ross ross</td>\n",
       "      <td>10</td>\n",
       "      <td>False</td>\n",
       "      <td>49646</td>\n",
       "      <td>rach ross is here it has my friend ross ross</td>\n",
       "    </tr>\n",
       "    <tr>\n",
       "      <th>4</th>\n",
       "      <td>0901</td>\n",
       "      <td>4</td>\n",
       "      <td>[rachel's room]</td>\n",
       "      <td>2</td>\n",
       "      <td>ross</td>\n",
       "      <td>2</td>\n",
       "      <td>9</td>\n",
       "      <td>hey joey. (to rachel) hey you.</td>\n",
       "      <td>joey you</td>\n",
       "      <td>2</td>\n",
       "      <td>False</td>\n",
       "      <td>49647</td>\n",
       "      <td>joey you</td>\n",
       "    </tr>\n",
       "  </tbody>\n",
       "</table>\n",
       "</div>"
      ],
      "text/plain": [
       "    eps  dialogue_ids    scenes_places  label_place label_str  label  season  \\\n",
       "0  0901             0  [rachel's room]            2    rachel      1       9   \n",
       "1  0901             1  [rachel's room]            2    rachel      1       9   \n",
       "2  0901             2  [rachel's room]            2    rachel      1       9   \n",
       "3  0901             3  [rachel's room]            2      joey      5       9   \n",
       "4  0901             4  [rachel's room]            2      ross      2       9   \n",
       "\n",
       "                                            dialogue  \\\n",
       "0    joey. (he turns to face rachel on one knee w...   \n",
       "1    (seeing the ring) oh my god. (pause) okay. (...   \n",
       "2    so uh...i guess we should...make it official...   \n",
       "3    uh... look rach...(ross enters.) hey ross is...   \n",
       "4                     hey joey. (to rachel) hey you.   \n",
       "\n",
       "                                      dialogue5  len_dialogue5  is_null2  \\\n",
       "0                                          joey              1     False   \n",
       "1                                        my god              2     False   \n",
       "2     so i guess we should make it official huh              9     False   \n",
       "3  rach ross is here it has my friend ross ross             10     False   \n",
       "4                                      joey you              2     False   \n",
       "\n",
       "     ids                                          text  \n",
       "0  49643                                          joey  \n",
       "1  49644                                        my god  \n",
       "2  49645     so i guess we should make it official huh  \n",
       "3  49646  rach ross is here it has my friend ross ross  \n",
       "4  49647                                      joey you  "
      ]
     },
     "execution_count": 16,
     "metadata": {},
     "output_type": "execute_result"
    }
   ],
   "source": [
    "df_dlg_unseen.head()"
   ]
  },
  {
   "cell_type": "code",
   "execution_count": 17,
   "metadata": {},
   "outputs": [],
   "source": [
    "word2idx, idx2word = data_text_prep( pd.concat([data_train,data_test]))\n",
    "X_train = []\n",
    "X_test = []\n",
    "X_unseen = []\n",
    "label_train = []\n",
    "label_test = []\n",
    "label_unseen = []"
   ]
  },
  {
   "cell_type": "code",
   "execution_count": 18,
   "metadata": {},
   "outputs": [
    {
     "data": {
      "text/plain": [
       "12147"
      ]
     },
     "execution_count": 18,
     "metadata": {},
     "output_type": "execute_result"
    }
   ],
   "source": [
    "VOCAB_SIZE = len(word2idx)\n",
    "VOCAB_SIZE"
   ]
  },
  {
   "cell_type": "code",
   "execution_count": 19,
   "metadata": {},
   "outputs": [],
   "source": [
    "for txt,label in data_train.values:\n",
    "    text_encode = encode(txt)\n",
    "    text_encode = set_fix_length(text_encode,max_len = MAX_LEN)\n",
    "    X_train.append(text_encode)\n",
    "    label_train.append(label)\n",
    "    \n",
    "X_train = np.stack(X_train)\n",
    "label_train = np.array(label_train)"
   ]
  },
  {
   "cell_type": "code",
   "execution_count": 20,
   "metadata": {},
   "outputs": [],
   "source": [
    "for txt,label in data_test.values:\n",
    "    text_encode = encode(txt)\n",
    "    text_encode = set_fix_length(text_encode,max_len = MAX_LEN)\n",
    "    X_test.append(text_encode)\n",
    "    label_test.append(label)\n",
    "\n",
    "X_test = np.stack(X_test)\n",
    "label_test = np.array(label_test)"
   ]
  },
  {
   "cell_type": "code",
   "execution_count": 21,
   "metadata": {},
   "outputs": [],
   "source": [
    "for txt,label in data_unseen.values:\n",
    "    text_encode = encode(txt)\n",
    "    text_encode = set_fix_length(text_encode,max_len = MAX_LEN)\n",
    "    X_unseen.append(text_encode)\n",
    "    label_unseen.append(label)\n",
    "\n",
    "X_unseen = np.stack(X_unseen)\n",
    "label_unseen = np.array(label_unseen)"
   ]
  },
  {
   "cell_type": "code",
   "execution_count": null,
   "metadata": {},
   "outputs": [],
   "source": []
  },
  {
   "cell_type": "code",
   "execution_count": 22,
   "metadata": {},
   "outputs": [
    {
     "data": {
      "text/plain": [
       "OneHotEncoder()"
      ]
     },
     "execution_count": 22,
     "metadata": {},
     "output_type": "execute_result"
    }
   ],
   "source": [
    "OH.fit(label_train.reshape(len(label_train),-1))"
   ]
  },
  {
   "cell_type": "code",
   "execution_count": 23,
   "metadata": {},
   "outputs": [],
   "source": [
    "y_train = OH.transform(label_train.reshape(len(label_train),-1)).toarray()\n",
    "y_test = OH.transform(label_test.reshape(len(label_test),-1)).toarray()\n",
    "y_unseen = OH.transform(label_unseen.reshape(len(label_unseen),-1)).toarray()"
   ]
  },
  {
   "cell_type": "code",
   "execution_count": null,
   "metadata": {},
   "outputs": [],
   "source": []
  },
  {
   "cell_type": "code",
   "execution_count": null,
   "metadata": {
    "id": "5wougnTMpWxj"
   },
   "outputs": [],
   "source": []
  },
  {
   "cell_type": "markdown",
   "metadata": {
    "id": "cYqyu2RK02x6"
   },
   "source": [
    "## Training Model"
   ]
  },
  {
   "cell_type": "code",
   "execution_count": 24,
   "metadata": {
    "id": "JbdOHXqA02x6"
   },
   "outputs": [],
   "source": [
    "mod1 = Sequential()\n",
    "mod1.add(Embedding(VOCAB_SIZE, EMBED_SIZE))\n",
    "mod1.add(LSTM(128,return_sequences = True))\n",
    "mod1.add(layers.Dropout(0.5))\n",
    "mod1.add(LSTM(64,return_sequences = True))\n",
    "mod1.add(layers.Dropout(0.3))\n",
    "mod1.add(layers.Reshape((MAX_LEN,64,1)))\n",
    "mod1.add(layers.Flatten())\n",
    "mod1.add(layers.Dense(60,activation='relu'))\n",
    "mod1.add(layers.Dropout(0.3))\n",
    "mod1.add(layers.Dense(6,activation='softmax'))"
   ]
  },
  {
   "cell_type": "code",
   "execution_count": 25,
   "metadata": {},
   "outputs": [
    {
     "name": "stdout",
     "output_type": "stream",
     "text": [
      "Model: \"sequential\"\n",
      "_________________________________________________________________\n",
      "Layer (type)                 Output Shape              Param #   \n",
      "=================================================================\n",
      "embedding (Embedding)        (None, None, 128)         1554816   \n",
      "_________________________________________________________________\n",
      "lstm (LSTM)                  (None, None, 128)         131584    \n",
      "_________________________________________________________________\n",
      "dropout (Dropout)            (None, None, 128)         0         \n",
      "_________________________________________________________________\n",
      "lstm_1 (LSTM)                (None, None, 64)          49408     \n",
      "_________________________________________________________________\n",
      "dropout_1 (Dropout)          (None, None, 64)          0         \n",
      "_________________________________________________________________\n",
      "reshape (Reshape)            (None, 20, 64, 1)         0         \n",
      "_________________________________________________________________\n",
      "flatten (Flatten)            (None, 1280)              0         \n",
      "_________________________________________________________________\n",
      "dense (Dense)                (None, 60)                76860     \n",
      "_________________________________________________________________\n",
      "dropout_2 (Dropout)          (None, 60)                0         \n",
      "_________________________________________________________________\n",
      "dense_1 (Dense)              (None, 6)                 366       \n",
      "=================================================================\n",
      "Total params: 1,813,034\n",
      "Trainable params: 1,813,034\n",
      "Non-trainable params: 0\n",
      "_________________________________________________________________\n"
     ]
    }
   ],
   "source": [
    "mod1.summary()"
   ]
  },
  {
   "cell_type": "code",
   "execution_count": 26,
   "metadata": {},
   "outputs": [],
   "source": [
    "# keras.utils.plot_model(mod1)"
   ]
  },
  {
   "cell_type": "code",
   "execution_count": 28,
   "metadata": {
    "id": "SKvzYkhC7CHN"
   },
   "outputs": [],
   "source": [
    "filepath = '../../models/simple_LSTM0/model_{epoch:02d}_{val_accuracy:.2f}.hdf5'\n",
    "checkpoint = ModelCheckpoint(filepath, monitor='val_accuracy', verbose=1, save_best_only=True)\n"
   ]
  },
  {
   "cell_type": "code",
   "execution_count": 29,
   "metadata": {
    "colab": {
     "base_uri": "https://localhost:8080/"
    },
    "id": "KA1k9kZc290S",
    "outputId": "01d43e7d-f920-427c-a028-82e6e7303596"
   },
   "outputs": [
    {
     "name": "stdout",
     "output_type": "stream",
     "text": [
      "Epoch 1/80\n",
      "1448/1448 [==============================] - ETA: 0s - loss: 1.7867 - accuracy: 0.1926\n",
      "Epoch 00001: val_accuracy improved from -inf to 0.19530, saving model to ../../models/simple_LSTM0/model_01_0.20.hdf5\n",
      "1448/1448 [==============================] - 89s 61ms/step - loss: 1.7867 - accuracy: 0.1926 - val_loss: 1.7831 - val_accuracy: 0.1953\n",
      "Epoch 2/80\n",
      "1447/1448 [============================>.] - ETA: 0s - loss: 1.7787 - accuracy: 0.2045\n",
      "Epoch 00002: val_accuracy improved from 0.19530 to 0.20421, saving model to ../../models/simple_LSTM0/model_02_0.20.hdf5\n",
      "1448/1448 [==============================] - 88s 61ms/step - loss: 1.7787 - accuracy: 0.2046 - val_loss: 1.7763 - val_accuracy: 0.2042\n",
      "Epoch 3/80\n",
      "1447/1448 [============================>.] - ETA: 0s - loss: 1.7740 - accuracy: 0.2105\n",
      "Epoch 00003: val_accuracy did not improve from 0.20421\n",
      "1448/1448 [==============================] - 70s 48ms/step - loss: 1.7740 - accuracy: 0.2104 - val_loss: 1.7766 - val_accuracy: 0.2037\n",
      "Epoch 4/80\n",
      "1447/1448 [============================>.] - ETA: 0s - loss: 1.7706 - accuracy: 0.2147\n",
      "Epoch 00004: val_accuracy improved from 0.20421 to 0.20897, saving model to ../../models/simple_LSTM0/model_04_0.21.hdf5\n",
      "1448/1448 [==============================] - 70s 48ms/step - loss: 1.7707 - accuracy: 0.2147 - val_loss: 1.7731 - val_accuracy: 0.2090\n",
      "Epoch 5/80\n",
      "1447/1448 [============================>.] - ETA: 0s - loss: 1.7675 - accuracy: 0.2131\n",
      "Epoch 00005: val_accuracy improved from 0.20897 to 0.21664, saving model to ../../models/simple_LSTM0/model_05_0.22.hdf5\n",
      "1448/1448 [==============================] - 77s 53ms/step - loss: 1.7676 - accuracy: 0.2131 - val_loss: 1.7696 - val_accuracy: 0.2166\n",
      "Epoch 6/80\n",
      "1447/1448 [============================>.] - ETA: 0s - loss: 1.7623 - accuracy: 0.2198\n",
      "Epoch 00006: val_accuracy did not improve from 0.21664\n",
      "1448/1448 [==============================] - 77s 53ms/step - loss: 1.7623 - accuracy: 0.2198 - val_loss: 1.7693 - val_accuracy: 0.2130\n",
      "Epoch 7/80\n",
      "1447/1448 [============================>.] - ETA: 0s - loss: 1.7583 - accuracy: 0.2253\n",
      "Epoch 00007: val_accuracy improved from 0.21664 to 0.22192, saving model to ../../models/simple_LSTM0/model_07_0.22.hdf5\n",
      "1448/1448 [==============================] - 78s 54ms/step - loss: 1.7583 - accuracy: 0.2253 - val_loss: 1.7659 - val_accuracy: 0.2219\n",
      "Epoch 8/80\n",
      "1448/1448 [==============================] - ETA: 0s - loss: 1.7532 - accuracy: 0.2332\n",
      "Epoch 00008: val_accuracy did not improve from 0.22192\n",
      "1448/1448 [==============================] - 78s 54ms/step - loss: 1.7532 - accuracy: 0.2332 - val_loss: 1.7639 - val_accuracy: 0.2166\n",
      "Epoch 9/80\n",
      "1447/1448 [============================>.] - ETA: 0s - loss: 1.7491 - accuracy: 0.2342\n",
      "Epoch 00009: val_accuracy did not improve from 0.22192\n",
      "1448/1448 [==============================] - 81s 56ms/step - loss: 1.7491 - accuracy: 0.2342 - val_loss: 1.7634 - val_accuracy: 0.2209\n",
      "Epoch 10/80\n",
      "1447/1448 [============================>.] - ETA: 0s - loss: 1.7427 - accuracy: 0.2417\n",
      "Epoch 00010: val_accuracy improved from 0.22192 to 0.22348, saving model to ../../models/simple_LSTM0/model_10_0.22.hdf5\n",
      "1448/1448 [==============================] - 81s 56ms/step - loss: 1.7428 - accuracy: 0.2417 - val_loss: 1.7651 - val_accuracy: 0.2235\n",
      "Epoch 11/80\n",
      "1448/1448 [==============================] - ETA: 0s - loss: 1.7376 - accuracy: 0.2439\n",
      "Epoch 00011: val_accuracy improved from 0.22348 to 0.22721, saving model to ../../models/simple_LSTM0/model_11_0.23.hdf5\n",
      "1448/1448 [==============================] - 85s 59ms/step - loss: 1.7376 - accuracy: 0.2439 - val_loss: 1.7608 - val_accuracy: 0.2272\n",
      "Epoch 12/80\n",
      "1447/1448 [============================>.] - ETA: 0s - loss: 1.7319 - accuracy: 0.2507\n",
      "Epoch 00012: val_accuracy did not improve from 0.22721\n",
      "1448/1448 [==============================] - 85s 59ms/step - loss: 1.7319 - accuracy: 0.2506 - val_loss: 1.7617 - val_accuracy: 0.2263\n",
      "Epoch 13/80\n",
      "1447/1448 [============================>.] - ETA: 0s - loss: 1.7271 - accuracy: 0.2525\n",
      "Epoch 00013: val_accuracy did not improve from 0.22721\n",
      "1448/1448 [==============================] - 109s 75ms/step - loss: 1.7271 - accuracy: 0.2525 - val_loss: 1.7583 - val_accuracy: 0.2252\n",
      "Epoch 14/80\n",
      "1447/1448 [============================>.] - ETA: 0s - loss: 1.7188 - accuracy: 0.2582\n",
      "Epoch 00014: val_accuracy improved from 0.22721 to 0.22876, saving model to ../../models/simple_LSTM0/model_14_0.23.hdf5\n",
      "1448/1448 [==============================] - 89s 61ms/step - loss: 1.7188 - accuracy: 0.2582 - val_loss: 1.7594 - val_accuracy: 0.2288\n",
      "Epoch 15/80\n",
      "1447/1448 [============================>.] - ETA: 0s - loss: 1.7114 - accuracy: 0.2657\n",
      "Epoch 00015: val_accuracy improved from 0.22876 to 0.22897, saving model to ../../models/simple_LSTM0/model_15_0.23.hdf5\n",
      "1448/1448 [==============================] - 90s 62ms/step - loss: 1.7114 - accuracy: 0.2657 - val_loss: 1.7626 - val_accuracy: 0.2290\n",
      "Epoch 16/80\n",
      "1448/1448 [==============================] - ETA: 0s - loss: 1.7048 - accuracy: 0.2673\n",
      "Epoch 00016: val_accuracy did not improve from 0.22897\n",
      "1448/1448 [==============================] - 89s 61ms/step - loss: 1.7048 - accuracy: 0.2673 - val_loss: 1.7660 - val_accuracy: 0.2265\n",
      "Epoch 17/80\n",
      "1447/1448 [============================>.] - ETA: 0s - loss: 1.6969 - accuracy: 0.2735\n",
      "Epoch 00017: val_accuracy did not improve from 0.22897\n",
      "1448/1448 [==============================] - 88s 61ms/step - loss: 1.6970 - accuracy: 0.2734 - val_loss: 1.7655 - val_accuracy: 0.2251\n",
      "Epoch 18/80\n",
      "1447/1448 [============================>.] - ETA: 0s - loss: 1.6920 - accuracy: 0.2791\n",
      "Epoch 00018: val_accuracy did not improve from 0.22897\n",
      "1448/1448 [==============================] - 89s 62ms/step - loss: 1.6921 - accuracy: 0.2790 - val_loss: 1.7664 - val_accuracy: 0.2277\n",
      "Epoch 19/80\n",
      "1448/1448 [==============================] - ETA: 0s - loss: 1.6818 - accuracy: 0.2803\n",
      "Epoch 00019: val_accuracy did not improve from 0.22897\n",
      "1448/1448 [==============================] - 89s 62ms/step - loss: 1.6818 - accuracy: 0.2803 - val_loss: 1.7705 - val_accuracy: 0.2289\n",
      "Epoch 20/80\n",
      "1447/1448 [============================>.] - ETA: 0s - loss: 1.6741 - accuracy: 0.2874\n",
      "Epoch 00020: val_accuracy did not improve from 0.22897\n",
      "1448/1448 [==============================] - 98s 67ms/step - loss: 1.6741 - accuracy: 0.2874 - val_loss: 1.7737 - val_accuracy: 0.2285\n",
      "Epoch 21/80\n",
      "1447/1448 [============================>.] - ETA: 0s - loss: 1.6722 - accuracy: 0.2906\n",
      "Epoch 00021: val_accuracy did not improve from 0.22897\n",
      "1448/1448 [==============================] - 88s 61ms/step - loss: 1.6723 - accuracy: 0.2906 - val_loss: 1.7782 - val_accuracy: 0.2288\n",
      "Epoch 22/80\n",
      "1448/1448 [==============================] - ETA: 0s - loss: 1.6608 - accuracy: 0.2963\n",
      "Epoch 00022: val_accuracy did not improve from 0.22897\n",
      "1448/1448 [==============================] - 85s 59ms/step - loss: 1.6608 - accuracy: 0.2963 - val_loss: 1.7735 - val_accuracy: 0.2242\n",
      "Epoch 23/80\n",
      "1447/1448 [============================>.] - ETA: 0s - loss: 1.6527 - accuracy: 0.3047\n",
      "Epoch 00023: val_accuracy did not improve from 0.22897\n",
      "1448/1448 [==============================] - 83s 57ms/step - loss: 1.6526 - accuracy: 0.3047 - val_loss: 1.7832 - val_accuracy: 0.2237\n",
      "Epoch 24/80\n",
      "1447/1448 [============================>.] - ETA: 0s - loss: 1.6432 - accuracy: 0.3090\n",
      "Epoch 00024: val_accuracy did not improve from 0.22897\n",
      "1448/1448 [==============================] - 82s 57ms/step - loss: 1.6432 - accuracy: 0.3090 - val_loss: 1.7841 - val_accuracy: 0.2266\n",
      "Epoch 25/80\n",
      "1447/1448 [============================>.] - ETA: 0s - loss: 1.6357 - accuracy: 0.3118\n",
      "Epoch 00025: val_accuracy did not improve from 0.22897\n",
      "1448/1448 [==============================] - 81s 56ms/step - loss: 1.6357 - accuracy: 0.3119 - val_loss: 1.7929 - val_accuracy: 0.2229\n",
      "Epoch 26/80\n",
      "1447/1448 [============================>.] - ETA: 0s - loss: 1.6267 - accuracy: 0.3149\n",
      "Epoch 00026: val_accuracy did not improve from 0.22897\n",
      "1448/1448 [==============================] - 82s 56ms/step - loss: 1.6267 - accuracy: 0.3150 - val_loss: 1.7981 - val_accuracy: 0.2257\n",
      "Epoch 27/80\n",
      "1447/1448 [============================>.] - ETA: 0s - loss: 1.6198 - accuracy: 0.3178\n",
      "Epoch 00027: val_accuracy did not improve from 0.22897\n",
      "1448/1448 [==============================] - 80s 55ms/step - loss: 1.6198 - accuracy: 0.3177 - val_loss: 1.8018 - val_accuracy: 0.2274\n",
      "Epoch 28/80\n",
      "1447/1448 [============================>.] - ETA: 0s - loss: 1.6150 - accuracy: 0.3203\n",
      "Epoch 00028: val_accuracy improved from 0.22897 to 0.22959, saving model to ../../models/simple_LSTM0/model_28_0.23.hdf5\n",
      "1448/1448 [==============================] - 84s 58ms/step - loss: 1.6151 - accuracy: 0.3203 - val_loss: 1.8059 - val_accuracy: 0.2296\n",
      "Epoch 29/80\n",
      "1448/1448 [==============================] - ETA: 0s - loss: 1.6081 - accuracy: 0.3278\n",
      "Epoch 00029: val_accuracy did not improve from 0.22959\n",
      "1448/1448 [==============================] - 81s 56ms/step - loss: 1.6081 - accuracy: 0.3278 - val_loss: 1.8068 - val_accuracy: 0.2268\n",
      "Epoch 30/80\n",
      "1447/1448 [============================>.] - ETA: 0s - loss: 1.5996 - accuracy: 0.3294\n",
      "Epoch 00030: val_accuracy did not improve from 0.22959\n",
      "1448/1448 [==============================] - 84s 58ms/step - loss: 1.5995 - accuracy: 0.3294 - val_loss: 1.8122 - val_accuracy: 0.2244\n",
      "Epoch 31/80\n",
      "1447/1448 [============================>.] - ETA: 0s - loss: 1.5901 - accuracy: 0.3342\n",
      "Epoch 00031: val_accuracy improved from 0.22959 to 0.23021, saving model to ../../models/simple_LSTM0/model_31_0.23.hdf5\n",
      "1448/1448 [==============================] - 82s 56ms/step - loss: 1.5902 - accuracy: 0.3341 - val_loss: 1.8116 - val_accuracy: 0.2302\n",
      "Epoch 32/80\n",
      "1447/1448 [============================>.] - ETA: 0s - loss: 1.5823 - accuracy: 0.3388\n",
      "Epoch 00032: val_accuracy did not improve from 0.23021\n",
      "1448/1448 [==============================] - 80s 55ms/step - loss: 1.5823 - accuracy: 0.3388 - val_loss: 1.8258 - val_accuracy: 0.2270\n",
      "Epoch 33/80\n",
      "1447/1448 [============================>.] - ETA: 0s - loss: 1.5794 - accuracy: 0.3368\n",
      "Epoch 00033: val_accuracy did not improve from 0.23021\n",
      "1448/1448 [==============================] - 82s 57ms/step - loss: 1.5795 - accuracy: 0.3367 - val_loss: 1.8340 - val_accuracy: 0.2220\n",
      "Epoch 34/80\n",
      "1448/1448 [==============================] - ETA: 0s - loss: 1.5687 - accuracy: 0.3473\n",
      "Epoch 00034: val_accuracy did not improve from 0.23021\n",
      "1448/1448 [==============================] - 95s 65ms/step - loss: 1.5687 - accuracy: 0.3473 - val_loss: 1.8414 - val_accuracy: 0.2265\n",
      "Epoch 35/80\n",
      "1447/1448 [============================>.] - ETA: 0s - loss: 1.5634 - accuracy: 0.3459\n",
      "Epoch 00035: val_accuracy did not improve from 0.23021\n",
      "1448/1448 [==============================] - 81s 56ms/step - loss: 1.5634 - accuracy: 0.3459 - val_loss: 1.8311 - val_accuracy: 0.2274\n",
      "Epoch 36/80\n",
      "1447/1448 [============================>.] - ETA: 0s - loss: 1.5528 - accuracy: 0.3518\n",
      "Epoch 00036: val_accuracy improved from 0.23021 to 0.23125, saving model to ../../models/simple_LSTM0/model_36_0.23.hdf5\n",
      "1448/1448 [==============================] - 80s 56ms/step - loss: 1.5528 - accuracy: 0.3518 - val_loss: 1.8335 - val_accuracy: 0.2312\n",
      "Epoch 37/80\n",
      "1448/1448 [==============================] - ETA: 0s - loss: 1.5489 - accuracy: 0.3559\n",
      "Epoch 00037: val_accuracy did not improve from 0.23125\n",
      "1448/1448 [==============================] - 79s 55ms/step - loss: 1.5489 - accuracy: 0.3559 - val_loss: 1.8463 - val_accuracy: 0.2288\n",
      "Epoch 38/80\n",
      "1448/1448 [==============================] - ETA: 0s - loss: 1.5361 - accuracy: 0.3623\n",
      "Epoch 00038: val_accuracy improved from 0.23125 to 0.23249, saving model to ../../models/simple_LSTM0/model_38_0.23.hdf5\n",
      "1448/1448 [==============================] - 79s 55ms/step - loss: 1.5361 - accuracy: 0.3623 - val_loss: 1.8649 - val_accuracy: 0.2325\n",
      "Epoch 39/80\n",
      "1448/1448 [==============================] - ETA: 0s - loss: 1.5298 - accuracy: 0.3596\n",
      "Epoch 00039: val_accuracy did not improve from 0.23249\n",
      "1448/1448 [==============================] - 69s 48ms/step - loss: 1.5298 - accuracy: 0.3596 - val_loss: 1.8773 - val_accuracy: 0.2298\n",
      "Epoch 40/80\n",
      "1447/1448 [============================>.] - ETA: 0s - loss: 1.5229 - accuracy: 0.3660\n",
      "Epoch 00040: val_accuracy did not improve from 0.23249\n",
      "1448/1448 [==============================] - 70s 48ms/step - loss: 1.5231 - accuracy: 0.3659 - val_loss: 1.8793 - val_accuracy: 0.2220\n",
      "Epoch 41/80\n",
      "1448/1448 [==============================] - ETA: 0s - loss: 1.5154 - accuracy: 0.3734\n",
      "Epoch 00041: val_accuracy did not improve from 0.23249\n",
      "1448/1448 [==============================] - 69s 47ms/step - loss: 1.5154 - accuracy: 0.3734 - val_loss: 1.8990 - val_accuracy: 0.2259\n",
      "Epoch 42/80\n",
      "1447/1448 [============================>.] - ETA: 0s - loss: 1.5053 - accuracy: 0.3740\n",
      "Epoch 00042: val_accuracy did not improve from 0.23249\n",
      "1448/1448 [==============================] - 68s 47ms/step - loss: 1.5053 - accuracy: 0.3740 - val_loss: 1.9142 - val_accuracy: 0.2260\n",
      "Epoch 43/80\n",
      "1447/1448 [============================>.] - ETA: 0s - loss: 1.5001 - accuracy: 0.3771\n",
      "Epoch 00043: val_accuracy did not improve from 0.23249\n",
      "1448/1448 [==============================] - 67s 47ms/step - loss: 1.5000 - accuracy: 0.3771 - val_loss: 1.9066 - val_accuracy: 0.2222\n",
      "Epoch 44/80\n",
      "1448/1448 [==============================] - ETA: 0s - loss: 1.4928 - accuracy: 0.3793\n",
      "Epoch 00044: val_accuracy did not improve from 0.23249\n",
      "1448/1448 [==============================] - 66s 46ms/step - loss: 1.4928 - accuracy: 0.3793 - val_loss: 1.9276 - val_accuracy: 0.2257\n",
      "Epoch 45/80\n",
      "1448/1448 [==============================] - ETA: 0s - loss: 1.4851 - accuracy: 0.3852\n",
      "Epoch 00045: val_accuracy did not improve from 0.23249\n",
      "1448/1448 [==============================] - 67s 46ms/step - loss: 1.4851 - accuracy: 0.3852 - val_loss: 1.9279 - val_accuracy: 0.2216\n",
      "Epoch 46/80\n",
      "1448/1448 [==============================] - ETA: 0s - loss: 1.4809 - accuracy: 0.3891\n",
      "Epoch 00046: val_accuracy did not improve from 0.23249\n",
      "1448/1448 [==============================] - 67s 46ms/step - loss: 1.4809 - accuracy: 0.3891 - val_loss: 1.8964 - val_accuracy: 0.2268\n",
      "Epoch 47/80\n",
      "1447/1448 [============================>.] - ETA: 0s - loss: 1.4737 - accuracy: 0.3878\n",
      "Epoch 00047: val_accuracy did not improve from 0.23249\n",
      "1448/1448 [==============================] - 70s 49ms/step - loss: 1.4737 - accuracy: 0.3879 - val_loss: 1.9438 - val_accuracy: 0.2231\n",
      "Epoch 48/80\n",
      "1447/1448 [============================>.] - ETA: 0s - loss: 1.4706 - accuracy: 0.3928\n",
      "Epoch 00048: val_accuracy did not improve from 0.23249\n",
      "1448/1448 [==============================] - 69s 47ms/step - loss: 1.4707 - accuracy: 0.3928 - val_loss: 1.9426 - val_accuracy: 0.2285\n",
      "Epoch 49/80\n",
      "1448/1448 [==============================] - ETA: 0s - loss: 1.4635 - accuracy: 0.3919\n",
      "Epoch 00049: val_accuracy did not improve from 0.23249\n",
      "1448/1448 [==============================] - 69s 48ms/step - loss: 1.4635 - accuracy: 0.3919 - val_loss: 1.9431 - val_accuracy: 0.2254\n",
      "Epoch 50/80\n",
      "1447/1448 [============================>.] - ETA: 0s - loss: 1.4500 - accuracy: 0.3971\n",
      "Epoch 00050: val_accuracy did not improve from 0.23249\n",
      "1448/1448 [==============================] - 70s 49ms/step - loss: 1.4500 - accuracy: 0.3970 - val_loss: 1.9942 - val_accuracy: 0.2255\n",
      "Epoch 51/80\n",
      "1448/1448 [==============================] - ETA: 0s - loss: 1.4440 - accuracy: 0.4007\n",
      "Epoch 00051: val_accuracy did not improve from 0.23249\n",
      "1448/1448 [==============================] - 70s 49ms/step - loss: 1.4440 - accuracy: 0.4007 - val_loss: 1.9609 - val_accuracy: 0.2218\n",
      "Epoch 52/80\n",
      "1447/1448 [============================>.] - ETA: 0s - loss: 1.4384 - accuracy: 0.4030\n",
      "Epoch 00052: val_accuracy did not improve from 0.23249\n",
      "1448/1448 [==============================] - 70s 48ms/step - loss: 1.4384 - accuracy: 0.4030 - val_loss: 1.9763 - val_accuracy: 0.2235\n",
      "Epoch 53/80\n",
      "1448/1448 [==============================] - ETA: 0s - loss: 1.4294 - accuracy: 0.4103\n",
      "Epoch 00053: val_accuracy did not improve from 0.23249\n",
      "1448/1448 [==============================] - 70s 48ms/step - loss: 1.4294 - accuracy: 0.4103 - val_loss: 1.9904 - val_accuracy: 0.2218\n",
      "Epoch 54/80\n",
      "1448/1448 [==============================] - ETA: 0s - loss: 1.4234 - accuracy: 0.4120\n",
      "Epoch 00054: val_accuracy did not improve from 0.23249\n",
      "1448/1448 [==============================] - 68s 47ms/step - loss: 1.4234 - accuracy: 0.4120 - val_loss: 2.0302 - val_accuracy: 0.2264\n",
      "Epoch 55/80\n",
      "1448/1448 [==============================] - ETA: 0s - loss: 1.4168 - accuracy: 0.4171\n",
      "Epoch 00055: val_accuracy did not improve from 0.23249\n",
      "1448/1448 [==============================] - 69s 48ms/step - loss: 1.4168 - accuracy: 0.4171 - val_loss: 2.0075 - val_accuracy: 0.2241\n",
      "Epoch 56/80\n",
      "1447/1448 [============================>.] - ETA: 0s - loss: 1.4090 - accuracy: 0.4175\n",
      "Epoch 00056: val_accuracy did not improve from 0.23249\n",
      "1448/1448 [==============================] - 67s 46ms/step - loss: 1.4089 - accuracy: 0.4175 - val_loss: 2.0216 - val_accuracy: 0.2277\n",
      "Epoch 57/80\n",
      "1448/1448 [==============================] - ETA: 0s - loss: 1.4037 - accuracy: 0.4198\n",
      "Epoch 00057: val_accuracy did not improve from 0.23249\n",
      "1448/1448 [==============================] - 67s 46ms/step - loss: 1.4037 - accuracy: 0.4198 - val_loss: 2.0544 - val_accuracy: 0.2229\n",
      "Epoch 58/80\n",
      "1447/1448 [============================>.] - ETA: 0s - loss: 1.3935 - accuracy: 0.4255\n",
      "Epoch 00058: val_accuracy did not improve from 0.23249\n",
      "1448/1448 [==============================] - 67s 46ms/step - loss: 1.3936 - accuracy: 0.4254 - val_loss: 2.0509 - val_accuracy: 0.2266\n",
      "Epoch 59/80\n",
      "1447/1448 [============================>.] - ETA: 0s - loss: 1.3949 - accuracy: 0.4256\n",
      "Epoch 00059: val_accuracy did not improve from 0.23249\n",
      "1448/1448 [==============================] - 70s 48ms/step - loss: 1.3950 - accuracy: 0.4255 - val_loss: 2.0703 - val_accuracy: 0.2260\n",
      "Epoch 60/80\n",
      "1447/1448 [============================>.] - ETA: 0s - loss: 1.3808 - accuracy: 0.4284\n",
      "Epoch 00060: val_accuracy did not improve from 0.23249\n",
      "1448/1448 [==============================] - 70s 48ms/step - loss: 1.3807 - accuracy: 0.4283 - val_loss: 2.0692 - val_accuracy: 0.2257\n",
      "Epoch 61/80\n",
      "1447/1448 [============================>.] - ETA: 0s - loss: 1.3759 - accuracy: 0.4349\n",
      "Epoch 00061: val_accuracy did not improve from 0.23249\n",
      "1448/1448 [==============================] - 70s 49ms/step - loss: 1.3759 - accuracy: 0.4349 - val_loss: 2.1062 - val_accuracy: 0.2275\n",
      "Epoch 62/80\n",
      "1447/1448 [============================>.] - ETA: 0s - loss: 1.3690 - accuracy: 0.4375\n",
      "Epoch 00062: val_accuracy did not improve from 0.23249\n",
      "1448/1448 [==============================] - 70s 48ms/step - loss: 1.3693 - accuracy: 0.4374 - val_loss: 2.1248 - val_accuracy: 0.2324\n",
      "Epoch 63/80\n",
      "1448/1448 [==============================] - ETA: 0s - loss: 1.3663 - accuracy: 0.4346\n",
      "Epoch 00063: val_accuracy did not improve from 0.23249\n",
      "1448/1448 [==============================] - 71s 49ms/step - loss: 1.3663 - accuracy: 0.4346 - val_loss: 2.0758 - val_accuracy: 0.2300\n",
      "Epoch 64/80\n",
      "1447/1448 [============================>.] - ETA: 0s - loss: 1.3514 - accuracy: 0.4440\n",
      "Epoch 00064: val_accuracy did not improve from 0.23249\n",
      "1448/1448 [==============================] - 72s 50ms/step - loss: 1.3515 - accuracy: 0.4440 - val_loss: 2.1125 - val_accuracy: 0.2263\n",
      "Epoch 65/80\n",
      "1447/1448 [============================>.] - ETA: 0s - loss: 1.3525 - accuracy: 0.4426\n",
      "Epoch 00065: val_accuracy improved from 0.23249 to 0.23353, saving model to ../../models/simple_LSTM0/model_65_0.23.hdf5\n",
      "1448/1448 [==============================] - 71s 49ms/step - loss: 1.3526 - accuracy: 0.4425 - val_loss: 2.0614 - val_accuracy: 0.2335\n",
      "Epoch 66/80\n",
      "1447/1448 [============================>.] - ETA: 0s - loss: 1.3460 - accuracy: 0.4440\n",
      "Epoch 00066: val_accuracy did not improve from 0.23353\n",
      "1448/1448 [==============================] - 69s 47ms/step - loss: 1.3459 - accuracy: 0.4440 - val_loss: 2.1148 - val_accuracy: 0.2304\n",
      "Epoch 67/80\n",
      "1448/1448 [==============================] - ETA: 0s - loss: 1.3406 - accuracy: 0.4459\n",
      "Epoch 00067: val_accuracy did not improve from 0.23353\n",
      "1448/1448 [==============================] - 70s 48ms/step - loss: 1.3406 - accuracy: 0.4459 - val_loss: 2.1881 - val_accuracy: 0.2278\n",
      "Epoch 68/80\n",
      "1447/1448 [============================>.] - ETA: 0s - loss: 1.3317 - accuracy: 0.4472\n",
      "Epoch 00068: val_accuracy did not improve from 0.23353\n",
      "1448/1448 [==============================] - 67s 46ms/step - loss: 1.3317 - accuracy: 0.4472 - val_loss: 2.1907 - val_accuracy: 0.2283\n",
      "Epoch 69/80\n",
      "1447/1448 [============================>.] - ETA: 0s - loss: 1.3280 - accuracy: 0.4523\n",
      "Epoch 00069: val_accuracy did not improve from 0.23353\n",
      "1448/1448 [==============================] - 67s 46ms/step - loss: 1.3281 - accuracy: 0.4522 - val_loss: 2.2081 - val_accuracy: 0.2250\n",
      "Epoch 70/80\n",
      "1447/1448 [============================>.] - ETA: 0s - loss: 1.3141 - accuracy: 0.4570\n",
      "Epoch 00070: val_accuracy did not improve from 0.23353\n",
      "1448/1448 [==============================] - 67s 46ms/step - loss: 1.3141 - accuracy: 0.4570 - val_loss: 2.2505 - val_accuracy: 0.2286\n",
      "Epoch 71/80\n",
      "1447/1448 [============================>.] - ETA: 0s - loss: 1.3148 - accuracy: 0.4581\n",
      "Epoch 00071: val_accuracy did not improve from 0.23353\n",
      "1448/1448 [==============================] - 68s 47ms/step - loss: 1.3148 - accuracy: 0.4581 - val_loss: 2.2496 - val_accuracy: 0.2280\n",
      "Epoch 72/80\n",
      "1447/1448 [============================>.] - ETA: 0s - loss: 1.3015 - accuracy: 0.4627\n",
      "Epoch 00072: val_accuracy did not improve from 0.23353\n",
      "1448/1448 [==============================] - 72s 50ms/step - loss: 1.3015 - accuracy: 0.4627 - val_loss: 2.2796 - val_accuracy: 0.2260\n",
      "Epoch 73/80\n",
      "1448/1448 [==============================] - ETA: 0s - loss: 1.2930 - accuracy: 0.4675\n",
      "Epoch 00073: val_accuracy did not improve from 0.23353\n",
      "1448/1448 [==============================] - 74s 51ms/step - loss: 1.2930 - accuracy: 0.4675 - val_loss: 2.2719 - val_accuracy: 0.2277\n",
      "Epoch 74/80\n",
      "1448/1448 [==============================] - ETA: 0s - loss: 1.2929 - accuracy: 0.4721\n",
      "Epoch 00074: val_accuracy did not improve from 0.23353\n",
      "1448/1448 [==============================] - 74s 51ms/step - loss: 1.2929 - accuracy: 0.4721 - val_loss: 2.3134 - val_accuracy: 0.2247\n",
      "Epoch 75/80\n",
      "1448/1448 [==============================] - ETA: 0s - loss: 1.2868 - accuracy: 0.4697\n",
      "Epoch 00075: val_accuracy did not improve from 0.23353\n",
      "1448/1448 [==============================] - 82s 57ms/step - loss: 1.2868 - accuracy: 0.4697 - val_loss: 2.2672 - val_accuracy: 0.2240\n",
      "Epoch 76/80\n",
      "1447/1448 [============================>.] - ETA: 0s - loss: 1.2780 - accuracy: 0.4754\n",
      "Epoch 00076: val_accuracy did not improve from 0.23353\n",
      "1448/1448 [==============================] - 71s 49ms/step - loss: 1.2780 - accuracy: 0.4754 - val_loss: 2.3968 - val_accuracy: 0.2257\n",
      "Epoch 77/80\n",
      "1448/1448 [==============================] - ETA: 0s - loss: 1.2703 - accuracy: 0.4786\n",
      "Epoch 00077: val_accuracy did not improve from 0.23353\n",
      "1448/1448 [==============================] - 74s 51ms/step - loss: 1.2703 - accuracy: 0.4786 - val_loss: 2.3221 - val_accuracy: 0.2236\n",
      "Epoch 78/80\n",
      "1447/1448 [============================>.] - ETA: 0s - loss: 1.2716 - accuracy: 0.4784\n",
      "Epoch 00078: val_accuracy did not improve from 0.23353\n",
      "1448/1448 [==============================] - 73s 50ms/step - loss: 1.2716 - accuracy: 0.4784 - val_loss: 2.3420 - val_accuracy: 0.2212\n",
      "Epoch 79/80\n",
      "1447/1448 [============================>.] - ETA: 0s - loss: 1.2645 - accuracy: 0.4818\n",
      "Epoch 00079: val_accuracy did not improve from 0.23353\n",
      "1448/1448 [==============================] - 70s 48ms/step - loss: 1.2645 - accuracy: 0.4817 - val_loss: 2.3120 - val_accuracy: 0.2258\n",
      "Epoch 80/80\n",
      "1448/1448 [==============================] - ETA: 0s - loss: 1.2534 - accuracy: 0.4845\n",
      "Epoch 00080: val_accuracy did not improve from 0.23353\n",
      "1448/1448 [==============================] - 68s 47ms/step - loss: 1.2534 - accuracy: 0.4845 - val_loss: 2.3888 - val_accuracy: 0.2269\n"
     ]
    }
   ],
   "source": [
    "# recommended learning rate for Adam 5e-5, 3e-5, 2e-5\n",
    "LR = 5e-4\n",
    "EPOCHS = 80\n",
    "BATCH_SIZE = 20\n",
    "opt = keras.optimizers.Adam(learning_rate=LR)\n",
    "mod1.compile(optimizer=opt, loss='categorical_crossentropy', metrics=['accuracy'])\n",
    "\n",
    "mod_history = mod1.fit(X_train, y_train, \n",
    "            validation_data=(X_test, y_test), \n",
    "            epochs=EPOCHS, batch_size = BATCH_SIZE, verbose=1,\n",
    "            callbacks=[checkpoint])"
   ]
  },
  {
   "cell_type": "code",
   "execution_count": null,
   "metadata": {
    "colab": {
     "base_uri": "https://localhost:8080/"
    },
    "id": "4BdhEg9g02yC",
    "outputId": "102a02d0-d8be-4dcb-900f-088f7c2aa39f"
   },
   "outputs": [],
   "source": []
  },
  {
   "cell_type": "markdown",
   "metadata": {
    "id": "1J-Okj2NVbJT"
   },
   "source": [
    "## Testing"
   ]
  },
  {
   "cell_type": "code",
   "execution_count": 30,
   "metadata": {},
   "outputs": [
    {
     "data": {
      "text/html": [
       "<div>\n",
       "<style scoped>\n",
       "    .dataframe tbody tr th:only-of-type {\n",
       "        vertical-align: middle;\n",
       "    }\n",
       "\n",
       "    .dataframe tbody tr th {\n",
       "        vertical-align: top;\n",
       "    }\n",
       "\n",
       "    .dataframe thead th {\n",
       "        text-align: right;\n",
       "    }\n",
       "</style>\n",
       "<table border=\"1\" class=\"dataframe\">\n",
       "  <thead>\n",
       "    <tr style=\"text-align: right;\">\n",
       "      <th></th>\n",
       "      <th>text</th>\n",
       "      <th>label</th>\n",
       "    </tr>\n",
       "  </thead>\n",
       "  <tbody>\n",
       "    <tr>\n",
       "      <th>0</th>\n",
       "      <td>joey</td>\n",
       "      <td>0</td>\n",
       "    </tr>\n",
       "    <tr>\n",
       "      <th>1</th>\n",
       "      <td>my god</td>\n",
       "      <td>0</td>\n",
       "    </tr>\n",
       "    <tr>\n",
       "      <th>2</th>\n",
       "      <td>so i guess we should make it official huh</td>\n",
       "      <td>0</td>\n",
       "    </tr>\n",
       "    <tr>\n",
       "      <th>3</th>\n",
       "      <td>rach ross is here it has my friend ross ross</td>\n",
       "      <td>4</td>\n",
       "    </tr>\n",
       "    <tr>\n",
       "      <th>4</th>\n",
       "      <td>joey you</td>\n",
       "      <td>1</td>\n",
       "    </tr>\n",
       "    <tr>\n",
       "      <th>...</th>\n",
       "      <td>...</td>\n",
       "      <td>...</td>\n",
       "    </tr>\n",
       "    <tr>\n",
       "      <th>11842</th>\n",
       "      <td>it has be</td>\n",
       "      <td>3</td>\n",
       "    </tr>\n",
       "    <tr>\n",
       "      <th>11843</th>\n",
       "      <td>do you guys have to to the new house away or d...</td>\n",
       "      <td>0</td>\n",
       "    </tr>\n",
       "    <tr>\n",
       "      <th>11844</th>\n",
       "      <td>we some time</td>\n",
       "      <td>2</td>\n",
       "    </tr>\n",
       "    <tr>\n",
       "      <th>11845</th>\n",
       "      <td>should we some coffee</td>\n",
       "      <td>0</td>\n",
       "    </tr>\n",
       "    <tr>\n",
       "      <th>11846</th>\n",
       "      <td>sure where the end</td>\n",
       "      <td>3</td>\n",
       "    </tr>\n",
       "  </tbody>\n",
       "</table>\n",
       "<p>9268 rows × 2 columns</p>\n",
       "</div>"
      ],
      "text/plain": [
       "                                                    text  label\n",
       "0                                                   joey      0\n",
       "1                                                 my god      0\n",
       "2              so i guess we should make it official huh      0\n",
       "3           rach ross is here it has my friend ross ross      4\n",
       "4                                               joey you      1\n",
       "...                                                  ...    ...\n",
       "11842                                          it has be      3\n",
       "11843  do you guys have to to the new house away or d...      0\n",
       "11844                                       we some time      2\n",
       "11845                              should we some coffee      0\n",
       "11846                                 sure where the end      3\n",
       "\n",
       "[9268 rows x 2 columns]"
      ]
     },
     "execution_count": 30,
     "metadata": {},
     "output_type": "execute_result"
    }
   ],
   "source": [
    "data_unseen"
   ]
  },
  {
   "cell_type": "code",
   "execution_count": 31,
   "metadata": {},
   "outputs": [],
   "source": [
    "mod_use = keras.models.load_model('../../models/simple_LSTM0/model_65_0.23.hdf5')"
   ]
  },
  {
   "cell_type": "code",
   "execution_count": 32,
   "metadata": {},
   "outputs": [],
   "source": [
    "y_pred = mod_use.predict(X_unseen)\n",
    "y_pred_label = np.argmax(y_pred,axis = 1)\n",
    "y_true_label = data_unseen['label'].values"
   ]
  },
  {
   "cell_type": "code",
   "execution_count": null,
   "metadata": {},
   "outputs": [],
   "source": []
  },
  {
   "cell_type": "code",
   "execution_count": 33,
   "metadata": {
    "id": "r0bgWgl6cJQj"
   },
   "outputs": [
    {
     "name": "stdout",
     "output_type": "stream",
     "text": [
      "              precision    recall  f1-score   support\n",
      "\n",
      "           0       0.23      0.34      0.27      1599\n",
      "           1       0.22      0.20      0.21      1678\n",
      "           2       0.20      0.23      0.21      1507\n",
      "           3       0.22      0.18      0.20      1551\n",
      "           4       0.22      0.16      0.19      1513\n",
      "           5       0.18      0.14      0.16      1420\n",
      "\n",
      "    accuracy                           0.21      9268\n",
      "   macro avg       0.21      0.21      0.21      9268\n",
      "weighted avg       0.21      0.21      0.21      9268\n",
      "\n"
     ]
    },
    {
     "data": {
      "image/png": "[encoded data removed]",
      "text/plain": [
       "<Figure size 576x576 with 2 Axes>"
      ]
     },
     "metadata": {
      "needs_background": "light"
     },
     "output_type": "display_data"
    }
   ],
   "source": [
    "report = classification_report(y_true_label, y_pred_label)\n",
    "print(report)\n",
    "\n",
    "\n",
    "def plot_cm(labels, predictions, p=0.5):\n",
    "#     cm = confusion_matrix(labels, predictions)\n",
    "#     plt.figure(figsize=(5, 5))\n",
    "#     sns.heatmap(cm, annot=True, fmt=\"d\")\n",
    "    cm = confusion_matrix(labels, predictions)\n",
    "    cm = (cm.transpose()/cm.sum(axis = 1)).transpose()\n",
    "    plt.figure(figsize=(8, 8))\n",
    "    sns.heatmap(cm, annot=True, fmt=\".2%\")\n",
    "    plt.title(\"Confusion matrix (non-normalized))\")\n",
    "    plt.ylabel(\"Actual label\")\n",
    "    plt.xlabel(\"Predicted label\")\n",
    "\n",
    "\n",
    "plot_cm(y_true_label, y_pred_label)"
   ]
  },
  {
   "cell_type": "code",
   "execution_count": 36,
   "metadata": {
    "id": "r0bgWgl6cJQj"
   },
   "outputs": [
    {
     "name": "stdout",
     "output_type": "stream",
     "text": [
      "              precision    recall  f1-score   support\n",
      "\n",
      "           0       0.24      0.33      0.27      1356\n",
      "           1       0.24      0.22      0.23      1483\n",
      "           2       0.20      0.34      0.25      1340\n",
      "           3       0.23      0.20      0.21      1382\n",
      "           4       0.24      0.16      0.20      1347\n",
      "           5       0.17      0.07      0.10      1251\n",
      "\n",
      "    accuracy                           0.22      8159\n",
      "   macro avg       0.22      0.22      0.21      8159\n",
      "weighted avg       0.22      0.22      0.21      8159\n",
      "\n"
     ]
    },
    {
     "data": {
      "image/png": "[encoded data removed]",
      "text/plain": [
       "<Figure size 576x576 with 2 Axes>"
      ]
     },
     "metadata": {
      "needs_background": "light"
     },
     "output_type": "display_data"
    }
   ],
   "source": [
    "report = classification_report(y_true_label, y_pred_label)\n",
    "print(report)\n",
    "\n",
    "\n",
    "def plot_cm(labels, predictions, p=0.5):\n",
    "#     cm = confusion_matrix(labels, predictions)\n",
    "#     plt.figure(figsize=(5, 5))\n",
    "#     sns.heatmap(cm, annot=True, fmt=\"d\")\n",
    "    cm = confusion_matrix(labels, predictions)\n",
    "    cm = (cm.transpose()/cm.sum(axis = 1)).transpose()\n",
    "    plt.figure(figsize=(8, 8))\n",
    "    sns.heatmap(cm, annot=True, fmt=\".2%\")\n",
    "    plt.title(\"Confusion matrix (non-normalized))\")\n",
    "    plt.ylabel(\"Actual label\")\n",
    "    plt.xlabel(\"Predicted label\")\n",
    "\n",
    "\n",
    "plot_cm(y_true_label, y_pred_label)"
   ]
  },
  {
   "cell_type": "code",
   "execution_count": null,
   "metadata": {},
   "outputs": [],
   "source": []
  }
 ],
 "metadata": {
  "accelerator": "TPU",
  "colab": {
   "collapsed_sections": [],
   "name": "20200803_training_bert_TPU.ipynb",
   "provenance": []
  },
  "kernelspec": {
   "display_name": "joko-notebook",
   "language": "python",
   "name": "joko"
  },
  "language_info": {
   "codemirror_mode": {
    "name": "ipython",
    "version": 3
   },
   "file_extension": ".py",
   "mimetype": "text/x-python",
   "name": "python",
   "nbconvert_exporter": "python",
   "pygments_lexer": "ipython3",
   "version": "3.8.3"
  }
 },
 "nbformat": 4,
 "nbformat_minor": 4
}
