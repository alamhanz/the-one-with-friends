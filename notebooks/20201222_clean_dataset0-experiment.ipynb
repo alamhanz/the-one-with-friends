{
 "cells": [
  {
   "cell_type": "markdown",
   "metadata": {},
   "source": [
    "# Cleaning Dataset2\n",
    "\n",
    "Cleaning the dialogue on Friends. The cleaning is used for analysis like multi classification"
   ]
  },
  {
   "cell_type": "code",
   "execution_count": 1,
   "metadata": {},
   "outputs": [],
   "source": [
    "import pandas as pd\n",
    "import re\n",
    "import nltk\n",
    "from nltk.corpus import stopwords"
   ]
  },
  {
   "cell_type": "code",
   "execution_count": 2,
   "metadata": {},
   "outputs": [],
   "source": [
    "df_trcpt_all = pd.read_csv('../data/friends_all_dialogue.csv')"
   ]
  },
  {
   "cell_type": "code",
   "execution_count": null,
   "metadata": {},
   "outputs": [],
   "source": []
  },
  {
   "cell_type": "markdown",
   "metadata": {},
   "source": [
    "## Checking"
   ]
  },
  {
   "cell_type": "code",
   "execution_count": 3,
   "metadata": {},
   "outputs": [
    {
     "data": {
      "text/html": [
       "<div>\n",
       "<style scoped>\n",
       "    .dataframe tbody tr th:only-of-type {\n",
       "        vertical-align: middle;\n",
       "    }\n",
       "\n",
       "    .dataframe tbody tr th {\n",
       "        vertical-align: top;\n",
       "    }\n",
       "\n",
       "    .dataframe thead th {\n",
       "        text-align: right;\n",
       "    }\n",
       "</style>\n",
       "<table border=\"1\" class=\"dataframe\">\n",
       "  <thead>\n",
       "    <tr style=\"text-align: right;\">\n",
       "      <th></th>\n",
       "      <th>Unnamed: 0</th>\n",
       "      <th>eps</th>\n",
       "      <th>dialogue_ids</th>\n",
       "      <th>scenes_places</th>\n",
       "      <th>character</th>\n",
       "      <th>dialogue</th>\n",
       "    </tr>\n",
       "  </thead>\n",
       "  <tbody>\n",
       "    <tr>\n",
       "      <th>0</th>\n",
       "      <td>0</td>\n",
       "      <td>0101</td>\n",
       "      <td>0</td>\n",
       "      <td>[central perk]</td>\n",
       "      <td>monica</td>\n",
       "      <td>there's nothing to tell! he's just some guy ...</td>\n",
       "    </tr>\n",
       "    <tr>\n",
       "      <th>1</th>\n",
       "      <td>1</td>\n",
       "      <td>0101</td>\n",
       "      <td>1</td>\n",
       "      <td>[central perk]</td>\n",
       "      <td>joey</td>\n",
       "      <td>c'mon, you're going out with the guy! there'...</td>\n",
       "    </tr>\n",
       "    <tr>\n",
       "      <th>2</th>\n",
       "      <td>2</td>\n",
       "      <td>0101</td>\n",
       "      <td>2</td>\n",
       "      <td>[central perk]</td>\n",
       "      <td>chandler</td>\n",
       "      <td>all right joey, be nice.  so does he have a...</td>\n",
       "    </tr>\n",
       "    <tr>\n",
       "      <th>3</th>\n",
       "      <td>3</td>\n",
       "      <td>0101</td>\n",
       "      <td>3</td>\n",
       "      <td>[central perk]</td>\n",
       "      <td>phoebe</td>\n",
       "      <td>wait, does he eat chalk? (they all stare, be...</td>\n",
       "    </tr>\n",
       "    <tr>\n",
       "      <th>4</th>\n",
       "      <td>4</td>\n",
       "      <td>0101</td>\n",
       "      <td>4</td>\n",
       "      <td>[central perk]</td>\n",
       "      <td>phoebe</td>\n",
       "      <td>just, 'cause, i don't want her to go through...</td>\n",
       "    </tr>\n",
       "    <tr>\n",
       "      <th>...</th>\n",
       "      <td>...</td>\n",
       "      <td>...</td>\n",
       "      <td>...</td>\n",
       "      <td>...</td>\n",
       "      <td>...</td>\n",
       "      <td>...</td>\n",
       "    </tr>\n",
       "    <tr>\n",
       "      <th>61485</th>\n",
       "      <td>580</td>\n",
       "      <td>1017-1018</td>\n",
       "      <td>580</td>\n",
       "      <td>[monica and chandler's apartment]</td>\n",
       "      <td>chandler</td>\n",
       "      <td>oh, it's gonna be okay. (chandler hugs her. m...</td>\n",
       "    </tr>\n",
       "    <tr>\n",
       "      <th>61486</th>\n",
       "      <td>581</td>\n",
       "      <td>1017-1018</td>\n",
       "      <td>581</td>\n",
       "      <td>[monica and chandler's apartment]</td>\n",
       "      <td>rachel</td>\n",
       "      <td>(crying) do you guys have to go to the new ho...</td>\n",
       "    </tr>\n",
       "    <tr>\n",
       "      <th>61487</th>\n",
       "      <td>582</td>\n",
       "      <td>1017-1018</td>\n",
       "      <td>582</td>\n",
       "      <td>[monica and chandler's apartment]</td>\n",
       "      <td>monica</td>\n",
       "      <td>we got some time.</td>\n",
       "    </tr>\n",
       "    <tr>\n",
       "      <th>61488</th>\n",
       "      <td>583</td>\n",
       "      <td>1017-1018</td>\n",
       "      <td>583</td>\n",
       "      <td>[monica and chandler's apartment]</td>\n",
       "      <td>rachel</td>\n",
       "      <td>okay, should we get some coffee?</td>\n",
       "    </tr>\n",
       "    <tr>\n",
       "      <th>61489</th>\n",
       "      <td>584</td>\n",
       "      <td>1017-1018</td>\n",
       "      <td>584</td>\n",
       "      <td>[monica and chandler's apartment]</td>\n",
       "      <td>chandler</td>\n",
       "      <td>sure. where? (they all leave the apartment. j...</td>\n",
       "    </tr>\n",
       "  </tbody>\n",
       "</table>\n",
       "<p>61490 rows × 6 columns</p>\n",
       "</div>"
      ],
      "text/plain": [
       "       Unnamed: 0        eps  dialogue_ids                      scenes_places  \\\n",
       "0               0       0101             0                     [central perk]   \n",
       "1               1       0101             1                     [central perk]   \n",
       "2               2       0101             2                     [central perk]   \n",
       "3               3       0101             3                     [central perk]   \n",
       "4               4       0101             4                     [central perk]   \n",
       "...           ...        ...           ...                                ...   \n",
       "61485         580  1017-1018           580  [monica and chandler's apartment]   \n",
       "61486         581  1017-1018           581  [monica and chandler's apartment]   \n",
       "61487         582  1017-1018           582  [monica and chandler's apartment]   \n",
       "61488         583  1017-1018           583  [monica and chandler's apartment]   \n",
       "61489         584  1017-1018           584  [monica and chandler's apartment]   \n",
       "\n",
       "       character                                           dialogue  \n",
       "0         monica    there's nothing to tell! he's just some guy ...  \n",
       "1           joey    c'mon, you're going out with the guy! there'...  \n",
       "2       chandler     all right joey, be nice.  so does he have a...  \n",
       "3         phoebe    wait, does he eat chalk? (they all stare, be...  \n",
       "4         phoebe    just, 'cause, i don't want her to go through...  \n",
       "...          ...                                                ...  \n",
       "61485  chandler    oh, it's gonna be okay. (chandler hugs her. m...  \n",
       "61486    rachel    (crying) do you guys have to go to the new ho...  \n",
       "61487    monica                                   we got some time.  \n",
       "61488    rachel                    okay, should we get some coffee?  \n",
       "61489  chandler    sure. where? (they all leave the apartment. j...  \n",
       "\n",
       "[61490 rows x 6 columns]"
      ]
     },
     "execution_count": 3,
     "metadata": {},
     "output_type": "execute_result"
    }
   ],
   "source": [
    "df_trcpt_all"
   ]
  },
  {
   "cell_type": "code",
   "execution_count": null,
   "metadata": {},
   "outputs": [],
   "source": []
  },
  {
   "cell_type": "markdown",
   "metadata": {},
   "source": [
    "**1. Remove all text in \"()\" or \"[]\" and some punctuations**"
   ]
  },
  {
   "cell_type": "code",
   "execution_count": 4,
   "metadata": {},
   "outputs": [],
   "source": [
    "regex = re.compile(\"[\\(\\[].*?[\\)\\]]\")\n",
    "# re.sub(, \"\", x)\n",
    "# 'This is a sentence.  '"
   ]
  },
  {
   "cell_type": "code",
   "execution_count": 5,
   "metadata": {},
   "outputs": [],
   "source": [
    "# df_trcpt_all.sample(100).dialogue.tolist()[:35]"
   ]
  },
  {
   "cell_type": "code",
   "execution_count": 6,
   "metadata": {},
   "outputs": [
    {
     "data": {
      "text/plain": [
       "'  awwwww!!  awwwwwww!!!'"
      ]
     },
     "execution_count": 6,
     "metadata": {},
     "output_type": "execute_result"
    }
   ],
   "source": [
    "re.sub(regex,\"\", '  awwwww!! (they lean back all the way.) awwwwwww!!!')"
   ]
  },
  {
   "cell_type": "code",
   "execution_count": 7,
   "metadata": {},
   "outputs": [],
   "source": [
    "df_trcpt_all['dialogue2'] = df_trcpt_all.dialogue.apply(lambda x : re.sub(regex,\"\",x))\n",
    "df_trcpt_all['dialogue3'] = df_trcpt_all.dialogue2.apply(lambda x : x.replace('!',' ').replace('?',' ').replace('.',' ').replace(',',' ').replace(\"y'\",'you ').replace(\"d'\",'do '))\n",
    "df_trcpt_all['dialogue3'] = df_trcpt_all.dialogue3.apply(lambda x : x.replace('!',' ').replace('&gt;','').replace('\"','').replace('    ',' ').replace('   ',' ').replace('  ',' '))\n",
    "df_trcpt_all['dialogue3'] = df_trcpt_all.dialogue3.apply(lambda x : x.replace('`cause','because'))\n",
    "df_trcpt_all['dialogue3'] = df_trcpt_all.dialogue3.apply(lambda x : x.replace(\"'cause\",'because'))\n",
    "df_trcpt_all['dialogue3'] = df_trcpt_all.dialogue3.apply(lambda x : x.replace('...',' '))\n",
    "df_trcpt_all['dialogue3'] = df_trcpt_all.dialogue3.apply(lambda x : x.replace('..',' '))\n",
    "df_trcpt_all['dialogue3'] = df_trcpt_all.dialogue3.apply(lambda x : x.strip())"
   ]
  },
  {
   "cell_type": "code",
   "execution_count": 8,
   "metadata": {},
   "outputs": [
    {
     "data": {
      "text/plain": [
       "['we started saving again when you were dating richard and then that went to hell so we redid the kitchen',\n",
       " 'hey',\n",
       " 'oh you know what i was already trying to trade for ah well you',\n",
       " 'oh then you do know it so um what kind of things do you write about',\n",
       " 'hey',\n",
       " \"it's about your monkey it's alive\",\n",
       " \"she is kidding but don't ever disagree with her again okay now i'm kidding\",\n",
       " 'well i was going to but after i talked to you i talked to joey',\n",
       " 'you look beautiful this evening',\n",
       " \"because you've worked really hard and it's your job and you're a little crazy\",\n",
       " 'okay i knew i should have had this conversation with joey',\n",
       " \"no no pheebs we can't ok because\",\n",
       " 'let them win one',\n",
       " 'hey sophie',\n",
       " \"hmm hmm hmm me neither i've had a really good time too you know\",\n",
       " \"she's not crazy is she\",\n",
       " \"hey you're gettin' better i'm gonna keep this by the way\",\n",
       " \"that's not the point chandler the point is that you lied\",\n",
       " \"i'm sorry we we don't have your sheep\",\n",
       " 'here it is our last pizzas together as roommates',\n",
       " 'any luck',\n",
       " 'what',\n",
       " 'excuse me umm is vince here',\n",
       " 'so what',\n",
       " 'i am telling you ross she is definitely gonna fall in love with you again now is that what you want',\n",
       " 'did you not get a good enough look the other day',\n",
       " 'now these are are more realistic but perishable',\n",
       " \"uh listen phoebs i know you're not goin' in there but do you think it'd be alright if i went in and used his bathroom oh that's fine never mind cool snow kinda like a blank canvas\",\n",
       " \"sure will i've uh gotta go take care\",\n",
       " 'ah cheryl']"
      ]
     },
     "execution_count": 8,
     "metadata": {},
     "output_type": "execute_result"
    }
   ],
   "source": [
    "df_trcpt_all.sample(30)['dialogue3'].tolist()"
   ]
  },
  {
   "cell_type": "code",
   "execution_count": null,
   "metadata": {},
   "outputs": [],
   "source": []
  },
  {
   "cell_type": "markdown",
   "metadata": {},
   "source": [
    "**2. standardized some contractions words**\n",
    "\n",
    "like y'know, can't"
   ]
  },
  {
   "cell_type": "code",
   "execution_count": 9,
   "metadata": {},
   "outputs": [],
   "source": [
    "contractions = {\n",
    "    \"ain't\": \"am not\",\n",
    "    \"aren't\": \"are not\",\n",
    "    \"can't\": \"cannot\",\n",
    "    \"can't've\": \"cannot have\",\n",
    "    \"'cause\": \"because\",\n",
    "    \"could've\": \"could have\",\n",
    "    \"couldn't\": \"could not\",\n",
    "    \"couldn't've\": \"could not have\",\n",
    "    \"didn't\": \"did not\",\n",
    "    \"doesn't\": \"does not\",\n",
    "    \"don't\": \"do not\",\n",
    "    \"hadn't\": \"had not\",\n",
    "    \"hadn't've\": \"had not have\",\n",
    "    \"hasn't\": \"has not\",\n",
    "    \"haven't\": \"have not\",\n",
    "    \"he'd\": \"he had\",\n",
    "    \"he'd've\": \"he would have\",\n",
    "    \"he'll\": \"he shall\",\n",
    "    \"he'll've\": \"he shall have\",\n",
    "    \"he's\": \"he has\",\n",
    "    \"how'd\": \"how did\",\n",
    "    \"how'd'y\": \"how do you\",\n",
    "    \"how'll\": \"how will\",\n",
    "    \"how's\": \"how has\",\n",
    "    \"i'd\": \"I had\",\n",
    "    \"i'd've\": \"I would have\",\n",
    "    \"i'll\": \"I shall\",\n",
    "    \"i'll've\": \"I shall have\",\n",
    "    \"i'm\": \"I am\",\n",
    "    \"i've\": \"I have\",\n",
    "    \"isn't\": \"is not\",\n",
    "    \"it'd\": \"it had\",\n",
    "    \"it'd've\": \"it would have\",\n",
    "    \"it'll\": \"it shall\",\n",
    "    \"it'll've\": \"it shall have\",\n",
    "    \"it's\": \"it has\",\n",
    "    \"let's\": \"let us\",\n",
    "    \"ma'am\": \"madam\",\n",
    "    \"mayn't\": \"may not\",\n",
    "    \"might've\": \"might have\",\n",
    "    \"mightn't\": \"might not\",\n",
    "    \"mightn't've\": \"might not have\",\n",
    "    \"must've\": \"must have\",\n",
    "    \"mustn't\": \"must not\",\n",
    "    \"mustn't've\": \"must not have\",\n",
    "    \"needn't\": \"need not\",\n",
    "    \"needn't've\": \"need not have\",\n",
    "    \"o'clock\": \"of the clock\",\n",
    "    \"oughtn't\": \"ought not\",\n",
    "    \"oughtn't've\": \"ought not have\",\n",
    "    \"shan't\": \"shall not\",\n",
    "    \"sha'n't\": \"shall not\",\n",
    "    \"shan't've\": \"shall not have\",\n",
    "    \"she'd\": \"she had\",\n",
    "    \"she'd've\": \"she would have\",\n",
    "    \"she'll\": \"she shall\",\n",
    "    \"she'll've\": \"she shall have\",\n",
    "    \"she's\": \"she has\",\n",
    "    \"should've\": \"should have\",\n",
    "    \"shouldn't\": \"should not\",\n",
    "    \"shouldn't've\": \"should not have\",\n",
    "    \"so've\": \"so have\",\n",
    "    \"so's\": \"so as\",\n",
    "    \"that'd\": \"that would\",\n",
    "    \"that'd've\": \"that would have\",\n",
    "    \"that's\": \"that has\",\n",
    "    \"there'd\": \"there had\",\n",
    "    \"there'd've\": \"there would have\",\n",
    "    \"there's\": \"there has\",\n",
    "    \"they'd\": \"they had\",\n",
    "    \"they'd've\": \"they would have\",\n",
    "    \"they'll\": \"they shall\",\n",
    "    \"they'll've\": \"they shall have\",\n",
    "    \"they're\": \"they are\",\n",
    "    \"they've\": \"they have\",\n",
    "    \"to've\": \"to have\",\n",
    "    \"wasn't\": \"was not\",\n",
    "    \"we'd\": \"we had\",\n",
    "    \"we'd've\": \"we would have\",\n",
    "    \"we'll\": \"we will\",\n",
    "    \"we'll've\": \"we will have\",\n",
    "    \"we're\": \"we are\",\n",
    "    \"we've\": \"we have\",\n",
    "    \"weren't\": \"were not\",\n",
    "    \"what'll\": \"what shall\",\n",
    "    \"what'll've\": \"what shall have\",\n",
    "    \"what're\": \"what are\",\n",
    "    \"what's\": \"what is\",\n",
    "    \"what've\": \"what have\",\n",
    "    \"when's\": \"when has\",\n",
    "    \"when've\": \"when have\",\n",
    "    \"where'd\": \"where did\",\n",
    "    \"where's\": \"where has\",\n",
    "    \"where've\": \"where have\",\n",
    "    \"who'll\": \"who shall\",\n",
    "    \"who'll've\": \"who shall have\",\n",
    "    \"who's\": \"who has\",\n",
    "    \"who've\": \"who have\",\n",
    "    \"why's\": \"why has\",\n",
    "    \"why've\": \"why have\",\n",
    "    \"will've\": \"will have\",\n",
    "    \"won't\": \"will not\",\n",
    "    \"won't've\": \"will not have\",\n",
    "    \"would've\": \"would have\",\n",
    "    \"wouldn't\": \"would not\",\n",
    "    \"wouldn't've\": \"would not have\",\n",
    "    \"y'all\": \"you all\",\n",
    "    \"y'all'd\": \"you all would\",\n",
    "    \"y'all'd've\": \"you all would have\",\n",
    "    \"y'all're\": \"you all are\",\n",
    "    \"y'all've\": \"you all have\",\n",
    "    \"you'd\": \"you had\",\n",
    "    \"you'd've\": \"you would have\",\n",
    "    \"you'll\": \"you shall\",\n",
    "    \"you'll've\": \"you shall have\",\n",
    "    \"you're\": \"you are\",\n",
    "    \"you've\": \"you have\",\n",
    "    \"y'know\": \"you know\",\n",
    "    \"c'mon\" : \"come on\",\n",
    "    \"doin'\" : \"doing\",\n",
    "    \"talkin'\" : \"talking\",\n",
    "    \"c'mere\" : \"come here\",\n",
    "    \"watchin'\" : \"watching\",\n",
    "    \"'you're\" : \"you are\",\n",
    "    \"there're\" : \"there are\",\n",
    "    \"'til\" : \"until\",\n",
    "    \"'till\" : \"until\",\n",
    "    \"'kay\" : \"okay\",\n",
    "    \"g'night\" : \"good night\",\n",
    "    \"what'd\": \"what would\",\n",
    "    \"'i'm\" : \"i am\",\n",
    "    \"'bout\" : \"about\",\n",
    "    \"how've\" : \"how have\",\n",
    "    \"ya'\": \"you\",\n",
    "    \"'somethin'\":\"something\",\n",
    "    \"'i'll\" : \"i will\"\n",
    "}"
   ]
  },
  {
   "cell_type": "code",
   "execution_count": 10,
   "metadata": {},
   "outputs": [],
   "source": [
    "all_sentences=df_trcpt_all['dialogue3'].tolist()"
   ]
  },
  {
   "cell_type": "code",
   "execution_count": 11,
   "metadata": {},
   "outputs": [],
   "source": [
    "all_abb = []\n",
    "for sen in all_sentences:\n",
    "    words = sen.split(' ')\n",
    "    abb = [w for w in words if \"'\" in w]\n",
    "    all_abb += abb\n",
    "    \n",
    "all_abb = pd.Series(all_abb).value_counts()\n"
   ]
  },
  {
   "cell_type": "code",
   "execution_count": 12,
   "metadata": {},
   "outputs": [],
   "source": [
    "all_abb_keys = list(all_abb.keys())"
   ]
  },
  {
   "cell_type": "code",
   "execution_count": 13,
   "metadata": {},
   "outputs": [],
   "source": [
    "all_abb_keys1 = [i for i in all_abb_keys if i in contractions.keys()]\n",
    "all_abb_keys2 = [i for i in all_abb_keys if \"'s\" in i and i not in all_abb_keys1]+[\"cousin's\",\"erwin's\",\"stain's\",\"fixin's\",\"ludwin's\",\"greenstein's\"]\n",
    "all_abb_keys3 = [i for i in all_abb_keys if \"in'\" in i and i.endswith(\"'\") and i not in all_abb_keys1+all_abb_keys2]\n",
    "all_abb_keys4 = [i for i in all_abb_keys if \"'ll\" in i and not i.startswith(\"'\") and i not in all_abb_keys1+all_abb_keys2+all_abb_keys3]\n",
    "all_abb_keys5 = [i for i in all_abb_keys if i not in all_abb_keys1+all_abb_keys2+all_abb_keys3+all_abb_keys4]"
   ]
  },
  {
   "cell_type": "code",
   "execution_count": 14,
   "metadata": {},
   "outputs": [],
   "source": [
    "all_abb_val1 = [contractions[i] for i in all_abb_keys1]\n",
    "all_abb_val2 = [i[:-2] for i in all_abb_keys2]\n",
    "all_abb_val3 = [i[:-1]+'g' for i in all_abb_keys3]\n",
    "all_abb_val4 = [i[:-3]+' will' for i in all_abb_keys4]"
   ]
  },
  {
   "cell_type": "code",
   "execution_count": 15,
   "metadata": {},
   "outputs": [],
   "source": [
    "con_D = dict(zip(all_abb_keys1 + all_abb_keys2 + all_abb_keys3 + all_abb_keys4, \n",
    "    all_abb_val1 + all_abb_val2 + all_abb_val3 + all_abb_val4))"
   ]
  },
  {
   "cell_type": "code",
   "execution_count": 16,
   "metadata": {},
   "outputs": [],
   "source": [
    "def change_contractions(sentence,con_dict = con_D):\n",
    "    word_list = sentence.split(' ')\n",
    "    new_sen = []\n",
    "    for w in word_list:\n",
    "        if w not in con_dict.keys():\n",
    "            new_sen.append(w.lower())\n",
    "        else:\n",
    "            new_sen.append(con_dict[w].lower())\n",
    "            \n",
    "    return ' '.join(new_sen).replace(\"'\",' ').replace('    ',' ').replace('   ',' ').replace('  ',' ').strip()"
   ]
  },
  {
   "cell_type": "code",
   "execution_count": 17,
   "metadata": {},
   "outputs": [],
   "source": [
    "df_trcpt_all['dialogue4'] = df_trcpt_all['dialogue3'].apply(lambda x : change_contractions(x))"
   ]
  },
  {
   "cell_type": "code",
   "execution_count": 18,
   "metadata": {},
   "outputs": [],
   "source": [
    "# df_trcpt_all[['dialogue3','dialogue4']].sample(10)"
   ]
  },
  {
   "cell_type": "code",
   "execution_count": null,
   "metadata": {},
   "outputs": [],
   "source": []
  },
  {
   "cell_type": "markdown",
   "metadata": {},
   "source": [
    "**3. Remove stop words**"
   ]
  },
  {
   "cell_type": "code",
   "execution_count": 31,
   "metadata": {},
   "outputs": [],
   "source": [
    "# stopwords.words('english')\n",
    "en_stops = stopwords.words('english')\n",
    "# en_stops"
   ]
  },
  {
   "cell_type": "code",
   "execution_count": 20,
   "metadata": {},
   "outputs": [],
   "source": [
    "# def consonant(x):\n",
    "#     cc0 = ''\n",
    "#     vocals = ['a','i','u','e','o','']\n",
    "#     cnt = 0\n",
    "#     for cc in x:\n",
    "#         if cc0 not in vocals and cc not in vocals:\n",
    "#             cnt += 1\n",
    "#         cc0 = cc\n",
    "#     return cnt"
   ]
  },
  {
   "cell_type": "code",
   "execution_count": 21,
   "metadata": {},
   "outputs": [],
   "source": [
    "def lose_stop(sentence):\n",
    "    word_list = sentence.split(' ')\n",
    "    new_sen = []\n",
    "    for w in word_list:\n",
    "        if w not in en_stops:\n",
    "            new_sen.append(w)\n",
    "            \n",
    "    return ' '.join(new_sen)"
   ]
  },
  {
   "cell_type": "code",
   "execution_count": 22,
   "metadata": {},
   "outputs": [],
   "source": [
    "# df_trcpt_all['dialogue4'] = df_trcpt_all.dialogue4.apply(lambda x : lose_stop(x))"
   ]
  },
  {
   "cell_type": "code",
   "execution_count": 23,
   "metadata": {},
   "outputs": [
    {
     "data": {
      "text/html": [
       "<div>\n",
       "<style scoped>\n",
       "    .dataframe tbody tr th:only-of-type {\n",
       "        vertical-align: middle;\n",
       "    }\n",
       "\n",
       "    .dataframe tbody tr th {\n",
       "        vertical-align: top;\n",
       "    }\n",
       "\n",
       "    .dataframe thead th {\n",
       "        text-align: right;\n",
       "    }\n",
       "</style>\n",
       "<table border=\"1\" class=\"dataframe\">\n",
       "  <thead>\n",
       "    <tr style=\"text-align: right;\">\n",
       "      <th></th>\n",
       "      <th>Unnamed: 0</th>\n",
       "      <th>eps</th>\n",
       "      <th>dialogue_ids</th>\n",
       "      <th>scenes_places</th>\n",
       "      <th>character</th>\n",
       "      <th>dialogue</th>\n",
       "      <th>dialogue2</th>\n",
       "      <th>dialogue3</th>\n",
       "      <th>dialogue4</th>\n",
       "    </tr>\n",
       "  </thead>\n",
       "  <tbody>\n",
       "    <tr>\n",
       "      <th>0</th>\n",
       "      <td>0</td>\n",
       "      <td>0101</td>\n",
       "      <td>0</td>\n",
       "      <td>[central perk]</td>\n",
       "      <td>monica</td>\n",
       "      <td>there's nothing to tell! he's just some guy ...</td>\n",
       "      <td>there's nothing to tell! he's just some guy ...</td>\n",
       "      <td>there's nothing to tell he's just some guy i w...</td>\n",
       "      <td>there has nothing to tell he has just some guy...</td>\n",
       "    </tr>\n",
       "    <tr>\n",
       "      <th>1</th>\n",
       "      <td>1</td>\n",
       "      <td>0101</td>\n",
       "      <td>1</td>\n",
       "      <td>[central perk]</td>\n",
       "      <td>joey</td>\n",
       "      <td>c'mon, you're going out with the guy! there'...</td>\n",
       "      <td>c'mon, you're going out with the guy! there'...</td>\n",
       "      <td>c'mon you're going out with the guy there's go...</td>\n",
       "      <td>come on you are going out with the guy there h...</td>\n",
       "    </tr>\n",
       "    <tr>\n",
       "      <th>2</th>\n",
       "      <td>2</td>\n",
       "      <td>0101</td>\n",
       "      <td>2</td>\n",
       "      <td>[central perk]</td>\n",
       "      <td>chandler</td>\n",
       "      <td>all right joey, be nice.  so does he have a...</td>\n",
       "      <td>all right joey, be nice.  so does he have a...</td>\n",
       "      <td>all right joey be nice so does he have a hump ...</td>\n",
       "      <td>all right joey be nice so does he have a hump ...</td>\n",
       "    </tr>\n",
       "    <tr>\n",
       "      <th>3</th>\n",
       "      <td>3</td>\n",
       "      <td>0101</td>\n",
       "      <td>3</td>\n",
       "      <td>[central perk]</td>\n",
       "      <td>phoebe</td>\n",
       "      <td>wait, does he eat chalk? (they all stare, be...</td>\n",
       "      <td>wait, does he eat chalk?</td>\n",
       "      <td>wait does he eat chalk</td>\n",
       "      <td>wait does he eat chalk</td>\n",
       "    </tr>\n",
       "    <tr>\n",
       "      <th>4</th>\n",
       "      <td>4</td>\n",
       "      <td>0101</td>\n",
       "      <td>4</td>\n",
       "      <td>[central perk]</td>\n",
       "      <td>phoebe</td>\n",
       "      <td>just, 'cause, i don't want her to go through...</td>\n",
       "      <td>just, 'cause, i don't want her to go through...</td>\n",
       "      <td>just because i don't want her to go through wh...</td>\n",
       "      <td>just because i do not want her to go through w...</td>\n",
       "    </tr>\n",
       "  </tbody>\n",
       "</table>\n",
       "</div>"
      ],
      "text/plain": [
       "   Unnamed: 0   eps  dialogue_ids   scenes_places character  \\\n",
       "0           0  0101             0  [central perk]    monica   \n",
       "1           1  0101             1  [central perk]      joey   \n",
       "2           2  0101             2  [central perk]  chandler   \n",
       "3           3  0101             3  [central perk]    phoebe   \n",
       "4           4  0101             4  [central perk]    phoebe   \n",
       "\n",
       "                                            dialogue  \\\n",
       "0    there's nothing to tell! he's just some guy ...   \n",
       "1    c'mon, you're going out with the guy! there'...   \n",
       "2     all right joey, be nice.  so does he have a...   \n",
       "3    wait, does he eat chalk? (they all stare, be...   \n",
       "4    just, 'cause, i don't want her to go through...   \n",
       "\n",
       "                                           dialogue2  \\\n",
       "0    there's nothing to tell! he's just some guy ...   \n",
       "1    c'mon, you're going out with the guy! there'...   \n",
       "2     all right joey, be nice.  so does he have a...   \n",
       "3                          wait, does he eat chalk?    \n",
       "4    just, 'cause, i don't want her to go through...   \n",
       "\n",
       "                                           dialogue3  \\\n",
       "0  there's nothing to tell he's just some guy i w...   \n",
       "1  c'mon you're going out with the guy there's go...   \n",
       "2  all right joey be nice so does he have a hump ...   \n",
       "3                             wait does he eat chalk   \n",
       "4  just because i don't want her to go through wh...   \n",
       "\n",
       "                                           dialogue4  \n",
       "0  there has nothing to tell he has just some guy...  \n",
       "1  come on you are going out with the guy there h...  \n",
       "2  all right joey be nice so does he have a hump ...  \n",
       "3                             wait does he eat chalk  \n",
       "4  just because i do not want her to go through w...  "
      ]
     },
     "execution_count": 23,
     "metadata": {},
     "output_type": "execute_result"
    }
   ],
   "source": [
    "df_trcpt_all.head()"
   ]
  },
  {
   "cell_type": "code",
   "execution_count": null,
   "metadata": {},
   "outputs": [],
   "source": []
  },
  {
   "cell_type": "markdown",
   "metadata": {},
   "source": [
    "**4. character clean**"
   ]
  },
  {
   "cell_type": "code",
   "execution_count": 24,
   "metadata": {},
   "outputs": [],
   "source": [
    "df_trcpt_all.character = df_trcpt_all.character.str.strip()"
   ]
  },
  {
   "cell_type": "code",
   "execution_count": 25,
   "metadata": {},
   "outputs": [
    {
     "data": {
      "text/plain": [
       "rachel        9108\n",
       "ross          9055\n",
       "chandler      8355\n",
       "monica        8276\n",
       "joey          8176\n",
       "phoebe        7396\n",
       "mike           359\n",
       "all            338\n",
       "richard        254\n",
       "janice         217\n",
       "mr. geller     206\n",
       "Name: character, dtype: int64"
      ]
     },
     "execution_count": 25,
     "metadata": {},
     "output_type": "execute_result"
    }
   ],
   "source": [
    "char_dlg_cnt = df_trcpt_all.character.value_counts()\n",
    "char_dlg_cnt[(char_dlg_cnt<100000)&(char_dlg_cnt>200)]"
   ]
  },
  {
   "cell_type": "code",
   "execution_count": 26,
   "metadata": {},
   "outputs": [],
   "source": [
    "char_change = {'rach' : 'rachel',\n",
    "'mnca' : 'monica',\n",
    "'phoe' : 'phoebe'}\n",
    "\n",
    "\n",
    "df_trcpt_all.character = df_trcpt_all.character.replace(char_change)"
   ]
  },
  {
   "cell_type": "code",
   "execution_count": 27,
   "metadata": {},
   "outputs": [
    {
     "data": {
      "text/plain": [
       "rachel        9248\n",
       "ross          9055\n",
       "monica        8383\n",
       "chandler      8355\n",
       "joey          8176\n",
       "phoebe        7476\n",
       "mike           359\n",
       "all            338\n",
       "richard        254\n",
       "janice         217\n",
       "mr. geller     206\n",
       "Name: character, dtype: int64"
      ]
     },
     "execution_count": 27,
     "metadata": {},
     "output_type": "execute_result"
    }
   ],
   "source": [
    "char_dlg_cnt = df_trcpt_all.character.value_counts()\n",
    "char_dlg_cnt[(char_dlg_cnt<100000)&(char_dlg_cnt>200)]"
   ]
  },
  {
   "cell_type": "code",
   "execution_count": null,
   "metadata": {},
   "outputs": [],
   "source": []
  },
  {
   "cell_type": "markdown",
   "metadata": {},
   "source": [
    "## Save"
   ]
  },
  {
   "cell_type": "code",
   "execution_count": 28,
   "metadata": {},
   "outputs": [
    {
     "data": {
      "text/html": [
       "<div>\n",
       "<style scoped>\n",
       "    .dataframe tbody tr th:only-of-type {\n",
       "        vertical-align: middle;\n",
       "    }\n",
       "\n",
       "    .dataframe tbody tr th {\n",
       "        vertical-align: top;\n",
       "    }\n",
       "\n",
       "    .dataframe thead th {\n",
       "        text-align: right;\n",
       "    }\n",
       "</style>\n",
       "<table border=\"1\" class=\"dataframe\">\n",
       "  <thead>\n",
       "    <tr style=\"text-align: right;\">\n",
       "      <th></th>\n",
       "      <th>Unnamed: 0</th>\n",
       "      <th>eps</th>\n",
       "      <th>dialogue_ids</th>\n",
       "      <th>scenes_places</th>\n",
       "      <th>character</th>\n",
       "      <th>dialogue</th>\n",
       "      <th>dialogue2</th>\n",
       "      <th>dialogue3</th>\n",
       "      <th>dialogue4</th>\n",
       "    </tr>\n",
       "  </thead>\n",
       "  <tbody>\n",
       "    <tr>\n",
       "      <th>0</th>\n",
       "      <td>0</td>\n",
       "      <td>0101</td>\n",
       "      <td>0</td>\n",
       "      <td>[central perk]</td>\n",
       "      <td>monica</td>\n",
       "      <td>there's nothing to tell! he's just some guy ...</td>\n",
       "      <td>there's nothing to tell! he's just some guy ...</td>\n",
       "      <td>there's nothing to tell he's just some guy i w...</td>\n",
       "      <td>there has nothing to tell he has just some guy...</td>\n",
       "    </tr>\n",
       "    <tr>\n",
       "      <th>1</th>\n",
       "      <td>1</td>\n",
       "      <td>0101</td>\n",
       "      <td>1</td>\n",
       "      <td>[central perk]</td>\n",
       "      <td>joey</td>\n",
       "      <td>c'mon, you're going out with the guy! there'...</td>\n",
       "      <td>c'mon, you're going out with the guy! there'...</td>\n",
       "      <td>c'mon you're going out with the guy there's go...</td>\n",
       "      <td>come on you are going out with the guy there h...</td>\n",
       "    </tr>\n",
       "    <tr>\n",
       "      <th>2</th>\n",
       "      <td>2</td>\n",
       "      <td>0101</td>\n",
       "      <td>2</td>\n",
       "      <td>[central perk]</td>\n",
       "      <td>chandler</td>\n",
       "      <td>all right joey, be nice.  so does he have a...</td>\n",
       "      <td>all right joey, be nice.  so does he have a...</td>\n",
       "      <td>all right joey be nice so does he have a hump ...</td>\n",
       "      <td>all right joey be nice so does he have a hump ...</td>\n",
       "    </tr>\n",
       "    <tr>\n",
       "      <th>3</th>\n",
       "      <td>3</td>\n",
       "      <td>0101</td>\n",
       "      <td>3</td>\n",
       "      <td>[central perk]</td>\n",
       "      <td>phoebe</td>\n",
       "      <td>wait, does he eat chalk? (they all stare, be...</td>\n",
       "      <td>wait, does he eat chalk?</td>\n",
       "      <td>wait does he eat chalk</td>\n",
       "      <td>wait does he eat chalk</td>\n",
       "    </tr>\n",
       "    <tr>\n",
       "      <th>4</th>\n",
       "      <td>4</td>\n",
       "      <td>0101</td>\n",
       "      <td>4</td>\n",
       "      <td>[central perk]</td>\n",
       "      <td>phoebe</td>\n",
       "      <td>just, 'cause, i don't want her to go through...</td>\n",
       "      <td>just, 'cause, i don't want her to go through...</td>\n",
       "      <td>just because i don't want her to go through wh...</td>\n",
       "      <td>just because i do not want her to go through w...</td>\n",
       "    </tr>\n",
       "  </tbody>\n",
       "</table>\n",
       "</div>"
      ],
      "text/plain": [
       "   Unnamed: 0   eps  dialogue_ids   scenes_places character  \\\n",
       "0           0  0101             0  [central perk]    monica   \n",
       "1           1  0101             1  [central perk]      joey   \n",
       "2           2  0101             2  [central perk]  chandler   \n",
       "3           3  0101             3  [central perk]    phoebe   \n",
       "4           4  0101             4  [central perk]    phoebe   \n",
       "\n",
       "                                            dialogue  \\\n",
       "0    there's nothing to tell! he's just some guy ...   \n",
       "1    c'mon, you're going out with the guy! there'...   \n",
       "2     all right joey, be nice.  so does he have a...   \n",
       "3    wait, does he eat chalk? (they all stare, be...   \n",
       "4    just, 'cause, i don't want her to go through...   \n",
       "\n",
       "                                           dialogue2  \\\n",
       "0    there's nothing to tell! he's just some guy ...   \n",
       "1    c'mon, you're going out with the guy! there'...   \n",
       "2     all right joey, be nice.  so does he have a...   \n",
       "3                          wait, does he eat chalk?    \n",
       "4    just, 'cause, i don't want her to go through...   \n",
       "\n",
       "                                           dialogue3  \\\n",
       "0  there's nothing to tell he's just some guy i w...   \n",
       "1  c'mon you're going out with the guy there's go...   \n",
       "2  all right joey be nice so does he have a hump ...   \n",
       "3                             wait does he eat chalk   \n",
       "4  just because i don't want her to go through wh...   \n",
       "\n",
       "                                           dialogue4  \n",
       "0  there has nothing to tell he has just some guy...  \n",
       "1  come on you are going out with the guy there h...  \n",
       "2  all right joey be nice so does he have a hump ...  \n",
       "3                             wait does he eat chalk  \n",
       "4  just because i do not want her to go through w...  "
      ]
     },
     "execution_count": 28,
     "metadata": {},
     "output_type": "execute_result"
    }
   ],
   "source": [
    "df_trcpt_all.head()"
   ]
  },
  {
   "cell_type": "code",
   "execution_count": 29,
   "metadata": {},
   "outputs": [],
   "source": [
    "del df_trcpt_all['Unnamed: 0']"
   ]
  },
  {
   "cell_type": "code",
   "execution_count": 30,
   "metadata": {},
   "outputs": [],
   "source": [
    "df_trcpt_all.to_csv('../data/friends_all_dialogue_semi_cln2.csv',index=False)"
   ]
  },
  {
   "cell_type": "code",
   "execution_count": null,
   "metadata": {},
   "outputs": [],
   "source": []
  }
 ],
 "metadata": {
  "kernelspec": {
   "display_name": "p37",
   "language": "python",
   "name": "p37"
  },
  "language_info": {
   "codemirror_mode": {
    "name": "ipython",
    "version": 3
   },
   "file_extension": ".py",
   "mimetype": "text/x-python",
   "name": "python",
   "nbconvert_exporter": "python",
   "pygments_lexer": "ipython3",
   "version": "3.7.9"
  }
 },
 "nbformat": 4,
 "nbformat_minor": 4
}
