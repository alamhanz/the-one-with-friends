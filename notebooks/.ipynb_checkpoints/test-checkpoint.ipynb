{
 "cells": [
  {
   "cell_type": "code",
   "execution_count": 2,
   "metadata": {},
   "outputs": [],
   "source": [
    "import string\n",
    "import re\n",
    "from nltk.tokenize import word_tokenize\n",
    "from itertools import chain\n",
    "import pandas as pd\n",
    "\n",
    "def text_cleansing(title):\n",
    "    table = str.maketrans(string.punctuation, ' '*len(string.punctuation)) #map punctuation to space\n",
    "    \n",
    "    title = title.lower()\n",
    "    title = re.sub('(\\d+)([a-zA-Z]+)', r'\\1 \\2', title)\n",
    "    title = re.sub('\\]', r' ] ', title)\n",
    "    title = re.sub('\\[', r' [ ', title)\n",
    "    title = title.translate(table)\n",
    "    title = re.sub(r'[^(a-z|A-Z|0-9)]', ' ', title)\n",
    "    title = \" \".join(title.split())\n",
    "    \n",
    "    return title\n",
    "  \n",
    "def data_text_prep(d_train):\n",
    "    d_train = d_train.copy()\n",
    "  \n",
    "    # tokenize\n",
    "    d_train.loc[:, 'text_token'] = d_train.text.apply(word_tokenize)\n",
    "    \n",
    "    title_token = list(chain(*d_train.text_token.tolist()))\n",
    "    vocab_token = list(set(title_token))\n",
    "\n",
    "    word2idx = dict((w, k) for k, w in enumerate(vocab_token, 2))\n",
    "    idx2word = dict((k, w) for k, w in enumerate(vocab_token, 2))\n",
    "\n",
    "    word2idx['<UNK>'] = 1\n",
    "    idx2word[1] = '<UNK>'\n",
    "    word2idx['<PAD>'] = 0\n",
    "    idx2word[0] = '<PAD>'\n",
    "    \n",
    "    return word2idx, idx2word\n",
    "\n",
    "\n"
   ]
  },
  {
   "cell_type": "code",
   "execution_count": 19,
   "metadata": {},
   "outputs": [],
   "source": [
    "df = pd.DataFrame({'text':['mengapa saya tidak ditest','saya cuma test', 'karena test ada di saya',]})"
   ]
  },
  {
   "cell_type": "code",
   "execution_count": 20,
   "metadata": {},
   "outputs": [],
   "source": [
    "df.loc[:, 'text_token'] = df.text.apply(word_tokenize)"
   ]
  },
  {
   "cell_type": "code",
   "execution_count": 21,
   "metadata": {},
   "outputs": [
    {
     "data": {
      "text/html": [
       "<div>\n",
       "<style scoped>\n",
       "    .dataframe tbody tr th:only-of-type {\n",
       "        vertical-align: middle;\n",
       "    }\n",
       "\n",
       "    .dataframe tbody tr th {\n",
       "        vertical-align: top;\n",
       "    }\n",
       "\n",
       "    .dataframe thead th {\n",
       "        text-align: right;\n",
       "    }\n",
       "</style>\n",
       "<table border=\"1\" class=\"dataframe\">\n",
       "  <thead>\n",
       "    <tr style=\"text-align: right;\">\n",
       "      <th></th>\n",
       "      <th>text</th>\n",
       "      <th>text_token</th>\n",
       "    </tr>\n",
       "  </thead>\n",
       "  <tbody>\n",
       "    <tr>\n",
       "      <th>0</th>\n",
       "      <td>mengapa saya tidak ditest</td>\n",
       "      <td>[mengapa, saya, tidak, ditest]</td>\n",
       "    </tr>\n",
       "    <tr>\n",
       "      <th>1</th>\n",
       "      <td>saya cuma test</td>\n",
       "      <td>[saya, cuma, test]</td>\n",
       "    </tr>\n",
       "    <tr>\n",
       "      <th>2</th>\n",
       "      <td>karena test ada di saya</td>\n",
       "      <td>[karena, test, ada, di, saya]</td>\n",
       "    </tr>\n",
       "  </tbody>\n",
       "</table>\n",
       "</div>"
      ],
      "text/plain": [
       "                        text                      text_token\n",
       "0  mengapa saya tidak ditest  [mengapa, saya, tidak, ditest]\n",
       "1             saya cuma test              [saya, cuma, test]\n",
       "2    karena test ada di saya   [karena, test, ada, di, saya]"
      ]
     },
     "execution_count": 21,
     "metadata": {},
     "output_type": "execute_result"
    }
   ],
   "source": [
    "df"
   ]
  },
  {
   "cell_type": "code",
   "execution_count": 27,
   "metadata": {},
   "outputs": [],
   "source": [
    "title_token = list(chain(*df.text_token.tolist()))\n",
    "vocab_token = list(set(title_token))\n",
    "vocab_token.sort()"
   ]
  },
  {
   "cell_type": "code",
   "execution_count": 28,
   "metadata": {},
   "outputs": [
    {
     "data": {
      "text/plain": [
       "['mengapa',\n",
       " 'saya',\n",
       " 'tidak',\n",
       " 'ditest',\n",
       " 'saya',\n",
       " 'cuma',\n",
       " 'test',\n",
       " 'karena',\n",
       " 'test',\n",
       " 'ada',\n",
       " 'di',\n",
       " 'saya']"
      ]
     },
     "execution_count": 28,
     "metadata": {},
     "output_type": "execute_result"
    }
   ],
   "source": [
    "title_token"
   ]
  },
  {
   "cell_type": "code",
   "execution_count": 29,
   "metadata": {},
   "outputs": [
    {
     "data": {
      "text/plain": [
       "['ada', 'cuma', 'di', 'ditest', 'karena', 'mengapa', 'saya', 'test', 'tidak']"
      ]
     },
     "execution_count": 29,
     "metadata": {},
     "output_type": "execute_result"
    }
   ],
   "source": [
    "vocab_token"
   ]
  },
  {
   "cell_type": "code",
   "execution_count": 25,
   "metadata": {},
   "outputs": [],
   "source": [
    "word2idx = dict((w, k) for k, w in enumerate(vocab_token, 2))"
   ]
  },
  {
   "cell_type": "code",
   "execution_count": 26,
   "metadata": {},
   "outputs": [
    {
     "data": {
      "text/plain": [
       "{'mengapa': 2,\n",
       " 'test': 3,\n",
       " 'saya': 4,\n",
       " 'cuma': 5,\n",
       " 'tidak': 6,\n",
       " 'ditest': 7,\n",
       " 'karena': 8,\n",
       " 'di': 9,\n",
       " 'ada': 10}"
      ]
     },
     "execution_count": 26,
     "metadata": {},
     "output_type": "execute_result"
    }
   ],
   "source": [
    "word2idx"
   ]
  },
  {
   "cell_type": "code",
   "execution_count": null,
   "metadata": {},
   "outputs": [],
   "source": []
  }
 ],
 "metadata": {
  "kernelspec": {
   "display_name": "p37",
   "language": "python",
   "name": "p37"
  },
  "language_info": {
   "codemirror_mode": {
    "name": "ipython",
    "version": 3
   },
   "file_extension": ".py",
   "mimetype": "text/x-python",
   "name": "python",
   "nbconvert_exporter": "python",
   "pygments_lexer": "ipython3",
   "version": "3.7.9"
  }
 },
 "nbformat": 4,
 "nbformat_minor": 4
}
