{
 "cells": [
  {
   "cell_type": "markdown",
   "metadata": {},
   "source": [
    "# Cleaning Dataset\n",
    "\n",
    "Cleaning the dialogue on Friends. The cleaning is used for analysis like multi classification"
   ]
  },
  {
   "cell_type": "code",
   "execution_count": 1,
   "metadata": {},
   "outputs": [],
   "source": [
    "import pandas as pd\n",
    "import re\n",
    "import nltk\n",
    "from nltk.corpus import stopwords"
   ]
  },
  {
   "cell_type": "code",
   "execution_count": 2,
   "metadata": {},
   "outputs": [],
   "source": [
    "df_trcpt_all = pd.read_csv('../data/friends_all_dialogue.csv')"
   ]
  },
  {
   "cell_type": "code",
   "execution_count": null,
   "metadata": {},
   "outputs": [],
   "source": []
  },
  {
   "cell_type": "markdown",
   "metadata": {},
   "source": [
    "## Checking"
   ]
  },
  {
   "cell_type": "code",
   "execution_count": 3,
   "metadata": {},
   "outputs": [
    {
     "data": {
      "text/html": [
       "<div>\n",
       "<style scoped>\n",
       "    .dataframe tbody tr th:only-of-type {\n",
       "        vertical-align: middle;\n",
       "    }\n",
       "\n",
       "    .dataframe tbody tr th {\n",
       "        vertical-align: top;\n",
       "    }\n",
       "\n",
       "    .dataframe thead th {\n",
       "        text-align: right;\n",
       "    }\n",
       "</style>\n",
       "<table border=\"1\" class=\"dataframe\">\n",
       "  <thead>\n",
       "    <tr style=\"text-align: right;\">\n",
       "      <th></th>\n",
       "      <th>Unnamed: 0</th>\n",
       "      <th>eps</th>\n",
       "      <th>dialogue_ids</th>\n",
       "      <th>scenes_places</th>\n",
       "      <th>character</th>\n",
       "      <th>dialogue</th>\n",
       "    </tr>\n",
       "  </thead>\n",
       "  <tbody>\n",
       "    <tr>\n",
       "      <th>0</th>\n",
       "      <td>0</td>\n",
       "      <td>0101</td>\n",
       "      <td>0</td>\n",
       "      <td>[central perk]</td>\n",
       "      <td>monica</td>\n",
       "      <td>there's nothing to tell! he's just some guy ...</td>\n",
       "    </tr>\n",
       "    <tr>\n",
       "      <th>1</th>\n",
       "      <td>1</td>\n",
       "      <td>0101</td>\n",
       "      <td>1</td>\n",
       "      <td>[central perk]</td>\n",
       "      <td>joey</td>\n",
       "      <td>c'mon, you're going out with the guy! there'...</td>\n",
       "    </tr>\n",
       "    <tr>\n",
       "      <th>2</th>\n",
       "      <td>2</td>\n",
       "      <td>0101</td>\n",
       "      <td>2</td>\n",
       "      <td>[central perk]</td>\n",
       "      <td>chandler</td>\n",
       "      <td>all right joey, be nice.  so does he have a...</td>\n",
       "    </tr>\n",
       "    <tr>\n",
       "      <th>3</th>\n",
       "      <td>3</td>\n",
       "      <td>0101</td>\n",
       "      <td>3</td>\n",
       "      <td>[central perk]</td>\n",
       "      <td>phoebe</td>\n",
       "      <td>wait, does he eat chalk? (they all stare, be...</td>\n",
       "    </tr>\n",
       "    <tr>\n",
       "      <th>4</th>\n",
       "      <td>4</td>\n",
       "      <td>0101</td>\n",
       "      <td>4</td>\n",
       "      <td>[central perk]</td>\n",
       "      <td>phoebe</td>\n",
       "      <td>just, 'cause, i don't want her to go through...</td>\n",
       "    </tr>\n",
       "    <tr>\n",
       "      <th>...</th>\n",
       "      <td>...</td>\n",
       "      <td>...</td>\n",
       "      <td>...</td>\n",
       "      <td>...</td>\n",
       "      <td>...</td>\n",
       "      <td>...</td>\n",
       "    </tr>\n",
       "    <tr>\n",
       "      <th>61485</th>\n",
       "      <td>580</td>\n",
       "      <td>1017-1018</td>\n",
       "      <td>580</td>\n",
       "      <td>[monica and chandler's apartment]</td>\n",
       "      <td>chandler</td>\n",
       "      <td>oh, it's gonna be okay. (chandler hugs her. m...</td>\n",
       "    </tr>\n",
       "    <tr>\n",
       "      <th>61486</th>\n",
       "      <td>581</td>\n",
       "      <td>1017-1018</td>\n",
       "      <td>581</td>\n",
       "      <td>[monica and chandler's apartment]</td>\n",
       "      <td>rachel</td>\n",
       "      <td>(crying) do you guys have to go to the new ho...</td>\n",
       "    </tr>\n",
       "    <tr>\n",
       "      <th>61487</th>\n",
       "      <td>582</td>\n",
       "      <td>1017-1018</td>\n",
       "      <td>582</td>\n",
       "      <td>[monica and chandler's apartment]</td>\n",
       "      <td>monica</td>\n",
       "      <td>we got some time.</td>\n",
       "    </tr>\n",
       "    <tr>\n",
       "      <th>61488</th>\n",
       "      <td>583</td>\n",
       "      <td>1017-1018</td>\n",
       "      <td>583</td>\n",
       "      <td>[monica and chandler's apartment]</td>\n",
       "      <td>rachel</td>\n",
       "      <td>okay, should we get some coffee?</td>\n",
       "    </tr>\n",
       "    <tr>\n",
       "      <th>61489</th>\n",
       "      <td>584</td>\n",
       "      <td>1017-1018</td>\n",
       "      <td>584</td>\n",
       "      <td>[monica and chandler's apartment]</td>\n",
       "      <td>chandler</td>\n",
       "      <td>sure. where? (they all leave the apartment. j...</td>\n",
       "    </tr>\n",
       "  </tbody>\n",
       "</table>\n",
       "<p>61490 rows × 6 columns</p>\n",
       "</div>"
      ],
      "text/plain": [
       "       Unnamed: 0        eps  dialogue_ids                      scenes_places  \\\n",
       "0               0       0101             0                     [central perk]   \n",
       "1               1       0101             1                     [central perk]   \n",
       "2               2       0101             2                     [central perk]   \n",
       "3               3       0101             3                     [central perk]   \n",
       "4               4       0101             4                     [central perk]   \n",
       "...           ...        ...           ...                                ...   \n",
       "61485         580  1017-1018           580  [monica and chandler's apartment]   \n",
       "61486         581  1017-1018           581  [monica and chandler's apartment]   \n",
       "61487         582  1017-1018           582  [monica and chandler's apartment]   \n",
       "61488         583  1017-1018           583  [monica and chandler's apartment]   \n",
       "61489         584  1017-1018           584  [monica and chandler's apartment]   \n",
       "\n",
       "       character                                           dialogue  \n",
       "0         monica    there's nothing to tell! he's just some guy ...  \n",
       "1           joey    c'mon, you're going out with the guy! there'...  \n",
       "2       chandler     all right joey, be nice.  so does he have a...  \n",
       "3         phoebe    wait, does he eat chalk? (they all stare, be...  \n",
       "4         phoebe    just, 'cause, i don't want her to go through...  \n",
       "...          ...                                                ...  \n",
       "61485  chandler    oh, it's gonna be okay. (chandler hugs her. m...  \n",
       "61486    rachel    (crying) do you guys have to go to the new ho...  \n",
       "61487    monica                                   we got some time.  \n",
       "61488    rachel                    okay, should we get some coffee?  \n",
       "61489  chandler    sure. where? (they all leave the apartment. j...  \n",
       "\n",
       "[61490 rows x 6 columns]"
      ]
     },
     "execution_count": 3,
     "metadata": {},
     "output_type": "execute_result"
    }
   ],
   "source": [
    "df_trcpt_all"
   ]
  },
  {
   "cell_type": "code",
   "execution_count": null,
   "metadata": {},
   "outputs": [],
   "source": []
  },
  {
   "cell_type": "markdown",
   "metadata": {},
   "source": [
    "**1. Remove all text in \"()\" or \"[]\" and some punctuations**"
   ]
  },
  {
   "cell_type": "code",
   "execution_count": 4,
   "metadata": {},
   "outputs": [],
   "source": [
    "regex = re.compile(\"[\\(\\[].*?[\\)\\]]\")\n",
    "# re.sub(, \"\", x)\n",
    "# 'This is a sentence.  '"
   ]
  },
  {
   "cell_type": "code",
   "execution_count": 5,
   "metadata": {},
   "outputs": [],
   "source": [
    "# df_trcpt_all.sample(100).dialogue.tolist()[:35]"
   ]
  },
  {
   "cell_type": "code",
   "execution_count": 6,
   "metadata": {},
   "outputs": [
    {
     "data": {
      "text/plain": [
       "'  awwwww!!  awwwwwww!!!'"
      ]
     },
     "execution_count": 6,
     "metadata": {},
     "output_type": "execute_result"
    }
   ],
   "source": [
    "re.sub(regex,\"\", '  awwwww!! (they lean back all the way.) awwwwwww!!!')"
   ]
  },
  {
   "cell_type": "code",
   "execution_count": 7,
   "metadata": {},
   "outputs": [],
   "source": [
    "df_trcpt_all['dialogue2'] = df_trcpt_all.dialogue.apply(lambda x : re.sub(regex,\"\",x))\n",
    "df_trcpt_all['dialogue3'] = df_trcpt_all.dialogue2.apply(lambda x : x.replace('!',' ').replace('?',' ').replace('.',' ').replace(',',' '))\n",
    "df_trcpt_all['dialogue3'] = df_trcpt_all.dialogue3.apply(lambda x : x.replace('!',' ').replace('    ',' ').replace('   ',' ').replace('  ',' '))\n",
    "df_trcpt_all['dialogue3'] = df_trcpt_all.dialogue3.apply(lambda x : x.replace('`cause','because'))\n",
    "df_trcpt_all['dialogue3'] = df_trcpt_all.dialogue3.apply(lambda x : x.replace(\"'cause\",'because'))\n",
    "df_trcpt_all['dialogue3'] = df_trcpt_all.dialogue3.apply(lambda x : x.replace('...',' '))\n",
    "df_trcpt_all['dialogue3'] = df_trcpt_all.dialogue3.apply(lambda x : x.replace('..',' '))\n",
    "df_trcpt_all['dialogue3'] = df_trcpt_all.dialogue3.apply(lambda x : x.strip())"
   ]
  },
  {
   "cell_type": "code",
   "execution_count": 8,
   "metadata": {},
   "outputs": [
    {
     "data": {
      "text/plain": [
       "['next',\n",
       " \"wait joey joey that doesn't mean that that you're in love with me\",\n",
       " \"why don't you look in the mirror scrud\",\n",
       " \"this sucks i didn't know i had to stay up all night before i went to this stupid sleep clinic i'm so tired\",\n",
       " 'stop it stop it before someone gets really hurt here david you should just go',\n",
       " \"no listen i'm not gonna go through this with you again okay just once i wanna beat when you can't blame it on the broken nose the buzzer or the fact that you thought you were getting mono let's just call this tie score and it's halftime\",\n",
       " 'seriously sir my brains all over the wall',\n",
       " 'but again simmons go on',\n",
       " \"i'm sweeping\",\n",
       " \"oh yeah scared the hell out of me i thought we'd lost you forever pheebs you lie down\",\n",
       " 'yeah you should really',\n",
       " \"oh umm i i don't know if i want to wear a woman's shirt\",\n",
       " 'yeah',\n",
       " \"yeah well m maybe you're right\",\n",
       " 'this is the single greatest day of my professional career gunther six glasses',\n",
       " \"i am really not going i don't get it they already live together why do they need to get married\",\n",
       " \"think it'll work\",\n",
       " 'ooh hey emma daddy has some presents for you okay okay i want you to wait right here come here sweetie',\n",
       " \"what how come that you don't have to go\",\n",
       " \"yeah well maybe she should've spent a little less time decorating and a little more time in the bedroom\",\n",
       " 'that is incredible you are the master those you who are quicker than some already know that monica is the one who catches it ]',\n",
       " \"that's right but if you don't want to know\",\n",
       " 'wait',\n",
       " \"yeah tell ya what let's not invite any of the anthropologists only the dinosaur dudes\",\n",
       " \"well it's just interesting you know because no one will ever know because no one can experience both\",\n",
       " \"he's just trying to show joey how much he means to him\",\n",
       " 'oh great can you believe i found it on the second floor',\n",
       " 'oh god',\n",
       " 'okay commercial break',\n",
       " \"listen er i need to ask you a favor but you can't tell monica anything about it\"]"
      ]
     },
     "execution_count": 8,
     "metadata": {},
     "output_type": "execute_result"
    }
   ],
   "source": [
    "df_trcpt_all.sample(30)['dialogue3'].tolist()"
   ]
  },
  {
   "cell_type": "code",
   "execution_count": null,
   "metadata": {},
   "outputs": [],
   "source": []
  },
  {
   "cell_type": "markdown",
   "metadata": {},
   "source": [
    "**2. standardized some contractions words**\n",
    "\n",
    "like y'know, can't"
   ]
  },
  {
   "cell_type": "code",
   "execution_count": 9,
   "metadata": {},
   "outputs": [],
   "source": [
    "# contractions = {\n",
    "# \"ain't\": \"am not\",\n",
    "# \"aren't\": \"are not\",\n",
    "# \"can't\": \"cannot\",\n",
    "# \"can't've\": \"cannot have\",\n",
    "# \"'cause\": \"because\",\n",
    "# \"could've\": \"could have\",\n",
    "# \"couldn't\": \"could not\",\n",
    "# \"couldn't've\": \"could not have\",\n",
    "# \"didn't\": \"did not\",\n",
    "# \"doesn't\": \"does not\",\n",
    "# \"don't\": \"do not\",\n",
    "# \"hadn't\": \"had not\",\n",
    "# \"hadn't've\": \"had not have\",\n",
    "# \"hasn't\": \"has not\",\n",
    "# \"haven't\": \"have not\",\n",
    "# \"he'd\": \"he had\",\n",
    "# \"he'd've\": \"he would have\",\n",
    "# \"he'll\": \"he shall\",\n",
    "# \"he'll've\": \"he shall have\",\n",
    "# \"he's\": \"he has\",\n",
    "# \"how'd\": \"how did\",\n",
    "# \"how'd'y\": \"how do you\",\n",
    "# \"how'll\": \"how will\",\n",
    "# \"how's\": \"how has\",\n",
    "# \"i'd\": \"I had\",\n",
    "# \"i'd've\": \"I would have\",\n",
    "# \"i'll\": \"I shall\",\n",
    "# \"i'll've\": \"I shall have\",\n",
    "# \"i'm\": \"I am\",\n",
    "# \"i've\": \"I have\",\n",
    "# \"isn't\": \"is not\",\n",
    "# \"it'd\": \"it had\",\n",
    "# \"it'd've\": \"it would have\",\n",
    "# \"it'll\": \"it shall\",\n",
    "# \"it'll've\": \"it shall have\",\n",
    "# \"it's\": \"it has\",\n",
    "# \"let's\": \"let us\",\n",
    "# \"ma'am\": \"madam\",\n",
    "# \"mayn't\": \"may not\",\n",
    "# \"might've\": \"might have\",\n",
    "# \"mightn't\": \"might not\",\n",
    "# \"mightn't've\": \"might not have\",\n",
    "# \"must've\": \"must have\",\n",
    "# \"mustn't\": \"must not\",\n",
    "# \"mustn't've\": \"must not have\",\n",
    "# \"needn't\": \"need not\",\n",
    "# \"needn't've\": \"need not have\",\n",
    "# \"o'clock\": \"of the clock\",\n",
    "# \"oughtn't\": \"ought not\",\n",
    "# \"oughtn't've\": \"ought not have\",\n",
    "# \"shan't\": \"shall not\",\n",
    "# \"sha'n't\": \"shall not\",\n",
    "# \"shan't've\": \"shall not have\",\n",
    "# \"she'd\": \"she had\",\n",
    "# \"she'd've\": \"she would have\",\n",
    "# \"she'll\": \"she shall\",\n",
    "# \"she'll've\": \"she shall have\",\n",
    "# \"she's\": \"she has\",\n",
    "# \"should've\": \"should have\",\n",
    "# \"shouldn't\": \"should not\",\n",
    "# \"shouldn't've\": \"should not have\",\n",
    "# \"so've\": \"so have\",\n",
    "# \"so's\": \"so as\",\n",
    "# \"that'd\": \"that would\",\n",
    "# \"that'd've\": \"that would have\",\n",
    "# \"that's\": \"that has\",\n",
    "# \"there'd\": \"there had\",\n",
    "# \"there'd've\": \"there would have\",\n",
    "# \"there's\": \"there has\",\n",
    "# \"they'd\": \"they had\",\n",
    "# \"they'd've\": \"they would have\",\n",
    "# \"they'll\": \"they shall\",\n",
    "# \"they'll've\": \"they shall have\",\n",
    "# \"they're\": \"they are\",\n",
    "# \"they've\": \"they have\",\n",
    "# \"to've\": \"to have\",\n",
    "# \"wasn't\": \"was not\",\n",
    "# \"we'd\": \"we had\",\n",
    "# \"we'd've\": \"we would have\",\n",
    "# \"we'll\": \"we will\",\n",
    "# \"we'll've\": \"we will have\",\n",
    "# \"we're\": \"we are\",\n",
    "# \"we've\": \"we have\",\n",
    "# \"weren't\": \"were not\",\n",
    "# \"what'll\": \"what shall\",\n",
    "# \"what'll've\": \"what shall have\",\n",
    "# \"what're\": \"what are\",\n",
    "# \"what's\": \"what is\",\n",
    "# \"what've\": \"what have\",\n",
    "# \"when's\": \"when has\",\n",
    "# \"when've\": \"when have\",\n",
    "# \"where'd\": \"where did\",\n",
    "# \"where's\": \"where has\",\n",
    "# \"where've\": \"where have\",\n",
    "# \"who'll\": \"who shall\",\n",
    "# \"who'll've\": \"who shall have\",\n",
    "# \"who's\": \"who has\",\n",
    "# \"who've\": \"who have\",\n",
    "# \"why's\": \"why has\",\n",
    "# \"why've\": \"why have\",\n",
    "# \"will've\": \"will have\",\n",
    "# \"won't\": \"will not\",\n",
    "# \"won't've\": \"will not have\",\n",
    "# \"would've\": \"would have\",\n",
    "# \"wouldn't\": \"would not\",\n",
    "# \"wouldn't've\": \"would not have\",\n",
    "# \"y'all\": \"you all\",\n",
    "# \"y'all'd\": \"you all would\",\n",
    "# \"y'all'd've\": \"you all would have\",\n",
    "# \"y'all're\": \"you all are\",\n",
    "# \"y'all've\": \"you all have\",\n",
    "# \"you'd\": \"you had\",\n",
    "# \"you'd've\": \"you would have\",\n",
    "# \"you'll\": \"you shall\",\n",
    "# \"you'll've\": \"you shall have\",\n",
    "# \"you're\": \"you are\",\n",
    "# \"you've\": \"you have\",\n",
    "# \"y'know\": \"you know\",\n",
    "# \"c'mon\" : \"come on\",\n",
    "# \"doin'\" : \"doing\",\n",
    "# \"talkin'\" : \"talking\",\n",
    "# \"c'mere\" : \"come here\",\n",
    "# \"watchin'\" : \"watching\"\n",
    "# }"
   ]
  },
  {
   "cell_type": "code",
   "execution_count": 10,
   "metadata": {},
   "outputs": [],
   "source": [
    "# all_sentences=df_trcpt_all['dialogue3'].tolist()"
   ]
  },
  {
   "cell_type": "code",
   "execution_count": 11,
   "metadata": {},
   "outputs": [],
   "source": [
    "# all_abb = []\n",
    "# for sen in all_sentences:\n",
    "#     words = sen.split(' ')\n",
    "#     abb = [w for w in words if \"'\" in w]\n",
    "#     all_abb += abb\n",
    "    \n",
    "# all_abb = pd.Series(all_abb).value_counts()\n"
   ]
  },
  {
   "cell_type": "code",
   "execution_count": 12,
   "metadata": {},
   "outputs": [],
   "source": [
    "# all_abb_keys = list(all_abb.keys())"
   ]
  },
  {
   "cell_type": "code",
   "execution_count": 13,
   "metadata": {},
   "outputs": [],
   "source": [
    "# all_abb_val = [contractions[i] if i in contractions.keys() else i for i in all_abb_keys]"
   ]
  },
  {
   "cell_type": "code",
   "execution_count": 14,
   "metadata": {},
   "outputs": [],
   "source": [
    "# [i for i in all_abb_keys if i not in contractions.keys()]"
   ]
  },
  {
   "cell_type": "code",
   "execution_count": null,
   "metadata": {},
   "outputs": [],
   "source": []
  },
  {
   "cell_type": "markdown",
   "metadata": {},
   "source": [
    "**3. Remove stop words**"
   ]
  },
  {
   "cell_type": "code",
   "execution_count": 15,
   "metadata": {},
   "outputs": [],
   "source": [
    "# stopwords.words('english')"
   ]
  },
  {
   "cell_type": "code",
   "execution_count": 16,
   "metadata": {},
   "outputs": [],
   "source": [
    "# def lose_stop(sentence):\n",
    "#     word_list = sentence.split(' ')\n",
    "#     new_sen = []\n",
    "#     for w in sentence:\n",
    "#         if w not in stopwords.words('english'):\n",
    "#             new_sen.append(w)\n",
    "            \n",
    "#     return ' '.join(new_sen)"
   ]
  },
  {
   "cell_type": "code",
   "execution_count": 17,
   "metadata": {},
   "outputs": [],
   "source": [
    "# df_trcpt_all['dialogue3'] = df_trcpt_all.dialogue2.apply(lambda x : lose_stop(x))"
   ]
  },
  {
   "cell_type": "code",
   "execution_count": 18,
   "metadata": {},
   "outputs": [],
   "source": [
    "# df_trcpt_all.head()"
   ]
  },
  {
   "cell_type": "code",
   "execution_count": null,
   "metadata": {},
   "outputs": [],
   "source": []
  },
  {
   "cell_type": "markdown",
   "metadata": {},
   "source": [
    "**4. character clean**"
   ]
  },
  {
   "cell_type": "code",
   "execution_count": 19,
   "metadata": {},
   "outputs": [],
   "source": [
    "df_trcpt_all.character = df_trcpt_all.character.str.strip()"
   ]
  },
  {
   "cell_type": "code",
   "execution_count": 20,
   "metadata": {},
   "outputs": [
    {
     "data": {
      "text/plain": [
       "rachel        9108\n",
       "ross          9055\n",
       "chandler      8355\n",
       "monica        8276\n",
       "joey          8176\n",
       "phoebe        7396\n",
       "mike           359\n",
       "all            338\n",
       "richard        254\n",
       "janice         217\n",
       "mr. geller     206\n",
       "Name: character, dtype: int64"
      ]
     },
     "execution_count": 20,
     "metadata": {},
     "output_type": "execute_result"
    }
   ],
   "source": [
    "char_dlg_cnt = df_trcpt_all.character.value_counts()\n",
    "char_dlg_cnt[(char_dlg_cnt<100000)&(char_dlg_cnt>200)]"
   ]
  },
  {
   "cell_type": "code",
   "execution_count": 21,
   "metadata": {},
   "outputs": [],
   "source": [
    "char_change = {'rach' : 'rachel',\n",
    "'mnca' : 'monica',\n",
    "'phoe' : 'phoebe'}\n",
    "\n",
    "\n",
    "df_trcpt_all.character = df_trcpt_all.character.replace(char_change)"
   ]
  },
  {
   "cell_type": "code",
   "execution_count": 22,
   "metadata": {},
   "outputs": [
    {
     "data": {
      "text/plain": [
       "rachel        9248\n",
       "ross          9055\n",
       "monica        8383\n",
       "chandler      8355\n",
       "joey          8176\n",
       "phoebe        7476\n",
       "mike           359\n",
       "all            338\n",
       "richard        254\n",
       "janice         217\n",
       "mr. geller     206\n",
       "Name: character, dtype: int64"
      ]
     },
     "execution_count": 22,
     "metadata": {},
     "output_type": "execute_result"
    }
   ],
   "source": [
    "char_dlg_cnt = df_trcpt_all.character.value_counts()\n",
    "char_dlg_cnt[(char_dlg_cnt<100000)&(char_dlg_cnt>200)]"
   ]
  },
  {
   "cell_type": "code",
   "execution_count": null,
   "metadata": {},
   "outputs": [],
   "source": []
  },
  {
   "cell_type": "markdown",
   "metadata": {},
   "source": [
    "## Save"
   ]
  },
  {
   "cell_type": "code",
   "execution_count": 23,
   "metadata": {},
   "outputs": [
    {
     "data": {
      "text/html": [
       "<div>\n",
       "<style scoped>\n",
       "    .dataframe tbody tr th:only-of-type {\n",
       "        vertical-align: middle;\n",
       "    }\n",
       "\n",
       "    .dataframe tbody tr th {\n",
       "        vertical-align: top;\n",
       "    }\n",
       "\n",
       "    .dataframe thead th {\n",
       "        text-align: right;\n",
       "    }\n",
       "</style>\n",
       "<table border=\"1\" class=\"dataframe\">\n",
       "  <thead>\n",
       "    <tr style=\"text-align: right;\">\n",
       "      <th></th>\n",
       "      <th>Unnamed: 0</th>\n",
       "      <th>eps</th>\n",
       "      <th>dialogue_ids</th>\n",
       "      <th>scenes_places</th>\n",
       "      <th>character</th>\n",
       "      <th>dialogue</th>\n",
       "      <th>dialogue2</th>\n",
       "      <th>dialogue3</th>\n",
       "    </tr>\n",
       "  </thead>\n",
       "  <tbody>\n",
       "    <tr>\n",
       "      <th>0</th>\n",
       "      <td>0</td>\n",
       "      <td>0101</td>\n",
       "      <td>0</td>\n",
       "      <td>[central perk]</td>\n",
       "      <td>monica</td>\n",
       "      <td>there's nothing to tell! he's just some guy ...</td>\n",
       "      <td>there's nothing to tell! he's just some guy ...</td>\n",
       "      <td>there's nothing to tell he's just some guy i w...</td>\n",
       "    </tr>\n",
       "    <tr>\n",
       "      <th>1</th>\n",
       "      <td>1</td>\n",
       "      <td>0101</td>\n",
       "      <td>1</td>\n",
       "      <td>[central perk]</td>\n",
       "      <td>joey</td>\n",
       "      <td>c'mon, you're going out with the guy! there'...</td>\n",
       "      <td>c'mon, you're going out with the guy! there'...</td>\n",
       "      <td>c'mon you're going out with the guy there's go...</td>\n",
       "    </tr>\n",
       "    <tr>\n",
       "      <th>2</th>\n",
       "      <td>2</td>\n",
       "      <td>0101</td>\n",
       "      <td>2</td>\n",
       "      <td>[central perk]</td>\n",
       "      <td>chandler</td>\n",
       "      <td>all right joey, be nice.  so does he have a...</td>\n",
       "      <td>all right joey, be nice.  so does he have a...</td>\n",
       "      <td>all right joey be nice so does he have a hump ...</td>\n",
       "    </tr>\n",
       "    <tr>\n",
       "      <th>3</th>\n",
       "      <td>3</td>\n",
       "      <td>0101</td>\n",
       "      <td>3</td>\n",
       "      <td>[central perk]</td>\n",
       "      <td>phoebe</td>\n",
       "      <td>wait, does he eat chalk? (they all stare, be...</td>\n",
       "      <td>wait, does he eat chalk?</td>\n",
       "      <td>wait does he eat chalk</td>\n",
       "    </tr>\n",
       "    <tr>\n",
       "      <th>4</th>\n",
       "      <td>4</td>\n",
       "      <td>0101</td>\n",
       "      <td>4</td>\n",
       "      <td>[central perk]</td>\n",
       "      <td>phoebe</td>\n",
       "      <td>just, 'cause, i don't want her to go through...</td>\n",
       "      <td>just, 'cause, i don't want her to go through...</td>\n",
       "      <td>just because i don't want her to go through wh...</td>\n",
       "    </tr>\n",
       "  </tbody>\n",
       "</table>\n",
       "</div>"
      ],
      "text/plain": [
       "   Unnamed: 0   eps  dialogue_ids   scenes_places character  \\\n",
       "0           0  0101             0  [central perk]    monica   \n",
       "1           1  0101             1  [central perk]      joey   \n",
       "2           2  0101             2  [central perk]  chandler   \n",
       "3           3  0101             3  [central perk]    phoebe   \n",
       "4           4  0101             4  [central perk]    phoebe   \n",
       "\n",
       "                                            dialogue  \\\n",
       "0    there's nothing to tell! he's just some guy ...   \n",
       "1    c'mon, you're going out with the guy! there'...   \n",
       "2     all right joey, be nice.  so does he have a...   \n",
       "3    wait, does he eat chalk? (they all stare, be...   \n",
       "4    just, 'cause, i don't want her to go through...   \n",
       "\n",
       "                                           dialogue2  \\\n",
       "0    there's nothing to tell! he's just some guy ...   \n",
       "1    c'mon, you're going out with the guy! there'...   \n",
       "2     all right joey, be nice.  so does he have a...   \n",
       "3                          wait, does he eat chalk?    \n",
       "4    just, 'cause, i don't want her to go through...   \n",
       "\n",
       "                                           dialogue3  \n",
       "0  there's nothing to tell he's just some guy i w...  \n",
       "1  c'mon you're going out with the guy there's go...  \n",
       "2  all right joey be nice so does he have a hump ...  \n",
       "3                             wait does he eat chalk  \n",
       "4  just because i don't want her to go through wh...  "
      ]
     },
     "execution_count": 23,
     "metadata": {},
     "output_type": "execute_result"
    }
   ],
   "source": [
    "df_trcpt_all.head()"
   ]
  },
  {
   "cell_type": "code",
   "execution_count": 24,
   "metadata": {},
   "outputs": [],
   "source": [
    "del df_trcpt_all['Unnamed: 0']"
   ]
  },
  {
   "cell_type": "code",
   "execution_count": 22,
   "metadata": {},
   "outputs": [],
   "source": [
    "df_trcpt_all.to_csv('../data/friends_all_dialogue_semi_cln.csv',index=False)"
   ]
  },
  {
   "cell_type": "code",
   "execution_count": null,
   "metadata": {},
   "outputs": [],
   "source": []
  }
 ],
 "metadata": {
  "kernelspec": {
   "display_name": "p37",
   "language": "python",
   "name": "p37"
  },
  "language_info": {
   "codemirror_mode": {
    "name": "ipython",
    "version": 3
   },
   "file_extension": ".py",
   "mimetype": "text/x-python",
   "name": "python",
   "nbconvert_exporter": "python",
   "pygments_lexer": "ipython3",
   "version": "3.7.9"
  }
 },
 "nbformat": 4,
 "nbformat_minor": 4
}
